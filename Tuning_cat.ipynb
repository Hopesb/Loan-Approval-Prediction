{
 "cells": [
  {
   "cell_type": "markdown",
   "id": "c0daf354",
   "metadata": {
    "papermill": {
     "duration": 0.010031,
     "end_time": "2024-10-21T14:39:20.476704",
     "exception": false,
     "start_time": "2024-10-21T14:39:20.466673",
     "status": "completed"
    },
    "tags": []
   },
   "source": [
    "# Loan Approval Prediction."
   ]
  },
  {
   "cell_type": "markdown",
   "id": "8b9247ea",
   "metadata": {
    "papermill": {
     "duration": 0.009048,
     "end_time": "2024-10-21T14:39:20.496262",
     "exception": false,
     "start_time": "2024-10-21T14:39:20.487214",
     "status": "completed"
    },
    "tags": []
   },
   "source": [
    "## Overview"
   ]
  },
  {
   "cell_type": "markdown",
   "id": "5be5c211",
   "metadata": {
    "papermill": {
     "duration": 0.009046,
     "end_time": "2024-10-21T14:39:20.514594",
     "exception": false,
     "start_time": "2024-10-21T14:39:20.505548",
     "status": "completed"
    },
    "tags": []
   },
   "source": [
    "**Loan approval prediction as a classification problem involves categorizing loan applications into either \"Approved\" or \"Rejected.\" This is achieved by analyzing features such as credit score, income, employment status, loan amount, and more.**\n",
    "\n",
    "**Goal**: \n",
    "The goal for this competition is to predict whether an applicant is approved for a loan.\n",
    "\n",
    "**Evaluation**\n",
    "Submissions are evaluated using area under the ROC curve using the predicted probabilities and the ground truth targets."
   ]
  },
  {
   "cell_type": "markdown",
   "id": "56f4a14a",
   "metadata": {
    "papermill": {
     "duration": 0.00893,
     "end_time": "2024-10-21T14:39:20.532840",
     "exception": false,
     "start_time": "2024-10-21T14:39:20.523910",
     "status": "completed"
    },
    "tags": []
   },
   "source": [
    "# Import"
   ]
  },
  {
   "cell_type": "code",
   "execution_count": 1,
   "id": "37e6ad26",
   "metadata": {
    "execution": {
     "iopub.execute_input": "2024-10-21T14:39:20.552769Z",
     "iopub.status.busy": "2024-10-21T14:39:20.552422Z",
     "iopub.status.idle": "2024-10-21T14:39:26.858903Z",
     "shell.execute_reply": "2024-10-21T14:39:26.858132Z"
    },
    "papermill": {
     "duration": 6.318937,
     "end_time": "2024-10-21T14:39:26.861188",
     "exception": false,
     "start_time": "2024-10-21T14:39:20.542251",
     "status": "completed"
    },
    "tags": []
   },
   "outputs": [],
   "source": [
    "# importing libraries.\n",
    "import pandas as pd\n",
    "import numpy as np\n",
    "\n",
    "# import the visualization tools\n",
    "import seaborn as sns\n",
    "import matplotlib.pyplot as plt\n",
    "import plotly_express as px\n",
    "\n",
    "# modelling tools.\n",
    "from sklearn.pipeline import make_pipeline\n",
    "from sklearn.metrics import roc_auc_score\n",
    "from sklearn.preprocessing import MinMaxScaler, StandardScaler\n",
    "from sklearn.model_selection import train_test_split\n",
    "from xgboost import XGBClassifier\n",
    "from catboost import CatBoostClassifier\n",
    "from lightgbm import LGBMClassifier\n",
    "from sklearn.ensemble import VotingClassifier\n",
    "from category_encoders import OneHotEncoder\n",
    "import optuna\n",
    "import warnings\n",
    "warnings.simplefilter(\"ignore\")"
   ]
  },
  {
   "cell_type": "code",
   "execution_count": 2,
   "id": "9d91cbbd",
   "metadata": {
    "execution": {
     "iopub.execute_input": "2024-10-21T14:39:26.881568Z",
     "iopub.status.busy": "2024-10-21T14:39:26.880972Z",
     "iopub.status.idle": "2024-10-21T14:39:26.885673Z",
     "shell.execute_reply": "2024-10-21T14:39:26.884835Z"
    },
    "papermill": {
     "duration": 0.016701,
     "end_time": "2024-10-21T14:39:26.887562",
     "exception": false,
     "start_time": "2024-10-21T14:39:26.870861",
     "status": "completed"
    },
    "tags": []
   },
   "outputs": [],
   "source": [
    "# Creating a function that preprocess the data.\n",
    "def wrangle(filepath):\n",
    "    # Read the csv file.\n",
    "    df = pd.read_csv(filepath, index_col= \"id\")\n",
    "\n",
    "    return df"
   ]
  },
  {
   "cell_type": "code",
   "execution_count": 3,
   "id": "fb5557e9",
   "metadata": {
    "execution": {
     "iopub.execute_input": "2024-10-21T14:39:26.907640Z",
     "iopub.status.busy": "2024-10-21T14:39:26.907362Z",
     "iopub.status.idle": "2024-10-21T14:39:27.074670Z",
     "shell.execute_reply": "2024-10-21T14:39:27.073749Z"
    },
    "papermill": {
     "duration": 0.179717,
     "end_time": "2024-10-21T14:39:27.076777",
     "exception": false,
     "start_time": "2024-10-21T14:39:26.897060",
     "status": "completed"
    },
    "tags": []
   },
   "outputs": [
    {
     "data": {
      "text/html": [
       "<div>\n",
       "<style scoped>\n",
       "    .dataframe tbody tr th:only-of-type {\n",
       "        vertical-align: middle;\n",
       "    }\n",
       "\n",
       "    .dataframe tbody tr th {\n",
       "        vertical-align: top;\n",
       "    }\n",
       "\n",
       "    .dataframe thead th {\n",
       "        text-align: right;\n",
       "    }\n",
       "</style>\n",
       "<table border=\"1\" class=\"dataframe\">\n",
       "  <thead>\n",
       "    <tr style=\"text-align: right;\">\n",
       "      <th></th>\n",
       "      <th>person_age</th>\n",
       "      <th>person_income</th>\n",
       "      <th>person_home_ownership</th>\n",
       "      <th>person_emp_length</th>\n",
       "      <th>loan_intent</th>\n",
       "      <th>loan_grade</th>\n",
       "      <th>loan_amnt</th>\n",
       "      <th>loan_int_rate</th>\n",
       "      <th>loan_percent_income</th>\n",
       "      <th>cb_person_default_on_file</th>\n",
       "      <th>cb_person_cred_hist_length</th>\n",
       "      <th>loan_status</th>\n",
       "    </tr>\n",
       "    <tr>\n",
       "      <th>id</th>\n",
       "      <th></th>\n",
       "      <th></th>\n",
       "      <th></th>\n",
       "      <th></th>\n",
       "      <th></th>\n",
       "      <th></th>\n",
       "      <th></th>\n",
       "      <th></th>\n",
       "      <th></th>\n",
       "      <th></th>\n",
       "      <th></th>\n",
       "      <th></th>\n",
       "    </tr>\n",
       "  </thead>\n",
       "  <tbody>\n",
       "    <tr>\n",
       "      <th>0</th>\n",
       "      <td>37</td>\n",
       "      <td>35000</td>\n",
       "      <td>RENT</td>\n",
       "      <td>0.0</td>\n",
       "      <td>EDUCATION</td>\n",
       "      <td>B</td>\n",
       "      <td>6000</td>\n",
       "      <td>11.49</td>\n",
       "      <td>0.17</td>\n",
       "      <td>N</td>\n",
       "      <td>14</td>\n",
       "      <td>0</td>\n",
       "    </tr>\n",
       "    <tr>\n",
       "      <th>1</th>\n",
       "      <td>22</td>\n",
       "      <td>56000</td>\n",
       "      <td>OWN</td>\n",
       "      <td>6.0</td>\n",
       "      <td>MEDICAL</td>\n",
       "      <td>C</td>\n",
       "      <td>4000</td>\n",
       "      <td>13.35</td>\n",
       "      <td>0.07</td>\n",
       "      <td>N</td>\n",
       "      <td>2</td>\n",
       "      <td>0</td>\n",
       "    </tr>\n",
       "    <tr>\n",
       "      <th>2</th>\n",
       "      <td>29</td>\n",
       "      <td>28800</td>\n",
       "      <td>OWN</td>\n",
       "      <td>8.0</td>\n",
       "      <td>PERSONAL</td>\n",
       "      <td>A</td>\n",
       "      <td>6000</td>\n",
       "      <td>8.90</td>\n",
       "      <td>0.21</td>\n",
       "      <td>N</td>\n",
       "      <td>10</td>\n",
       "      <td>0</td>\n",
       "    </tr>\n",
       "    <tr>\n",
       "      <th>3</th>\n",
       "      <td>30</td>\n",
       "      <td>70000</td>\n",
       "      <td>RENT</td>\n",
       "      <td>14.0</td>\n",
       "      <td>VENTURE</td>\n",
       "      <td>B</td>\n",
       "      <td>12000</td>\n",
       "      <td>11.11</td>\n",
       "      <td>0.17</td>\n",
       "      <td>N</td>\n",
       "      <td>5</td>\n",
       "      <td>0</td>\n",
       "    </tr>\n",
       "    <tr>\n",
       "      <th>4</th>\n",
       "      <td>22</td>\n",
       "      <td>60000</td>\n",
       "      <td>RENT</td>\n",
       "      <td>2.0</td>\n",
       "      <td>MEDICAL</td>\n",
       "      <td>A</td>\n",
       "      <td>6000</td>\n",
       "      <td>6.92</td>\n",
       "      <td>0.10</td>\n",
       "      <td>N</td>\n",
       "      <td>3</td>\n",
       "      <td>0</td>\n",
       "    </tr>\n",
       "  </tbody>\n",
       "</table>\n",
       "</div>"
      ],
      "text/plain": [
       "    person_age  person_income person_home_ownership  person_emp_length  \\\n",
       "id                                                                       \n",
       "0           37          35000                  RENT                0.0   \n",
       "1           22          56000                   OWN                6.0   \n",
       "2           29          28800                   OWN                8.0   \n",
       "3           30          70000                  RENT               14.0   \n",
       "4           22          60000                  RENT                2.0   \n",
       "\n",
       "   loan_intent loan_grade  loan_amnt  loan_int_rate  loan_percent_income  \\\n",
       "id                                                                         \n",
       "0    EDUCATION          B       6000          11.49                 0.17   \n",
       "1      MEDICAL          C       4000          13.35                 0.07   \n",
       "2     PERSONAL          A       6000           8.90                 0.21   \n",
       "3      VENTURE          B      12000          11.11                 0.17   \n",
       "4      MEDICAL          A       6000           6.92                 0.10   \n",
       "\n",
       "   cb_person_default_on_file  cb_person_cred_hist_length  loan_status  \n",
       "id                                                                     \n",
       "0                          N                          14            0  \n",
       "1                          N                           2            0  \n",
       "2                          N                          10            0  \n",
       "3                          N                           5            0  \n",
       "4                          N                           3            0  "
      ]
     },
     "execution_count": 3,
     "metadata": {},
     "output_type": "execute_result"
    }
   ],
   "source": [
    "filepath = \"/kaggle/input/playground-series-s4e10/train.csv\"\n",
    "df = wrangle(filepath)\n",
    "df.head()"
   ]
  },
  {
   "cell_type": "code",
   "execution_count": 4,
   "id": "2c4bf836",
   "metadata": {
    "execution": {
     "iopub.execute_input": "2024-10-21T14:39:27.097629Z",
     "iopub.status.busy": "2024-10-21T14:39:27.097109Z",
     "iopub.status.idle": "2024-10-21T14:39:27.102460Z",
     "shell.execute_reply": "2024-10-21T14:39:27.101654Z"
    },
    "papermill": {
     "duration": 0.017688,
     "end_time": "2024-10-21T14:39:27.104356",
     "exception": false,
     "start_time": "2024-10-21T14:39:27.086668",
     "status": "completed"
    },
    "tags": []
   },
   "outputs": [
    {
     "data": {
      "text/plain": [
       "(58645, 12)"
      ]
     },
     "execution_count": 4,
     "metadata": {},
     "output_type": "execute_result"
    }
   ],
   "source": [
    "# Checking the shape of the data.\n",
    "df.shape"
   ]
  },
  {
   "cell_type": "code",
   "execution_count": 5,
   "id": "d7e89692",
   "metadata": {
    "execution": {
     "iopub.execute_input": "2024-10-21T14:39:27.124678Z",
     "iopub.status.busy": "2024-10-21T14:39:27.124401Z",
     "iopub.status.idle": "2024-10-21T14:39:27.155483Z",
     "shell.execute_reply": "2024-10-21T14:39:27.154693Z"
    },
    "papermill": {
     "duration": 0.043321,
     "end_time": "2024-10-21T14:39:27.157351",
     "exception": false,
     "start_time": "2024-10-21T14:39:27.114030",
     "status": "completed"
    },
    "tags": []
   },
   "outputs": [
    {
     "data": {
      "text/plain": [
       "person_age                      53\n",
       "person_income                 2641\n",
       "person_home_ownership            4\n",
       "person_emp_length               36\n",
       "loan_intent                      6\n",
       "loan_grade                       7\n",
       "loan_amnt                      545\n",
       "loan_int_rate                  362\n",
       "loan_percent_income             61\n",
       "cb_person_default_on_file        2\n",
       "cb_person_cred_hist_length      29\n",
       "loan_status                      2\n",
       "dtype: int64"
      ]
     },
     "execution_count": 5,
     "metadata": {},
     "output_type": "execute_result"
    }
   ],
   "source": [
    "df.nunique()"
   ]
  },
  {
   "cell_type": "code",
   "execution_count": 6,
   "id": "bcb74996",
   "metadata": {
    "execution": {
     "iopub.execute_input": "2024-10-21T14:39:27.177943Z",
     "iopub.status.busy": "2024-10-21T14:39:27.177630Z",
     "iopub.status.idle": "2024-10-21T14:39:27.218605Z",
     "shell.execute_reply": "2024-10-21T14:39:27.217770Z"
    },
    "papermill": {
     "duration": 0.053403,
     "end_time": "2024-10-21T14:39:27.220581",
     "exception": false,
     "start_time": "2024-10-21T14:39:27.167178",
     "status": "completed"
    },
    "tags": []
   },
   "outputs": [
    {
     "data": {
      "text/html": [
       "<div>\n",
       "<style scoped>\n",
       "    .dataframe tbody tr th:only-of-type {\n",
       "        vertical-align: middle;\n",
       "    }\n",
       "\n",
       "    .dataframe tbody tr th {\n",
       "        vertical-align: top;\n",
       "    }\n",
       "\n",
       "    .dataframe thead th {\n",
       "        text-align: right;\n",
       "    }\n",
       "</style>\n",
       "<table border=\"1\" class=\"dataframe\">\n",
       "  <thead>\n",
       "    <tr style=\"text-align: right;\">\n",
       "      <th></th>\n",
       "      <th>person_age</th>\n",
       "      <th>person_income</th>\n",
       "      <th>person_emp_length</th>\n",
       "      <th>loan_amnt</th>\n",
       "      <th>loan_int_rate</th>\n",
       "      <th>loan_percent_income</th>\n",
       "      <th>cb_person_cred_hist_length</th>\n",
       "      <th>loan_status</th>\n",
       "    </tr>\n",
       "  </thead>\n",
       "  <tbody>\n",
       "    <tr>\n",
       "      <th>count</th>\n",
       "      <td>58645.000000</td>\n",
       "      <td>5.864500e+04</td>\n",
       "      <td>58645.000000</td>\n",
       "      <td>58645.000000</td>\n",
       "      <td>58645.000000</td>\n",
       "      <td>58645.000000</td>\n",
       "      <td>58645.000000</td>\n",
       "      <td>58645.000000</td>\n",
       "    </tr>\n",
       "    <tr>\n",
       "      <th>mean</th>\n",
       "      <td>27.550857</td>\n",
       "      <td>6.404617e+04</td>\n",
       "      <td>4.701015</td>\n",
       "      <td>9217.556518</td>\n",
       "      <td>10.677874</td>\n",
       "      <td>0.159238</td>\n",
       "      <td>5.813556</td>\n",
       "      <td>0.142382</td>\n",
       "    </tr>\n",
       "    <tr>\n",
       "      <th>std</th>\n",
       "      <td>6.033216</td>\n",
       "      <td>3.793111e+04</td>\n",
       "      <td>3.959784</td>\n",
       "      <td>5563.807384</td>\n",
       "      <td>3.034697</td>\n",
       "      <td>0.091692</td>\n",
       "      <td>4.029196</td>\n",
       "      <td>0.349445</td>\n",
       "    </tr>\n",
       "    <tr>\n",
       "      <th>min</th>\n",
       "      <td>20.000000</td>\n",
       "      <td>4.200000e+03</td>\n",
       "      <td>0.000000</td>\n",
       "      <td>500.000000</td>\n",
       "      <td>5.420000</td>\n",
       "      <td>0.000000</td>\n",
       "      <td>2.000000</td>\n",
       "      <td>0.000000</td>\n",
       "    </tr>\n",
       "    <tr>\n",
       "      <th>25%</th>\n",
       "      <td>23.000000</td>\n",
       "      <td>4.200000e+04</td>\n",
       "      <td>2.000000</td>\n",
       "      <td>5000.000000</td>\n",
       "      <td>7.880000</td>\n",
       "      <td>0.090000</td>\n",
       "      <td>3.000000</td>\n",
       "      <td>0.000000</td>\n",
       "    </tr>\n",
       "    <tr>\n",
       "      <th>50%</th>\n",
       "      <td>26.000000</td>\n",
       "      <td>5.800000e+04</td>\n",
       "      <td>4.000000</td>\n",
       "      <td>8000.000000</td>\n",
       "      <td>10.750000</td>\n",
       "      <td>0.140000</td>\n",
       "      <td>4.000000</td>\n",
       "      <td>0.000000</td>\n",
       "    </tr>\n",
       "    <tr>\n",
       "      <th>75%</th>\n",
       "      <td>30.000000</td>\n",
       "      <td>7.560000e+04</td>\n",
       "      <td>7.000000</td>\n",
       "      <td>12000.000000</td>\n",
       "      <td>12.990000</td>\n",
       "      <td>0.210000</td>\n",
       "      <td>8.000000</td>\n",
       "      <td>0.000000</td>\n",
       "    </tr>\n",
       "    <tr>\n",
       "      <th>max</th>\n",
       "      <td>123.000000</td>\n",
       "      <td>1.900000e+06</td>\n",
       "      <td>123.000000</td>\n",
       "      <td>35000.000000</td>\n",
       "      <td>23.220000</td>\n",
       "      <td>0.830000</td>\n",
       "      <td>30.000000</td>\n",
       "      <td>1.000000</td>\n",
       "    </tr>\n",
       "  </tbody>\n",
       "</table>\n",
       "</div>"
      ],
      "text/plain": [
       "         person_age  person_income  person_emp_length     loan_amnt  \\\n",
       "count  58645.000000   5.864500e+04       58645.000000  58645.000000   \n",
       "mean      27.550857   6.404617e+04           4.701015   9217.556518   \n",
       "std        6.033216   3.793111e+04           3.959784   5563.807384   \n",
       "min       20.000000   4.200000e+03           0.000000    500.000000   \n",
       "25%       23.000000   4.200000e+04           2.000000   5000.000000   \n",
       "50%       26.000000   5.800000e+04           4.000000   8000.000000   \n",
       "75%       30.000000   7.560000e+04           7.000000  12000.000000   \n",
       "max      123.000000   1.900000e+06         123.000000  35000.000000   \n",
       "\n",
       "       loan_int_rate  loan_percent_income  cb_person_cred_hist_length  \\\n",
       "count   58645.000000         58645.000000                58645.000000   \n",
       "mean       10.677874             0.159238                    5.813556   \n",
       "std         3.034697             0.091692                    4.029196   \n",
       "min         5.420000             0.000000                    2.000000   \n",
       "25%         7.880000             0.090000                    3.000000   \n",
       "50%        10.750000             0.140000                    4.000000   \n",
       "75%        12.990000             0.210000                    8.000000   \n",
       "max        23.220000             0.830000                   30.000000   \n",
       "\n",
       "        loan_status  \n",
       "count  58645.000000  \n",
       "mean       0.142382  \n",
       "std        0.349445  \n",
       "min        0.000000  \n",
       "25%        0.000000  \n",
       "50%        0.000000  \n",
       "75%        0.000000  \n",
       "max        1.000000  "
      ]
     },
     "execution_count": 6,
     "metadata": {},
     "output_type": "execute_result"
    }
   ],
   "source": [
    "df.describe() # Getting the aggregate of the data."
   ]
  },
  {
   "cell_type": "code",
   "execution_count": 7,
   "id": "d83bb49e",
   "metadata": {
    "execution": {
     "iopub.execute_input": "2024-10-21T14:39:27.241754Z",
     "iopub.status.busy": "2024-10-21T14:39:27.241483Z",
     "iopub.status.idle": "2024-10-21T14:39:27.277276Z",
     "shell.execute_reply": "2024-10-21T14:39:27.276320Z"
    },
    "papermill": {
     "duration": 0.048578,
     "end_time": "2024-10-21T14:39:27.279235",
     "exception": false,
     "start_time": "2024-10-21T14:39:27.230657",
     "status": "completed"
    },
    "tags": []
   },
   "outputs": [
    {
     "name": "stdout",
     "output_type": "stream",
     "text": [
      "<class 'pandas.core.frame.DataFrame'>\n",
      "Index: 58645 entries, 0 to 58644\n",
      "Data columns (total 12 columns):\n",
      " #   Column                      Non-Null Count  Dtype  \n",
      "---  ------                      --------------  -----  \n",
      " 0   person_age                  58645 non-null  int64  \n",
      " 1   person_income               58645 non-null  int64  \n",
      " 2   person_home_ownership       58645 non-null  object \n",
      " 3   person_emp_length           58645 non-null  float64\n",
      " 4   loan_intent                 58645 non-null  object \n",
      " 5   loan_grade                  58645 non-null  object \n",
      " 6   loan_amnt                   58645 non-null  int64  \n",
      " 7   loan_int_rate               58645 non-null  float64\n",
      " 8   loan_percent_income         58645 non-null  float64\n",
      " 9   cb_person_default_on_file   58645 non-null  object \n",
      " 10  cb_person_cred_hist_length  58645 non-null  int64  \n",
      " 11  loan_status                 58645 non-null  int64  \n",
      "dtypes: float64(3), int64(5), object(4)\n",
      "memory usage: 5.8+ MB\n"
     ]
    }
   ],
   "source": [
    "df.info()"
   ]
  },
  {
   "cell_type": "code",
   "execution_count": 8,
   "id": "502b6e00",
   "metadata": {
    "execution": {
     "iopub.execute_input": "2024-10-21T14:39:27.301030Z",
     "iopub.status.busy": "2024-10-21T14:39:27.300474Z",
     "iopub.status.idle": "2024-10-21T14:39:27.328592Z",
     "shell.execute_reply": "2024-10-21T14:39:27.327744Z"
    },
    "papermill": {
     "duration": 0.040881,
     "end_time": "2024-10-21T14:39:27.330455",
     "exception": false,
     "start_time": "2024-10-21T14:39:27.289574",
     "status": "completed"
    },
    "tags": []
   },
   "outputs": [
    {
     "data": {
      "text/plain": [
       "person_age                    0\n",
       "person_income                 0\n",
       "person_home_ownership         0\n",
       "person_emp_length             0\n",
       "loan_intent                   0\n",
       "loan_grade                    0\n",
       "loan_amnt                     0\n",
       "loan_int_rate                 0\n",
       "loan_percent_income           0\n",
       "cb_person_default_on_file     0\n",
       "cb_person_cred_hist_length    0\n",
       "loan_status                   0\n",
       "dtype: int64"
      ]
     },
     "execution_count": 8,
     "metadata": {},
     "output_type": "execute_result"
    }
   ],
   "source": [
    "# Checking if there is any column with null values.\n",
    "df.isnull().sum()"
   ]
  },
  {
   "cell_type": "markdown",
   "id": "e0c817f2",
   "metadata": {
    "papermill": {
     "duration": 0.009998,
     "end_time": "2024-10-21T14:39:27.350819",
     "exception": false,
     "start_time": "2024-10-21T14:39:27.340821",
     "status": "completed"
    },
    "tags": []
   },
   "source": [
    "Perfect the Data is clean."
   ]
  },
  {
   "cell_type": "markdown",
   "id": "f2e7a437",
   "metadata": {
    "papermill": {
     "duration": 0.009965,
     "end_time": "2024-10-21T14:39:27.371469",
     "exception": false,
     "start_time": "2024-10-21T14:39:27.361504",
     "status": "completed"
    },
    "tags": []
   },
   "source": [
    "## EDA(Exploratory Data Analysis)"
   ]
  },
  {
   "cell_type": "code",
   "execution_count": 9,
   "id": "241f7b44",
   "metadata": {
    "execution": {
     "iopub.execute_input": "2024-10-21T14:39:27.393303Z",
     "iopub.status.busy": "2024-10-21T14:39:27.393016Z",
     "iopub.status.idle": "2024-10-21T14:39:27.812773Z",
     "shell.execute_reply": "2024-10-21T14:39:27.811829Z"
    },
    "papermill": {
     "duration": 0.432725,
     "end_time": "2024-10-21T14:39:27.814695",
     "exception": false,
     "start_time": "2024-10-21T14:39:27.381970",
     "status": "completed"
    },
    "tags": []
   },
   "outputs": [
    {
     "data": {
      "image/png": "[encoded data removed]",
      "text/plain": [
       "<Figure size 640x480 with 1 Axes>"
      ]
     },
     "metadata": {},
     "output_type": "display_data"
    }
   ],
   "source": [
    "# Creating age group.\n",
    "df_analysis = pd.read_csv(filepath, index_col=\"id\")\n",
    "bins = [20, 30, 40, 50, 60, 70, 80, 90, 130]\n",
    "age_class = [\"20-29\", \"30-39\", \"40-49\", \"50-59\", \"60-69\", \"70-79\", \"80-89\", \"90+\"]\n",
    "df_analysis[\"age_group\"] =pd.cut(df_analysis[\"person_age\"], bins=bins, labels=age_class, right=False)\n",
    "df_analysis.groupby([\"age_group\"])[\"loan_status\"].mean().sort_values().plot(kind=\"barh\")\n",
    "plt.title(\"Mean Loan Approval by Age Group\")\n",
    "plt.ylabel(\"Age Group\")\n",
    "plt.xlabel(\"Mean\");"
   ]
  },
  {
   "cell_type": "markdown",
   "id": "458328a9",
   "metadata": {
    "papermill": {
     "duration": 0.010549,
     "end_time": "2024-10-21T14:39:27.836287",
     "exception": false,
     "start_time": "2024-10-21T14:39:27.825738",
     "status": "completed"
    },
    "tags": []
   },
   "source": [
    "Here is a very insightful display showing that people below the age group of 20-49 has very low probability of getting loan.\n",
    "The age group of 90+ has very low probability of getting loan this can be because of the limited number of data for this age group."
   ]
  },
  {
   "cell_type": "code",
   "execution_count": 10,
   "id": "f964c56c",
   "metadata": {
    "execution": {
     "iopub.execute_input": "2024-10-21T14:39:27.858608Z",
     "iopub.status.busy": "2024-10-21T14:39:27.858305Z",
     "iopub.status.idle": "2024-10-21T14:39:28.116187Z",
     "shell.execute_reply": "2024-10-21T14:39:28.115296Z"
    },
    "papermill": {
     "duration": 0.271421,
     "end_time": "2024-10-21T14:39:28.118311",
     "exception": false,
     "start_time": "2024-10-21T14:39:27.846890",
     "status": "completed"
    },
    "tags": []
   },
   "outputs": [
    {
     "data": {
      "image/png": "[encoded data removed]",
      "text/plain": [
       "<Figure size 640x480 with 1 Axes>"
      ]
     },
     "metadata": {},
     "output_type": "display_data"
    }
   ],
   "source": [
    "df_analysis.groupby([\"person_home_ownership\"])[\"loan_status\"].mean().sort_values().plot(kind=\"barh\")\n",
    "plt.title(\"Loan Approval based on Ownership\")\n",
    "plt.xlabel(\"Probabilty\")\n",
    "plt.ylabel(\"Ownership\");"
   ]
  },
  {
   "cell_type": "markdown",
   "id": "a5dd4d98",
   "metadata": {
    "papermill": {
     "duration": 0.011143,
     "end_time": "2024-10-21T14:39:28.140891",
     "exception": false,
     "start_time": "2024-10-21T14:39:28.129748",
     "status": "completed"
    },
    "tags": []
   },
   "source": [
    "Based on the Visualization above, it can be seen that people who rent a house are likely to get more loan in comparism with someone who own a house.\n",
    "\n",
    "So this data is likely to be a Home/Rent Loan dataset."
   ]
  },
  {
   "cell_type": "code",
   "execution_count": 11,
   "id": "2d963fe8",
   "metadata": {
    "execution": {
     "iopub.execute_input": "2024-10-21T14:39:28.164421Z",
     "iopub.status.busy": "2024-10-21T14:39:28.164115Z",
     "iopub.status.idle": "2024-10-21T14:39:28.449111Z",
     "shell.execute_reply": "2024-10-21T14:39:28.448267Z"
    },
    "papermill": {
     "duration": 0.299514,
     "end_time": "2024-10-21T14:39:28.451397",
     "exception": false,
     "start_time": "2024-10-21T14:39:28.151883",
     "status": "completed"
    },
    "tags": []
   },
   "outputs": [
    {
     "data": {
      "image/png": "[encoded data removed]",
      "text/plain": [
       "<Figure size 640x480 with 1 Axes>"
      ]
     },
     "metadata": {},
     "output_type": "display_data"
    }
   ],
   "source": [
    "df_analysis.groupby([\"loan_intent\"])[\"loan_status\"].mean().sort_values().plot(kind=\"barh\")\n",
    "plt.title(\"Probability of Loan Approval Based on Intent\")\n",
    "plt.ylabel(\"Loan Intent\")\n",
    "plt.xlabel(\"Probability\");"
   ]
  },
  {
   "cell_type": "markdown",
   "id": "98da96cb",
   "metadata": {
    "papermill": {
     "duration": 0.011343,
     "end_time": "2024-10-21T14:39:28.474505",
     "exception": false,
     "start_time": "2024-10-21T14:39:28.463162",
     "status": "completed"
    },
    "tags": []
   },
   "source": [
    "From the dataset given. \n",
    "\n",
    "It is clearly visible that people who have the high chance of getting loan are those who intend to use the loan for `Debt consolidation`, `Medical` or `Home Improvement`"
   ]
  },
  {
   "cell_type": "code",
   "execution_count": 12,
   "id": "6f939859",
   "metadata": {
    "execution": {
     "iopub.execute_input": "2024-10-21T14:39:28.498969Z",
     "iopub.status.busy": "2024-10-21T14:39:28.498412Z",
     "iopub.status.idle": "2024-10-21T14:39:28.785411Z",
     "shell.execute_reply": "2024-10-21T14:39:28.784532Z"
    },
    "papermill": {
     "duration": 0.301494,
     "end_time": "2024-10-21T14:39:28.787524",
     "exception": false,
     "start_time": "2024-10-21T14:39:28.486030",
     "status": "completed"
    },
    "tags": []
   },
   "outputs": [
    {
     "data": {
      "image/png": "[encoded data removed]",
      "text/plain": [
       "<Figure size 640x480 with 1 Axes>"
      ]
     },
     "metadata": {},
     "output_type": "display_data"
    }
   ],
   "source": [
    "df.groupby([\"loan_grade\"])[\"loan_status\"].mean().sort_values().plot(kind=\"barh\")\n",
    "plt.title(\"Loan Approval based on Loan Grade\")\n",
    "plt.ylabel(\"Loan Grade\")\n",
    "plt.xlabel(\"Probability\");"
   ]
  },
  {
   "cell_type": "markdown",
   "id": "49e93d9d",
   "metadata": {
    "papermill": {
     "duration": 0.011567,
     "end_time": "2024-10-21T14:39:28.811122",
     "exception": false,
     "start_time": "2024-10-21T14:39:28.799555",
     "status": "completed"
    },
    "tags": []
   },
   "source": [
    "Wow, this is giving us more insight into the data.\n",
    "\n",
    "People in grade `A`, `B`, or `C` has less chance of getting loan."
   ]
  },
  {
   "cell_type": "code",
   "execution_count": 13,
   "id": "376c6ce1",
   "metadata": {
    "execution": {
     "iopub.execute_input": "2024-10-21T14:39:28.835906Z",
     "iopub.status.busy": "2024-10-21T14:39:28.835534Z",
     "iopub.status.idle": "2024-10-21T14:39:29.321620Z",
     "shell.execute_reply": "2024-10-21T14:39:29.320739Z"
    },
    "papermill": {
     "duration": 0.501471,
     "end_time": "2024-10-21T14:39:29.324301",
     "exception": false,
     "start_time": "2024-10-21T14:39:28.822830",
     "status": "completed"
    },
    "tags": []
   },
   "outputs": [
    {
     "data": {
      "image/png": "[encoded data removed]",
      "text/plain": [
       "<Figure size 640x480 with 2 Axes>"
      ]
     },
     "metadata": {},
     "output_type": "display_data"
    }
   ],
   "source": [
    "# Let's Check out the multi-collinearity of the numeric column with the target.\n",
    "sns.heatmap(round(df_analysis.select_dtypes(\"number\").drop(columns=\"loan_status\").corr(), 2), annot=True);"
   ]
  },
  {
   "cell_type": "code",
   "execution_count": 14,
   "id": "0c0310d7",
   "metadata": {
    "execution": {
     "iopub.execute_input": "2024-10-21T14:39:29.351565Z",
     "iopub.status.busy": "2024-10-21T14:39:29.351265Z",
     "iopub.status.idle": "2024-10-21T14:39:29.370632Z",
     "shell.execute_reply": "2024-10-21T14:39:29.369812Z"
    },
    "papermill": {
     "duration": 0.035187,
     "end_time": "2024-10-21T14:39:29.372761",
     "exception": false,
     "start_time": "2024-10-21T14:39:29.337574",
     "status": "completed"
    },
    "tags": []
   },
   "outputs": [
    {
     "data": {
      "text/plain": [
       "loan_status                   1.000000\n",
       "loan_percent_income           0.378280\n",
       "loan_int_rate                 0.338948\n",
       "person_income                 0.169956\n",
       "loan_amnt                     0.144982\n",
       "person_emp_length             0.100428\n",
       "cb_person_cred_hist_length    0.003030\n",
       "person_age                    0.001130\n",
       "Name: loan_status, dtype: float64"
      ]
     },
     "execution_count": 14,
     "metadata": {},
     "output_type": "execute_result"
    }
   ],
   "source": [
    "abs(df_analysis.select_dtypes(\"number\").corr()[\"loan_status\"]).sort_values(ascending=False)"
   ]
  },
  {
   "cell_type": "markdown",
   "id": "c19c3573",
   "metadata": {
    "papermill": {
     "duration": 0.012567,
     "end_time": "2024-10-21T14:39:29.398202",
     "exception": false,
     "start_time": "2024-10-21T14:39:29.385635",
     "status": "completed"
    },
    "tags": []
   },
   "source": [
    "## Splitting Data."
   ]
  },
  {
   "cell_type": "code",
   "execution_count": 15,
   "id": "39c47ab1",
   "metadata": {
    "execution": {
     "iopub.execute_input": "2024-10-21T14:39:29.425042Z",
     "iopub.status.busy": "2024-10-21T14:39:29.424750Z",
     "iopub.status.idle": "2024-10-21T14:39:29.432618Z",
     "shell.execute_reply": "2024-10-21T14:39:29.431697Z"
    },
    "papermill": {
     "duration": 0.023508,
     "end_time": "2024-10-21T14:39:29.434589",
     "exception": false,
     "start_time": "2024-10-21T14:39:29.411081",
     "status": "completed"
    },
    "tags": []
   },
   "outputs": [],
   "source": [
    "# Feature matrix.\n",
    "target = \"loan_status\"\n",
    "X = df.drop(columns=target)\n",
    "# Target Vector.\n",
    "y = df[target]"
   ]
  },
  {
   "cell_type": "code",
   "execution_count": 16,
   "id": "cd95c112",
   "metadata": {
    "execution": {
     "iopub.execute_input": "2024-10-21T14:39:29.461334Z",
     "iopub.status.busy": "2024-10-21T14:39:29.461047Z",
     "iopub.status.idle": "2024-10-21T14:39:29.478784Z",
     "shell.execute_reply": "2024-10-21T14:39:29.477933Z"
    },
    "papermill": {
     "duration": 0.033201,
     "end_time": "2024-10-21T14:39:29.480565",
     "exception": false,
     "start_time": "2024-10-21T14:39:29.447364",
     "status": "completed"
    },
    "tags": []
   },
   "outputs": [
    {
     "data": {
      "text/plain": [
       "((46916, 11), (46916,))"
      ]
     },
     "execution_count": 16,
     "metadata": {},
     "output_type": "execute_result"
    }
   ],
   "source": [
    "X_train, X_test, y_train, y_test = train_test_split(X, y, test_size=0.2, random_state=42)\n",
    "X_train.shape, y_train.shape"
   ]
  },
  {
   "cell_type": "markdown",
   "id": "65507a25",
   "metadata": {
    "papermill": {
     "duration": 0.012667,
     "end_time": "2024-10-21T14:39:29.506066",
     "exception": false,
     "start_time": "2024-10-21T14:39:29.493399",
     "status": "completed"
    },
    "tags": []
   },
   "source": [
    "## Baseline Model"
   ]
  },
  {
   "cell_type": "code",
   "execution_count": 17,
   "id": "02ced2ff",
   "metadata": {
    "execution": {
     "iopub.execute_input": "2024-10-21T14:39:29.532703Z",
     "iopub.status.busy": "2024-10-21T14:39:29.532433Z",
     "iopub.status.idle": "2024-10-21T14:39:29.538022Z",
     "shell.execute_reply": "2024-10-21T14:39:29.537069Z"
    },
    "papermill": {
     "duration": 0.021054,
     "end_time": "2024-10-21T14:39:29.539985",
     "exception": false,
     "start_time": "2024-10-21T14:39:29.518931",
     "status": "completed"
    },
    "tags": []
   },
   "outputs": [
    {
     "name": "stdout",
     "output_type": "stream",
     "text": [
      "Baseline Model: 0.86\n"
     ]
    }
   ],
   "source": [
    "print(f\"Baseline Model: {round(y_train.value_counts(normalize=True).max(), 2)}\")"
   ]
  },
  {
   "cell_type": "markdown",
   "id": "efde641c",
   "metadata": {
    "papermill": {
     "duration": 0.012683,
     "end_time": "2024-10-21T14:39:29.565599",
     "exception": false,
     "start_time": "2024-10-21T14:39:29.552916",
     "status": "completed"
    },
    "tags": []
   },
   "source": [
    "## Model"
   ]
  },
  {
   "cell_type": "code",
   "execution_count": 18,
   "id": "0696290d",
   "metadata": {
    "execution": {
     "iopub.execute_input": "2024-10-21T14:39:29.592849Z",
     "iopub.status.busy": "2024-10-21T14:39:29.592556Z",
     "iopub.status.idle": "2024-10-21T14:39:38.675114Z",
     "shell.execute_reply": "2024-10-21T14:39:38.674156Z"
    },
    "papermill": {
     "duration": 9.098504,
     "end_time": "2024-10-21T14:39:38.677115",
     "exception": false,
     "start_time": "2024-10-21T14:39:29.578611",
     "status": "completed"
    },
    "tags": []
   },
   "outputs": [
    {
     "data": {
      "text/html": [
       "<style>#sk-container-id-1 {color: black;background-color: white;}#sk-container-id-1 pre{padding: 0;}#sk-container-id-1 div.sk-toggleable {background-color: white;}#sk-container-id-1 label.sk-toggleable__label {cursor: pointer;display: block;width: 100%;margin-bottom: 0;padding: 0.3em;box-sizing: border-box;text-align: center;}#sk-container-id-1 label.sk-toggleable__label-arrow:before {content: \"▸\";float: left;margin-right: 0.25em;color: #696969;}#sk-container-id-1 label.sk-toggleable__label-arrow:hover:before {color: black;}#sk-container-id-1 div.sk-estimator:hover label.sk-toggleable__label-arrow:before {color: black;}#sk-container-id-1 div.sk-toggleable__content {max-height: 0;max-width: 0;overflow: hidden;text-align: left;background-color: #f0f8ff;}#sk-container-id-1 div.sk-toggleable__content pre {margin: 0.2em;color: black;border-radius: 0.25em;background-color: #f0f8ff;}#sk-container-id-1 input.sk-toggleable__control:checked~div.sk-toggleable__content {max-height: 200px;max-width: 100%;overflow: auto;}#sk-container-id-1 input.sk-toggleable__control:checked~label.sk-toggleable__label-arrow:before {content: \"▾\";}#sk-container-id-1 div.sk-estimator input.sk-toggleable__control:checked~label.sk-toggleable__label {background-color: #d4ebff;}#sk-container-id-1 div.sk-label input.sk-toggleable__control:checked~label.sk-toggleable__label {background-color: #d4ebff;}#sk-container-id-1 input.sk-hidden--visually {border: 0;clip: rect(1px 1px 1px 1px);clip: rect(1px, 1px, 1px, 1px);height: 1px;margin: -1px;overflow: hidden;padding: 0;position: absolute;width: 1px;}#sk-container-id-1 div.sk-estimator {font-family: monospace;background-color: #f0f8ff;border: 1px dotted black;border-radius: 0.25em;box-sizing: border-box;margin-bottom: 0.5em;}#sk-container-id-1 div.sk-estimator:hover {background-color: #d4ebff;}#sk-container-id-1 div.sk-parallel-item::after {content: \"\";width: 100%;border-bottom: 1px solid gray;flex-grow: 1;}#sk-container-id-1 div.sk-label:hover label.sk-toggleable__label {background-color: #d4ebff;}#sk-container-id-1 div.sk-serial::before {content: \"\";position: absolute;border-left: 1px solid gray;box-sizing: border-box;top: 0;bottom: 0;left: 50%;z-index: 0;}#sk-container-id-1 div.sk-serial {display: flex;flex-direction: column;align-items: center;background-color: white;padding-right: 0.2em;padding-left: 0.2em;position: relative;}#sk-container-id-1 div.sk-item {position: relative;z-index: 1;}#sk-container-id-1 div.sk-parallel {display: flex;align-items: stretch;justify-content: center;background-color: white;position: relative;}#sk-container-id-1 div.sk-item::before, #sk-container-id-1 div.sk-parallel-item::before {content: \"\";position: absolute;border-left: 1px solid gray;box-sizing: border-box;top: 0;bottom: 0;left: 50%;z-index: -1;}#sk-container-id-1 div.sk-parallel-item {display: flex;flex-direction: column;z-index: 1;position: relative;background-color: white;}#sk-container-id-1 div.sk-parallel-item:first-child::after {align-self: flex-end;width: 50%;}#sk-container-id-1 div.sk-parallel-item:last-child::after {align-self: flex-start;width: 50%;}#sk-container-id-1 div.sk-parallel-item:only-child::after {width: 0;}#sk-container-id-1 div.sk-dashed-wrapped {border: 1px dashed gray;margin: 0 0.4em 0.5em 0.4em;box-sizing: border-box;padding-bottom: 0.4em;background-color: white;}#sk-container-id-1 div.sk-label label {font-family: monospace;font-weight: bold;display: inline-block;line-height: 1.2em;}#sk-container-id-1 div.sk-label-container {text-align: center;}#sk-container-id-1 div.sk-container {/* jupyter's `normalize.less` sets `[hidden] { display: none; }` but bootstrap.min.css set `[hidden] { display: none !important; }` so we also need the `!important` here to be able to override the default hidden behavior on the sphinx rendered scikit-learn.org. See: https://github.com/scikit-learn/scikit-learn/issues/21755 */display: inline-block !important;position: relative;}#sk-container-id-1 div.sk-text-repr-fallback {display: none;}</style><div id=\"sk-container-id-1\" class=\"sk-top-container\"><div class=\"sk-text-repr-fallback\"><pre>Pipeline(steps=[(&#x27;onehotencoder&#x27;,\n",
       "                 OneHotEncoder(cols=[&#x27;person_home_ownership&#x27;, &#x27;loan_intent&#x27;,\n",
       "                                     &#x27;loan_grade&#x27;,\n",
       "                                     &#x27;cb_person_default_on_file&#x27;],\n",
       "                               use_cat_names=True)),\n",
       "                (&#x27;minmaxscaler&#x27;, MinMaxScaler()),\n",
       "                (&#x27;catboostclassifier&#x27;,\n",
       "                 &lt;catboost.core.CatBoostClassifier object at 0x7843d588edd0&gt;)])</pre><b>In a Jupyter environment, please rerun this cell to show the HTML representation or trust the notebook. <br />On GitHub, the HTML representation is unable to render, please try loading this page with nbviewer.org.</b></div><div class=\"sk-container\" hidden><div class=\"sk-item sk-dashed-wrapped\"><div class=\"sk-label-container\"><div class=\"sk-label sk-toggleable\"><input class=\"sk-toggleable__control sk-hidden--visually\" id=\"sk-estimator-id-1\" type=\"checkbox\" ><label for=\"sk-estimator-id-1\" class=\"sk-toggleable__label sk-toggleable__label-arrow\">Pipeline</label><div class=\"sk-toggleable__content\"><pre>Pipeline(steps=[(&#x27;onehotencoder&#x27;,\n",
       "                 OneHotEncoder(cols=[&#x27;person_home_ownership&#x27;, &#x27;loan_intent&#x27;,\n",
       "                                     &#x27;loan_grade&#x27;,\n",
       "                                     &#x27;cb_person_default_on_file&#x27;],\n",
       "                               use_cat_names=True)),\n",
       "                (&#x27;minmaxscaler&#x27;, MinMaxScaler()),\n",
       "                (&#x27;catboostclassifier&#x27;,\n",
       "                 &lt;catboost.core.CatBoostClassifier object at 0x7843d588edd0&gt;)])</pre></div></div></div><div class=\"sk-serial\"><div class=\"sk-item\"><div class=\"sk-estimator sk-toggleable\"><input class=\"sk-toggleable__control sk-hidden--visually\" id=\"sk-estimator-id-2\" type=\"checkbox\" ><label for=\"sk-estimator-id-2\" class=\"sk-toggleable__label sk-toggleable__label-arrow\">OneHotEncoder</label><div class=\"sk-toggleable__content\"><pre>OneHotEncoder(cols=[&#x27;person_home_ownership&#x27;, &#x27;loan_intent&#x27;, &#x27;loan_grade&#x27;,\n",
       "                    &#x27;cb_person_default_on_file&#x27;],\n",
       "              use_cat_names=True)</pre></div></div></div><div class=\"sk-item\"><div class=\"sk-estimator sk-toggleable\"><input class=\"sk-toggleable__control sk-hidden--visually\" id=\"sk-estimator-id-3\" type=\"checkbox\" ><label for=\"sk-estimator-id-3\" class=\"sk-toggleable__label sk-toggleable__label-arrow\">MinMaxScaler</label><div class=\"sk-toggleable__content\"><pre>MinMaxScaler()</pre></div></div></div><div class=\"sk-item\"><div class=\"sk-estimator sk-toggleable\"><input class=\"sk-toggleable__control sk-hidden--visually\" id=\"sk-estimator-id-4\" type=\"checkbox\" ><label for=\"sk-estimator-id-4\" class=\"sk-toggleable__label sk-toggleable__label-arrow\">CatBoostClassifier</label><div class=\"sk-toggleable__content\"><pre>&lt;catboost.core.CatBoostClassifier object at 0x7843d588edd0&gt;</pre></div></div></div></div></div></div></div>"
      ],
      "text/plain": [
       "Pipeline(steps=[('onehotencoder',\n",
       "                 OneHotEncoder(cols=['person_home_ownership', 'loan_intent',\n",
       "                                     'loan_grade',\n",
       "                                     'cb_person_default_on_file'],\n",
       "                               use_cat_names=True)),\n",
       "                ('minmaxscaler', MinMaxScaler()),\n",
       "                ('catboostclassifier',\n",
       "                 <catboost.core.CatBoostClassifier object at 0x7843d588edd0>)])"
      ]
     },
     "execution_count": 18,
     "metadata": {},
     "output_type": "execute_result"
    }
   ],
   "source": [
    "params= {'max_depth': 14,\n",
    " 'learning_rate': 0.009640348711143247,\n",
    " 'subsample': 0.3552605371861251,\n",
    " 'n_estimators': 1804}\n",
    "lgbm = make_pipeline(\n",
    "    OneHotEncoder(use_cat_names=True),\n",
    "    MinMaxScaler(),\n",
    "    CatBoostClassifier(random_state=42, verbose=0)\n",
    ")\n",
    "lgbm.fit(X_train, y_train)"
   ]
  },
  {
   "cell_type": "code",
   "execution_count": 19,
   "id": "d3c8880a",
   "metadata": {
    "execution": {
     "iopub.execute_input": "2024-10-21T14:39:38.705858Z",
     "iopub.status.busy": "2024-10-21T14:39:38.705500Z",
     "iopub.status.idle": "2024-10-21T14:39:38.761538Z",
     "shell.execute_reply": "2024-10-21T14:39:38.760659Z"
    },
    "papermill": {
     "duration": 0.072304,
     "end_time": "2024-10-21T14:39:38.763528",
     "exception": false,
     "start_time": "2024-10-21T14:39:38.691224",
     "status": "completed"
    },
    "tags": []
   },
   "outputs": [
    {
     "data": {
      "text/plain": [
       "0.9577087982542138"
      ]
     },
     "execution_count": 19,
     "metadata": {},
     "output_type": "execute_result"
    }
   ],
   "source": [
    "y_test_pred= lgbm.predict_proba(X_test)[:, 1]\n",
    "roc_auc_score(y_test, y_test_pred)"
   ]
  },
  {
   "cell_type": "markdown",
   "id": "d9a9001b",
   "metadata": {
    "papermill": {
     "duration": 0.013567,
     "end_time": "2024-10-21T14:39:38.790987",
     "exception": false,
     "start_time": "2024-10-21T14:39:38.777420",
     "status": "completed"
    },
    "tags": []
   },
   "source": [
    "## Feature Engineering."
   ]
  },
  {
   "cell_type": "code",
   "execution_count": 20,
   "id": "f842abc5",
   "metadata": {
    "execution": {
     "iopub.execute_input": "2024-10-21T14:39:38.819353Z",
     "iopub.status.busy": "2024-10-21T14:39:38.819049Z",
     "iopub.status.idle": "2024-10-21T14:39:39.152215Z",
     "shell.execute_reply": "2024-10-21T14:39:39.151323Z"
    },
    "papermill": {
     "duration": 0.349525,
     "end_time": "2024-10-21T14:39:39.154079",
     "exception": false,
     "start_time": "2024-10-21T14:39:38.804554",
     "status": "completed"
    },
    "tags": []
   },
   "outputs": [
    {
     "data": {
      "image/png": "[encoded data removed]",
      "text/plain": [
       "<Figure size 640x480 with 1 Axes>"
      ]
     },
     "metadata": {},
     "output_type": "display_data"
    }
   ],
   "source": [
    "output = 10\n",
    "feat= lgbm.named_steps[\"onehotencoder\"].get_feature_names()\n",
    "imp = lgbm.named_steps[\"catboostclassifier\"].feature_importances_\n",
    "pd.Series(imp, index=feat).sort_values().tail(output).plot(kind=\"barh\")\n",
    "plt.title(f\"{output} most Importance Feature\")\n",
    "plt.ylabel(\"Featues\")\n",
    "plt.xlabel(\"Importance\");"
   ]
  },
  {
   "cell_type": "markdown",
   "id": "d3102103",
   "metadata": {
    "papermill": {
     "duration": 0.013938,
     "end_time": "2024-10-21T14:39:39.182435",
     "exception": false,
     "start_time": "2024-10-21T14:39:39.168497",
     "status": "completed"
    },
    "tags": []
   },
   "source": [
    "## Fine Tuning with optuna."
   ]
  },
  {
   "cell_type": "code",
   "execution_count": 21,
   "id": "ed1d9e84",
   "metadata": {
    "execution": {
     "iopub.execute_input": "2024-10-21T14:39:39.212611Z",
     "iopub.status.busy": "2024-10-21T14:39:39.212295Z",
     "iopub.status.idle": "2024-10-21T16:05:16.033226Z",
     "shell.execute_reply": "2024-10-21T16:05:16.032224Z"
    },
    "papermill": {
     "duration": 5136.862917,
     "end_time": "2024-10-21T16:05:16.059500",
     "exception": false,
     "start_time": "2024-10-21T14:39:39.196583",
     "status": "completed"
    },
    "scrolled": true,
    "tags": []
   },
   "outputs": [
    {
     "name": "stderr",
     "output_type": "stream",
     "text": [
      "[I 2024-10-21 14:39:39,216] A new study created in memory with name: XGB\n"
     ]
    },
    {
     "data": {
      "application/vnd.jupyter.widget-view+json": {
       "model_id": "d31a9c01a76a46c48011be32a7775340",
       "version_major": 2,
       "version_minor": 0
      },
      "text/plain": [
       "  0%|          | 0/100 [00:00<?, ?it/s]"
      ]
     },
     "metadata": {},
     "output_type": "display_data"
    },
    {
     "name": "stdout",
     "output_type": "stream",
     "text": [
      "[I 2024-10-21 14:39:44,499] Trial 0 finished with value: 0.9420628836068953 and parameters: {'max_depth': 6, 'learning_rate': 0.00839528639136132, 'subsample': 0.14599499898211646, 'n_estimators': 772}. Best is trial 0 with value: 0.9420628836068953.\n",
      "[I 2024-10-21 14:39:55,085] Trial 1 finished with value: 0.9420384312993402 and parameters: {'max_depth': 5, 'learning_rate': 0.005102975488594563, 'subsample': 0.15020836516426772, 'n_estimators': 1774}. Best is trial 0 with value: 0.9420628836068953.\n",
      "[I 2024-10-21 14:40:07,716] Trial 2 finished with value: 0.9344709553075817 and parameters: {'max_depth': 6, 'learning_rate': 0.0019696421845222375, 'subsample': 0.4185755085553198, 'n_estimators': 1582}. Best is trial 0 with value: 0.9420628836068953.\n",
      "[I 2024-10-21 14:40:16,595] Trial 3 finished with value: 0.9365146248345846 and parameters: {'max_depth': 4, 'learning_rate': 0.004531428949367859, 'subsample': 0.35534724753901614, 'n_estimators': 1491}. Best is trial 0 with value: 0.9420628836068953.\n",
      "[I 2024-10-21 14:41:55,668] Trial 4 finished with value: 0.9413031111667108 and parameters: {'max_depth': 13, 'learning_rate': 0.005041686837114, 'subsample': 0.30910509613332215, 'n_estimators': 842}. Best is trial 0 with value: 0.9420628836068953.\n",
      "[I 2024-10-21 14:42:01,026] Trial 5 finished with value: 0.9275311489191416 and parameters: {'max_depth': 6, 'learning_rate': 0.002469580609033197, 'subsample': 0.1444443673283866, 'n_estimators': 776}. Best is trial 0 with value: 0.9420628836068953.\n",
      "[I 2024-10-21 14:42:07,486] Trial 6 finished with value: 0.9401579582842425 and parameters: {'max_depth': 5, 'learning_rate': 0.006750336351662162, 'subsample': 0.2804358128793202, 'n_estimators': 996}. Best is trial 0 with value: 0.9420628836068953.\n",
      "[I 2024-10-21 14:42:15,836] Trial 7 finished with value: 0.9426875947828799 and parameters: {'max_depth': 7, 'learning_rate': 0.006389105460487657, 'subsample': 0.1310699353978984, 'n_estimators': 993}. Best is trial 7 with value: 0.9426875947828799.\n",
      "[I 2024-10-21 14:42:58,877] Trial 8 finished with value: 0.9459202502177464 and parameters: {'max_depth': 11, 'learning_rate': 0.0065838383239625094, 'subsample': 0.1949302009133355, 'n_estimators': 1235}. Best is trial 8 with value: 0.9459202502177464.\n",
      "[I 2024-10-21 14:43:03,723] Trial 9 finished with value: 0.9383897243796268 and parameters: {'max_depth': 7, 'learning_rate': 0.0063448410585986445, 'subsample': 0.31791817278411105, 'n_estimators': 548}. Best is trial 8 with value: 0.9459202502177464.\n",
      "[I 2024-10-21 14:43:48,331] Trial 10 finished with value: 0.9473949356795635 and parameters: {'max_depth': 11, 'learning_rate': 0.009970610741014786, 'subsample': 0.2262336481310622, 'n_estimators': 1251}. Best is trial 10 with value: 0.9473949356795635.\n",
      "[I 2024-10-21 14:44:35,033] Trial 11 finished with value: 0.9479474974542431 and parameters: {'max_depth': 11, 'learning_rate': 0.00985281045073285, 'subsample': 0.22750019314347528, 'n_estimators': 1251}. Best is trial 11 with value: 0.9479474974542431.\n",
      "[I 2024-10-21 14:45:07,025] Trial 12 finished with value: 0.9491492227124624 and parameters: {'max_depth': 10, 'learning_rate': 0.009853125632261591, 'subsample': 0.23277447980690258, 'n_estimators': 1302}. Best is trial 12 with value: 0.9491492227124624.\n",
      "[I 2024-10-21 15:00:57,076] Trial 13 finished with value: 0.9404906907951973 and parameters: {'max_depth': 15, 'learning_rate': 0.009586642501862804, 'subsample': 0.25192099245612126, 'n_estimators': 1331}. Best is trial 12 with value: 0.9491492227124624.\n",
      "[I 2024-10-21 15:01:50,486] Trial 14 finished with value: 0.9524233565060708 and parameters: {'max_depth': 10, 'learning_rate': 0.008569751027563457, 'subsample': 0.478736639900159, 'n_estimators': 1949}. Best is trial 14 with value: 0.9524233565060708.\n",
      "[I 2024-10-21 15:02:27,128] Trial 15 finished with value: 0.9524791439929373 and parameters: {'max_depth': 9, 'learning_rate': 0.008235862076822226, 'subsample': 0.499293673501713, 'n_estimators': 1964}. Best is trial 15 with value: 0.9524791439929373.\n",
      "[I 2024-10-21 15:03:05,074] Trial 16 finished with value: 0.9527938240595492 and parameters: {'max_depth': 9, 'learning_rate': 0.007926249364782187, 'subsample': 0.49706860194573843, 'n_estimators': 1989}. Best is trial 16 with value: 0.9527938240595492.\n",
      "[I 2024-10-21 15:03:43,602] Trial 17 finished with value: 0.9529052782811466 and parameters: {'max_depth': 9, 'learning_rate': 0.008169288944981933, 'subsample': 0.4908293631626189, 'n_estimators': 2000}. Best is trial 17 with value: 0.9529052782811466.\n",
      "[I 2024-10-21 15:03:53,366] Trial 18 finished with value: 0.9305488957398285 and parameters: {'max_depth': 2, 'learning_rate': 0.0075160586112292295, 'subsample': 0.42837703237844155, 'n_estimators': 1697}. Best is trial 17 with value: 0.9529052782811466.\n",
      "[I 2024-10-21 15:04:17,551] Trial 19 finished with value: 0.9454053027334539 and parameters: {'max_depth': 8, 'learning_rate': 0.0036972276804036605, 'subsample': 0.43488758238299074, 'n_estimators': 1806}. Best is trial 17 with value: 0.9529052782811466.\n",
      "[I 2024-10-21 15:08:53,994] Trial 20 finished with value: 0.9454285475196487 and parameters: {'max_depth': 13, 'learning_rate': 0.0074442317173583, 'subsample': 0.3782624515875225, 'n_estimators': 1996}. Best is trial 17 with value: 0.9529052782811466.\n",
      "[I 2024-10-21 15:09:28,105] Trial 21 finished with value: 0.952735561153893 and parameters: {'max_depth': 9, 'learning_rate': 0.00845919456028385, 'subsample': 0.497930945596848, 'n_estimators': 1867}. Best is trial 17 with value: 0.9529052782811466.\n",
      "[I 2024-10-21 15:10:02,092] Trial 22 finished with value: 0.9530426338359318 and parameters: {'max_depth': 9, 'learning_rate': 0.00884144745426651, 'subsample': 0.46895710439939764, 'n_estimators': 1835}. Best is trial 22 with value: 0.9530426338359318.\n",
      "[I 2024-10-21 15:10:23,082] Trial 23 finished with value: 0.9499786087590942 and parameters: {'max_depth': 8, 'learning_rate': 0.007548027091810381, 'subsample': 0.4571574754720106, 'n_estimators': 1652}. Best is trial 22 with value: 0.9530426338359318.\n",
      "[I 2024-10-21 15:13:40,998] Trial 24 finished with value: 0.9452797205119358 and parameters: {'max_depth': 13, 'learning_rate': 0.00910104859035382, 'subsample': 0.37235089877043703, 'n_estimators': 1501}. Best is trial 22 with value: 0.9530426338359318.\n",
      "[I 2024-10-21 15:14:31,682] Trial 25 finished with value: 0.9520529493286601 and parameters: {'max_depth': 10, 'learning_rate': 0.008982174524031331, 'subsample': 0.4589266689232262, 'n_estimators': 1861}. Best is trial 22 with value: 0.9530426338359318.\n",
      "[I 2024-10-21 15:16:33,414] Trial 26 finished with value: 0.9460797034134335 and parameters: {'max_depth': 12, 'learning_rate': 0.005838252878153063, 'subsample': 0.40439777720297576, 'n_estimators': 1737}. Best is trial 22 with value: 0.9530426338359318.\n",
      "[I 2024-10-21 15:16:57,278] Trial 27 finished with value: 0.9516365355874055 and parameters: {'max_depth': 8, 'learning_rate': 0.007773256209194788, 'subsample': 0.4614936883130737, 'n_estimators': 1885}. Best is trial 22 with value: 0.9530426338359318.\n",
      "[I 2024-10-21 15:17:25,580] Trial 28 finished with value: 0.9492356812418923 and parameters: {'max_depth': 9, 'learning_rate': 0.007136172556952018, 'subsample': 0.3922884987308259, 'n_estimators': 1611}. Best is trial 22 with value: 0.9530426338359318.\n",
      "[I 2024-10-21 15:17:44,823] Trial 29 finished with value: 0.9517160508690108 and parameters: {'max_depth': 7, 'learning_rate': 0.008080780307162848, 'subsample': 0.345925702481782, 'n_estimators': 1978}. Best is trial 22 with value: 0.9530426338359318.\n",
      "[I 2024-10-21 15:33:50,204] Trial 30 finished with value: 0.9402486431384348 and parameters: {'max_depth': 15, 'learning_rate': 0.008845911701947068, 'subsample': 0.44687323018968944, 'n_estimators': 1401}. Best is trial 22 with value: 0.9530426338359318.\n",
      "[I 2024-10-21 15:34:23,394] Trial 31 finished with value: 0.9522955403700353 and parameters: {'max_depth': 9, 'learning_rate': 0.008269415766204342, 'subsample': 0.49398273104890594, 'n_estimators': 1866}. Best is trial 22 with value: 0.9530426338359318.\n",
      "[I 2024-10-21 15:35:11,196] Trial 32 finished with value: 0.9518116261847143 and parameters: {'max_depth': 10, 'learning_rate': 0.00897128837454449, 'subsample': 0.4789959446920331, 'n_estimators': 1793}. Best is trial 22 with value: 0.9530426338359318.\n",
      "[I 2024-10-21 15:35:43,550] Trial 33 finished with value: 0.9521298684393402 and parameters: {'max_depth': 9, 'learning_rate': 0.008098684803641586, 'subsample': 0.4760342557758005, 'n_estimators': 1873}. Best is trial 22 with value: 0.9530426338359318.\n",
      "[I 2024-10-21 15:36:00,316] Trial 34 finished with value: 0.9525278071037756 and parameters: {'max_depth': 7, 'learning_rate': 0.009422364671518123, 'subsample': 0.4197002779456767, 'n_estimators': 1765}. Best is trial 22 with value: 0.9530426338359318.\n",
      "[I 2024-10-21 15:37:39,564] Trial 35 finished with value: 0.9463061740446423 and parameters: {'max_depth': 12, 'learning_rate': 0.007164763853231782, 'subsample': 0.49771869763244564, 'n_estimators': 1544}. Best is trial 22 with value: 0.9530426338359318.\n",
      "[I 2024-10-21 15:37:58,634] Trial 36 finished with value: 0.9512777206150582 and parameters: {'max_depth': 8, 'learning_rate': 0.008610660316627992, 'subsample': 0.4361136799656206, 'n_estimators': 1653}. Best is trial 22 with value: 0.9530426338359318.\n",
      "[I 2024-10-21 15:38:13,352] Trial 37 finished with value: 0.9428902772432819 and parameters: {'max_depth': 5, 'learning_rate': 0.004518247289211512, 'subsample': 0.47043969862532237, 'n_estimators': 1901}. Best is trial 22 with value: 0.9530426338359318.\n",
      "[I 2024-10-21 15:38:28,550] Trial 38 finished with value: 0.9326646844801023 and parameters: {'max_depth': 6, 'learning_rate': 0.0014884810355164655, 'subsample': 0.40865200003448776, 'n_estimators': 1810}. Best is trial 22 with value: 0.9530426338359318.\n",
      "[I 2024-10-21 15:40:24,722] Trial 39 finished with value: 0.946233420882657 and parameters: {'max_depth': 12, 'learning_rate': 0.005950366665423652, 'subsample': 0.4475660483772466, 'n_estimators': 1710}. Best is trial 22 with value: 0.9530426338359318.\n",
      "[I 2024-10-21 15:40:32,082] Trial 40 finished with value: 0.9330632269052181 and parameters: {'max_depth': 3, 'learning_rate': 0.006913680232348837, 'subsample': 0.48549326410918936, 'n_estimators': 1135}. Best is trial 22 with value: 0.9530426338359318.\n",
      "[I 2024-10-21 15:40:49,607] Trial 41 finished with value: 0.9524904343176605 and parameters: {'max_depth': 7, 'learning_rate': 0.009259924755227049, 'subsample': 0.42051988207126856, 'n_estimators': 1772}. Best is trial 22 with value: 0.9530426338359318.\n",
      "[I 2024-10-21 15:41:07,679] Trial 42 finished with value: 0.9530001290840335 and parameters: {'max_depth': 6, 'learning_rate': 0.009558858290990218, 'subsample': 0.4991899876922772, 'n_estimators': 1996}. Best is trial 22 with value: 0.9530426338359318.\n",
      "[I 2024-10-21 15:41:25,309] Trial 43 finished with value: 0.9517248657749444 and parameters: {'max_depth': 6, 'learning_rate': 0.008587051144800436, 'subsample': 0.4967993085959074, 'n_estimators': 1927}. Best is trial 22 with value: 0.9530426338359318.\n",
      "[I 2024-10-21 15:41:38,020] Trial 44 finished with value: 0.9464925549666743 and parameters: {'max_depth': 4, 'learning_rate': 0.009375044886524778, 'subsample': 0.1813804931929947, 'n_estimators': 1994}. Best is trial 22 with value: 0.9530426338359318.\n",
      "[I 2024-10-21 15:42:52,398] Trial 45 finished with value: 0.9493169474294708 and parameters: {'max_depth': 11, 'learning_rate': 0.007938264638188464, 'subsample': 0.46676267662387116, 'n_estimators': 1838}. Best is trial 22 with value: 0.9530426338359318.\n",
      "[I 2024-10-21 15:43:43,170] Trial 46 finished with value: 0.9523858025917514 and parameters: {'max_depth': 10, 'learning_rate': 0.009595371099847202, 'subsample': 0.44620591941930354, 'n_estimators': 1905}. Best is trial 22 with value: 0.9530426338359318.\n",
      "[I 2024-10-21 15:43:59,413] Trial 47 finished with value: 0.9381192395948187 and parameters: {'max_depth': 9, 'learning_rate': 0.0030821998343013527, 'subsample': 0.2856895876755767, 'n_estimators': 924}. Best is trial 22 with value: 0.9530426338359318.\n",
      "[I 2024-10-21 15:44:07,989] Trial 48 finished with value: 0.9447310228056106 and parameters: {'max_depth': 8, 'learning_rate': 0.009993673926360785, 'subsample': 0.3350647081698325, 'n_estimators': 634}. Best is trial 22 with value: 0.9530426338359318.\n",
      "[I 2024-10-21 15:44:21,605] Trial 49 finished with value: 0.9409052328783434 and parameters: {'max_depth': 4, 'learning_rate': 0.005155270780147455, 'subsample': 0.47179079662573475, 'n_estimators': 1934}. Best is trial 22 with value: 0.9530426338359318.\n",
      "[I 2024-10-21 15:44:36,316] Trial 50 finished with value: 0.9494544237363924 and parameters: {'max_depth': 7, 'learning_rate': 0.00857932016260824, 'subsample': 0.4846209781495513, 'n_estimators': 1416}. Best is trial 22 with value: 0.9530426338359318.\n",
      "[I 2024-10-21 15:44:54,937] Trial 51 finished with value: 0.9523650332243465 and parameters: {'max_depth': 7, 'learning_rate': 0.009457400503654843, 'subsample': 0.49761032894293067, 'n_estimators': 1740}. Best is trial 22 with value: 0.9530426338359318.\n",
      "[I 2024-10-21 15:45:27,261] Trial 52 finished with value: 0.9524328355487527 and parameters: {'max_depth': 9, 'learning_rate': 0.008806731376485077, 'subsample': 0.4521671131097495, 'n_estimators': 1825}. Best is trial 22 with value: 0.9530426338359318.\n",
      "[I 2024-10-21 15:45:43,160] Trial 53 finished with value: 0.9512698717262134 and parameters: {'max_depth': 5, 'learning_rate': 0.009598553358169582, 'subsample': 0.4299033935517519, 'n_estimators': 1997}. Best is trial 22 with value: 0.9530426338359318.\n",
      "[I 2024-10-21 15:46:07,231] Trial 54 finished with value: 0.9518553384579735 and parameters: {'max_depth': 8, 'learning_rate': 0.007730073822535017, 'subsample': 0.4794202038071088, 'n_estimators': 1932}. Best is trial 22 with value: 0.9530426338359318.\n",
      "[I 2024-10-21 15:46:20,548] Trial 55 finished with value: 0.9474987221405199 and parameters: {'max_depth': 5, 'learning_rate': 0.008339669928519729, 'subsample': 0.410921424469036, 'n_estimators': 1641}. Best is trial 22 with value: 0.9530426338359318.\n",
      "[I 2024-10-21 15:47:07,317] Trial 56 finished with value: 0.9519063562354652 and parameters: {'max_depth': 10, 'learning_rate': 0.009173849522773775, 'subsample': 0.4662602374190196, 'n_estimators': 1780}. Best is trial 22 with value: 0.9530426338359318.\n",
      "[I 2024-10-21 15:47:16,835] Trial 57 finished with value: 0.9470398640234345 and parameters: {'max_depth': 6, 'learning_rate': 0.009658227744179442, 'subsample': 0.4420047577289985, 'n_estimators': 1118}. Best is trial 22 with value: 0.9530426338359318.\n",
      "[I 2024-10-21 15:47:31,786] Trial 58 finished with value: 0.9460912352424287 and parameters: {'max_depth': 7, 'learning_rate': 0.00657545678503649, 'subsample': 0.10231814376905787, 'n_estimators': 1709}. Best is trial 22 with value: 0.9530426338359318.\n",
      "[I 2024-10-21 15:47:45,200] Trial 59 finished with value: 0.9494722346764632 and parameters: {'max_depth': 6, 'learning_rate': 0.008881724268432662, 'subsample': 0.48647704707690487, 'n_estimators': 1556}. Best is trial 22 with value: 0.9530426338359318.\n",
      "[I 2024-10-21 15:48:08,705] Trial 60 finished with value: 0.9513432890249471 and parameters: {'max_depth': 8, 'learning_rate': 0.007296651461910079, 'subsample': 0.3855890070020354, 'n_estimators': 1953}. Best is trial 22 with value: 0.9530426338359318.\n",
      "[I 2024-10-21 15:48:30,018] Trial 61 finished with value: 0.9528172499739476 and parameters: {'max_depth': 8, 'learning_rate': 0.009331834038807916, 'subsample': 0.4199891422943786, 'n_estimators': 1761}. Best is trial 22 with value: 0.9530426338359318.\n",
      "[I 2024-10-21 15:49:01,540] Trial 62 finished with value: 0.9532228563990239 and parameters: {'max_depth': 9, 'learning_rate': 0.009197741430124492, 'subsample': 0.4575875090287453, 'n_estimators': 1859}. Best is trial 62 with value: 0.9532228563990239.\n",
      "[I 2024-10-21 15:50:16,327] Trial 63 finished with value: 0.949849585101698 and parameters: {'max_depth': 11, 'learning_rate': 0.008310042795863238, 'subsample': 0.45874859617123, 'n_estimators': 1863}. Best is trial 62 with value: 0.9532228563990239.\n",
      "[I 2024-10-21 15:51:05,295] Trial 64 finished with value: 0.9525051660782615 and parameters: {'max_depth': 10, 'learning_rate': 0.009141179652453731, 'subsample': 0.4873292546735819, 'n_estimators': 1838}. Best is trial 62 with value: 0.9532228563990239.\n",
      "[I 2024-10-21 15:51:38,464] Trial 65 finished with value: 0.9519335858421502 and parameters: {'max_depth': 9, 'learning_rate': 0.0076586982658432955, 'subsample': 0.46158841022879826, 'n_estimators': 1908}. Best is trial 62 with value: 0.9532228563990239.\n",
      "[I 2024-10-21 15:52:31,213] Trial 66 finished with value: 0.9526618419748192 and parameters: {'max_depth': 10, 'learning_rate': 0.008711722011393731, 'subsample': 0.4809082931299551, 'n_estimators': 1997}. Best is trial 62 with value: 0.9532228563990239.\n",
      "[I 2024-10-21 15:53:00,037] Trial 67 finished with value: 0.9523573654637058 and parameters: {'max_depth': 9, 'learning_rate': 0.009800548650155045, 'subsample': 0.3985770957594753, 'n_estimators': 1681}. Best is trial 62 with value: 0.9532228563990239.\n",
      "[I 2024-10-21 15:53:24,409] Trial 68 finished with value: 0.9527005430344312 and parameters: {'max_depth': 8, 'learning_rate': 0.008100110790703573, 'subsample': 0.49927421258128907, 'n_estimators': 1955}. Best is trial 62 with value: 0.9532228563990239.\n",
      "[I 2024-10-21 15:54:12,189] Trial 69 finished with value: 0.952558719650611 and parameters: {'max_depth': 10, 'learning_rate': 0.009077078643013567, 'subsample': 0.42942913425530366, 'n_estimators': 1870}. Best is trial 62 with value: 0.9532228563990239.\n",
      "[I 2024-10-21 15:54:43,159] Trial 70 finished with value: 0.9517182847835282 and parameters: {'max_depth': 9, 'learning_rate': 0.007890797437521213, 'subsample': 0.4716652392336051, 'n_estimators': 1809}. Best is trial 62 with value: 0.9532228563990239.\n",
      "[I 2024-10-21 15:55:07,998] Trial 71 finished with value: 0.9526824905900879 and parameters: {'max_depth': 8, 'learning_rate': 0.008116059273983615, 'subsample': 0.4983423815745893, 'n_estimators': 1953}. Best is trial 62 with value: 0.9532228563990239.\n",
      "[I 2024-10-21 15:55:32,286] Trial 72 finished with value: 0.9529796615969687 and parameters: {'max_depth': 8, 'learning_rate': 0.008421244270695868, 'subsample': 0.48705565097446285, 'n_estimators': 1902}. Best is trial 62 with value: 0.9532228563990239.\n",
      "[I 2024-10-21 15:56:06,584] Trial 73 finished with value: 0.952592711376916 and parameters: {'max_depth': 9, 'learning_rate': 0.008484476098761655, 'subsample': 0.4497409546972253, 'n_estimators': 1897}. Best is trial 62 with value: 0.9532228563990239.\n",
      "[I 2024-10-21 15:56:27,508] Trial 74 finished with value: 0.9523446864894178 and parameters: {'max_depth': 8, 'learning_rate': 0.009299961458351257, 'subsample': 0.36838986188889733, 'n_estimators': 1743}. Best is trial 62 with value: 0.9532228563990239.\n",
      "[I 2024-10-21 15:57:42,139] Trial 75 finished with value: 0.9500537769638011 and parameters: {'max_depth': 11, 'learning_rate': 0.008885930288628992, 'subsample': 0.4859146503787455, 'n_estimators': 1821}. Best is trial 62 with value: 0.9532228563990239.\n",
      "[I 2024-10-21 15:58:05,136] Trial 76 finished with value: 0.9542196049062559 and parameters: {'max_depth': 8, 'learning_rate': 0.009763905648191157, 'subsample': 0.4581861387750241, 'n_estimators': 1904}. Best is trial 76 with value: 0.9542196049062559.\n",
      "[I 2024-10-21 15:58:27,601] Trial 77 finished with value: 0.9536660167384197 and parameters: {'max_depth': 8, 'learning_rate': 0.009719252705584006, 'subsample': 0.43886864101195844, 'n_estimators': 1909}. Best is trial 76 with value: 0.9542196049062559.\n",
      "[I 2024-10-21 15:58:51,089] Trial 78 finished with value: 0.9537524148917813 and parameters: {'max_depth': 8, 'learning_rate': 0.00981605926889201, 'subsample': 0.42310336470318316, 'n_estimators': 1921}. Best is trial 76 with value: 0.9542196049062559.\n",
      "[I 2024-10-21 15:59:10,170] Trial 79 finished with value: 0.9537423320884191 and parameters: {'max_depth': 7, 'learning_rate': 0.009833252843053848, 'subsample': 0.43304785485812614, 'n_estimators': 1918}. Best is trial 76 with value: 0.9542196049062559.\n",
      "[I 2024-10-21 15:59:28,804] Trial 80 finished with value: 0.9539128944806251 and parameters: {'max_depth': 7, 'learning_rate': 0.009796353021706453, 'subsample': 0.43261040952460517, 'n_estimators': 1910}. Best is trial 76 with value: 0.9542196049062559.\n",
      "[I 2024-10-21 15:59:48,647] Trial 81 finished with value: 0.953814722993996 and parameters: {'max_depth': 7, 'learning_rate': 0.009802122908511197, 'subsample': 0.4344197326611789, 'n_estimators': 1930}. Best is trial 76 with value: 0.9542196049062559.\n",
      "[I 2024-10-21 16:00:08,051] Trial 82 finished with value: 0.9539970587194694 and parameters: {'max_depth': 7, 'learning_rate': 0.009771019829979771, 'subsample': 0.4360518017099326, 'n_estimators': 1948}. Best is trial 76 with value: 0.9542196049062559.\n",
      "[I 2024-10-21 16:00:26,942] Trial 83 finished with value: 0.9537067705843449 and parameters: {'max_depth': 7, 'learning_rate': 0.009982454977318976, 'subsample': 0.43819142652674614, 'n_estimators': 1845}. Best is trial 76 with value: 0.9542196049062559.\n",
      "[I 2024-10-21 16:00:46,441] Trial 84 finished with value: 0.9539816628221199 and parameters: {'max_depth': 7, 'learning_rate': 0.009814582633579982, 'subsample': 0.43783767673390805, 'n_estimators': 1937}. Best is trial 76 with value: 0.9542196049062559.\n",
      "[I 2024-10-21 16:01:05,533] Trial 85 finished with value: 0.9539465239505219 and parameters: {'max_depth': 7, 'learning_rate': 0.009822464833472745, 'subsample': 0.438283924813467, 'n_estimators': 1940}. Best is trial 76 with value: 0.9542196049062559.\n",
      "[I 2024-10-21 16:01:25,095] Trial 86 finished with value: 0.9540094961894852 and parameters: {'max_depth': 7, 'learning_rate': 0.009999593473265936, 'subsample': 0.39796027838490894, 'n_estimators': 1947}. Best is trial 76 with value: 0.9542196049062559.\n",
      "[I 2024-10-21 16:01:41,583] Trial 87 finished with value: 0.9531009571176563 and parameters: {'max_depth': 6, 'learning_rate': 0.009810087659465878, 'subsample': 0.41262239932324263, 'n_estimators': 1959}. Best is trial 76 with value: 0.9542196049062559.\n",
      "[I 2024-10-21 16:02:00,821] Trial 88 finished with value: 0.9537291701055869 and parameters: {'max_depth': 7, 'learning_rate': 0.009994276581688721, 'subsample': 0.39807140083068776, 'n_estimators': 1928}. Best is trial 76 with value: 0.9542196049062559.\n",
      "[I 2024-10-21 16:02:19,549] Trial 89 finished with value: 0.9537325511653969 and parameters: {'max_depth': 7, 'learning_rate': 0.009748475328328147, 'subsample': 0.38659638185778544, 'n_estimators': 1963}. Best is trial 76 with value: 0.9542196049062559.\n",
      "[I 2024-10-21 16:02:37,376] Trial 90 finished with value: 0.9525354748644166 and parameters: {'max_depth': 7, 'learning_rate': 0.009421371158651293, 'subsample': 0.4216492355993273, 'n_estimators': 1790}. Best is trial 76 with value: 0.9542196049062559.\n",
      "[I 2024-10-21 16:02:56,810] Trial 91 finished with value: 0.9538991891131806 and parameters: {'max_depth': 7, 'learning_rate': 0.009794168284394734, 'subsample': 0.3588540942061093, 'n_estimators': 1965}. Best is trial 76 with value: 0.9542196049062559.\n",
      "[I 2024-10-21 16:03:12,359] Trial 92 finished with value: 0.9518846812270398 and parameters: {'max_depth': 6, 'learning_rate': 0.009556827880742181, 'subsample': 0.36214232856167305, 'n_estimators': 1885}. Best is trial 76 with value: 0.9542196049062559.\n",
      "[I 2024-10-21 16:03:31,250] Trial 93 finished with value: 0.9530353887077674 and parameters: {'max_depth': 7, 'learning_rate': 0.009806503243667926, 'subsample': 0.32120588409088746, 'n_estimators': 1937}. Best is trial 76 with value: 0.9542196049062559.\n",
      "[I 2024-10-21 16:03:48,061] Trial 94 finished with value: 0.9521183366103452 and parameters: {'max_depth': 6, 'learning_rate': 0.00948001018845711, 'subsample': 0.40566497428551596, 'n_estimators': 1924}. Best is trial 76 with value: 0.9542196049062559.\n",
      "[I 2024-10-21 16:04:08,234] Trial 95 finished with value: 0.9540133602578398 and parameters: {'max_depth': 7, 'learning_rate': 0.009962652346146263, 'subsample': 0.43146533475466675, 'n_estimators': 1972}. Best is trial 76 with value: 0.9542196049062559.\n",
      "[I 2024-10-21 16:04:27,694] Trial 96 finished with value: 0.95418440565859 and parameters: {'max_depth': 7, 'learning_rate': 0.009969633454087233, 'subsample': 0.42518859893666794, 'n_estimators': 1980}. Best is trial 76 with value: 0.9542196049062559.\n",
      "[I 2024-10-21 16:04:44,996] Trial 97 finished with value: 0.9526606948295264 and parameters: {'max_depth': 6, 'learning_rate': 0.009600226010025822, 'subsample': 0.38247625861720685, 'n_estimators': 1985}. Best is trial 76 with value: 0.9542196049062559.\n",
      "[I 2024-10-21 16:05:01,255] Trial 98 finished with value: 0.9522736238573376 and parameters: {'max_depth': 6, 'learning_rate': 0.009331265113854162, 'subsample': 0.34803459473157244, 'n_estimators': 1967}. Best is trial 76 with value: 0.9542196049062559.\n",
      "[I 2024-10-21 16:05:16,026] Trial 99 finished with value: 0.9503459367570348 and parameters: {'max_depth': 5, 'learning_rate': 0.009967516628323212, 'subsample': 0.39442266439477114, 'n_estimators': 1879}. Best is trial 76 with value: 0.9542196049062559.\n"
     ]
    }
   ],
   "source": [
    "def objective(trial):\n",
    "    params= {\n",
    "        \"max_depth\": trial.suggest_int(\"max_depth\", 2, 15),\n",
    "        \"learning_rate\": trial.suggest_float(\"learning_rate\", 0.001, 0.01),\n",
    "#         \"min_child_weight\": trial.suggest_int(\"min_child_weight\", 0, 15),\n",
    "        \"subsample\": trial.suggest_float(\"subsample\", 0.1, 0.5),\n",
    "#         \"colsample_bytree\": trial.suggest_float(\"colsample_bytree\", 0.0, 1.0),\n",
    "#         \"colsample_bylevel\": trial.suggest_float(\"colsample_bytree\", 0.0, 1.0),\n",
    "#         \"colsample_bynode\": trial.suggest_float(\"colsample_bytree\", 0.0, 1.0),\n",
    "        \"n_estimators\":trial.suggest_int(\"n_estimators\", 500, 2000)\n",
    "    }\n",
    "    model = make_pipeline(\n",
    "            OneHotEncoder(use_cat_names=True),\n",
    "            MinMaxScaler(),\n",
    "            CatBoostClassifier(**params, random_state=42, verbose=0)\n",
    "        )\n",
    "    model.fit(X_train, y_train)\n",
    "    predict = model.predict_proba(X_test)[:, 1]\n",
    "    score = roc_auc_score(y_test, predict)\n",
    "    return score\n",
    "study = optuna.create_study(study_name=\"XGB\", direction=\"maximize\")\n",
    "study.optimize(objective, n_trials=100, show_progress_bar=True)"
   ]
  },
  {
   "cell_type": "code",
   "execution_count": 22,
   "id": "1724b8a1",
   "metadata": {
    "execution": {
     "iopub.execute_input": "2024-10-21T16:05:16.110501Z",
     "iopub.status.busy": "2024-10-21T16:05:16.109886Z",
     "iopub.status.idle": "2024-10-21T16:58:27.186719Z",
     "shell.execute_reply": "2024-10-21T16:58:27.185728Z"
    },
    "papermill": {
     "duration": 3191.105197,
     "end_time": "2024-10-21T16:58:27.189538",
     "exception": false,
     "start_time": "2024-10-21T16:05:16.084341",
     "status": "completed"
    },
    "scrolled": true,
    "tags": []
   },
   "outputs": [
    {
     "data": {
      "application/vnd.jupyter.widget-view+json": {
       "model_id": "958a500c5ab146ffa7f1f98fe1593598",
       "version_major": 2,
       "version_minor": 0
      },
      "text/plain": [
       "  0%|          | 0/100 [00:00<?, ?it/s]"
      ]
     },
     "metadata": {},
     "output_type": "display_data"
    },
    {
     "name": "stdout",
     "output_type": "stream",
     "text": [
      "[I 2024-10-21 16:05:34,963] Trial 100 finished with value: 0.9522085988320612 and parameters: {'max_depth': 7, 'learning_rate': 0.009027011349021561, 'subsample': 0.26008146792960407, 'n_estimators': 1967}. Best is trial 76 with value: 0.9542196049062559.\n",
      "[I 2024-10-21 16:05:54,111] Trial 101 finished with value: 0.9530096081267153 and parameters: {'max_depth': 7, 'learning_rate': 0.009696179855010941, 'subsample': 0.42388203715824013, 'n_estimators': 1844}. Best is trial 76 with value: 0.9542196049062559.\n",
      "[I 2024-10-21 16:06:13,110] Trial 102 finished with value: 0.9532368032707406 and parameters: {'max_depth': 7, 'learning_rate': 0.009541788371717564, 'subsample': 0.4121919183751823, 'n_estimators': 1887}. Best is trial 76 with value: 0.9542196049062559.\n",
      "[I 2024-10-21 16:06:37,479] Trial 103 finished with value: 0.9544857426141654 and parameters: {'max_depth': 8, 'learning_rate': 0.009991208730478618, 'subsample': 0.44516494732036377, 'n_estimators': 1943}. Best is trial 103 with value: 0.9544857426141654.\n",
      "[I 2024-10-21 16:06:57,438] Trial 104 finished with value: 0.9541595307185585 and parameters: {'max_depth': 7, 'learning_rate': 0.009956677442703784, 'subsample': 0.4461958880627041, 'n_estimators': 1947}. Best is trial 103 with value: 0.9544857426141654.\n",
      "[I 2024-10-21 16:07:15,224] Trial 105 finished with value: 0.9534999825513164 and parameters: {'max_depth': 6, 'learning_rate': 0.009993706128141586, 'subsample': 0.44352734794051046, 'n_estimators': 1999}. Best is trial 103 with value: 0.9544857426141654.\n",
      "[I 2024-10-21 16:07:24,502] Trial 106 finished with value: 0.9453043539476953 and parameters: {'max_depth': 8, 'learning_rate': 0.00920758084392478, 'subsample': 0.44852853154447814, 'n_estimators': 724}. Best is trial 103 with value: 0.9544857426141654.\n",
      "[I 2024-10-21 16:07:42,420] Trial 107 finished with value: 0.9527032599574928 and parameters: {'max_depth': 7, 'learning_rate': 0.009468248490179049, 'subsample': 0.4145352128975461, 'n_estimators': 1805}. Best is trial 103 with value: 0.9544857426141654.\n",
      "[I 2024-10-21 16:08:02,198] Trial 108 finished with value: 0.953599120055034 and parameters: {'max_depth': 7, 'learning_rate': 0.009349536563487904, 'subsample': 0.40201215245345234, 'n_estimators': 1968}. Best is trial 103 with value: 0.9544857426141654.\n",
      "[I 2024-10-21 16:08:18,295] Trial 109 finished with value: 0.9523567013269573 and parameters: {'max_depth': 6, 'learning_rate': 0.009634972246109142, 'subsample': 0.4283791697383377, 'n_estimators': 1860}. Best is trial 103 with value: 0.9544857426141654.\n",
      "[I 2024-10-21 16:08:42,682] Trial 110 finished with value: 0.945771966594646 and parameters: {'max_depth': 8, 'learning_rate': 0.003604461277486282, 'subsample': 0.4526050520283126, 'n_estimators': 1942}. Best is trial 103 with value: 0.9544857426141654.\n",
      "[I 2024-10-21 16:09:02,332] Trial 111 finished with value: 0.9539603500701026 and parameters: {'max_depth': 7, 'learning_rate': 0.009820917002330117, 'subsample': 0.43582145666674144, 'n_estimators': 1938}. Best is trial 103 with value: 0.9544857426141654.\n",
      "[I 2024-10-21 16:09:21,311] Trial 112 finished with value: 0.9540365446679661 and parameters: {'max_depth': 7, 'learning_rate': 0.009990061855101316, 'subsample': 0.4381054059479962, 'n_estimators': 1887}. Best is trial 103 with value: 0.9544857426141654.\n",
      "[I 2024-10-21 16:09:45,016] Trial 113 finished with value: 0.9543183197774973 and parameters: {'max_depth': 8, 'learning_rate': 0.00999197779635625, 'subsample': 0.44264511864611, 'n_estimators': 1892}. Best is trial 103 with value: 0.9544857426141654.\n",
      "[I 2024-10-21 16:10:08,645] Trial 114 finished with value: 0.9542169483592622 and parameters: {'max_depth': 8, 'learning_rate': 0.009978556479245818, 'subsample': 0.4641550577203294, 'n_estimators': 1879}. Best is trial 103 with value: 0.9544857426141654.\n",
      "[I 2024-10-21 16:10:31,627] Trial 115 finished with value: 0.9534872432009605 and parameters: {'max_depth': 8, 'learning_rate': 0.00954737550730445, 'subsample': 0.46060423246666954, 'n_estimators': 1833}. Best is trial 103 with value: 0.9544857426141654.\n",
      "[I 2024-10-21 16:10:54,707] Trial 116 finished with value: 0.954240857282205 and parameters: {'max_depth': 8, 'learning_rate': 0.00993983411973035, 'subsample': 0.4663218641326597, 'n_estimators': 1884}. Best is trial 103 with value: 0.9544857426141654.\n",
      "[I 2024-10-21 16:11:17,968] Trial 117 finished with value: 0.9543585302388102 and parameters: {'max_depth': 8, 'learning_rate': 0.00999442135233621, 'subsample': 0.4668498631726778, 'n_estimators': 1884}. Best is trial 103 with value: 0.9544857426141654.\n",
      "[I 2024-10-21 16:11:39,926] Trial 118 finished with value: 0.953571709320145 and parameters: {'max_depth': 8, 'learning_rate': 0.009984995521946758, 'subsample': 0.4538364276769563, 'n_estimators': 1782}. Best is trial 103 with value: 0.9544857426141654.\n",
      "[I 2024-10-21 16:12:02,832] Trial 119 finished with value: 0.9533530272017129 and parameters: {'max_depth': 8, 'learning_rate': 0.009037415506228243, 'subsample': 0.4750063925613317, 'n_estimators': 1875}. Best is trial 103 with value: 0.9544857426141654.\n",
      "[I 2024-10-21 16:12:24,012] Trial 120 finished with value: 0.9524485937025104 and parameters: {'max_depth': 8, 'learning_rate': 0.009220920358766115, 'subsample': 0.46745709063440416, 'n_estimators': 1724}. Best is trial 103 with value: 0.9544857426141654.\n",
      "[I 2024-10-21 16:12:47,453] Trial 121 finished with value: 0.9539764704802687 and parameters: {'max_depth': 8, 'learning_rate': 0.009620216675649027, 'subsample': 0.44396374103876535, 'n_estimators': 1890}. Best is trial 103 with value: 0.9544857426141654.\n",
      "[I 2024-10-21 16:13:10,375] Trial 122 finished with value: 0.9541792133167388 and parameters: {'max_depth': 8, 'learning_rate': 0.009997843268375052, 'subsample': 0.46406908568409283, 'n_estimators': 1822}. Best is trial 103 with value: 0.9544857426141654.\n",
      "[I 2024-10-21 16:13:32,880] Trial 123 finished with value: 0.9535688112688792 and parameters: {'max_depth': 8, 'learning_rate': 0.00939613915184883, 'subsample': 0.45965710752301175, 'n_estimators': 1838}. Best is trial 103 with value: 0.9544857426141654.\n",
      "[I 2024-10-21 16:14:04,951] Trial 124 finished with value: 0.9537353888405946 and parameters: {'max_depth': 9, 'learning_rate': 0.009954321096778993, 'subsample': 0.4693478311463679, 'n_estimators': 1798}. Best is trial 103 with value: 0.9544857426141654.\n",
      "[I 2024-10-21 16:14:26,798] Trial 125 finished with value: 0.9534295840559848 and parameters: {'max_depth': 8, 'learning_rate': 0.009989561374102156, 'subsample': 0.45285904882770467, 'n_estimators': 1758}. Best is trial 103 with value: 0.9544857426141654.\n",
      "[I 2024-10-21 16:14:59,655] Trial 126 finished with value: 0.9430868617208122 and parameters: {'max_depth': 9, 'learning_rate': 0.002423870180105937, 'subsample': 0.46431214159808026, 'n_estimators': 1893}. Best is trial 103 with value: 0.9544857426141654.\n",
      "[I 2024-10-21 16:15:12,681] Trial 127 finished with value: 0.9485111684254415 and parameters: {'max_depth': 8, 'learning_rate': 0.009547927968181612, 'subsample': 0.4463191641506596, 'n_estimators': 1077}. Best is trial 103 with value: 0.9544857426141654.\n",
      "[I 2024-10-21 16:15:37,029] Trial 128 finished with value: 0.954543039502733 and parameters: {'max_depth': 8, 'learning_rate': 0.009692135310668912, 'subsample': 0.47746639232517724, 'n_estimators': 1999}. Best is trial 128 with value: 0.954543039502733.\n",
      "[I 2024-10-21 16:16:00,407] Trial 129 finished with value: 0.9505614189438607 and parameters: {'max_depth': 9, 'learning_rate': 0.00963423257929663, 'subsample': 0.4772183117002289, 'n_estimators': 1358}. Best is trial 128 with value: 0.954543039502733.\n",
      "[I 2024-10-21 16:16:24,421] Trial 130 finished with value: 0.9541105657273802 and parameters: {'max_depth': 8, 'learning_rate': 0.00925802392259888, 'subsample': 0.47478795715218935, 'n_estimators': 1992}. Best is trial 128 with value: 0.954543039502733.\n",
      "[I 2024-10-21 16:16:48,798] Trial 131 finished with value: 0.9540463255909881 and parameters: {'max_depth': 8, 'learning_rate': 0.009332639801780188, 'subsample': 0.47551947685846735, 'n_estimators': 1984}. Best is trial 128 with value: 0.954543039502733.\n",
      "[I 2024-10-21 16:17:14,476] Trial 132 finished with value: 0.9544998706140861 and parameters: {'max_depth': 8, 'learning_rate': 0.009337915514337197, 'subsample': 0.47549997185910625, 'n_estimators': 2000}. Best is trial 128 with value: 0.954543039502733.\n",
      "[I 2024-10-21 16:17:40,805] Trial 133 finished with value: 0.9537701050797163 and parameters: {'max_depth': 8, 'learning_rate': 0.009261300611736157, 'subsample': 0.4765055756710247, 'n_estimators': 1994}. Best is trial 128 with value: 0.954543039502733.\n",
      "[I 2024-10-21 16:18:16,157] Trial 134 finished with value: 0.95320667561279 and parameters: {'max_depth': 9, 'learning_rate': 0.008940939183474847, 'subsample': 0.4692768156760776, 'n_estimators': 1907}. Best is trial 128 with value: 0.954543039502733.\n",
      "[I 2024-10-21 16:18:40,330] Trial 135 finished with value: 0.953803010036797 and parameters: {'max_depth': 8, 'learning_rate': 0.00941892011977014, 'subsample': 0.4903300481829833, 'n_estimators': 1853}. Best is trial 128 with value: 0.954543039502733.\n",
      "[I 2024-10-21 16:19:05,541] Trial 136 finished with value: 0.9538504656262741 and parameters: {'max_depth': 8, 'learning_rate': 0.00909738932879706, 'subsample': 0.481106719821836, 'n_estimators': 1984}. Best is trial 128 with value: 0.954543039502733.\n",
      "[I 2024-10-21 16:19:29,180] Trial 137 finished with value: 0.9530455922632658 and parameters: {'max_depth': 8, 'learning_rate': 0.008718246915146692, 'subsample': 0.45983530078117135, 'n_estimators': 1906}. Best is trial 128 with value: 0.954543039502733.\n",
      "[I 2024-10-21 16:20:04,845] Trial 138 finished with value: 0.9538156890110847 and parameters: {'max_depth': 9, 'learning_rate': 0.00967266035683379, 'subsample': 0.47322871419369994, 'n_estimators': 1994}. Best is trial 128 with value: 0.954543039502733.\n",
      "[I 2024-10-21 16:30:44,948] Trial 139 finished with value: 0.9425047156727941 and parameters: {'max_depth': 14, 'learning_rate': 0.00942793422418841, 'subsample': 0.45522087557696844, 'n_estimators': 1867}. Best is trial 128 with value: 0.954543039502733.\n",
      "[I 2024-10-21 16:31:08,459] Trial 140 finished with value: 0.9536337759180875 and parameters: {'max_depth': 8, 'learning_rate': 0.009669757954817473, 'subsample': 0.4653533270644455, 'n_estimators': 1819}. Best is trial 128 with value: 0.954543039502733.\n",
      "[I 2024-10-21 16:31:33,346] Trial 141 finished with value: 0.9546287735193463 and parameters: {'max_depth': 8, 'learning_rate': 0.009880265726178398, 'subsample': 0.4900088090869009, 'n_estimators': 1968}. Best is trial 141 with value: 0.9546287735193463.\n",
      "[I 2024-10-21 16:32:08,774] Trial 142 finished with value: 0.9543137915723945 and parameters: {'max_depth': 9, 'learning_rate': 0.009699246255935165, 'subsample': 0.48878029012393587, 'n_estimators': 1998}. Best is trial 141 with value: 0.9546287735193463.\n",
      "[I 2024-10-21 16:32:44,678] Trial 143 finished with value: 0.9538659218996919 and parameters: {'max_depth': 9, 'learning_rate': 0.009709058064931534, 'subsample': 0.49197095175756433, 'n_estimators': 1963}. Best is trial 141 with value: 0.9546287735193463.\n",
      "[I 2024-10-21 16:33:19,232] Trial 144 finished with value: 0.953740520806378 and parameters: {'max_depth': 9, 'learning_rate': 0.009300299770348689, 'subsample': 0.4870587125414336, 'n_estimators': 1919}. Best is trial 141 with value: 0.9546287735193463.\n",
      "[I 2024-10-21 16:33:55,177] Trial 145 finished with value: 0.9541765567697451 and parameters: {'max_depth': 9, 'learning_rate': 0.009510574669176607, 'subsample': 0.48075971172765136, 'n_estimators': 1995}. Best is trial 141 with value: 0.9546287735193463.\n",
      "[I 2024-10-21 16:34:31,074] Trial 146 finished with value: 0.9542941693502822 and parameters: {'max_depth': 9, 'learning_rate': 0.009537244290486418, 'subsample': 0.48070533180944747, 'n_estimators': 1997}. Best is trial 141 with value: 0.9546287735193463.\n",
      "[I 2024-10-21 16:35:03,659] Trial 147 finished with value: 0.9466501365042521 and parameters: {'max_depth': 9, 'learning_rate': 0.0043371531462211505, 'subsample': 0.1938029432799689, 'n_estimators': 1957}. Best is trial 141 with value: 0.9546287735193463.\n",
      "[I 2024-10-21 16:35:17,862] Trial 148 finished with value: 0.9442635912868639 and parameters: {'max_depth': 10, 'learning_rate': 0.00954267575846344, 'subsample': 0.48227977718995413, 'n_estimators': 506}. Best is trial 141 with value: 0.9546287735193463.\n",
      "[I 2024-10-21 16:35:52,703] Trial 149 finished with value: 0.9540117904800706 and parameters: {'max_depth': 9, 'learning_rate': 0.009809616595652127, 'subsample': 0.492535567503235, 'n_estimators': 1921}. Best is trial 141 with value: 0.9546287735193463.\n",
      "[I 2024-10-21 16:36:27,485] Trial 150 finished with value: 0.9540377521893268 and parameters: {'max_depth': 9, 'learning_rate': 0.009681576433452507, 'subsample': 0.48350756535231487, 'n_estimators': 1946}. Best is trial 141 with value: 0.9546287735193463.\n",
      "[I 2024-10-21 16:36:52,592] Trial 151 finished with value: 0.9542732792307413 and parameters: {'max_depth': 8, 'learning_rate': 0.009468307708443096, 'subsample': 0.4548483340782314, 'n_estimators': 1994}. Best is trial 141 with value: 0.9546287735193463.\n",
      "[I 2024-10-21 16:37:08,206] Trial 152 finished with value: 0.949275469070729 and parameters: {'max_depth': 8, 'learning_rate': 0.009508986434708808, 'subsample': 0.46305592373899845, 'n_estimators': 1226}. Best is trial 141 with value: 0.9546287735193463.\n",
      "[I 2024-10-21 16:37:44,487] Trial 153 finished with value: 0.9541620061373481 and parameters: {'max_depth': 9, 'learning_rate': 0.00980477379875433, 'subsample': 0.4512442199182422, 'n_estimators': 1995}. Best is trial 141 with value: 0.9546287735193463.\n",
      "[I 2024-10-21 16:38:39,519] Trial 154 finished with value: 0.9528316798542085 and parameters: {'max_depth': 10, 'learning_rate': 0.009749437750897674, 'subsample': 0.4686206998895539, 'n_estimators': 1997}. Best is trial 141 with value: 0.9546287735193463.\n",
      "[I 2024-10-21 16:39:16,588] Trial 155 finished with value: 0.954120044770062 and parameters: {'max_depth': 9, 'learning_rate': 0.009467340220868597, 'subsample': 0.45478976279735905, 'n_estimators': 1999}. Best is trial 141 with value: 0.9546287735193463.\n",
      "[I 2024-10-21 16:39:53,503] Trial 156 finished with value: 0.9537747540369552 and parameters: {'max_depth': 9, 'learning_rate': 0.00976668672734486, 'subsample': 0.4998642725809306, 'n_estimators': 1967}. Best is trial 141 with value: 0.9546287735193463.\n",
      "[I 2024-10-21 16:40:19,100] Trial 157 finished with value: 0.9541041054880999 and parameters: {'max_depth': 8, 'learning_rate': 0.009843202962688669, 'subsample': 0.4807432927370676, 'n_estimators': 1923}. Best is trial 141 with value: 0.9546287735193463.\n",
      "[I 2024-10-21 16:40:57,069] Trial 158 finished with value: 0.9539206829934022 and parameters: {'max_depth': 9, 'learning_rate': 0.009087581472765806, 'subsample': 0.49097321870430394, 'n_estimators': 1971}. Best is trial 141 with value: 0.9546287735193463.\n",
      "[I 2024-10-21 16:41:22,852] Trial 159 finished with value: 0.9488544063722351 and parameters: {'max_depth': 8, 'learning_rate': 0.005776284396110888, 'subsample': 0.4631816417672035, 'n_estimators': 1896}. Best is trial 141 with value: 0.9546287735193463.\n",
      "[I 2024-10-21 16:41:51,808] Trial 160 finished with value: 0.9509708290612233 and parameters: {'max_depth': 9, 'learning_rate': 0.009603338411149466, 'subsample': 0.455594962994157, 'n_estimators': 1496}. Best is trial 141 with value: 0.9546287735193463.\n",
      "[I 2024-10-21 16:42:17,631] Trial 161 finished with value: 0.9542325857608839 and parameters: {'max_depth': 8, 'learning_rate': 0.009988105445029526, 'subsample': 0.44838500967011397, 'n_estimators': 1937}. Best is trial 141 with value: 0.9546287735193463.\n",
      "[I 2024-10-21 16:42:43,333] Trial 162 finished with value: 0.9543311798799893 and parameters: {'max_depth': 8, 'learning_rate': 0.009847438319394851, 'subsample': 0.4479723293670089, 'n_estimators': 1930}. Best is trial 141 with value: 0.9546287735193463.\n",
      "[I 2024-10-21 16:43:09,098] Trial 163 finished with value: 0.9542756338973947 and parameters: {'max_depth': 8, 'learning_rate': 0.00997264555764118, 'subsample': 0.4662636653586025, 'n_estimators': 1930}. Best is trial 141 with value: 0.9546287735193463.\n",
      "[I 2024-10-21 16:43:35,007] Trial 164 finished with value: 0.9540948679496905 and parameters: {'max_depth': 8, 'learning_rate': 0.009869144410765945, 'subsample': 0.46808926354342356, 'n_estimators': 1867}. Best is trial 141 with value: 0.9546287735193463.\n",
      "[I 2024-10-21 16:44:00,801] Trial 165 finished with value: 0.954073313693401 and parameters: {'max_depth': 8, 'learning_rate': 0.009980245220395294, 'subsample': 0.4441055483168205, 'n_estimators': 1918}. Best is trial 141 with value: 0.9546287735193463.\n",
      "[I 2024-10-21 16:44:27,036] Trial 166 finished with value: 0.954478437109933 and parameters: {'max_depth': 8, 'learning_rate': 0.009993364436550621, 'subsample': 0.4623988138448095, 'n_estimators': 1943}. Best is trial 141 with value: 0.9546287735193463.\n",
      "[I 2024-10-21 16:44:54,169] Trial 167 finished with value: 0.93305670628987 and parameters: {'max_depth': 8, 'learning_rate': 0.0010281577106452137, 'subsample': 0.4727245948909875, 'n_estimators': 1943}. Best is trial 141 with value: 0.9546287735193463.\n",
      "[I 2024-10-21 16:45:18,732] Trial 168 finished with value: 0.9538718387543598 and parameters: {'max_depth': 8, 'learning_rate': 0.009676489768968653, 'subsample': 0.45011207388032787, 'n_estimators': 1888}. Best is trial 141 with value: 0.9546287735193463.\n",
      "[I 2024-10-21 16:45:44,647] Trial 169 finished with value: 0.95436160941828 and parameters: {'max_depth': 8, 'learning_rate': 0.009683963526585971, 'subsample': 0.45905758891654624, 'n_estimators': 1951}. Best is trial 141 with value: 0.9546287735193463.\n",
      "[I 2024-10-21 16:46:10,123] Trial 170 finished with value: 0.9534905035086345 and parameters: {'max_depth': 8, 'learning_rate': 0.009433114914653883, 'subsample': 0.4557358970196409, 'n_estimators': 1936}. Best is trial 141 with value: 0.9546287735193463.\n",
      "[I 2024-10-21 16:46:35,930] Trial 171 finished with value: 0.9542542607693095 and parameters: {'max_depth': 8, 'learning_rate': 0.009680297580333279, 'subsample': 0.4444684756530906, 'n_estimators': 1954}. Best is trial 141 with value: 0.9546287735193463.\n",
      "[I 2024-10-21 16:47:00,928] Trial 172 finished with value: 0.9541496894194683 and parameters: {'max_depth': 8, 'learning_rate': 0.009649915229484808, 'subsample': 0.4600347682575081, 'n_estimators': 1954}. Best is trial 141 with value: 0.9546287735193463.\n",
      "[I 2024-10-21 16:47:25,493] Trial 173 finished with value: 0.954148964906652 and parameters: {'max_depth': 8, 'learning_rate': 0.009800200592180458, 'subsample': 0.4446329638852392, 'n_estimators': 1908}. Best is trial 141 with value: 0.9546287735193463.\n",
      "[I 2024-10-21 16:47:49,528] Trial 174 finished with value: 0.954216586102854 and parameters: {'max_depth': 8, 'learning_rate': 0.00964214322092431, 'subsample': 0.46950053397370023, 'n_estimators': 1868}. Best is trial 141 with value: 0.9546287735193463.\n",
      "[I 2024-10-21 16:48:14,801] Trial 175 finished with value: 0.9541621268894841 and parameters: {'max_depth': 8, 'learning_rate': 0.009227971716037947, 'subsample': 0.4762686630711837, 'n_estimators': 1961}. Best is trial 141 with value: 0.9546287735193463.\n",
      "[I 2024-10-21 16:48:39,849] Trial 176 finished with value: 0.9545534241864356 and parameters: {'max_depth': 8, 'learning_rate': 0.009842481405700454, 'subsample': 0.48446085392709043, 'n_estimators': 1922}. Best is trial 141 with value: 0.9546287735193463.\n",
      "[I 2024-10-21 16:49:04,450] Trial 177 finished with value: 0.9537152836099383 and parameters: {'max_depth': 8, 'learning_rate': 0.00941967216402025, 'subsample': 0.4886956190784569, 'n_estimators': 1923}. Best is trial 141 with value: 0.9546287735193463.\n",
      "[I 2024-10-21 16:49:29,405] Trial 178 finished with value: 0.9543718129737785 and parameters: {'max_depth': 8, 'learning_rate': 0.009823075362749045, 'subsample': 0.48303145358597693, 'n_estimators': 1962}. Best is trial 141 with value: 0.9546287735193463.\n",
      "[I 2024-10-21 16:49:54,573] Trial 179 finished with value: 0.9543402362901948 and parameters: {'max_depth': 8, 'learning_rate': 0.0095564161828292, 'subsample': 0.48608999002240505, 'n_estimators': 1968}. Best is trial 141 with value: 0.9546287735193463.\n",
      "[I 2024-10-21 16:50:05,477] Trial 180 finished with value: 0.9346569437851715 and parameters: {'max_depth': 2, 'learning_rate': 0.009526492888604242, 'subsample': 0.4909180486039477, 'n_estimators': 1950}. Best is trial 141 with value: 0.9546287735193463.\n",
      "[I 2024-10-21 16:50:30,577] Trial 181 finished with value: 0.9546736933139663 and parameters: {'max_depth': 8, 'learning_rate': 0.009797705464295531, 'subsample': 0.4802165331132943, 'n_estimators': 1969}. Best is trial 181 with value: 0.9546736933139663.\n",
      "[I 2024-10-21 16:50:55,595] Trial 182 finished with value: 0.9538623597116778 and parameters: {'max_depth': 8, 'learning_rate': 0.009743644063891502, 'subsample': 0.48330478706691027, 'n_estimators': 1968}. Best is trial 181 with value: 0.9546736933139663.\n",
      "[I 2024-10-21 16:51:20,207] Trial 183 finished with value: 0.9541203466504021 and parameters: {'max_depth': 8, 'learning_rate': 0.009341722892641005, 'subsample': 0.4939144734124967, 'n_estimators': 1970}. Best is trial 181 with value: 0.9546736933139663.\n",
      "[I 2024-10-21 16:51:36,394] Trial 184 finished with value: 0.9493292641473505 and parameters: {'max_depth': 8, 'learning_rate': 0.009606214454387937, 'subsample': 0.1523582643785806, 'n_estimators': 1447}. Best is trial 181 with value: 0.9546736933139663.\n",
      "[I 2024-10-21 16:52:01,628] Trial 185 finished with value: 0.9546713386473128 and parameters: {'max_depth': 8, 'learning_rate': 0.009810718852926286, 'subsample': 0.478023748230251, 'n_estimators': 2000}. Best is trial 181 with value: 0.9546736933139663.\n",
      "[I 2024-10-21 16:52:26,868] Trial 186 finished with value: 0.9545707521179622 and parameters: {'max_depth': 8, 'learning_rate': 0.009783555487962342, 'subsample': 0.4804452050332212, 'n_estimators': 1999}. Best is trial 181 with value: 0.9546736933139663.\n",
      "[I 2024-10-21 16:52:51,665] Trial 187 finished with value: 0.9537835689428888 and parameters: {'max_depth': 8, 'learning_rate': 0.009168392648650412, 'subsample': 0.48059335568122624, 'n_estimators': 1998}. Best is trial 181 with value: 0.9546736933139663.\n",
      "[I 2024-10-21 16:53:26,688] Trial 188 finished with value: 0.9500340943656207 and parameters: {'max_depth': 9, 'learning_rate': 0.006256268659595197, 'subsample': 0.4878565822716443, 'n_estimators': 1975}. Best is trial 181 with value: 0.9546736933139663.\n",
      "[I 2024-10-21 16:53:50,999] Trial 189 finished with value: 0.9546269018612372 and parameters: {'max_depth': 8, 'learning_rate': 0.009804161875655972, 'subsample': 0.4998061006721758, 'n_estimators': 1931}. Best is trial 181 with value: 0.9546736933139663.\n",
      "[I 2024-10-21 16:54:25,316] Trial 190 finished with value: 0.9543759185464052 and parameters: {'max_depth': 9, 'learning_rate': 0.009877410264319554, 'subsample': 0.49715368253869363, 'n_estimators': 1915}. Best is trial 181 with value: 0.9546736933139663.\n",
      "[I 2024-10-21 16:55:00,069] Trial 191 finished with value: 0.9540506122918186 and parameters: {'max_depth': 9, 'learning_rate': 0.009819177213034968, 'subsample': 0.49589335784023025, 'n_estimators': 1925}. Best is trial 181 with value: 0.9546736933139663.\n",
      "[I 2024-10-21 16:55:34,205] Trial 192 finished with value: 0.9541702776586691 and parameters: {'max_depth': 9, 'learning_rate': 0.00986255708212126, 'subsample': 0.4987875337237832, 'n_estimators': 1933}. Best is trial 181 with value: 0.9546736933139663.\n",
      "[I 2024-10-21 16:55:59,235] Trial 193 finished with value: 0.9544355701016263 and parameters: {'max_depth': 8, 'learning_rate': 0.009817974720753284, 'subsample': 0.4850205519098266, 'n_estimators': 1960}. Best is trial 181 with value: 0.9546736933139663.\n",
      "[I 2024-10-21 16:56:24,663] Trial 194 finished with value: 0.9547464464759515 and parameters: {'max_depth': 8, 'learning_rate': 0.00963498082735415, 'subsample': 0.4877725660668007, 'n_estimators': 1967}. Best is trial 194 with value: 0.9547464464759515.\n",
      "[I 2024-10-21 16:56:49,309] Trial 195 finished with value: 0.9543874503754003 and parameters: {'max_depth': 8, 'learning_rate': 0.009746586723122565, 'subsample': 0.4884541445929894, 'n_estimators': 1968}. Best is trial 194 with value: 0.9547464464759515.\n",
      "[I 2024-10-21 16:57:12,686] Trial 196 finished with value: 0.9543804467515079 and parameters: {'max_depth': 8, 'learning_rate': 0.00980427851593296, 'subsample': 0.4855594084198325, 'n_estimators': 1907}. Best is trial 194 with value: 0.9547464464759515.\n",
      "[I 2024-10-21 16:57:37,751] Trial 197 finished with value: 0.9543095652476319 and parameters: {'max_depth': 8, 'learning_rate': 0.009777137773319282, 'subsample': 0.4995094847388389, 'n_estimators': 1956}. Best is trial 194 with value: 0.9547464464759515.\n",
      "[I 2024-10-21 16:58:02,233] Trial 198 finished with value: 0.953997903984422 and parameters: {'max_depth': 8, 'learning_rate': 0.009619426477100767, 'subsample': 0.4858524456656054, 'n_estimators': 1906}. Best is trial 194 with value: 0.9547464464759515.\n",
      "[I 2024-10-21 16:58:27,179] Trial 199 finished with value: 0.954148904530584 and parameters: {'max_depth': 8, 'learning_rate': 0.009354153734626957, 'subsample': 0.47525251669333435, 'n_estimators': 1966}. Best is trial 194 with value: 0.9547464464759515.\n"
     ]
    }
   ],
   "source": [
    "study.optimize(objective, n_trials=100, show_progress_bar=True)"
   ]
  },
  {
   "cell_type": "code",
   "execution_count": 23,
   "id": "fefe415a",
   "metadata": {
    "execution": {
     "iopub.execute_input": "2024-10-21T16:58:27.260846Z",
     "iopub.status.busy": "2024-10-21T16:58:27.260448Z",
     "iopub.status.idle": "2024-10-21T16:58:27.267025Z",
     "shell.execute_reply": "2024-10-21T16:58:27.266104Z"
    },
    "papermill": {
     "duration": 0.044997,
     "end_time": "2024-10-21T16:58:27.269069",
     "exception": false,
     "start_time": "2024-10-21T16:58:27.224072",
     "status": "completed"
    },
    "tags": []
   },
   "outputs": [
    {
     "data": {
      "text/plain": [
       "{'max_depth': 8,\n",
       " 'learning_rate': 0.00963498082735415,\n",
       " 'subsample': 0.4877725660668007,\n",
       " 'n_estimators': 1967}"
      ]
     },
     "execution_count": 23,
     "metadata": {},
     "output_type": "execute_result"
    }
   ],
   "source": [
    "study.best_params"
   ]
  },
  {
   "cell_type": "markdown",
   "id": "2ae7e3e4",
   "metadata": {
    "papermill": {
     "duration": 0.033368,
     "end_time": "2024-10-21T16:58:27.336038",
     "exception": false,
     "start_time": "2024-10-21T16:58:27.302670",
     "status": "completed"
    },
    "tags": []
   },
   "source": [
    "## Moment of Truth."
   ]
  },
  {
   "cell_type": "code",
   "execution_count": 24,
   "id": "1a2d6d8d",
   "metadata": {
    "execution": {
     "iopub.execute_input": "2024-10-21T16:58:27.403120Z",
     "iopub.status.busy": "2024-10-21T16:58:27.402721Z",
     "iopub.status.idle": "2024-10-21T16:58:27.769692Z",
     "shell.execute_reply": "2024-10-21T16:58:27.768833Z"
    },
    "papermill": {
     "duration": 0.402913,
     "end_time": "2024-10-21T16:58:27.772077",
     "exception": false,
     "start_time": "2024-10-21T16:58:27.369164",
     "status": "completed"
    },
    "tags": []
   },
   "outputs": [],
   "source": [
    "test_filepath = \"/kaggle/input/playground-series-s4e10/test.csv\"\n",
    "df_test = wrangle(test_filepath)\n",
    "test_pred = lgbm.predict_proba(df_test)[:, 1]\n",
    "pd.DataFrame({\"loan_status\": test_pred}, index= df_test.index).to_csv(\"submission.csv\")"
   ]
  },
  {
   "cell_type": "code",
   "execution_count": null,
   "id": "d63c2c02",
   "metadata": {
    "papermill": {
     "duration": 0.033729,
     "end_time": "2024-10-21T16:58:27.838832",
     "exception": false,
     "start_time": "2024-10-21T16:58:27.805103",
     "status": "completed"
    },
    "tags": []
   },
   "outputs": [],
   "source": []
  }
 ],
 "metadata": {
  "kaggle": {
   "accelerator": "nvidiaTeslaT4",
   "dataSources": [
    {
     "databundleVersionId": 9709193,
     "sourceId": 84894,
     "sourceType": "competition"
    }
   ],
   "dockerImageVersionId": 30787,
   "isGpuEnabled": true,
   "isInternetEnabled": true,
   "language": "python",
   "sourceType": "notebook"
  },
  "kernelspec": {
   "display_name": "Python 3",
   "language": "python",
   "name": "python3"
  },
  "language_info": {
   "codemirror_mode": {
    "name": "ipython",
    "version": 3
   },
   "file_extension": ".py",
   "mimetype": "text/x-python",
   "name": "python",
   "nbconvert_exporter": "python",
   "pygments_lexer": "ipython3",
   "version": "3.10.14"
  },
  "papermill": {
   "default_parameters": {},
   "duration": 8350.81183,
   "end_time": "2024-10-21T16:58:28.794446",
   "environment_variables": {},
   "exception": null,
   "input_path": "__notebook__.ipynb",
   "output_path": "__notebook__.ipynb",
   "parameters": {},
   "start_time": "2024-10-21T14:39:17.982616",
   "version": "2.6.0"
  },
  "widgets": {
   "application/vnd.jupyter.widget-state+json": {
    "state": {
     "00f81689808d48ebbb9c59a9dec11d01": {
      "model_module": "@jupyter-widgets/base",
      "model_module_version": "1.2.0",
      "model_name": "LayoutModel",
      "state": {
       "_model_module": "@jupyter-widgets/base",
       "_model_module_version": "1.2.0",
       "_model_name": "LayoutModel",
       "_view_count": null,
       "_view_module": "@jupyter-widgets/base",
       "_view_module_version": "1.2.0",
       "_view_name": "LayoutView",
       "align_content": null,
       "align_items": null,
       "align_self": null,
       "border": null,
       "bottom": null,
       "display": null,
       "flex": null,
       "flex_flow": null,
       "grid_area": null,
       "grid_auto_columns": null,
       "grid_auto_flow": null,
       "grid_auto_rows": null,
       "grid_column": null,
       "grid_gap": null,
       "grid_row": null,
       "grid_template_areas": null,
       "grid_template_columns": null,
       "grid_template_rows": null,
       "height": null,
       "justify_content": null,
       "justify_items": null,
       "left": null,
       "margin": null,
       "max_height": null,
       "max_width": null,
       "min_height": null,
       "min_width": null,
       "object_fit": null,
       "object_position": null,
       "order": null,
       "overflow": null,
       "overflow_x": null,
       "overflow_y": null,
       "padding": null,
       "right": null,
       "top": null,
       "visibility": null,
       "width": null
      }
     },
     "2c9bcdac30ab4a98b996aedc9a75193e": {
      "model_module": "@jupyter-widgets/base",
      "model_module_version": "1.2.0",
      "model_name": "LayoutModel",
      "state": {
       "_model_module": "@jupyter-widgets/base",
       "_model_module_version": "1.2.0",
       "_model_name": "LayoutModel",
       "_view_count": null,
       "_view_module": "@jupyter-widgets/base",
       "_view_module_version": "1.2.0",
       "_view_name": "LayoutView",
       "align_content": null,
       "align_items": null,
       "align_self": null,
       "border": null,
       "bottom": null,
       "display": null,
       "flex": null,
       "flex_flow": null,
       "grid_area": null,
       "grid_auto_columns": null,
       "grid_auto_flow": null,
       "grid_auto_rows": null,
       "grid_column": null,
       "grid_gap": null,
       "grid_row": null,
       "grid_template_areas": null,
       "grid_template_columns": null,
       "grid_template_rows": null,
       "height": null,
       "justify_content": null,
       "justify_items": null,
       "left": null,
       "margin": null,
       "max_height": null,
       "max_width": null,
       "min_height": null,
       "min_width": null,
       "object_fit": null,
       "object_position": null,
       "order": null,
       "overflow": null,
       "overflow_x": null,
       "overflow_y": null,
       "padding": null,
       "right": null,
       "top": null,
       "visibility": null,
       "width": null
      }
     },
     "435be3b13f5047d1bdc784ab66bcb159": {
      "model_module": "@jupyter-widgets/base",
      "model_module_version": "1.2.0",
      "model_name": "LayoutModel",
      "state": {
       "_model_module": "@jupyter-widgets/base",
       "_model_module_version": "1.2.0",
       "_model_name": "LayoutModel",
       "_view_count": null,
       "_view_module": "@jupyter-widgets/base",
       "_view_module_version": "1.2.0",
       "_view_name": "LayoutView",
       "align_content": null,
       "align_items": null,
       "align_self": null,
       "border": null,
       "bottom": null,
       "display": null,
       "flex": null,
       "flex_flow": null,
       "grid_area": null,
       "grid_auto_columns": null,
       "grid_auto_flow": null,
       "grid_auto_rows": null,
       "grid_column": null,
       "grid_gap": null,
       "grid_row": null,
       "grid_template_areas": null,
       "grid_template_columns": null,
       "grid_template_rows": null,
       "height": null,
       "justify_content": null,
       "justify_items": null,
       "left": null,
       "margin": null,
       "max_height": null,
       "max_width": null,
       "min_height": null,
       "min_width": null,
       "object_fit": null,
       "object_position": null,
       "order": null,
       "overflow": null,
       "overflow_x": null,
       "overflow_y": null,
       "padding": null,
       "right": null,
       "top": null,
       "visibility": null,
       "width": null
      }
     },
     "443e570ffe5545abaf6878c0acf8f0c9": {
      "model_module": "@jupyter-widgets/base",
      "model_module_version": "1.2.0",
      "model_name": "LayoutModel",
      "state": {
       "_model_module": "@jupyter-widgets/base",
       "_model_module_version": "1.2.0",
       "_model_name": "LayoutModel",
       "_view_count": null,
       "_view_module": "@jupyter-widgets/base",
       "_view_module_version": "1.2.0",
       "_view_name": "LayoutView",
       "align_content": null,
       "align_items": null,
       "align_self": null,
       "border": null,
       "bottom": null,
       "display": null,
       "flex": null,
       "flex_flow": null,
       "grid_area": null,
       "grid_auto_columns": null,
       "grid_auto_flow": null,
       "grid_auto_rows": null,
       "grid_column": null,
       "grid_gap": null,
       "grid_row": null,
       "grid_template_areas": null,
       "grid_template_columns": null,
       "grid_template_rows": null,
       "height": null,
       "justify_content": null,
       "justify_items": null,
       "left": null,
       "margin": null,
       "max_height": null,
       "max_width": null,
       "min_height": null,
       "min_width": null,
       "object_fit": null,
       "object_position": null,
       "order": null,
       "overflow": null,
       "overflow_x": null,
       "overflow_y": null,
       "padding": null,
       "right": null,
       "top": null,
       "visibility": null,
       "width": null
      }
     },
     "463daea28b674cea9cdaa302bb9f0bd9": {
      "model_module": "@jupyter-widgets/base",
      "model_module_version": "1.2.0",
      "model_name": "LayoutModel",
      "state": {
       "_model_module": "@jupyter-widgets/base",
       "_model_module_version": "1.2.0",
       "_model_name": "LayoutModel",
       "_view_count": null,
       "_view_module": "@jupyter-widgets/base",
       "_view_module_version": "1.2.0",
       "_view_name": "LayoutView",
       "align_content": null,
       "align_items": null,
       "align_self": null,
       "border": null,
       "bottom": null,
       "display": null,
       "flex": null,
       "flex_flow": null,
       "grid_area": null,
       "grid_auto_columns": null,
       "grid_auto_flow": null,
       "grid_auto_rows": null,
       "grid_column": null,
       "grid_gap": null,
       "grid_row": null,
       "grid_template_areas": null,
       "grid_template_columns": null,
       "grid_template_rows": null,
       "height": null,
       "justify_content": null,
       "justify_items": null,
       "left": null,
       "margin": null,
       "max_height": null,
       "max_width": null,
       "min_height": null,
       "min_width": null,
       "object_fit": null,
       "object_position": null,
       "order": null,
       "overflow": null,
       "overflow_x": null,
       "overflow_y": null,
       "padding": null,
       "right": null,
       "top": null,
       "visibility": null,
       "width": null
      }
     },
     "473f3dfac3814addb87a0440c085cf89": {
      "model_module": "@jupyter-widgets/controls",
      "model_module_version": "1.5.0",
      "model_name": "FloatProgressModel",
      "state": {
       "_dom_classes": [],
       "_model_module": "@jupyter-widgets/controls",
       "_model_module_version": "1.5.0",
       "_model_name": "FloatProgressModel",
       "_view_count": null,
       "_view_module": "@jupyter-widgets/controls",
       "_view_module_version": "1.5.0",
       "_view_name": "ProgressView",
       "bar_style": "success",
       "description": "",
       "description_tooltip": null,
       "layout": "IPY_MODEL_443e570ffe5545abaf6878c0acf8f0c9",
       "max": 100.0,
       "min": 0.0,
       "orientation": "horizontal",
       "style": "IPY_MODEL_6730b25281984cac940f0b2d214c2256",
       "value": 100.0
      }
     },
     "5c87d6bfd2964fcba074f408b100c8a9": {
      "model_module": "@jupyter-widgets/controls",
      "model_module_version": "1.5.0",
      "model_name": "DescriptionStyleModel",
      "state": {
       "_model_module": "@jupyter-widgets/controls",
       "_model_module_version": "1.5.0",
       "_model_name": "DescriptionStyleModel",
       "_view_count": null,
       "_view_module": "@jupyter-widgets/base",
       "_view_module_version": "1.2.0",
       "_view_name": "StyleView",
       "description_width": ""
      }
     },
     "5fbc4aa2e07a482c98b7df77b811b68e": {
      "model_module": "@jupyter-widgets/controls",
      "model_module_version": "1.5.0",
      "model_name": "DescriptionStyleModel",
      "state": {
       "_model_module": "@jupyter-widgets/controls",
       "_model_module_version": "1.5.0",
       "_model_name": "DescriptionStyleModel",
       "_view_count": null,
       "_view_module": "@jupyter-widgets/base",
       "_view_module_version": "1.2.0",
       "_view_name": "StyleView",
       "description_width": ""
      }
     },
     "6730b25281984cac940f0b2d214c2256": {
      "model_module": "@jupyter-widgets/controls",
      "model_module_version": "1.5.0",
      "model_name": "ProgressStyleModel",
      "state": {
       "_model_module": "@jupyter-widgets/controls",
       "_model_module_version": "1.5.0",
       "_model_name": "ProgressStyleModel",
       "_view_count": null,
       "_view_module": "@jupyter-widgets/base",
       "_view_module_version": "1.2.0",
       "_view_name": "StyleView",
       "bar_color": null,
       "description_width": ""
      }
     },
     "7b09b14039ec4de4872456974b7cf53a": {
      "model_module": "@jupyter-widgets/controls",
      "model_module_version": "1.5.0",
      "model_name": "FloatProgressModel",
      "state": {
       "_dom_classes": [],
       "_model_module": "@jupyter-widgets/controls",
       "_model_module_version": "1.5.0",
       "_model_name": "FloatProgressModel",
       "_view_count": null,
       "_view_module": "@jupyter-widgets/controls",
       "_view_module_version": "1.5.0",
       "_view_name": "ProgressView",
       "bar_style": "success",
       "description": "",
       "description_tooltip": null,
       "layout": "IPY_MODEL_00f81689808d48ebbb9c59a9dec11d01",
       "max": 100.0,
       "min": 0.0,
       "orientation": "horizontal",
       "style": "IPY_MODEL_effc3d3cdd114c8f8ac0a7590b6bcb9c",
       "value": 100.0
      }
     },
     "8abea5fd7c9b4cd29a8a57e4b9570281": {
      "model_module": "@jupyter-widgets/controls",
      "model_module_version": "1.5.0",
      "model_name": "HTMLModel",
      "state": {
       "_dom_classes": [],
       "_model_module": "@jupyter-widgets/controls",
       "_model_module_version": "1.5.0",
       "_model_name": "HTMLModel",
       "_view_count": null,
       "_view_module": "@jupyter-widgets/controls",
       "_view_module_version": "1.5.0",
       "_view_name": "HTMLView",
       "description": "",
       "description_tooltip": null,
       "layout": "IPY_MODEL_933afabd246047e2844cc3d2f5b32422",
       "placeholder": "​",
       "style": "IPY_MODEL_5c87d6bfd2964fcba074f408b100c8a9",
       "value": " 100/100 [1:25:36&lt;00:00, 16.83s/it]"
      }
     },
     "8c757ed0e1a547f4a3446c34e84c9177": {
      "model_module": "@jupyter-widgets/controls",
      "model_module_version": "1.5.0",
      "model_name": "DescriptionStyleModel",
      "state": {
       "_model_module": "@jupyter-widgets/controls",
       "_model_module_version": "1.5.0",
       "_model_name": "DescriptionStyleModel",
       "_view_count": null,
       "_view_module": "@jupyter-widgets/base",
       "_view_module_version": "1.2.0",
       "_view_name": "StyleView",
       "description_width": ""
      }
     },
     "8e680a1bb04e46e98d0fac9227a2420d": {
      "model_module": "@jupyter-widgets/base",
      "model_module_version": "1.2.0",
      "model_name": "LayoutModel",
      "state": {
       "_model_module": "@jupyter-widgets/base",
       "_model_module_version": "1.2.0",
       "_model_name": "LayoutModel",
       "_view_count": null,
       "_view_module": "@jupyter-widgets/base",
       "_view_module_version": "1.2.0",
       "_view_name": "LayoutView",
       "align_content": null,
       "align_items": null,
       "align_self": null,
       "border": null,
       "bottom": null,
       "display": null,
       "flex": null,
       "flex_flow": null,
       "grid_area": null,
       "grid_auto_columns": null,
       "grid_auto_flow": null,
       "grid_auto_rows": null,
       "grid_column": null,
       "grid_gap": null,
       "grid_row": null,
       "grid_template_areas": null,
       "grid_template_columns": null,
       "grid_template_rows": null,
       "height": null,
       "justify_content": null,
       "justify_items": null,
       "left": null,
       "margin": null,
       "max_height": null,
       "max_width": null,
       "min_height": null,
       "min_width": null,
       "object_fit": null,
       "object_position": null,
       "order": null,
       "overflow": null,
       "overflow_x": null,
       "overflow_y": null,
       "padding": null,
       "right": null,
       "top": null,
       "visibility": null,
       "width": null
      }
     },
     "8f014e85cfee44078e56e41b67f723c0": {
      "model_module": "@jupyter-widgets/controls",
      "model_module_version": "1.5.0",
      "model_name": "HTMLModel",
      "state": {
       "_dom_classes": [],
       "_model_module": "@jupyter-widgets/controls",
       "_model_module_version": "1.5.0",
       "_model_name": "HTMLModel",
       "_view_count": null,
       "_view_module": "@jupyter-widgets/controls",
       "_view_module_version": "1.5.0",
       "_view_name": "HTMLView",
       "description": "",
       "description_tooltip": null,
       "layout": "IPY_MODEL_2c9bcdac30ab4a98b996aedc9a75193e",
       "placeholder": "​",
       "style": "IPY_MODEL_5fbc4aa2e07a482c98b7df77b811b68e",
       "value": " 100/100 [53:11&lt;00:00, 25.26s/it]"
      }
     },
     "933afabd246047e2844cc3d2f5b32422": {
      "model_module": "@jupyter-widgets/base",
      "model_module_version": "1.2.0",
      "model_name": "LayoutModel",
      "state": {
       "_model_module": "@jupyter-widgets/base",
       "_model_module_version": "1.2.0",
       "_model_name": "LayoutModel",
       "_view_count": null,
       "_view_module": "@jupyter-widgets/base",
       "_view_module_version": "1.2.0",
       "_view_name": "LayoutView",
       "align_content": null,
       "align_items": null,
       "align_self": null,
       "border": null,
       "bottom": null,
       "display": null,
       "flex": null,
       "flex_flow": null,
       "grid_area": null,
       "grid_auto_columns": null,
       "grid_auto_flow": null,
       "grid_auto_rows": null,
       "grid_column": null,
       "grid_gap": null,
       "grid_row": null,
       "grid_template_areas": null,
       "grid_template_columns": null,
       "grid_template_rows": null,
       "height": null,
       "justify_content": null,
       "justify_items": null,
       "left": null,
       "margin": null,
       "max_height": null,
       "max_width": null,
       "min_height": null,
       "min_width": null,
       "object_fit": null,
       "object_position": null,
       "order": null,
       "overflow": null,
       "overflow_x": null,
       "overflow_y": null,
       "padding": null,
       "right": null,
       "top": null,
       "visibility": null,
       "width": null
      }
     },
     "958a500c5ab146ffa7f1f98fe1593598": {
      "model_module": "@jupyter-widgets/controls",
      "model_module_version": "1.5.0",
      "model_name": "HBoxModel",
      "state": {
       "_dom_classes": [],
       "_model_module": "@jupyter-widgets/controls",
       "_model_module_version": "1.5.0",
       "_model_name": "HBoxModel",
       "_view_count": null,
       "_view_module": "@jupyter-widgets/controls",
       "_view_module_version": "1.5.0",
       "_view_name": "HBoxView",
       "box_style": "",
       "children": [
        "IPY_MODEL_bc70ae856fa44eaf99a0d17fac848ee8",
        "IPY_MODEL_7b09b14039ec4de4872456974b7cf53a",
        "IPY_MODEL_8f014e85cfee44078e56e41b67f723c0"
       ],
       "layout": "IPY_MODEL_e4002792fbb143c88977c1c382123ea4"
      }
     },
     "bc70ae856fa44eaf99a0d17fac848ee8": {
      "model_module": "@jupyter-widgets/controls",
      "model_module_version": "1.5.0",
      "model_name": "HTMLModel",
      "state": {
       "_dom_classes": [],
       "_model_module": "@jupyter-widgets/controls",
       "_model_module_version": "1.5.0",
       "_model_name": "HTMLModel",
       "_view_count": null,
       "_view_module": "@jupyter-widgets/controls",
       "_view_module_version": "1.5.0",
       "_view_name": "HTMLView",
       "description": "",
       "description_tooltip": null,
       "layout": "IPY_MODEL_463daea28b674cea9cdaa302bb9f0bd9",
       "placeholder": "​",
       "style": "IPY_MODEL_be88ff5827f140b5830bd90036e96a32",
       "value": "Best trial: 194. Best value: 0.954746: 100%"
      }
     },
     "be88ff5827f140b5830bd90036e96a32": {
      "model_module": "@jupyter-widgets/controls",
      "model_module_version": "1.5.0",
      "model_name": "DescriptionStyleModel",
      "state": {
       "_model_module": "@jupyter-widgets/controls",
       "_model_module_version": "1.5.0",
       "_model_name": "DescriptionStyleModel",
       "_view_count": null,
       "_view_module": "@jupyter-widgets/base",
       "_view_module_version": "1.2.0",
       "_view_name": "StyleView",
       "description_width": ""
      }
     },
     "c9c9e91429f145dca051709343c51297": {
      "model_module": "@jupyter-widgets/controls",
      "model_module_version": "1.5.0",
      "model_name": "HTMLModel",
      "state": {
       "_dom_classes": [],
       "_model_module": "@jupyter-widgets/controls",
       "_model_module_version": "1.5.0",
       "_model_name": "HTMLModel",
       "_view_count": null,
       "_view_module": "@jupyter-widgets/controls",
       "_view_module_version": "1.5.0",
       "_view_name": "HTMLView",
       "description": "",
       "description_tooltip": null,
       "layout": "IPY_MODEL_8e680a1bb04e46e98d0fac9227a2420d",
       "placeholder": "​",
       "style": "IPY_MODEL_8c757ed0e1a547f4a3446c34e84c9177",
       "value": "Best trial: 76. Best value: 0.95422: 100%"
      }
     },
     "d31a9c01a76a46c48011be32a7775340": {
      "model_module": "@jupyter-widgets/controls",
      "model_module_version": "1.5.0",
      "model_name": "HBoxModel",
      "state": {
       "_dom_classes": [],
       "_model_module": "@jupyter-widgets/controls",
       "_model_module_version": "1.5.0",
       "_model_name": "HBoxModel",
       "_view_count": null,
       "_view_module": "@jupyter-widgets/controls",
       "_view_module_version": "1.5.0",
       "_view_name": "HBoxView",
       "box_style": "",
       "children": [
        "IPY_MODEL_c9c9e91429f145dca051709343c51297",
        "IPY_MODEL_473f3dfac3814addb87a0440c085cf89",
        "IPY_MODEL_8abea5fd7c9b4cd29a8a57e4b9570281"
       ],
       "layout": "IPY_MODEL_435be3b13f5047d1bdc784ab66bcb159"
      }
     },
     "e4002792fbb143c88977c1c382123ea4": {
      "model_module": "@jupyter-widgets/base",
      "model_module_version": "1.2.0",
      "model_name": "LayoutModel",
      "state": {
       "_model_module": "@jupyter-widgets/base",
       "_model_module_version": "1.2.0",
       "_model_name": "LayoutModel",
       "_view_count": null,
       "_view_module": "@jupyter-widgets/base",
       "_view_module_version": "1.2.0",
       "_view_name": "LayoutView",
       "align_content": null,
       "align_items": null,
       "align_self": null,
       "border": null,
       "bottom": null,
       "display": null,
       "flex": null,
       "flex_flow": null,
       "grid_area": null,
       "grid_auto_columns": null,
       "grid_auto_flow": null,
       "grid_auto_rows": null,
       "grid_column": null,
       "grid_gap": null,
       "grid_row": null,
       "grid_template_areas": null,
       "grid_template_columns": null,
       "grid_template_rows": null,
       "height": null,
       "justify_content": null,
       "justify_items": null,
       "left": null,
       "margin": null,
       "max_height": null,
       "max_width": null,
       "min_height": null,
       "min_width": null,
       "object_fit": null,
       "object_position": null,
       "order": null,
       "overflow": null,
       "overflow_x": null,
       "overflow_y": null,
       "padding": null,
       "right": null,
       "top": null,
       "visibility": null,
       "width": null
      }
     },
     "effc3d3cdd114c8f8ac0a7590b6bcb9c": {
      "model_module": "@jupyter-widgets/controls",
      "model_module_version": "1.5.0",
      "model_name": "ProgressStyleModel",
      "state": {
       "_model_module": "@jupyter-widgets/controls",
       "_model_module_version": "1.5.0",
       "_model_name": "ProgressStyleModel",
       "_view_count": null,
       "_view_module": "@jupyter-widgets/base",
       "_view_module_version": "1.2.0",
       "_view_name": "StyleView",
       "bar_color": null,
       "description_width": ""
      }
     }
    },
    "version_major": 2,
    "version_minor": 0
   }
  }
 },
 "nbformat": 4,
 "nbformat_minor": 5
}
