{
 "cells": [
  {
   "cell_type": "markdown",
   "id": "8480d5f2",
   "metadata": {
    "papermill": {
     "duration": 0.011359,
     "end_time": "2024-10-21T22:12:01.475830",
     "exception": false,
     "start_time": "2024-10-21T22:12:01.464471",
     "status": "completed"
    },
    "tags": []
   },
   "source": [
    "# Loan Approval Prediction."
   ]
  },
  {
   "cell_type": "markdown",
   "id": "0cf3fb88",
   "metadata": {
    "papermill": {
     "duration": 0.010366,
     "end_time": "2024-10-21T22:12:01.497908",
     "exception": false,
     "start_time": "2024-10-21T22:12:01.487542",
     "status": "completed"
    },
    "tags": []
   },
   "source": [
    "## Overview"
   ]
  },
  {
   "cell_type": "markdown",
   "id": "3a17be85",
   "metadata": {
    "papermill": {
     "duration": 0.010048,
     "end_time": "2024-10-21T22:12:01.518494",
     "exception": false,
     "start_time": "2024-10-21T22:12:01.508446",
     "status": "completed"
    },
    "tags": []
   },
   "source": [
    "**Loan approval prediction as a classification problem involves categorizing loan applications into either \"Approved\" or \"Rejected.\" This is achieved by analyzing features such as credit score, income, employment status, loan amount, and more.**\n",
    "\n",
    "**Goal**: \n",
    "The goal for this competition is to predict whether an applicant is approved for a loan.\n",
    "\n",
    "**Evaluation**\n",
    "Submissions are evaluated using area under the ROC curve using the predicted probabilities and the ground truth targets."
   ]
  },
  {
   "cell_type": "markdown",
   "id": "1f4f764f",
   "metadata": {
    "papermill": {
     "duration": 0.010021,
     "end_time": "2024-10-21T22:12:01.538925",
     "exception": false,
     "start_time": "2024-10-21T22:12:01.528904",
     "status": "completed"
    },
    "tags": []
   },
   "source": [
    "# Import"
   ]
  },
  {
   "cell_type": "code",
   "execution_count": 1,
   "id": "ca436b56",
   "metadata": {
    "execution": {
     "iopub.execute_input": "2024-10-21T22:12:01.561355Z",
     "iopub.status.busy": "2024-10-21T22:12:01.560852Z",
     "iopub.status.idle": "2024-10-21T22:12:10.257483Z",
     "shell.execute_reply": "2024-10-21T22:12:10.256630Z"
    },
    "papermill": {
     "duration": 8.710908,
     "end_time": "2024-10-21T22:12:10.260058",
     "exception": false,
     "start_time": "2024-10-21T22:12:01.549150",
     "status": "completed"
    },
    "tags": []
   },
   "outputs": [],
   "source": [
    "# importing libraries.\n",
    "import pandas as pd\n",
    "import numpy as np\n",
    "\n",
    "# import the visualization tools\n",
    "import seaborn as sns\n",
    "import matplotlib.pyplot as plt\n",
    "import plotly_express as px\n",
    "\n",
    "# modelling tools.\n",
    "from sklearn.pipeline import make_pipeline\n",
    "from sklearn.metrics import roc_auc_score\n",
    "from sklearn.preprocessing import MinMaxScaler, StandardScaler\n",
    "from sklearn.model_selection import train_test_split\n",
    "from xgboost import XGBClassifier\n",
    "from catboost import CatBoostClassifier\n",
    "from lightgbm import LGBMClassifier\n",
    "from sklearn.ensemble import VotingClassifier\n",
    "from category_encoders import OneHotEncoder\n",
    "import optuna\n",
    "import warnings\n",
    "warnings.simplefilter(\"ignore\")"
   ]
  },
  {
   "cell_type": "code",
   "execution_count": 2,
   "id": "ee8b4fc0",
   "metadata": {
    "execution": {
     "iopub.execute_input": "2024-10-21T22:12:10.282777Z",
     "iopub.status.busy": "2024-10-21T22:12:10.282089Z",
     "iopub.status.idle": "2024-10-21T22:12:10.287032Z",
     "shell.execute_reply": "2024-10-21T22:12:10.286127Z"
    },
    "papermill": {
     "duration": 0.018329,
     "end_time": "2024-10-21T22:12:10.289003",
     "exception": false,
     "start_time": "2024-10-21T22:12:10.270674",
     "status": "completed"
    },
    "tags": []
   },
   "outputs": [],
   "source": [
    "# Creating a function that preprocess the data.\n",
    "def wrangle(filepath):\n",
    "    # Read the csv file.\n",
    "    df = pd.read_csv(filepath, index_col= \"id\")\n",
    "\n",
    "    return df"
   ]
  },
  {
   "cell_type": "code",
   "execution_count": 3,
   "id": "820c18f9",
   "metadata": {
    "execution": {
     "iopub.execute_input": "2024-10-21T22:12:10.310636Z",
     "iopub.status.busy": "2024-10-21T22:12:10.310301Z",
     "iopub.status.idle": "2024-10-21T22:12:10.489332Z",
     "shell.execute_reply": "2024-10-21T22:12:10.488229Z"
    },
    "papermill": {
     "duration": 0.192177,
     "end_time": "2024-10-21T22:12:10.491457",
     "exception": false,
     "start_time": "2024-10-21T22:12:10.299280",
     "status": "completed"
    },
    "tags": []
   },
   "outputs": [
    {
     "data": {
      "text/html": [
       "<div>\n",
       "<style scoped>\n",
       "    .dataframe tbody tr th:only-of-type {\n",
       "        vertical-align: middle;\n",
       "    }\n",
       "\n",
       "    .dataframe tbody tr th {\n",
       "        vertical-align: top;\n",
       "    }\n",
       "\n",
       "    .dataframe thead th {\n",
       "        text-align: right;\n",
       "    }\n",
       "</style>\n",
       "<table border=\"1\" class=\"dataframe\">\n",
       "  <thead>\n",
       "    <tr style=\"text-align: right;\">\n",
       "      <th></th>\n",
       "      <th>person_age</th>\n",
       "      <th>person_income</th>\n",
       "      <th>person_home_ownership</th>\n",
       "      <th>person_emp_length</th>\n",
       "      <th>loan_intent</th>\n",
       "      <th>loan_grade</th>\n",
       "      <th>loan_amnt</th>\n",
       "      <th>loan_int_rate</th>\n",
       "      <th>loan_percent_income</th>\n",
       "      <th>cb_person_default_on_file</th>\n",
       "      <th>cb_person_cred_hist_length</th>\n",
       "      <th>loan_status</th>\n",
       "    </tr>\n",
       "    <tr>\n",
       "      <th>id</th>\n",
       "      <th></th>\n",
       "      <th></th>\n",
       "      <th></th>\n",
       "      <th></th>\n",
       "      <th></th>\n",
       "      <th></th>\n",
       "      <th></th>\n",
       "      <th></th>\n",
       "      <th></th>\n",
       "      <th></th>\n",
       "      <th></th>\n",
       "      <th></th>\n",
       "    </tr>\n",
       "  </thead>\n",
       "  <tbody>\n",
       "    <tr>\n",
       "      <th>0</th>\n",
       "      <td>37</td>\n",
       "      <td>35000</td>\n",
       "      <td>RENT</td>\n",
       "      <td>0.0</td>\n",
       "      <td>EDUCATION</td>\n",
       "      <td>B</td>\n",
       "      <td>6000</td>\n",
       "      <td>11.49</td>\n",
       "      <td>0.17</td>\n",
       "      <td>N</td>\n",
       "      <td>14</td>\n",
       "      <td>0</td>\n",
       "    </tr>\n",
       "    <tr>\n",
       "      <th>1</th>\n",
       "      <td>22</td>\n",
       "      <td>56000</td>\n",
       "      <td>OWN</td>\n",
       "      <td>6.0</td>\n",
       "      <td>MEDICAL</td>\n",
       "      <td>C</td>\n",
       "      <td>4000</td>\n",
       "      <td>13.35</td>\n",
       "      <td>0.07</td>\n",
       "      <td>N</td>\n",
       "      <td>2</td>\n",
       "      <td>0</td>\n",
       "    </tr>\n",
       "    <tr>\n",
       "      <th>2</th>\n",
       "      <td>29</td>\n",
       "      <td>28800</td>\n",
       "      <td>OWN</td>\n",
       "      <td>8.0</td>\n",
       "      <td>PERSONAL</td>\n",
       "      <td>A</td>\n",
       "      <td>6000</td>\n",
       "      <td>8.90</td>\n",
       "      <td>0.21</td>\n",
       "      <td>N</td>\n",
       "      <td>10</td>\n",
       "      <td>0</td>\n",
       "    </tr>\n",
       "    <tr>\n",
       "      <th>3</th>\n",
       "      <td>30</td>\n",
       "      <td>70000</td>\n",
       "      <td>RENT</td>\n",
       "      <td>14.0</td>\n",
       "      <td>VENTURE</td>\n",
       "      <td>B</td>\n",
       "      <td>12000</td>\n",
       "      <td>11.11</td>\n",
       "      <td>0.17</td>\n",
       "      <td>N</td>\n",
       "      <td>5</td>\n",
       "      <td>0</td>\n",
       "    </tr>\n",
       "    <tr>\n",
       "      <th>4</th>\n",
       "      <td>22</td>\n",
       "      <td>60000</td>\n",
       "      <td>RENT</td>\n",
       "      <td>2.0</td>\n",
       "      <td>MEDICAL</td>\n",
       "      <td>A</td>\n",
       "      <td>6000</td>\n",
       "      <td>6.92</td>\n",
       "      <td>0.10</td>\n",
       "      <td>N</td>\n",
       "      <td>3</td>\n",
       "      <td>0</td>\n",
       "    </tr>\n",
       "  </tbody>\n",
       "</table>\n",
       "</div>"
      ],
      "text/plain": [
       "    person_age  person_income person_home_ownership  person_emp_length  \\\n",
       "id                                                                       \n",
       "0           37          35000                  RENT                0.0   \n",
       "1           22          56000                   OWN                6.0   \n",
       "2           29          28800                   OWN                8.0   \n",
       "3           30          70000                  RENT               14.0   \n",
       "4           22          60000                  RENT                2.0   \n",
       "\n",
       "   loan_intent loan_grade  loan_amnt  loan_int_rate  loan_percent_income  \\\n",
       "id                                                                         \n",
       "0    EDUCATION          B       6000          11.49                 0.17   \n",
       "1      MEDICAL          C       4000          13.35                 0.07   \n",
       "2     PERSONAL          A       6000           8.90                 0.21   \n",
       "3      VENTURE          B      12000          11.11                 0.17   \n",
       "4      MEDICAL          A       6000           6.92                 0.10   \n",
       "\n",
       "   cb_person_default_on_file  cb_person_cred_hist_length  loan_status  \n",
       "id                                                                     \n",
       "0                          N                          14            0  \n",
       "1                          N                           2            0  \n",
       "2                          N                          10            0  \n",
       "3                          N                           5            0  \n",
       "4                          N                           3            0  "
      ]
     },
     "execution_count": 3,
     "metadata": {},
     "output_type": "execute_result"
    }
   ],
   "source": [
    "filepath = \"/kaggle/input/playground-series-s4e10/train.csv\"\n",
    "df = wrangle(filepath)\n",
    "df.head()"
   ]
  },
  {
   "cell_type": "code",
   "execution_count": 4,
   "id": "30d1b1d7",
   "metadata": {
    "execution": {
     "iopub.execute_input": "2024-10-21T22:12:10.514327Z",
     "iopub.status.busy": "2024-10-21T22:12:10.513987Z",
     "iopub.status.idle": "2024-10-21T22:12:10.520199Z",
     "shell.execute_reply": "2024-10-21T22:12:10.519290Z"
    },
    "papermill": {
     "duration": 0.020148,
     "end_time": "2024-10-21T22:12:10.522386",
     "exception": false,
     "start_time": "2024-10-21T22:12:10.502238",
     "status": "completed"
    },
    "tags": []
   },
   "outputs": [
    {
     "data": {
      "text/plain": [
       "(58645, 12)"
      ]
     },
     "execution_count": 4,
     "metadata": {},
     "output_type": "execute_result"
    }
   ],
   "source": [
    "# Checking the shape of the data.\n",
    "df.shape"
   ]
  },
  {
   "cell_type": "code",
   "execution_count": 5,
   "id": "7c58426a",
   "metadata": {
    "execution": {
     "iopub.execute_input": "2024-10-21T22:12:10.545679Z",
     "iopub.status.busy": "2024-10-21T22:12:10.545045Z",
     "iopub.status.idle": "2024-10-21T22:12:10.580841Z",
     "shell.execute_reply": "2024-10-21T22:12:10.579815Z"
    },
    "papermill": {
     "duration": 0.050002,
     "end_time": "2024-10-21T22:12:10.583244",
     "exception": false,
     "start_time": "2024-10-21T22:12:10.533242",
     "status": "completed"
    },
    "tags": []
   },
   "outputs": [
    {
     "data": {
      "text/plain": [
       "person_age                      53\n",
       "person_income                 2641\n",
       "person_home_ownership            4\n",
       "person_emp_length               36\n",
       "loan_intent                      6\n",
       "loan_grade                       7\n",
       "loan_amnt                      545\n",
       "loan_int_rate                  362\n",
       "loan_percent_income             61\n",
       "cb_person_default_on_file        2\n",
       "cb_person_cred_hist_length      29\n",
       "loan_status                      2\n",
       "dtype: int64"
      ]
     },
     "execution_count": 5,
     "metadata": {},
     "output_type": "execute_result"
    }
   ],
   "source": [
    "df.nunique()"
   ]
  },
  {
   "cell_type": "code",
   "execution_count": 6,
   "id": "1a83f40c",
   "metadata": {
    "execution": {
     "iopub.execute_input": "2024-10-21T22:12:10.608738Z",
     "iopub.status.busy": "2024-10-21T22:12:10.607975Z",
     "iopub.status.idle": "2024-10-21T22:12:10.658435Z",
     "shell.execute_reply": "2024-10-21T22:12:10.657295Z"
    },
    "papermill": {
     "duration": 0.065331,
     "end_time": "2024-10-21T22:12:10.660803",
     "exception": false,
     "start_time": "2024-10-21T22:12:10.595472",
     "status": "completed"
    },
    "tags": []
   },
   "outputs": [
    {
     "data": {
      "text/html": [
       "<div>\n",
       "<style scoped>\n",
       "    .dataframe tbody tr th:only-of-type {\n",
       "        vertical-align: middle;\n",
       "    }\n",
       "\n",
       "    .dataframe tbody tr th {\n",
       "        vertical-align: top;\n",
       "    }\n",
       "\n",
       "    .dataframe thead th {\n",
       "        text-align: right;\n",
       "    }\n",
       "</style>\n",
       "<table border=\"1\" class=\"dataframe\">\n",
       "  <thead>\n",
       "    <tr style=\"text-align: right;\">\n",
       "      <th></th>\n",
       "      <th>person_age</th>\n",
       "      <th>person_income</th>\n",
       "      <th>person_emp_length</th>\n",
       "      <th>loan_amnt</th>\n",
       "      <th>loan_int_rate</th>\n",
       "      <th>loan_percent_income</th>\n",
       "      <th>cb_person_cred_hist_length</th>\n",
       "      <th>loan_status</th>\n",
       "    </tr>\n",
       "  </thead>\n",
       "  <tbody>\n",
       "    <tr>\n",
       "      <th>count</th>\n",
       "      <td>58645.000000</td>\n",
       "      <td>5.864500e+04</td>\n",
       "      <td>58645.000000</td>\n",
       "      <td>58645.000000</td>\n",
       "      <td>58645.000000</td>\n",
       "      <td>58645.000000</td>\n",
       "      <td>58645.000000</td>\n",
       "      <td>58645.000000</td>\n",
       "    </tr>\n",
       "    <tr>\n",
       "      <th>mean</th>\n",
       "      <td>27.550857</td>\n",
       "      <td>6.404617e+04</td>\n",
       "      <td>4.701015</td>\n",
       "      <td>9217.556518</td>\n",
       "      <td>10.677874</td>\n",
       "      <td>0.159238</td>\n",
       "      <td>5.813556</td>\n",
       "      <td>0.142382</td>\n",
       "    </tr>\n",
       "    <tr>\n",
       "      <th>std</th>\n",
       "      <td>6.033216</td>\n",
       "      <td>3.793111e+04</td>\n",
       "      <td>3.959784</td>\n",
       "      <td>5563.807384</td>\n",
       "      <td>3.034697</td>\n",
       "      <td>0.091692</td>\n",
       "      <td>4.029196</td>\n",
       "      <td>0.349445</td>\n",
       "    </tr>\n",
       "    <tr>\n",
       "      <th>min</th>\n",
       "      <td>20.000000</td>\n",
       "      <td>4.200000e+03</td>\n",
       "      <td>0.000000</td>\n",
       "      <td>500.000000</td>\n",
       "      <td>5.420000</td>\n",
       "      <td>0.000000</td>\n",
       "      <td>2.000000</td>\n",
       "      <td>0.000000</td>\n",
       "    </tr>\n",
       "    <tr>\n",
       "      <th>25%</th>\n",
       "      <td>23.000000</td>\n",
       "      <td>4.200000e+04</td>\n",
       "      <td>2.000000</td>\n",
       "      <td>5000.000000</td>\n",
       "      <td>7.880000</td>\n",
       "      <td>0.090000</td>\n",
       "      <td>3.000000</td>\n",
       "      <td>0.000000</td>\n",
       "    </tr>\n",
       "    <tr>\n",
       "      <th>50%</th>\n",
       "      <td>26.000000</td>\n",
       "      <td>5.800000e+04</td>\n",
       "      <td>4.000000</td>\n",
       "      <td>8000.000000</td>\n",
       "      <td>10.750000</td>\n",
       "      <td>0.140000</td>\n",
       "      <td>4.000000</td>\n",
       "      <td>0.000000</td>\n",
       "    </tr>\n",
       "    <tr>\n",
       "      <th>75%</th>\n",
       "      <td>30.000000</td>\n",
       "      <td>7.560000e+04</td>\n",
       "      <td>7.000000</td>\n",
       "      <td>12000.000000</td>\n",
       "      <td>12.990000</td>\n",
       "      <td>0.210000</td>\n",
       "      <td>8.000000</td>\n",
       "      <td>0.000000</td>\n",
       "    </tr>\n",
       "    <tr>\n",
       "      <th>max</th>\n",
       "      <td>123.000000</td>\n",
       "      <td>1.900000e+06</td>\n",
       "      <td>123.000000</td>\n",
       "      <td>35000.000000</td>\n",
       "      <td>23.220000</td>\n",
       "      <td>0.830000</td>\n",
       "      <td>30.000000</td>\n",
       "      <td>1.000000</td>\n",
       "    </tr>\n",
       "  </tbody>\n",
       "</table>\n",
       "</div>"
      ],
      "text/plain": [
       "         person_age  person_income  person_emp_length     loan_amnt  \\\n",
       "count  58645.000000   5.864500e+04       58645.000000  58645.000000   \n",
       "mean      27.550857   6.404617e+04           4.701015   9217.556518   \n",
       "std        6.033216   3.793111e+04           3.959784   5563.807384   \n",
       "min       20.000000   4.200000e+03           0.000000    500.000000   \n",
       "25%       23.000000   4.200000e+04           2.000000   5000.000000   \n",
       "50%       26.000000   5.800000e+04           4.000000   8000.000000   \n",
       "75%       30.000000   7.560000e+04           7.000000  12000.000000   \n",
       "max      123.000000   1.900000e+06         123.000000  35000.000000   \n",
       "\n",
       "       loan_int_rate  loan_percent_income  cb_person_cred_hist_length  \\\n",
       "count   58645.000000         58645.000000                58645.000000   \n",
       "mean       10.677874             0.159238                    5.813556   \n",
       "std         3.034697             0.091692                    4.029196   \n",
       "min         5.420000             0.000000                    2.000000   \n",
       "25%         7.880000             0.090000                    3.000000   \n",
       "50%        10.750000             0.140000                    4.000000   \n",
       "75%        12.990000             0.210000                    8.000000   \n",
       "max        23.220000             0.830000                   30.000000   \n",
       "\n",
       "        loan_status  \n",
       "count  58645.000000  \n",
       "mean       0.142382  \n",
       "std        0.349445  \n",
       "min        0.000000  \n",
       "25%        0.000000  \n",
       "50%        0.000000  \n",
       "75%        0.000000  \n",
       "max        1.000000  "
      ]
     },
     "execution_count": 6,
     "metadata": {},
     "output_type": "execute_result"
    }
   ],
   "source": [
    "df.describe() # Getting the aggregate of the data."
   ]
  },
  {
   "cell_type": "code",
   "execution_count": 7,
   "id": "1b38b71a",
   "metadata": {
    "execution": {
     "iopub.execute_input": "2024-10-21T22:12:10.686038Z",
     "iopub.status.busy": "2024-10-21T22:12:10.685202Z",
     "iopub.status.idle": "2024-10-21T22:12:10.726737Z",
     "shell.execute_reply": "2024-10-21T22:12:10.725674Z"
    },
    "papermill": {
     "duration": 0.05639,
     "end_time": "2024-10-21T22:12:10.729059",
     "exception": false,
     "start_time": "2024-10-21T22:12:10.672669",
     "status": "completed"
    },
    "tags": []
   },
   "outputs": [
    {
     "name": "stdout",
     "output_type": "stream",
     "text": [
      "<class 'pandas.core.frame.DataFrame'>\n",
      "Index: 58645 entries, 0 to 58644\n",
      "Data columns (total 12 columns):\n",
      " #   Column                      Non-Null Count  Dtype  \n",
      "---  ------                      --------------  -----  \n",
      " 0   person_age                  58645 non-null  int64  \n",
      " 1   person_income               58645 non-null  int64  \n",
      " 2   person_home_ownership       58645 non-null  object \n",
      " 3   person_emp_length           58645 non-null  float64\n",
      " 4   loan_intent                 58645 non-null  object \n",
      " 5   loan_grade                  58645 non-null  object \n",
      " 6   loan_amnt                   58645 non-null  int64  \n",
      " 7   loan_int_rate               58645 non-null  float64\n",
      " 8   loan_percent_income         58645 non-null  float64\n",
      " 9   cb_person_default_on_file   58645 non-null  object \n",
      " 10  cb_person_cred_hist_length  58645 non-null  int64  \n",
      " 11  loan_status                 58645 non-null  int64  \n",
      "dtypes: float64(3), int64(5), object(4)\n",
      "memory usage: 5.8+ MB\n"
     ]
    }
   ],
   "source": [
    "df.info()"
   ]
  },
  {
   "cell_type": "code",
   "execution_count": 8,
   "id": "c2ed0b19",
   "metadata": {
    "execution": {
     "iopub.execute_input": "2024-10-21T22:12:10.754094Z",
     "iopub.status.busy": "2024-10-21T22:12:10.753509Z",
     "iopub.status.idle": "2024-10-21T22:12:10.785414Z",
     "shell.execute_reply": "2024-10-21T22:12:10.784344Z"
    },
    "papermill": {
     "duration": 0.047366,
     "end_time": "2024-10-21T22:12:10.787964",
     "exception": false,
     "start_time": "2024-10-21T22:12:10.740598",
     "status": "completed"
    },
    "tags": []
   },
   "outputs": [
    {
     "data": {
      "text/plain": [
       "person_age                    0\n",
       "person_income                 0\n",
       "person_home_ownership         0\n",
       "person_emp_length             0\n",
       "loan_intent                   0\n",
       "loan_grade                    0\n",
       "loan_amnt                     0\n",
       "loan_int_rate                 0\n",
       "loan_percent_income           0\n",
       "cb_person_default_on_file     0\n",
       "cb_person_cred_hist_length    0\n",
       "loan_status                   0\n",
       "dtype: int64"
      ]
     },
     "execution_count": 8,
     "metadata": {},
     "output_type": "execute_result"
    }
   ],
   "source": [
    "# Checking if there is any column with null values.\n",
    "df.isnull().sum()"
   ]
  },
  {
   "cell_type": "markdown",
   "id": "260d8440",
   "metadata": {
    "papermill": {
     "duration": 0.011109,
     "end_time": "2024-10-21T22:12:10.810793",
     "exception": false,
     "start_time": "2024-10-21T22:12:10.799684",
     "status": "completed"
    },
    "tags": []
   },
   "source": [
    "Perfect the Data is clean."
   ]
  },
  {
   "cell_type": "markdown",
   "id": "ca3045f7",
   "metadata": {
    "papermill": {
     "duration": 0.010961,
     "end_time": "2024-10-21T22:12:10.832966",
     "exception": false,
     "start_time": "2024-10-21T22:12:10.822005",
     "status": "completed"
    },
    "tags": []
   },
   "source": [
    "## EDA(Exploratory Data Analysis)"
   ]
  },
  {
   "cell_type": "code",
   "execution_count": 9,
   "id": "e7b061eb",
   "metadata": {
    "execution": {
     "iopub.execute_input": "2024-10-21T22:12:10.857385Z",
     "iopub.status.busy": "2024-10-21T22:12:10.856988Z",
     "iopub.status.idle": "2024-10-21T22:12:11.281833Z",
     "shell.execute_reply": "2024-10-21T22:12:11.280761Z"
    },
    "papermill": {
     "duration": 0.44011,
     "end_time": "2024-10-21T22:12:11.284331",
     "exception": false,
     "start_time": "2024-10-21T22:12:10.844221",
     "status": "completed"
    },
    "tags": []
   },
   "outputs": [
    {
     "data": {
      "image/png": "[encoded data removed]",
      "text/plain": [
       "<Figure size 640x480 with 1 Axes>"
      ]
     },
     "metadata": {},
     "output_type": "display_data"
    }
   ],
   "source": [
    "# Creating age group.\n",
    "df_analysis = pd.read_csv(filepath, index_col=\"id\")\n",
    "bins = [20, 30, 40, 50, 60, 70, 80, 90, 130]\n",
    "age_class = [\"20-29\", \"30-39\", \"40-49\", \"50-59\", \"60-69\", \"70-79\", \"80-89\", \"90+\"]\n",
    "df_analysis[\"age_group\"] =pd.cut(df_analysis[\"person_age\"], bins=bins, labels=age_class, right=False)\n",
    "df_analysis.groupby([\"age_group\"])[\"loan_status\"].mean().sort_values().plot(kind=\"barh\")\n",
    "plt.title(\"Mean Loan Approval by Age Group\")\n",
    "plt.ylabel(\"Age Group\")\n",
    "plt.xlabel(\"Mean\");"
   ]
  },
  {
   "cell_type": "markdown",
   "id": "eba84216",
   "metadata": {
    "papermill": {
     "duration": 0.011492,
     "end_time": "2024-10-21T22:12:11.307693",
     "exception": false,
     "start_time": "2024-10-21T22:12:11.296201",
     "status": "completed"
    },
    "tags": []
   },
   "source": [
    "Here is a very insightful display showing that people below the age group of 20-49 has very low probability of getting loan.\n",
    "The age group of 90+ has very low probability of getting loan this can be because of the limited number of data for this age group."
   ]
  },
  {
   "cell_type": "code",
   "execution_count": 10,
   "id": "41388ed8",
   "metadata": {
    "execution": {
     "iopub.execute_input": "2024-10-21T22:12:11.334188Z",
     "iopub.status.busy": "2024-10-21T22:12:11.333737Z",
     "iopub.status.idle": "2024-10-21T22:12:11.556668Z",
     "shell.execute_reply": "2024-10-21T22:12:11.555749Z"
    },
    "papermill": {
     "duration": 0.238643,
     "end_time": "2024-10-21T22:12:11.558753",
     "exception": false,
     "start_time": "2024-10-21T22:12:11.320110",
     "status": "completed"
    },
    "tags": []
   },
   "outputs": [
    {
     "data": {
      "image/png": "[encoded data removed]",
      "text/plain": [
       "<Figure size 640x480 with 1 Axes>"
      ]
     },
     "metadata": {},
     "output_type": "display_data"
    }
   ],
   "source": [
    "df_analysis.groupby([\"person_home_ownership\"])[\"loan_status\"].mean().sort_values().plot(kind=\"barh\")\n",
    "plt.title(\"Loan Approval based on Ownership\")\n",
    "plt.xlabel(\"Probabilty\")\n",
    "plt.ylabel(\"Ownership\");"
   ]
  },
  {
   "cell_type": "markdown",
   "id": "645c4395",
   "metadata": {
    "papermill": {
     "duration": 0.012602,
     "end_time": "2024-10-21T22:12:11.582894",
     "exception": false,
     "start_time": "2024-10-21T22:12:11.570292",
     "status": "completed"
    },
    "tags": []
   },
   "source": [
    "Based on the Visualization above, it can be seen that people who rent a house are likely to get more loan in comparism with someone who own a house.\n",
    "\n",
    "So this data is likely to be a Home/Rent Loan dataset."
   ]
  },
  {
   "cell_type": "code",
   "execution_count": 11,
   "id": "9c30df8c",
   "metadata": {
    "execution": {
     "iopub.execute_input": "2024-10-21T22:12:11.608133Z",
     "iopub.status.busy": "2024-10-21T22:12:11.607784Z",
     "iopub.status.idle": "2024-10-21T22:12:11.875036Z",
     "shell.execute_reply": "2024-10-21T22:12:11.873848Z"
    },
    "papermill": {
     "duration": 0.282864,
     "end_time": "2024-10-21T22:12:11.877625",
     "exception": false,
     "start_time": "2024-10-21T22:12:11.594761",
     "status": "completed"
    },
    "tags": []
   },
   "outputs": [
    {
     "data": {
      "image/png": "[encoded data removed]",
      "text/plain": [
       "<Figure size 640x480 with 1 Axes>"
      ]
     },
     "metadata": {},
     "output_type": "display_data"
    }
   ],
   "source": [
    "df_analysis.groupby([\"loan_intent\"])[\"loan_status\"].mean().sort_values().plot(kind=\"barh\")\n",
    "plt.title(\"Probability of Loan Approval Based on Intent\")\n",
    "plt.ylabel(\"Loan Intent\")\n",
    "plt.xlabel(\"Probability\");"
   ]
  },
  {
   "cell_type": "markdown",
   "id": "c13991ab",
   "metadata": {
    "papermill": {
     "duration": 0.013233,
     "end_time": "2024-10-21T22:12:11.904826",
     "exception": false,
     "start_time": "2024-10-21T22:12:11.891593",
     "status": "completed"
    },
    "tags": []
   },
   "source": [
    "From the dataset given. \n",
    "\n",
    "It is clearly visible that people who have the high chance of getting loan are those who intend to use the loan for `Debt consolidation`, `Medical` or `Home Improvement`"
   ]
  },
  {
   "cell_type": "code",
   "execution_count": 12,
   "id": "ecedd8d0",
   "metadata": {
    "execution": {
     "iopub.execute_input": "2024-10-21T22:12:11.932783Z",
     "iopub.status.busy": "2024-10-21T22:12:11.932398Z",
     "iopub.status.idle": "2024-10-21T22:12:12.251814Z",
     "shell.execute_reply": "2024-10-21T22:12:12.250909Z"
    },
    "papermill": {
     "duration": 0.335932,
     "end_time": "2024-10-21T22:12:12.253985",
     "exception": false,
     "start_time": "2024-10-21T22:12:11.918053",
     "status": "completed"
    },
    "tags": []
   },
   "outputs": [
    {
     "data": {
      "image/png": "[encoded data removed]",
      "text/plain": [
       "<Figure size 640x480 with 1 Axes>"
      ]
     },
     "metadata": {},
     "output_type": "display_data"
    }
   ],
   "source": [
    "df.groupby([\"loan_grade\"])[\"loan_status\"].mean().sort_values().plot(kind=\"barh\")\n",
    "plt.title(\"Loan Approval based on Loan Grade\")\n",
    "plt.ylabel(\"Loan Grade\")\n",
    "plt.xlabel(\"Probability\");"
   ]
  },
  {
   "cell_type": "markdown",
   "id": "8d09415c",
   "metadata": {
    "papermill": {
     "duration": 0.012505,
     "end_time": "2024-10-21T22:12:12.279091",
     "exception": false,
     "start_time": "2024-10-21T22:12:12.266586",
     "status": "completed"
    },
    "tags": []
   },
   "source": [
    "Wow, this is giving us more insight into the data.\n",
    "\n",
    "People in grade `A`, `B`, or `C` has less chance of getting loan."
   ]
  },
  {
   "cell_type": "code",
   "execution_count": 13,
   "id": "a1b2b9c2",
   "metadata": {
    "execution": {
     "iopub.execute_input": "2024-10-21T22:12:12.305169Z",
     "iopub.status.busy": "2024-10-21T22:12:12.304851Z",
     "iopub.status.idle": "2024-10-21T22:12:12.855735Z",
     "shell.execute_reply": "2024-10-21T22:12:12.854735Z"
    },
    "papermill": {
     "duration": 0.56636,
     "end_time": "2024-10-21T22:12:12.857811",
     "exception": false,
     "start_time": "2024-10-21T22:12:12.291451",
     "status": "completed"
    },
    "tags": []
   },
   "outputs": [
    {
     "data": {
      "image/png": "[encoded data removed]",
      "text/plain": [
       "<Figure size 640x480 with 2 Axes>"
      ]
     },
     "metadata": {},
     "output_type": "display_data"
    }
   ],
   "source": [
    "# Let's Check out the multi-collinearity of the numeric column with the target.\n",
    "sns.heatmap(round(df_analysis.select_dtypes(\"number\").drop(columns=\"loan_status\").corr(), 2), annot=True);"
   ]
  },
  {
   "cell_type": "code",
   "execution_count": 14,
   "id": "b470e224",
   "metadata": {
    "execution": {
     "iopub.execute_input": "2024-10-21T22:12:12.887623Z",
     "iopub.status.busy": "2024-10-21T22:12:12.887281Z",
     "iopub.status.idle": "2024-10-21T22:12:12.910464Z",
     "shell.execute_reply": "2024-10-21T22:12:12.909565Z"
    },
    "papermill": {
     "duration": 0.040035,
     "end_time": "2024-10-21T22:12:12.912423",
     "exception": false,
     "start_time": "2024-10-21T22:12:12.872388",
     "status": "completed"
    },
    "tags": []
   },
   "outputs": [
    {
     "data": {
      "text/plain": [
       "loan_status                   1.000000\n",
       "loan_percent_income           0.378280\n",
       "loan_int_rate                 0.338948\n",
       "person_income                 0.169956\n",
       "loan_amnt                     0.144982\n",
       "person_emp_length             0.100428\n",
       "cb_person_cred_hist_length    0.003030\n",
       "person_age                    0.001130\n",
       "Name: loan_status, dtype: float64"
      ]
     },
     "execution_count": 14,
     "metadata": {},
     "output_type": "execute_result"
    }
   ],
   "source": [
    "abs(df_analysis.select_dtypes(\"number\").corr()[\"loan_status\"]).sort_values(ascending=False)"
   ]
  },
  {
   "cell_type": "markdown",
   "id": "72b14193",
   "metadata": {
    "papermill": {
     "duration": 0.013353,
     "end_time": "2024-10-21T22:12:12.939550",
     "exception": false,
     "start_time": "2024-10-21T22:12:12.926197",
     "status": "completed"
    },
    "tags": []
   },
   "source": [
    "## Splitting Data."
   ]
  },
  {
   "cell_type": "code",
   "execution_count": 15,
   "id": "0666dff5",
   "metadata": {
    "execution": {
     "iopub.execute_input": "2024-10-21T22:12:12.968788Z",
     "iopub.status.busy": "2024-10-21T22:12:12.968415Z",
     "iopub.status.idle": "2024-10-21T22:12:12.977790Z",
     "shell.execute_reply": "2024-10-21T22:12:12.977005Z"
    },
    "papermill": {
     "duration": 0.026681,
     "end_time": "2024-10-21T22:12:12.979775",
     "exception": false,
     "start_time": "2024-10-21T22:12:12.953094",
     "status": "completed"
    },
    "tags": []
   },
   "outputs": [],
   "source": [
    "# Feature matrix.\n",
    "target = \"loan_status\"\n",
    "X = df.drop(columns=target)\n",
    "# Target Vector.\n",
    "y = df[target]"
   ]
  },
  {
   "cell_type": "code",
   "execution_count": 16,
   "id": "cf1f18b4",
   "metadata": {
    "execution": {
     "iopub.execute_input": "2024-10-21T22:12:13.008844Z",
     "iopub.status.busy": "2024-10-21T22:12:13.008469Z",
     "iopub.status.idle": "2024-10-21T22:12:13.032838Z",
     "shell.execute_reply": "2024-10-21T22:12:13.031959Z"
    },
    "papermill": {
     "duration": 0.041361,
     "end_time": "2024-10-21T22:12:13.034909",
     "exception": false,
     "start_time": "2024-10-21T22:12:12.993548",
     "status": "completed"
    },
    "tags": []
   },
   "outputs": [
    {
     "data": {
      "text/plain": [
       "((46916, 11), (46916,))"
      ]
     },
     "execution_count": 16,
     "metadata": {},
     "output_type": "execute_result"
    }
   ],
   "source": [
    "X_train, X_test, y_train, y_test = train_test_split(X, y, test_size=0.2, random_state=42)\n",
    "X_train.shape, y_train.shape"
   ]
  },
  {
   "cell_type": "markdown",
   "id": "c4e69469",
   "metadata": {
    "papermill": {
     "duration": 0.01434,
     "end_time": "2024-10-21T22:12:13.063276",
     "exception": false,
     "start_time": "2024-10-21T22:12:13.048936",
     "status": "completed"
    },
    "tags": []
   },
   "source": [
    "## Baseline Model"
   ]
  },
  {
   "cell_type": "code",
   "execution_count": 17,
   "id": "f429b348",
   "metadata": {
    "execution": {
     "iopub.execute_input": "2024-10-21T22:12:13.093469Z",
     "iopub.status.busy": "2024-10-21T22:12:13.093081Z",
     "iopub.status.idle": "2024-10-21T22:12:13.099422Z",
     "shell.execute_reply": "2024-10-21T22:12:13.098326Z"
    },
    "papermill": {
     "duration": 0.024499,
     "end_time": "2024-10-21T22:12:13.102035",
     "exception": false,
     "start_time": "2024-10-21T22:12:13.077536",
     "status": "completed"
    },
    "tags": []
   },
   "outputs": [
    {
     "name": "stdout",
     "output_type": "stream",
     "text": [
      "Baseline Model: 0.86\n"
     ]
    }
   ],
   "source": [
    "print(f\"Baseline Model: {round(y_train.value_counts(normalize=True).max(), 2)}\")"
   ]
  },
  {
   "cell_type": "markdown",
   "id": "b0a1eb3f",
   "metadata": {
    "papermill": {
     "duration": 0.015871,
     "end_time": "2024-10-21T22:12:13.133719",
     "exception": false,
     "start_time": "2024-10-21T22:12:13.117848",
     "status": "completed"
    },
    "tags": []
   },
   "source": [
    "## Model"
   ]
  },
  {
   "cell_type": "code",
   "execution_count": 18,
   "id": "59d8227f",
   "metadata": {
    "execution": {
     "iopub.execute_input": "2024-10-21T22:12:13.164574Z",
     "iopub.status.busy": "2024-10-21T22:12:13.163770Z",
     "iopub.status.idle": "2024-10-21T22:12:23.833845Z",
     "shell.execute_reply": "2024-10-21T22:12:23.832756Z"
    },
    "papermill": {
     "duration": 10.687935,
     "end_time": "2024-10-21T22:12:23.835994",
     "exception": false,
     "start_time": "2024-10-21T22:12:13.148059",
     "status": "completed"
    },
    "tags": []
   },
   "outputs": [
    {
     "data": {
      "text/html": [
       "<style>#sk-container-id-1 {color: black;background-color: white;}#sk-container-id-1 pre{padding: 0;}#sk-container-id-1 div.sk-toggleable {background-color: white;}#sk-container-id-1 label.sk-toggleable__label {cursor: pointer;display: block;width: 100%;margin-bottom: 0;padding: 0.3em;box-sizing: border-box;text-align: center;}#sk-container-id-1 label.sk-toggleable__label-arrow:before {content: \"▸\";float: left;margin-right: 0.25em;color: #696969;}#sk-container-id-1 label.sk-toggleable__label-arrow:hover:before {color: black;}#sk-container-id-1 div.sk-estimator:hover label.sk-toggleable__label-arrow:before {color: black;}#sk-container-id-1 div.sk-toggleable__content {max-height: 0;max-width: 0;overflow: hidden;text-align: left;background-color: #f0f8ff;}#sk-container-id-1 div.sk-toggleable__content pre {margin: 0.2em;color: black;border-radius: 0.25em;background-color: #f0f8ff;}#sk-container-id-1 input.sk-toggleable__control:checked~div.sk-toggleable__content {max-height: 200px;max-width: 100%;overflow: auto;}#sk-container-id-1 input.sk-toggleable__control:checked~label.sk-toggleable__label-arrow:before {content: \"▾\";}#sk-container-id-1 div.sk-estimator input.sk-toggleable__control:checked~label.sk-toggleable__label {background-color: #d4ebff;}#sk-container-id-1 div.sk-label input.sk-toggleable__control:checked~label.sk-toggleable__label {background-color: #d4ebff;}#sk-container-id-1 input.sk-hidden--visually {border: 0;clip: rect(1px 1px 1px 1px);clip: rect(1px, 1px, 1px, 1px);height: 1px;margin: -1px;overflow: hidden;padding: 0;position: absolute;width: 1px;}#sk-container-id-1 div.sk-estimator {font-family: monospace;background-color: #f0f8ff;border: 1px dotted black;border-radius: 0.25em;box-sizing: border-box;margin-bottom: 0.5em;}#sk-container-id-1 div.sk-estimator:hover {background-color: #d4ebff;}#sk-container-id-1 div.sk-parallel-item::after {content: \"\";width: 100%;border-bottom: 1px solid gray;flex-grow: 1;}#sk-container-id-1 div.sk-label:hover label.sk-toggleable__label {background-color: #d4ebff;}#sk-container-id-1 div.sk-serial::before {content: \"\";position: absolute;border-left: 1px solid gray;box-sizing: border-box;top: 0;bottom: 0;left: 50%;z-index: 0;}#sk-container-id-1 div.sk-serial {display: flex;flex-direction: column;align-items: center;background-color: white;padding-right: 0.2em;padding-left: 0.2em;position: relative;}#sk-container-id-1 div.sk-item {position: relative;z-index: 1;}#sk-container-id-1 div.sk-parallel {display: flex;align-items: stretch;justify-content: center;background-color: white;position: relative;}#sk-container-id-1 div.sk-item::before, #sk-container-id-1 div.sk-parallel-item::before {content: \"\";position: absolute;border-left: 1px solid gray;box-sizing: border-box;top: 0;bottom: 0;left: 50%;z-index: -1;}#sk-container-id-1 div.sk-parallel-item {display: flex;flex-direction: column;z-index: 1;position: relative;background-color: white;}#sk-container-id-1 div.sk-parallel-item:first-child::after {align-self: flex-end;width: 50%;}#sk-container-id-1 div.sk-parallel-item:last-child::after {align-self: flex-start;width: 50%;}#sk-container-id-1 div.sk-parallel-item:only-child::after {width: 0;}#sk-container-id-1 div.sk-dashed-wrapped {border: 1px dashed gray;margin: 0 0.4em 0.5em 0.4em;box-sizing: border-box;padding-bottom: 0.4em;background-color: white;}#sk-container-id-1 div.sk-label label {font-family: monospace;font-weight: bold;display: inline-block;line-height: 1.2em;}#sk-container-id-1 div.sk-label-container {text-align: center;}#sk-container-id-1 div.sk-container {/* jupyter's `normalize.less` sets `[hidden] { display: none; }` but bootstrap.min.css set `[hidden] { display: none !important; }` so we also need the `!important` here to be able to override the default hidden behavior on the sphinx rendered scikit-learn.org. See: https://github.com/scikit-learn/scikit-learn/issues/21755 */display: inline-block !important;position: relative;}#sk-container-id-1 div.sk-text-repr-fallback {display: none;}</style><div id=\"sk-container-id-1\" class=\"sk-top-container\"><div class=\"sk-text-repr-fallback\"><pre>Pipeline(steps=[(&#x27;onehotencoder&#x27;,\n",
       "                 OneHotEncoder(cols=[&#x27;person_home_ownership&#x27;, &#x27;loan_intent&#x27;,\n",
       "                                     &#x27;loan_grade&#x27;,\n",
       "                                     &#x27;cb_person_default_on_file&#x27;],\n",
       "                               use_cat_names=True)),\n",
       "                (&#x27;minmaxscaler&#x27;, MinMaxScaler()),\n",
       "                (&#x27;catboostclassifier&#x27;,\n",
       "                 &lt;catboost.core.CatBoostClassifier object at 0x7ea40a659cf0&gt;)])</pre><b>In a Jupyter environment, please rerun this cell to show the HTML representation or trust the notebook. <br />On GitHub, the HTML representation is unable to render, please try loading this page with nbviewer.org.</b></div><div class=\"sk-container\" hidden><div class=\"sk-item sk-dashed-wrapped\"><div class=\"sk-label-container\"><div class=\"sk-label sk-toggleable\"><input class=\"sk-toggleable__control sk-hidden--visually\" id=\"sk-estimator-id-1\" type=\"checkbox\" ><label for=\"sk-estimator-id-1\" class=\"sk-toggleable__label sk-toggleable__label-arrow\">Pipeline</label><div class=\"sk-toggleable__content\"><pre>Pipeline(steps=[(&#x27;onehotencoder&#x27;,\n",
       "                 OneHotEncoder(cols=[&#x27;person_home_ownership&#x27;, &#x27;loan_intent&#x27;,\n",
       "                                     &#x27;loan_grade&#x27;,\n",
       "                                     &#x27;cb_person_default_on_file&#x27;],\n",
       "                               use_cat_names=True)),\n",
       "                (&#x27;minmaxscaler&#x27;, MinMaxScaler()),\n",
       "                (&#x27;catboostclassifier&#x27;,\n",
       "                 &lt;catboost.core.CatBoostClassifier object at 0x7ea40a659cf0&gt;)])</pre></div></div></div><div class=\"sk-serial\"><div class=\"sk-item\"><div class=\"sk-estimator sk-toggleable\"><input class=\"sk-toggleable__control sk-hidden--visually\" id=\"sk-estimator-id-2\" type=\"checkbox\" ><label for=\"sk-estimator-id-2\" class=\"sk-toggleable__label sk-toggleable__label-arrow\">OneHotEncoder</label><div class=\"sk-toggleable__content\"><pre>OneHotEncoder(cols=[&#x27;person_home_ownership&#x27;, &#x27;loan_intent&#x27;, &#x27;loan_grade&#x27;,\n",
       "                    &#x27;cb_person_default_on_file&#x27;],\n",
       "              use_cat_names=True)</pre></div></div></div><div class=\"sk-item\"><div class=\"sk-estimator sk-toggleable\"><input class=\"sk-toggleable__control sk-hidden--visually\" id=\"sk-estimator-id-3\" type=\"checkbox\" ><label for=\"sk-estimator-id-3\" class=\"sk-toggleable__label sk-toggleable__label-arrow\">MinMaxScaler</label><div class=\"sk-toggleable__content\"><pre>MinMaxScaler()</pre></div></div></div><div class=\"sk-item\"><div class=\"sk-estimator sk-toggleable\"><input class=\"sk-toggleable__control sk-hidden--visually\" id=\"sk-estimator-id-4\" type=\"checkbox\" ><label for=\"sk-estimator-id-4\" class=\"sk-toggleable__label sk-toggleable__label-arrow\">CatBoostClassifier</label><div class=\"sk-toggleable__content\"><pre>&lt;catboost.core.CatBoostClassifier object at 0x7ea40a659cf0&gt;</pre></div></div></div></div></div></div></div>"
      ],
      "text/plain": [
       "Pipeline(steps=[('onehotencoder',\n",
       "                 OneHotEncoder(cols=['person_home_ownership', 'loan_intent',\n",
       "                                     'loan_grade',\n",
       "                                     'cb_person_default_on_file'],\n",
       "                               use_cat_names=True)),\n",
       "                ('minmaxscaler', MinMaxScaler()),\n",
       "                ('catboostclassifier',\n",
       "                 <catboost.core.CatBoostClassifier object at 0x7ea40a659cf0>)])"
      ]
     },
     "execution_count": 18,
     "metadata": {},
     "output_type": "execute_result"
    }
   ],
   "source": [
    "params= {'iterations': 891,\n",
    "'depth': 7,\n",
    "'learning_rate': 0.0448563477253477,\n",
    "'l2_leaf_reg': 8.309884320742215,\n",
    "'border_count': 161,\n",
    "'random_strength': 5.297381835241815,\n",
    "'bagging_temperature': 0.10498408144882451,\n",
    "'scale_pos_weight': 2.3753101495123747}\n",
    "lgbm = make_pipeline(\n",
    "    OneHotEncoder(use_cat_names=True),\n",
    "    MinMaxScaler(),\n",
    "    CatBoostClassifier(**params, random_state=42, verbose=0)\n",
    ")\n",
    "lgbm.fit(X_train, y_train)"
   ]
  },
  {
   "cell_type": "code",
   "execution_count": 19,
   "id": "d4ea8a3e",
   "metadata": {
    "execution": {
     "iopub.execute_input": "2024-10-21T22:12:23.867213Z",
     "iopub.status.busy": "2024-10-21T22:12:23.866875Z",
     "iopub.status.idle": "2024-10-21T22:12:23.925877Z",
     "shell.execute_reply": "2024-10-21T22:12:23.924796Z"
    },
    "papermill": {
     "duration": 0.076876,
     "end_time": "2024-10-21T22:12:23.928115",
     "exception": false,
     "start_time": "2024-10-21T22:12:23.851239",
     "status": "completed"
    },
    "tags": []
   },
   "outputs": [
    {
     "data": {
      "text/plain": [
       "0.9574708561700778"
      ]
     },
     "execution_count": 19,
     "metadata": {},
     "output_type": "execute_result"
    }
   ],
   "source": [
    "y_test_pred= lgbm.predict_proba(X_test)[:, 1]\n",
    "roc_auc_score(y_test, y_test_pred)"
   ]
  },
  {
   "cell_type": "markdown",
   "id": "5dcc852e",
   "metadata": {
    "papermill": {
     "duration": 0.014429,
     "end_time": "2024-10-21T22:12:23.957275",
     "exception": false,
     "start_time": "2024-10-21T22:12:23.942846",
     "status": "completed"
    },
    "tags": []
   },
   "source": [
    "## Feature Engineering."
   ]
  },
  {
   "cell_type": "code",
   "execution_count": 20,
   "id": "d87c6bb4",
   "metadata": {
    "execution": {
     "iopub.execute_input": "2024-10-21T22:12:23.989419Z",
     "iopub.status.busy": "2024-10-21T22:12:23.989003Z",
     "iopub.status.idle": "2024-10-21T22:12:24.350345Z",
     "shell.execute_reply": "2024-10-21T22:12:24.349336Z"
    },
    "papermill": {
     "duration": 0.379345,
     "end_time": "2024-10-21T22:12:24.352477",
     "exception": false,
     "start_time": "2024-10-21T22:12:23.973132",
     "status": "completed"
    },
    "tags": []
   },
   "outputs": [
    {
     "data": {
      "image/png": "[encoded data removed]",
      "text/plain": [
       "<Figure size 640x480 with 1 Axes>"
      ]
     },
     "metadata": {},
     "output_type": "display_data"
    }
   ],
   "source": [
    "output = 10\n",
    "feat= lgbm.named_steps[\"onehotencoder\"].get_feature_names()\n",
    "imp = lgbm.named_steps[\"catboostclassifier\"].feature_importances_\n",
    "pd.Series(imp, index=feat).sort_values().tail(output).plot(kind=\"barh\")\n",
    "plt.title(f\"{output} most Importance Feature\")\n",
    "plt.ylabel(\"Featues\")\n",
    "plt.xlabel(\"Importance\");"
   ]
  },
  {
   "cell_type": "markdown",
   "id": "d97dd240",
   "metadata": {
    "papermill": {
     "duration": 0.015231,
     "end_time": "2024-10-21T22:12:24.383962",
     "exception": false,
     "start_time": "2024-10-21T22:12:24.368731",
     "status": "completed"
    },
    "tags": []
   },
   "source": [
    "## Fine Tuning with optuna."
   ]
  },
  {
   "cell_type": "code",
   "execution_count": 21,
   "id": "267acb58",
   "metadata": {
    "execution": {
     "iopub.execute_input": "2024-10-21T22:12:24.416959Z",
     "iopub.status.busy": "2024-10-21T22:12:24.416589Z",
     "iopub.status.idle": "2024-10-21T23:16:17.277499Z",
     "shell.execute_reply": "2024-10-21T23:16:17.276645Z"
    },
    "papermill": {
     "duration": 3832.882212,
     "end_time": "2024-10-21T23:16:17.281798",
     "exception": false,
     "start_time": "2024-10-21T22:12:24.399586",
     "status": "completed"
    },
    "scrolled": true,
    "tags": []
   },
   "outputs": [
    {
     "name": "stderr",
     "output_type": "stream",
     "text": [
      "[I 2024-10-21 22:12:24,423] A new study created in memory with name: XGB\n"
     ]
    },
    {
     "data": {
      "application/vnd.jupyter.widget-view+json": {
       "model_id": "92eeda4e7e33445595139cf32088a9df",
       "version_major": 2,
       "version_minor": 0
      },
      "text/plain": [
       "  0%|          | 0/100 [00:00<?, ?it/s]"
      ]
     },
     "metadata": {},
     "output_type": "display_data"
    },
    {
     "name": "stdout",
     "output_type": "stream",
     "text": [
      "[I 2024-10-21 22:12:34,860] Trial 0 finished with value: 0.9381019116632919 and parameters: {'max_depth': 8, 'learning_rate': 0.009353897003852366, 'subsample': 0.4301710056428487, 'n_estimators': 935, 'l2_leaf_reg': 9.970404156408218, 'border_count': 112, 'random_strength': 7.229795809976761, 'bagging_temperature': 0.33564172106159745, 'scale_pos_weight': 4.004843714579021}. Best is trial 0 with value: 0.9381019116632919.\n",
      "[I 2024-10-21 22:12:40,056] Trial 1 finished with value: 0.9043714024165159 and parameters: {'max_depth': 2, 'learning_rate': 0.0015844310091357237, 'subsample': 0.18901460808367934, 'n_estimators': 947, 'l2_leaf_reg': 9.829101247845767, 'border_count': 172, 'random_strength': 4.608995553965235, 'bagging_temperature': 0.10995804297179101, 'scale_pos_weight': 1.6688546510496631}. Best is trial 0 with value: 0.9381019116632919.\n",
      "[I 2024-10-21 22:15:05,229] Trial 2 finished with value: 0.9372327981638914 and parameters: {'max_depth': 13, 'learning_rate': 0.003473825468106708, 'subsample': 0.4943096639693705, 'n_estimators': 1765, 'l2_leaf_reg': 7.803458713166945, 'border_count': 190, 'random_strength': 9.037897639372538, 'bagging_temperature': 0.9593844582846199, 'scale_pos_weight': 4.980438256972749}. Best is trial 0 with value: 0.9381019116632919.\n",
      "[I 2024-10-21 22:15:51,076] Trial 3 finished with value: 0.9409945290829709 and parameters: {'max_depth': 11, 'learning_rate': 0.006495131578207228, 'subsample': 0.41058595437263257, 'n_estimators': 1575, 'l2_leaf_reg': 7.166865435147814, 'border_count': 175, 'random_strength': 8.202488600827845, 'bagging_temperature': 0.6224328721438583, 'scale_pos_weight': 1.940785063880699}. Best is trial 3 with value: 0.9409945290829709.\n",
      "[I 2024-10-21 22:15:58,887] Trial 4 finished with value: 0.914853382152617 and parameters: {'max_depth': 5, 'learning_rate': 0.0011085849248333442, 'subsample': 0.35449472030045004, 'n_estimators': 1035, 'l2_leaf_reg': 7.397685116830285, 'border_count': 141, 'random_strength': 9.102707691106541, 'bagging_temperature': 0.7378229779238086, 'scale_pos_weight': 1.0428589280245881}. Best is trial 3 with value: 0.9409945290829709.\n",
      "[I 2024-10-21 22:16:16,198] Trial 5 finished with value: 0.9309799506775824 and parameters: {'max_depth': 6, 'learning_rate': 0.002054836997893377, 'subsample': 0.46245543816190526, 'n_estimators': 1939, 'l2_leaf_reg': 9.516964848586898, 'border_count': 160, 'random_strength': 5.678261945679443, 'bagging_temperature': 0.8624608815248266, 'scale_pos_weight': 2.1542818190768998}. Best is trial 3 with value: 0.9409945290829709.\n",
      "[I 2024-10-21 22:16:28,615] Trial 6 finished with value: 0.9410491694245449 and parameters: {'max_depth': 5, 'learning_rate': 0.008603171673806314, 'subsample': 0.23425709005882667, 'n_estimators': 1705, 'l2_leaf_reg': 6.207371199927325, 'border_count': 185, 'random_strength': 9.509129361720564, 'bagging_temperature': 0.5054011798533247, 'scale_pos_weight': 1.0577810761988142}. Best is trial 6 with value: 0.9410491694245449.\n",
      "[I 2024-10-21 22:16:40,656] Trial 7 finished with value: 0.9248593267802757 and parameters: {'max_depth': 6, 'learning_rate': 0.0020179104958559214, 'subsample': 0.4927785817047319, 'n_estimators': 1321, 'l2_leaf_reg': 5.7049576652309835, 'border_count': 128, 'random_strength': 7.774770622866823, 'bagging_temperature': 0.10862225500754825, 'scale_pos_weight': 3.4913581405992473}. Best is trial 6 with value: 0.9410491694245449.\n",
      "[I 2024-10-21 22:16:55,497] Trial 8 finished with value: 0.9455426582882396 and parameters: {'max_depth': 6, 'learning_rate': 0.008700717235561269, 'subsample': 0.36378295115631964, 'n_estimators': 1709, 'l2_leaf_reg': 9.016586173847497, 'border_count': 179, 'random_strength': 6.717921807364247, 'bagging_temperature': 0.47396077533787845, 'scale_pos_weight': 1.6188631320677231}. Best is trial 8 with value: 0.9455426582882396.\n",
      "[I 2024-10-21 22:17:11,085] Trial 9 finished with value: 0.9260666670128228 and parameters: {'max_depth': 10, 'learning_rate': 0.0018149333747041222, 'subsample': 0.3517451970230471, 'n_estimators': 709, 'l2_leaf_reg': 9.215550437270037, 'border_count': 134, 'random_strength': 5.343943757868478, 'bagging_temperature': 0.843400151408517, 'scale_pos_weight': 1.199210067419536}. Best is trial 8 with value: 0.9455426582882396.\n",
      "[I 2024-10-21 22:17:18,551] Trial 10 finished with value: 0.9274036950395143 and parameters: {'max_depth': 2, 'learning_rate': 0.0072578872388969744, 'subsample': 0.1109693214867361, 'n_estimators': 1428, 'l2_leaf_reg': 8.502297386995895, 'border_count': 199, 'random_strength': 3.758271958107817, 'bagging_temperature': 0.31209318417455045, 'scale_pos_weight': 2.7350347832948954}. Best is trial 8 with value: 0.9455426582882396.\n",
      "[I 2024-10-21 22:17:29,971] Trial 11 finished with value: 0.9441300998004329 and parameters: {'max_depth': 4, 'learning_rate': 0.009930147223065004, 'subsample': 0.2518832857637053, 'n_estimators': 1691, 'l2_leaf_reg': 5.569197929867271, 'border_count': 181, 'random_strength': 6.581536667727399, 'bagging_temperature': 0.4731243653390553, 'scale_pos_weight': 2.576266008320959}. Best is trial 8 with value: 0.9455426582882396.\n",
      "[I 2024-10-21 22:17:43,343] Trial 12 finished with value: 0.9467848355120441 and parameters: {'max_depth': 4, 'learning_rate': 0.009956218454242789, 'subsample': 0.25865929448848957, 'n_estimators': 1942, 'l2_leaf_reg': 5.442456522408544, 'border_count': 158, 'random_strength': 6.343449386880441, 'bagging_temperature': 0.34582213375771204, 'scale_pos_weight': 2.5525485055991344}. Best is trial 12 with value: 0.9467848355120441.\n",
      "[I 2024-10-21 22:18:05,208] Trial 13 finished with value: 0.9495745117357189 and parameters: {'max_depth': 8, 'learning_rate': 0.008006452168088454, 'subsample': 0.3096474885086792, 'n_estimators': 2000, 'l2_leaf_reg': 6.692361893015274, 'border_count': 157, 'random_strength': 5.823379996031045, 'bagging_temperature': 0.3171570198692157, 'scale_pos_weight': 3.334074213815409}. Best is trial 13 with value: 0.9495745117357189.\n",
      "[I 2024-10-21 22:29:56,397] Trial 14 finished with value: 0.940808268913075 and parameters: {'max_depth': 15, 'learning_rate': 0.007580112878779775, 'subsample': 0.294557894755086, 'n_estimators': 1958, 'l2_leaf_reg': 5.031391700924255, 'border_count': 156, 'random_strength': 5.819221130806259, 'bagging_temperature': 0.2634651645249274, 'scale_pos_weight': 3.3999709077550246}. Best is trial 13 with value: 0.9495745117357189.\n",
      "[I 2024-10-21 22:30:17,983] Trial 15 finished with value: 0.9426212414841064 and parameters: {'max_depth': 8, 'learning_rate': 0.005219123612450663, 'subsample': 0.17534559395690555, 'n_estimators': 1994, 'l2_leaf_reg': 6.665137128985505, 'border_count': 145, 'random_strength': 3.312043021538849, 'bagging_temperature': 0.23939738371909317, 'scale_pos_weight': 4.0114231605585795}. Best is trial 13 with value: 0.9495745117357189.\n",
      "[I 2024-10-21 22:30:26,570] Trial 16 finished with value: 0.9329075774018173 and parameters: {'max_depth': 9, 'learning_rate': 0.005316674924604059, 'subsample': 0.29900998828819886, 'n_estimators': 519, 'l2_leaf_reg': 6.5728118294871525, 'border_count': 161, 'random_strength': 4.597542380604424, 'bagging_temperature': 0.01165387234503612, 'scale_pos_weight': 3.2337960108532777}. Best is trial 13 with value: 0.9495745117357189.\n",
      "[I 2024-10-21 22:31:35,067] Trial 17 finished with value: 0.9415163594390193 and parameters: {'max_depth': 12, 'learning_rate': 0.008055852596700308, 'subsample': 0.23983805949231038, 'n_estimators': 1477, 'l2_leaf_reg': 5.001268656252648, 'border_count': 120, 'random_strength': 4.744048910838861, 'bagging_temperature': 0.379366549846602, 'scale_pos_weight': 4.001684988564364}. Best is trial 13 with value: 0.9495745117357189.\n",
      "[I 2024-10-21 22:31:46,093] Trial 18 finished with value: 0.9321778118674475 and parameters: {'max_depth': 3, 'learning_rate': 0.006355085913294991, 'subsample': 0.19239981329858763, 'n_estimators': 1817, 'l2_leaf_reg': 5.869070925053658, 'border_count': 166, 'random_strength': 6.082200924428516, 'bagging_temperature': 0.5834218253718126, 'scale_pos_weight': 2.4210990594597672}. Best is trial 13 with value: 0.9495745117357189.\n",
      "[I 2024-10-21 22:31:56,861] Trial 19 finished with value: 0.9398831867986037 and parameters: {'max_depth': 7, 'learning_rate': 0.009936761587745797, 'subsample': 0.12502093693087465, 'n_estimators': 1227, 'l2_leaf_reg': 8.03801826447204, 'border_count': 149, 'random_strength': 7.241264508509887, 'bagging_temperature': 0.1730545949610836, 'scale_pos_weight': 4.647166502541236}. Best is trial 13 with value: 0.9495745117357189.\n",
      "[I 2024-10-21 22:32:08,087] Trial 20 finished with value: 0.9303983480141768 and parameters: {'max_depth': 4, 'learning_rate': 0.004020676879282018, 'subsample': 0.32692070826257824, 'n_estimators': 1554, 'l2_leaf_reg': 6.778464708105696, 'border_count': 104, 'random_strength': 5.112849895736658, 'bagging_temperature': 0.3975521411330949, 'scale_pos_weight': 3.02125477249955}. Best is trial 13 with value: 0.9495745117357189.\n",
      "[I 2024-10-21 22:32:26,578] Trial 21 finished with value: 0.9485421413483449 and parameters: {'max_depth': 7, 'learning_rate': 0.008757605410648605, 'subsample': 0.3899393885369747, 'n_estimators': 1852, 'l2_leaf_reg': 8.686777676468925, 'border_count': 170, 'random_strength': 6.5755861391679336, 'bagging_temperature': 0.46595376813561873, 'scale_pos_weight': 1.5794704486076545}. Best is trial 13 with value: 0.9495745117357189.\n",
      "[I 2024-10-21 22:32:55,878] Trial 22 finished with value: 0.9499319984345692 and parameters: {'max_depth': 9, 'learning_rate': 0.009041311959535187, 'subsample': 0.3967996073813146, 'n_estimators': 1849, 'l2_leaf_reg': 8.285860431819327, 'border_count': 153, 'random_strength': 6.21933968958654, 'bagging_temperature': 0.6233811293585392, 'scale_pos_weight': 2.3205850777452257}. Best is trial 22 with value: 0.9499319984345692.\n",
      "[I 2024-10-21 22:33:25,429] Trial 23 finished with value: 0.9485263228185191 and parameters: {'max_depth': 9, 'learning_rate': 0.008587285928114464, 'subsample': 0.3916228578481108, 'n_estimators': 1857, 'l2_leaf_reg': 8.562202239980913, 'border_count': 170, 'random_strength': 7.220013116138263, 'bagging_temperature': 0.6616314971732684, 'scale_pos_weight': 1.5327505568567172}. Best is trial 22 with value: 0.9499319984345692.\n",
      "[I 2024-10-21 22:33:59,549] Trial 24 finished with value: 0.9411670235093541 and parameters: {'max_depth': 10, 'learning_rate': 0.0068527157028334795, 'subsample': 0.43985386821747835, 'n_estimators': 1621, 'l2_leaf_reg': 8.347793039212927, 'border_count': 151, 'random_strength': 8.096768905539623, 'bagging_temperature': 0.5431894693694472, 'scale_pos_weight': 2.143358538327583}. Best is trial 22 with value: 0.9499319984345692.\n",
      "[I 2024-10-21 22:34:21,446] Trial 25 finished with value: 0.9486366902708917 and parameters: {'max_depth': 8, 'learning_rate': 0.007898877210512106, 'subsample': 0.37692921231423376, 'n_estimators': 1857, 'l2_leaf_reg': 8.929453145491008, 'border_count': 137, 'random_strength': 4.070130678442582, 'bagging_temperature': 0.7310997201847969, 'scale_pos_weight': 3.614254271157167}. Best is trial 22 with value: 0.9499319984345692.\n",
      "[I 2024-10-21 22:34:46,963] Trial 26 finished with value: 0.9422098993325667 and parameters: {'max_depth': 10, 'learning_rate': 0.007645369795328179, 'subsample': 0.3254195961635336, 'n_estimators': 1211, 'l2_leaf_reg': 8.112189986122674, 'border_count': 136, 'random_strength': 4.2039693973872545, 'bagging_temperature': 0.728310500402487, 'scale_pos_weight': 3.685676904320454}. Best is trial 22 with value: 0.9499319984345692.\n",
      "[I 2024-10-21 22:36:19,393] Trial 27 finished with value: 0.9434553972401134 and parameters: {'max_depth': 12, 'learning_rate': 0.005979584563108359, 'subsample': 0.38981177159194197, 'n_estimators': 1844, 'l2_leaf_reg': 7.714035088408549, 'border_count': 122, 'random_strength': 3.307394447063489, 'bagging_temperature': 0.7430514345577498, 'scale_pos_weight': 2.9783979735600847}. Best is trial 22 with value: 0.9499319984345692.\n",
      "[I 2024-10-21 22:36:35,392] Trial 28 finished with value: 0.9431264080453768 and parameters: {'max_depth': 8, 'learning_rate': 0.008120279378795935, 'subsample': 0.3087824621014874, 'n_estimators': 1380, 'l2_leaf_reg': 8.949195346545437, 'border_count': 137, 'random_strength': 3.8928834480847705, 'bagging_temperature': 0.825877764029265, 'scale_pos_weight': 3.6824880824306137}. Best is trial 22 with value: 0.9499319984345692.\n",
      "[I 2024-10-21 22:36:46,132] Trial 29 finished with value: 0.9391902506657368 and parameters: {'max_depth': 7, 'learning_rate': 0.009333435092503355, 'subsample': 0.4424250546698443, 'n_estimators': 1083, 'l2_leaf_reg': 7.192972130149711, 'border_count': 110, 'random_strength': 5.443170227220079, 'bagging_temperature': 0.99251983146185, 'scale_pos_weight': 4.2142027476610675}. Best is trial 22 with value: 0.9499319984345692.\n",
      "[I 2024-10-21 22:37:50,125] Trial 30 finished with value: 0.9500938666729779 and parameters: {'max_depth': 11, 'learning_rate': 0.009213785660074802, 'subsample': 0.4178659400881537, 'n_estimators': 1997, 'l2_leaf_reg': 9.546567913625415, 'border_count': 149, 'random_strength': 7.116913560480315, 'bagging_temperature': 0.697546702918579, 'scale_pos_weight': 2.936369586666332}. Best is trial 30 with value: 0.9500938666729779.\n",
      "[I 2024-10-21 22:38:21,155] Trial 31 finished with value: 0.9528038464868435 and parameters: {'max_depth': 9, 'learning_rate': 0.009495335121444378, 'subsample': 0.41838314207692684, 'n_estimators': 1995, 'l2_leaf_reg': 9.510379712681218, 'border_count': 152, 'random_strength': 7.090899480330148, 'bagging_temperature': 0.6843712109132468, 'scale_pos_weight': 2.9850090342000657}. Best is trial 31 with value: 0.9528038464868435.\n",
      "[I 2024-10-21 22:39:23,670] Trial 32 finished with value: 0.950127556518943 and parameters: {'max_depth': 11, 'learning_rate': 0.009230681423025593, 'subsample': 0.41644415837902665, 'n_estimators': 1984, 'l2_leaf_reg': 9.986585196461387, 'border_count': 151, 'random_strength': 7.055907331240412, 'bagging_temperature': 0.6202583418681873, 'scale_pos_weight': 2.8902963064974347}. Best is trial 31 with value: 0.9528038464868435.\n",
      "[I 2024-10-21 22:44:22,635] Trial 33 finished with value: 0.9441082436638034 and parameters: {'max_depth': 14, 'learning_rate': 0.00915626341760304, 'subsample': 0.4197792678238885, 'n_estimators': 1761, 'l2_leaf_reg': 9.718018764594769, 'border_count': 149, 'random_strength': 7.235018296822084, 'bagging_temperature': 0.6610492011607093, 'scale_pos_weight': 2.865428243982897}. Best is trial 31 with value: 0.9528038464868435.\n",
      "[I 2024-10-21 22:45:25,912] Trial 34 finished with value: 0.949484792898615 and parameters: {'max_depth': 11, 'learning_rate': 0.009360853101622456, 'subsample': 0.460604591300486, 'n_estimators': 1892, 'l2_leaf_reg': 9.941268523603272, 'border_count': 143, 'random_strength': 7.687214665313136, 'bagging_temperature': 0.5930856856356038, 'scale_pos_weight': 2.322833259489821}. Best is trial 31 with value: 0.9528038464868435.\n",
      "[I 2024-10-21 22:46:59,728] Trial 35 finished with value: 0.9470652823480784 and parameters: {'max_depth': 12, 'learning_rate': 0.009371040069283664, 'subsample': 0.4776534339829388, 'n_estimators': 1757, 'l2_leaf_reg': 9.476127097731153, 'border_count': 164, 'random_strength': 8.58102638886984, 'bagging_temperature': 0.7926637347417584, 'scale_pos_weight': 3.097303569517844}. Best is trial 31 with value: 0.9528038464868435.\n",
      "[I 2024-10-21 22:47:52,803] Trial 36 finished with value: 0.9466907092219734 and parameters: {'max_depth': 11, 'learning_rate': 0.009079326179264723, 'subsample': 0.4129198701798411, 'n_estimators': 1636, 'l2_leaf_reg': 9.364143517615165, 'border_count': 154, 'random_strength': 6.981481244748318, 'bagging_temperature': 0.6620583834592791, 'scale_pos_weight': 1.8656530670101374}. Best is trial 31 with value: 0.9528038464868435.\n",
      "[I 2024-10-21 22:48:22,675] Trial 37 finished with value: 0.9388367487873768 and parameters: {'max_depth': 9, 'learning_rate': 0.004557442920591212, 'subsample': 0.447497397816299, 'n_estimators': 1921, 'l2_leaf_reg': 9.784856846319745, 'border_count': 145, 'random_strength': 7.705074751722377, 'bagging_temperature': 0.9329066725811577, 'scale_pos_weight': 2.642462070832261}. Best is trial 31 with value: 0.9528038464868435.\n",
      "[I 2024-10-21 22:50:16,447] Trial 38 finished with value: 0.9406485138370477 and parameters: {'max_depth': 13, 'learning_rate': 0.007019820878118983, 'subsample': 0.42277968110745484, 'n_estimators': 1531, 'l2_leaf_reg': 9.234542930542927, 'border_count': 126, 'random_strength': 8.438166798095882, 'bagging_temperature': 0.5624185335249381, 'scale_pos_weight': 2.0376377639899417}. Best is trial 31 with value: 0.9528038464868435.\n",
      "[I 2024-10-21 22:50:54,253] Trial 39 finished with value: 0.9372652804884956 and parameters: {'max_depth': 10, 'learning_rate': 0.0029618437052963786, 'subsample': 0.49675953351601926, 'n_estimators': 1780, 'l2_leaf_reg': 9.996744825654403, 'border_count': 130, 'random_strength': 6.180723229838597, 'bagging_temperature': 0.892196260207784, 'scale_pos_weight': 2.4168609492033486}. Best is trial 31 with value: 0.9528038464868435.\n",
      "[I 2024-10-21 22:51:55,764] Trial 40 finished with value: 0.938525027148099 and parameters: {'max_depth': 13, 'learning_rate': 0.008647319348153234, 'subsample': 0.3452278728620254, 'n_estimators': 856, 'l2_leaf_reg': 9.520911908840084, 'border_count': 152, 'random_strength': 9.783062824312744, 'bagging_temperature': 0.6317066671922285, 'scale_pos_weight': 2.8657355170584595}. Best is trial 31 with value: 0.9528038464868435.\n",
      "[I 2024-10-21 22:53:01,180] Trial 41 finished with value: 0.9493628936172475 and parameters: {'max_depth': 11, 'learning_rate': 0.008408276687098076, 'subsample': 0.3985276435629145, 'n_estimators': 1999, 'l2_leaf_reg': 9.611275176480916, 'border_count': 164, 'random_strength': 6.760153019239996, 'bagging_temperature': 0.781607363794047, 'scale_pos_weight': 3.2030184305805927}. Best is trial 31 with value: 0.9528038464868435.\n",
      "[I 2024-10-21 22:53:32,219] Trial 42 finished with value: 0.953298567988343 and parameters: {'max_depth': 9, 'learning_rate': 0.009617144136842858, 'subsample': 0.3670885143802042, 'n_estimators': 1992, 'l2_leaf_reg': 7.6189879509385445, 'border_count': 157, 'random_strength': 5.845146421598265, 'bagging_temperature': 0.7009396804380431, 'scale_pos_weight': 3.335208229138891}. Best is trial 42 with value: 0.953298567988343.\n",
      "[I 2024-10-21 22:54:01,599] Trial 43 finished with value: 0.9516887005101899 and parameters: {'max_depth': 9, 'learning_rate': 0.009595587735800055, 'subsample': 0.3631794339322538, 'n_estimators': 1899, 'l2_leaf_reg': 7.441561590211276, 'border_count': 141, 'random_strength': 7.064285817588597, 'bagging_temperature': 0.6980570423534964, 'scale_pos_weight': 2.858863660680826}. Best is trial 42 with value: 0.953298567988343.\n",
      "[I 2024-10-21 22:55:02,363] Trial 44 finished with value: 0.9496604268805364 and parameters: {'max_depth': 11, 'learning_rate': 0.0096228548728464, 'subsample': 0.35056354229618747, 'n_estimators': 1924, 'l2_leaf_reg': 7.793263437024642, 'border_count': 146, 'random_strength': 7.543715866854212, 'bagging_temperature': 0.6919113770843712, 'scale_pos_weight': 2.7824389384222585}. Best is trial 42 with value: 0.953298567988343.\n",
      "[I 2024-10-21 22:55:37,870] Trial 45 finished with value: 0.9491254345416558 and parameters: {'max_depth': 10, 'learning_rate': 0.009791777517151507, 'subsample': 0.3689366202804443, 'n_estimators': 1701, 'l2_leaf_reg': 7.298914018776387, 'border_count': 139, 'random_strength': 6.984698883492121, 'bagging_temperature': 0.7804894548427724, 'scale_pos_weight': 3.0739300881429923}. Best is trial 42 with value: 0.953298567988343.\n",
      "[I 2024-10-21 22:56:07,365] Trial 46 finished with value: 0.9527419006410368 and parameters: {'max_depth': 9, 'learning_rate': 0.009489334220489058, 'subsample': 0.4618201826814996, 'n_estimators': 1927, 'l2_leaf_reg': 7.551269819962827, 'border_count': 175, 'random_strength': 7.974186190224881, 'bagging_temperature': 0.7007220745265733, 'scale_pos_weight': 3.4509932342262184}. Best is trial 42 with value: 0.953298567988343.\n",
      "[I 2024-10-21 22:56:25,819] Trial 47 finished with value: 0.9518782209877595 and parameters: {'max_depth': 7, 'learning_rate': 0.009669620006986809, 'subsample': 0.4718579342196844, 'n_estimators': 1915, 'l2_leaf_reg': 7.40757285388657, 'border_count': 187, 'random_strength': 9.018483092969252, 'bagging_temperature': 0.8562930451395785, 'scale_pos_weight': 3.5234417324514054}. Best is trial 42 with value: 0.953298567988343.\n",
      "[I 2024-10-21 22:56:40,614] Trial 48 finished with value: 0.9467780733924239 and parameters: {'max_depth': 6, 'learning_rate': 0.009608475955640114, 'subsample': 0.4763788803210174, 'n_estimators': 1645, 'l2_leaf_reg': 7.020299422997517, 'border_count': 195, 'random_strength': 8.965176317090851, 'bagging_temperature': 0.931315397557062, 'scale_pos_weight': 3.5492285967879877}. Best is trial 42 with value: 0.953298567988343.\n",
      "[I 2024-10-21 22:56:57,784] Trial 49 finished with value: 0.9457321787658093 and parameters: {'max_depth': 7, 'learning_rate': 0.00833249026839196, 'subsample': 0.46328854194682045, 'n_estimators': 1786, 'l2_leaf_reg': 7.555479253335659, 'border_count': 185, 'random_strength': 9.149277434870978, 'bagging_temperature': 0.8026960919715422, 'scale_pos_weight': 3.9730690722234634}. Best is trial 42 with value: 0.953298567988343.\n",
      "[I 2024-10-21 22:57:13,439] Trial 50 finished with value: 0.9468201555118458 and parameters: {'max_depth': 5, 'learning_rate': 0.008796720668423328, 'subsample': 0.45549408007822817, 'n_estimators': 1919, 'l2_leaf_reg': 7.517788479030712, 'border_count': 175, 'random_strength': 8.291225946618166, 'bagging_temperature': 0.88524660242092, 'scale_pos_weight': 3.855193689394393}. Best is trial 42 with value: 0.953298567988343.\n",
      "[I 2024-10-21 22:57:44,001] Trial 51 finished with value: 0.9521555282682562 and parameters: {'max_depth': 9, 'learning_rate': 0.009563884124178601, 'subsample': 0.43353779122389424, 'n_estimators': 1909, 'l2_leaf_reg': 6.895911542487269, 'border_count': 188, 'random_strength': 8.07506202248809, 'bagging_temperature': 0.5242724611948224, 'scale_pos_weight': 3.3374746230841192}. Best is trial 42 with value: 0.953298567988343.\n",
      "[I 2024-10-21 22:58:15,937] Trial 52 finished with value: 0.9523807913781044 and parameters: {'max_depth': 9, 'learning_rate': 0.00999112506712822, 'subsample': 0.4333998280318589, 'n_estimators': 1898, 'l2_leaf_reg': 6.954955496831326, 'border_count': 190, 'random_strength': 7.9487687334847585, 'bagging_temperature': 0.8440580256475755, 'scale_pos_weight': 3.3852366343936144}. Best is trial 42 with value: 0.953298567988343.\n",
      "[I 2024-10-21 22:58:37,806] Trial 53 finished with value: 0.9512890713158493 and parameters: {'max_depth': 8, 'learning_rate': 0.009986498139866979, 'subsample': 0.4776981148392272, 'n_estimators': 1731, 'l2_leaf_reg': 6.328996726316685, 'border_count': 189, 'random_strength': 8.720372637844823, 'bagging_temperature': 0.5186989843093087, 'scale_pos_weight': 3.2844686881166876}. Best is trial 42 with value: 0.953298567988343.\n",
      "[I 2024-10-21 22:59:08,613] Trial 54 finished with value: 0.9516682330231251 and parameters: {'max_depth': 9, 'learning_rate': 0.009590326269074688, 'subsample': 0.43136526377970197, 'n_estimators': 1815, 'l2_leaf_reg': 6.969280694606217, 'border_count': 199, 'random_strength': 7.987383795835555, 'bagging_temperature': 0.8502446459334618, 'scale_pos_weight': 3.4371035626292343}. Best is trial 42 with value: 0.953298567988343.\n",
      "[I 2024-10-21 22:59:28,920] Trial 55 finished with value: 0.950293651082114 and parameters: {'max_depth': 7, 'learning_rate': 0.00883564871162118, 'subsample': 0.48367079795701645, 'n_estimators': 1939, 'l2_leaf_reg': 6.426452600275817, 'border_count': 191, 'random_strength': 9.403694016005398, 'bagging_temperature': 0.8874052305557991, 'scale_pos_weight': 3.788246485313578}. Best is trial 42 with value: 0.953298567988343.\n",
      "[I 2024-10-21 22:59:51,253] Trial 56 finished with value: 0.9510642308384775 and parameters: {'max_depth': 8, 'learning_rate': 0.008919922601856683, 'subsample': 0.43259981969516237, 'n_estimators': 1892, 'l2_leaf_reg': 6.96983252304164, 'border_count': 181, 'random_strength': 7.505863835489989, 'bagging_temperature': 0.42094497350033344, 'scale_pos_weight': 4.315962289189657}. Best is trial 42 with value: 0.953298567988343.\n",
      "[I 2024-10-21 23:00:18,549] Trial 57 finished with value: 0.9502157055782777 and parameters: {'max_depth': 9, 'learning_rate': 0.009942260134245305, 'subsample': 0.44996788513180164, 'n_estimators': 1678, 'l2_leaf_reg': 7.911682244934375, 'border_count': 177, 'random_strength': 7.978763130197505, 'bagging_temperature': 0.9964854083321764, 'scale_pos_weight': 3.4329030731778167}. Best is trial 42 with value: 0.953298567988343.\n",
      "[I 2024-10-21 23:00:34,230] Trial 58 finished with value: 0.9295800107879958 and parameters: {'max_depth': 6, 'learning_rate': 0.002556465891046226, 'subsample': 0.28078427669883627, 'n_estimators': 1805, 'l2_leaf_reg': 7.143918897626389, 'border_count': 185, 'random_strength': 8.730247008294342, 'bagging_temperature': 0.8290089202926573, 'scale_pos_weight': 3.2407555024678527}. Best is trial 42 with value: 0.953298567988343.\n",
      "[I 2024-10-21 23:01:20,956] Trial 59 finished with value: 0.9521784107980423 and parameters: {'max_depth': 10, 'learning_rate': 0.009539504952409713, 'subsample': 0.4649424819458696, 'n_estimators': 1955, 'l2_leaf_reg': 6.056142932919187, 'border_count': 191, 'random_strength': 8.195048840857442, 'bagging_temperature': 0.752813170950484, 'scale_pos_weight': 3.1540834090990955}. Best is trial 42 with value: 0.953298567988343.\n",
      "[I 2024-10-21 23:02:06,648] Trial 60 finished with value: 0.9470326188952701 and parameters: {'max_depth': 10, 'learning_rate': 0.007692896804052739, 'subsample': 0.40680854751515794, 'n_estimators': 1954, 'l2_leaf_reg': 5.969718730460149, 'border_count': 194, 'random_strength': 8.289899849400852, 'bagging_temperature': 0.7340723599505714, 'scale_pos_weight': 3.1360333032025856}. Best is trial 42 with value: 0.953298567988343.\n",
      "[I 2024-10-21 23:02:29,431] Trial 61 finished with value: 0.9526795925388221 and parameters: {'max_depth': 8, 'learning_rate': 0.009659438835681877, 'subsample': 0.46926435240560493, 'n_estimators': 1874, 'l2_leaf_reg': 6.105592281225532, 'border_count': 187, 'random_strength': 7.914224121200201, 'bagging_temperature': 0.7403379878825049, 'scale_pos_weight': 3.3640093803895117}. Best is trial 42 with value: 0.953298567988343.\n",
      "[I 2024-10-21 23:03:11,965] Trial 62 finished with value: 0.9299350220680567 and parameters: {'max_depth': 10, 'learning_rate': 0.0012874179663642958, 'subsample': 0.4643319376688004, 'n_estimators': 1839, 'l2_leaf_reg': 6.12783202137124, 'border_count': 181, 'random_strength': 7.903475976236182, 'bagging_temperature': 0.7533681406571945, 'scale_pos_weight': 3.3472627458966846}. Best is trial 42 with value: 0.953298567988343.\n",
      "[I 2024-10-21 23:03:35,872] Trial 63 finished with value: 0.9503163524836963 and parameters: {'max_depth': 8, 'learning_rate': 0.008346352302944213, 'subsample': 0.488708365132646, 'n_estimators': 1963, 'l2_leaf_reg': 5.545592464885496, 'border_count': 172, 'random_strength': 7.517659292797809, 'bagging_temperature': 0.7658035298839051, 'scale_pos_weight': 3.8291947603000267}. Best is trial 42 with value: 0.953298567988343.\n",
      "[I 2024-10-21 23:04:07,506] Trial 64 finished with value: 0.9514214156569876 and parameters: {'max_depth': 9, 'learning_rate': 0.009416396720548092, 'subsample': 0.4991769708081402, 'n_estimators': 1869, 'l2_leaf_reg': 5.353339341571991, 'border_count': 194, 'random_strength': 8.229260798798684, 'bagging_temperature': 0.7009483572333228, 'scale_pos_weight': 3.3249610562350247}. Best is trial 42 with value: 0.953298567988343.\n",
      "[I 2024-10-21 23:04:22,522] Trial 65 finished with value: 0.9373348940949429 and parameters: {'max_depth': 10, 'learning_rate': 0.009048204854438706, 'subsample': 0.43963047213496714, 'n_estimators': 620, 'l2_leaf_reg': 6.5173902537255355, 'border_count': 192, 'random_strength': 5.939276643796418, 'bagging_temperature': 0.6494547541039758, 'scale_pos_weight': 3.6718048318534002}. Best is trial 42 with value: 0.953298567988343.\n",
      "[I 2024-10-21 23:04:51,292] Trial 66 finished with value: 0.9506258402084569 and parameters: {'max_depth': 9, 'learning_rate': 0.00995899206835453, 'subsample': 0.3776108356638578, 'n_estimators': 1740, 'l2_leaf_reg': 6.762123647844777, 'border_count': 197, 'random_strength': 8.474576556300688, 'bagging_temperature': 0.812194691728563, 'scale_pos_weight': 2.6886050884110184}. Best is trial 42 with value: 0.953298567988343.\n",
      "[I 2024-10-21 23:05:14,519] Trial 67 finished with value: 0.9501826194929932 and parameters: {'max_depth': 8, 'learning_rate': 0.008584486635005068, 'subsample': 0.4049860029681833, 'n_estimators': 1953, 'l2_leaf_reg': 5.789569098034269, 'border_count': 189, 'random_strength': 7.368303757986216, 'bagging_temperature': 0.584103878993242, 'scale_pos_weight': 3.0373457805729833}. Best is trial 42 with value: 0.953298567988343.\n",
      "[I 2024-10-21 23:05:57,414] Trial 68 finished with value: 0.9509438409588105 and parameters: {'max_depth': 10, 'learning_rate': 0.009484240570026309, 'subsample': 0.42588772218861026, 'n_estimators': 1811, 'l2_leaf_reg': 6.176757436750793, 'border_count': 200, 'random_strength': 6.746384009998726, 'bagging_temperature': 0.7163450589201373, 'scale_pos_weight': 3.177627069666427}. Best is trial 42 with value: 0.953298567988343.\n",
      "[I 2024-10-21 23:06:14,473] Trial 69 finished with value: 0.9394163590405373 and parameters: {'max_depth': 9, 'learning_rate': 0.008941971479494855, 'subsample': 0.4539169162367876, 'n_estimators': 1120, 'l2_leaf_reg': 5.24939592208497, 'border_count': 175, 'random_strength': 7.811606254072654, 'bagging_temperature': 0.4575326614161428, 'scale_pos_weight': 3.3959376466432354}. Best is trial 42 with value: 0.953298567988343.\n",
      "[I 2024-10-21 23:06:37,302] Trial 70 finished with value: 0.9495018793258698 and parameters: {'max_depth': 8, 'learning_rate': 0.00819963004587655, 'subsample': 0.44091798225629214, 'n_estimators': 1883, 'l2_leaf_reg': 6.069623151619074, 'border_count': 160, 'random_strength': 5.001145046341174, 'bagging_temperature': 0.6703346730008327, 'scale_pos_weight': 3.5146797979004036}. Best is trial 42 with value: 0.953298567988343.\n",
      "[I 2024-10-21 23:06:58,072] Trial 71 finished with value: 0.9527636964015983 and parameters: {'max_depth': 7, 'learning_rate': 0.00962915172440875, 'subsample': 0.4689436280737493, 'n_estimators': 1993, 'l2_leaf_reg': 7.717797341433268, 'border_count': 186, 'random_strength': 8.907468830285676, 'bagging_temperature': 0.9219846375017449, 'scale_pos_weight': 3.535176902973353}. Best is trial 42 with value: 0.953298567988343.\n",
      "[I 2024-10-21 23:07:17,869] Trial 72 finished with value: 0.952875573255672 and parameters: {'max_depth': 7, 'learning_rate': 0.009741133837378867, 'subsample': 0.4653055362005519, 'n_estimators': 1992, 'l2_leaf_reg': 7.61976193299281, 'border_count': 180, 'random_strength': 8.801006058617723, 'bagging_temperature': 0.9133851530687228, 'scale_pos_weight': 3.6230370830243612}. Best is trial 42 with value: 0.953298567988343.\n",
      "[I 2024-10-21 23:07:35,594] Trial 73 finished with value: 0.9509264526512158 and parameters: {'max_depth': 6, 'learning_rate': 0.009287932500696223, 'subsample': 0.46813647621694143, 'n_estimators': 1990, 'l2_leaf_reg': 8.096675767992773, 'border_count': 183, 'random_strength': 8.807001430293147, 'bagging_temperature': 0.9506635389978775, 'scale_pos_weight': 4.137611764775547}. Best is trial 42 with value: 0.953298567988343.\n",
      "[I 2024-10-21 23:07:55,118] Trial 74 finished with value: 0.9529334135288521 and parameters: {'max_depth': 7, 'learning_rate': 0.00999987803090239, 'subsample': 0.4864402865334362, 'n_estimators': 1964, 'l2_leaf_reg': 7.613117504776529, 'border_count': 178, 'random_strength': 9.240530558278373, 'bagging_temperature': 0.9126364402389674, 'scale_pos_weight': 3.5974910041406942}. Best is trial 42 with value: 0.953298567988343.\n",
      "[I 2024-10-21 23:08:10,409] Trial 75 finished with value: 0.9484285739643662 and parameters: {'max_depth': 5, 'learning_rate': 0.009859291510367841, 'subsample': 0.4869356164825638, 'n_estimators': 1858, 'l2_leaf_reg': 7.6403805556506255, 'border_count': 172, 'random_strength': 9.374625936401124, 'bagging_temperature': 0.9293116528114127, 'scale_pos_weight': 3.75017493210649}. Best is trial 42 with value: 0.953298567988343.\n",
      "[I 2024-10-21 23:08:30,502] Trial 76 finished with value: 0.9517152659801265 and parameters: {'max_depth': 7, 'learning_rate': 0.009165130406219146, 'subsample': 0.44789673476938435, 'n_estimators': 1999, 'l2_leaf_reg': 7.9580144716124215, 'border_count': 179, 'random_strength': 9.757848130302305, 'bagging_temperature': 0.9072644469001634, 'scale_pos_weight': 3.608293710963311}. Best is trial 42 with value: 0.953298567988343.\n",
      "[I 2024-10-21 23:08:41,058] Trial 77 finished with value: 0.9391583117257448 and parameters: {'max_depth': 8, 'learning_rate': 0.009803193178983736, 'subsample': 0.4854137365931648, 'n_estimators': 884, 'l2_leaf_reg': 8.283816276181305, 'border_count': 165, 'random_strength': 5.513996814637512, 'bagging_temperature': 0.8643518558059804, 'scale_pos_weight': 3.957679287211167}. Best is trial 42 with value: 0.953298567988343.\n",
      "[I 2024-10-21 23:09:00,146] Trial 78 finished with value: 0.9368411386105316 and parameters: {'max_depth': 7, 'learning_rate': 0.004955872551411604, 'subsample': 0.45660654589409816, 'n_estimators': 1961, 'l2_leaf_reg': 7.295828486253417, 'border_count': 183, 'random_strength': 9.254312740021573, 'bagging_temperature': 0.979316959064348, 'scale_pos_weight': 3.6068081520847968}. Best is trial 42 with value: 0.953298567988343.\n",
      "[I 2024-10-21 23:09:11,292] Trial 79 finished with value: 0.9365754235350985 and parameters: {'max_depth': 5, 'learning_rate': 0.009325890126691267, 'subsample': 0.49732495092514045, 'n_estimators': 1346, 'l2_leaf_reg': 7.847994728531853, 'border_count': 169, 'random_strength': 8.928006457354003, 'bagging_temperature': 0.9624713907947343, 'scale_pos_weight': 4.928881101062267}. Best is trial 42 with value: 0.953298567988343.\n",
      "[I 2024-10-21 23:09:26,507] Trial 80 finished with value: 0.946152818831827 and parameters: {'max_depth': 6, 'learning_rate': 0.008584256906371716, 'subsample': 0.3379426050864041, 'n_estimators': 1831, 'l2_leaf_reg': 8.415317734052303, 'border_count': 168, 'random_strength': 9.648099718190648, 'bagging_temperature': 0.9088406991809423, 'scale_pos_weight': 4.0980314383070695}. Best is trial 42 with value: 0.953298567988343.\n",
      "[I 2024-10-21 23:09:50,827] Trial 81 finished with value: 0.9533440311675753 and parameters: {'max_depth': 8, 'learning_rate': 0.009753681767781049, 'subsample': 0.46721364329183046, 'n_estimators': 1943, 'l2_leaf_reg': 7.599350350944299, 'border_count': 179, 'random_strength': 6.443845225023666, 'bagging_temperature': 0.8347153030312718, 'scale_pos_weight': 3.4649653906041844}. Best is trial 81 with value: 0.9533440311675753.\n",
      "[I 2024-10-21 23:10:14,194] Trial 82 finished with value: 0.9525013020099071 and parameters: {'max_depth': 8, 'learning_rate': 0.009754910112831377, 'subsample': 0.4744505757195482, 'n_estimators': 1886, 'l2_leaf_reg': 7.673495436884491, 'border_count': 179, 'random_strength': 9.963014054087012, 'bagging_temperature': 0.8342876197749741, 'scale_pos_weight': 3.510795418300379}. Best is trial 81 with value: 0.9533440311675753.\n",
      "[I 2024-10-21 23:10:34,120] Trial 83 finished with value: 0.9520774016362156 and parameters: {'max_depth': 7, 'learning_rate': 0.009187794074917693, 'subsample': 0.4790194644294305, 'n_estimators': 1944, 'l2_leaf_reg': 7.691570145011076, 'border_count': 178, 'random_strength': 6.4022203228473265, 'bagging_temperature': 0.8047154279645149, 'scale_pos_weight': 3.889166377618132}. Best is trial 81 with value: 0.9533440311675753.\n",
      "[I 2024-10-21 23:10:56,529] Trial 84 finished with value: 0.9390589930938231 and parameters: {'max_depth': 8, 'learning_rate': 0.0059871844062178315, 'subsample': 0.47135825305129164, 'n_estimators': 1874, 'l2_leaf_reg': 8.194785862858213, 'border_count': 175, 'random_strength': 9.936202436311838, 'bagging_temperature': 0.8719426105401816, 'scale_pos_weight': 3.5354574472193945}. Best is trial 81 with value: 0.9533440311675753.\n",
      "[I 2024-10-21 23:11:14,889] Trial 85 finished with value: 0.9500943496815222 and parameters: {'max_depth': 7, 'learning_rate': 0.00965784866669302, 'subsample': 0.49053743625083157, 'n_estimators': 1771, 'l2_leaf_reg': 7.596214195626512, 'border_count': 156, 'random_strength': 9.538167652323647, 'bagging_temperature': 0.9108588264295275, 'scale_pos_weight': 3.4909030265174024}. Best is trial 81 with value: 0.9533440311675753.\n",
      "[I 2024-10-21 23:11:38,842] Trial 86 finished with value: 0.9533319559539679 and parameters: {'max_depth': 8, 'learning_rate': 0.009761219614797633, 'subsample': 0.4543769967027375, 'n_estimators': 1997, 'l2_leaf_reg': 8.746225511462912, 'border_count': 162, 'random_strength': 9.227987300598636, 'bagging_temperature': 0.8293656224435328, 'scale_pos_weight': 3.7273244130245367}. Best is trial 81 with value: 0.9533440311675753.\n",
      "[I 2024-10-21 23:11:56,810] Trial 87 finished with value: 0.9507971874895474 and parameters: {'max_depth': 6, 'learning_rate': 0.008988845606853311, 'subsample': 0.4574688669008582, 'n_estimators': 1978, 'l2_leaf_reg': 8.675644710719485, 'border_count': 163, 'random_strength': 5.769706342943301, 'bagging_temperature': 0.7706341960733589, 'scale_pos_weight': 4.331704278420301}. Best is trial 81 with value: 0.9533440311675753.\n",
      "[I 2024-10-21 23:12:16,783] Trial 88 finished with value: 0.9518147053641842 and parameters: {'max_depth': 7, 'learning_rate': 0.009400037920224702, 'subsample': 0.44579846550593344, 'n_estimators': 1927, 'l2_leaf_reg': 7.285939529498436, 'border_count': 167, 'random_strength': 8.566774288840275, 'bagging_temperature': 0.9553420180222211, 'scale_pos_weight': 3.724508026246841}. Best is trial 81 with value: 0.9533440311675753.\n",
      "[I 2024-10-21 23:12:38,356] Trial 89 finished with value: 0.9518869755176251 and parameters: {'max_depth': 8, 'learning_rate': 0.009759537406397041, 'subsample': 0.1894988801617687, 'n_estimators': 1998, 'l2_leaf_reg': 7.136284226147728, 'border_count': 158, 'random_strength': 6.569529059960771, 'bagging_temperature': 0.6078619578088105, 'scale_pos_weight': 3.6588637100632218}. Best is trial 81 with value: 0.9533440311675753.\n",
      "[I 2024-10-21 23:12:55,896] Trial 90 finished with value: 0.9488818774831922 and parameters: {'max_depth': 7, 'learning_rate': 0.008789339653313551, 'subsample': 0.21830193679895238, 'n_estimators': 1926, 'l2_leaf_reg': 9.106339866790469, 'border_count': 171, 'random_strength': 9.203062601787032, 'bagging_temperature': 0.8077013952975644, 'scale_pos_weight': 2.9764414637467356}. Best is trial 81 with value: 0.9533440311675753.\n",
      "[I 2024-10-21 23:13:18,393] Trial 91 finished with value: 0.9526157750349064 and parameters: {'max_depth': 8, 'learning_rate': 0.009746588317494807, 'subsample': 0.4732904514553543, 'n_estimators': 1897, 'l2_leaf_reg': 7.786189279506385, 'border_count': 183, 'random_strength': 9.907201088128016, 'bagging_temperature': 0.8287527958537004, 'scale_pos_weight': 3.893391918887736}. Best is trial 81 with value: 0.9533440311675753.\n",
      "[I 2024-10-21 23:13:41,859] Trial 92 finished with value: 0.9524083228651294 and parameters: {'max_depth': 8, 'learning_rate': 0.00941268939181975, 'subsample': 0.4691033172671222, 'n_estimators': 1952, 'l2_leaf_reg': 7.831754020233729, 'border_count': 186, 'random_strength': 9.385459029027754, 'bagging_temperature': 0.8729341603988501, 'scale_pos_weight': 3.2471933617915414}. Best is trial 81 with value: 0.9533440311675753.\n",
      "[I 2024-10-21 23:14:01,616] Trial 93 finished with value: 0.9504750207904991 and parameters: {'max_depth': 8, 'learning_rate': 0.009781262872197757, 'subsample': 0.1496447192055358, 'n_estimators': 1838, 'l2_leaf_reg': 8.018400761018768, 'border_count': 182, 'random_strength': 6.085062404608866, 'bagging_temperature': 0.7851970249664321, 'scale_pos_weight': 3.78236015508194}. Best is trial 81 with value: 0.9533440311675753.\n",
      "[I 2024-10-21 23:14:32,705] Trial 94 finished with value: 0.9522875103529863 and parameters: {'max_depth': 9, 'learning_rate': 0.009156355636825469, 'subsample': 0.4601576807785742, 'n_estimators': 1975, 'l2_leaf_reg': 7.460050300917287, 'border_count': 177, 'random_strength': 8.888683148387923, 'bagging_temperature': 0.8268380694863562, 'scale_pos_weight': 3.869397864987254}. Best is trial 81 with value: 0.9533440311675753.\n",
      "[I 2024-10-21 23:14:51,443] Trial 95 finished with value: 0.9525963339409983 and parameters: {'max_depth': 7, 'learning_rate': 0.009981610039848862, 'subsample': 0.4831878710832191, 'n_estimators': 1911, 'l2_leaf_reg': 8.828677482188692, 'border_count': 154, 'random_strength': 9.521689234531552, 'bagging_temperature': 0.6788007999438401, 'scale_pos_weight': 3.436329341678535}. Best is trial 81 with value: 0.9533440311675753.\n",
      "[I 2024-10-21 23:15:20,735] Trial 96 finished with value: 0.9525558819754133 and parameters: {'max_depth': 9, 'learning_rate': 0.009529635365052748, 'subsample': 0.45065499768171785, 'n_estimators': 1881, 'l2_leaf_reg': 7.793754029450767, 'border_count': 161, 'random_strength': 6.851144658796353, 'bagging_temperature': 0.7263709067329073, 'scale_pos_weight': 4.052865465488293}. Best is trial 81 with value: 0.9533440311675753.\n",
      "[I 2024-10-21 23:15:41,160] Trial 97 finished with value: 0.9360944677771114 and parameters: {'max_depth': 8, 'learning_rate': 0.004082074873371922, 'subsample': 0.42483844078171457, 'n_estimators': 1793, 'l2_leaf_reg': 7.335283634407478, 'border_count': 174, 'random_strength': 9.126890633765926, 'bagging_temperature': 0.849886239687376, 'scale_pos_weight': 3.9447995541116185}. Best is trial 81 with value: 0.9533440311675753.\n",
      "[I 2024-10-21 23:15:58,219] Trial 98 finished with value: 0.9515299718273191 and parameters: {'max_depth': 6, 'learning_rate': 0.009697163211116171, 'subsample': 0.43975657082472275, 'n_estimators': 1999, 'l2_leaf_reg': 7.5137521595448655, 'border_count': 183, 'random_strength': 9.75647816129429, 'bagging_temperature': 0.9259490715170041, 'scale_pos_weight': 3.5987809336717644}. Best is trial 81 with value: 0.9533440311675753.\n",
      "[I 2024-10-21 23:16:17,270] Trial 99 finished with value: 0.9515806273484027 and parameters: {'max_depth': 7, 'learning_rate': 0.009048706660148112, 'subsample': 0.49278399467431666, 'n_estimators': 1931, 'l2_leaf_reg': 7.210525693283411, 'border_count': 186, 'random_strength': 6.31632147275166, 'bagging_temperature': 0.8884952619139386, 'scale_pos_weight': 4.256653303027031}. Best is trial 81 with value: 0.9533440311675753.\n"
     ]
    }
   ],
   "source": [
    "def objective(trial):\n",
    "    params= {\n",
    "        \"max_depth\": trial.suggest_int(\"max_depth\", 2, 15),\n",
    "        \"learning_rate\": trial.suggest_float(\"learning_rate\", 0.001, 0.01),\n",
    "#         \"min_child_weight\": trial.suggest_int(\"min_child_weight\", 0, 15),\n",
    "        \"subsample\": trial.suggest_float(\"subsample\", 0.1, 0.5),\n",
    "#         \"colsample_bytree\": trial.suggest_float(\"colsample_bytree\", 0.0, 1.0),\n",
    "#         \"colsample_bylevel\": trial.suggest_float(\"colsample_bytree\", 0.0, 1.0),\n",
    "#         \"colsample_bynode\": trial.suggest_float(\"colsample_bytree\", 0.0, 1.0),\n",
    "        \"n_estimators\":trial.suggest_int(\"n_estimators\", 500, 2000),\n",
    "        \"l2_leaf_reg\": trial.suggest_float(\"l2_leaf_reg\", 5.0, 10.0),\n",
    "        'border_count': trial.suggest_int(\"border_count\", 100, 200),\n",
    "        'random_strength': trial.suggest_float(\"random_strength\", 3.0, 10.0),\n",
    "        'bagging_temperature': trial.suggest_float(\"bagging_temperature\", 0.01, 1.0),\n",
    "        'scale_pos_weight': trial.suggest_float(\"scale_pos_weight\", 1.0, 5.0)\n",
    "#         {'iterations': 891,\n",
    "# 'depth': 7,\n",
    "# 'learning_rate': 0.0448563477253477,\n",
    "# 'l2_leaf_reg': 8.309884320742215,\n",
    "# 'border_count': 161,\n",
    "# 'random_strength': 5.297381835241815,\n",
    "# 'bagging_temperature': 0.10498408144882451,\n",
    "# 'scale_pos_weight': 2.3753101495123747}\n",
    "    }\n",
    "    model = make_pipeline(\n",
    "            OneHotEncoder(use_cat_names=True),\n",
    "            MinMaxScaler(),\n",
    "            CatBoostClassifier(**params, random_state=42, verbose=0)\n",
    "        )\n",
    "    model.fit(X_train, y_train)\n",
    "    predict = model.predict_proba(X_test)[:, 1]\n",
    "    score = roc_auc_score(y_test, predict)\n",
    "    return score\n",
    "study = optuna.create_study(study_name=\"XGB\", direction=\"maximize\")\n",
    "study.optimize(objective, n_trials=100, show_progress_bar=True)"
   ]
  },
  {
   "cell_type": "code",
   "execution_count": 22,
   "id": "8970751e",
   "metadata": {
    "execution": {
     "iopub.execute_input": "2024-10-21T23:16:17.333990Z",
     "iopub.status.busy": "2024-10-21T23:16:17.333613Z",
     "iopub.status.idle": "2024-10-22T00:15:53.689182Z",
     "shell.execute_reply": "2024-10-22T00:15:53.688125Z"
    },
    "papermill": {
     "duration": 3576.385544,
     "end_time": "2024-10-22T00:15:53.693944",
     "exception": false,
     "start_time": "2024-10-21T23:16:17.308400",
     "status": "completed"
    },
    "scrolled": true,
    "tags": []
   },
   "outputs": [
    {
     "data": {
      "application/vnd.jupyter.widget-view+json": {
       "model_id": "f355623e16254fe4a5cc3ea9a21f4b99",
       "version_major": 2,
       "version_minor": 0
      },
      "text/plain": [
       "  0%|          | 0/100 [00:00<?, ?it/s]"
      ]
     },
     "metadata": {},
     "output_type": "display_data"
    },
    {
     "name": "stdout",
     "output_type": "stream",
     "text": [
      "[I 2024-10-21 23:16:45,483] Trial 100 finished with value: 0.9511328180517682 and parameters: {'max_depth': 9, 'learning_rate': 0.00927740484340404, 'subsample': 0.4769912028124061, 'n_estimators': 1858, 'l2_leaf_reg': 7.7335926685960015, 'border_count': 147, 'random_strength': 8.625438434173335, 'bagging_temperature': 0.6398334272519015, 'scale_pos_weight': 3.30518918302831}. Best is trial 81 with value: 0.9533440311675753.\n",
      "[I 2024-10-21 23:17:03,949] Trial 101 finished with value: 0.9525326371892189 and parameters: {'max_depth': 7, 'learning_rate': 0.009974365011018773, 'subsample': 0.48513503542828074, 'n_estimators': 1914, 'l2_leaf_reg': 8.913691427013445, 'border_count': 155, 'random_strength': 9.505024711363415, 'bagging_temperature': 0.6752966267466991, 'scale_pos_weight': 3.4403958367847407}. Best is trial 81 with value: 0.9533440311675753.\n",
      "[I 2024-10-21 23:17:26,535] Trial 102 finished with value: 0.9527059768805545 and parameters: {'max_depth': 8, 'learning_rate': 0.009530475190494127, 'subsample': 0.49970168691710287, 'n_estimators': 1969, 'l2_leaf_reg': 8.629853054094871, 'border_count': 158, 'random_strength': 9.58875074319046, 'bagging_temperature': 0.7487714596605543, 'scale_pos_weight': 3.0877154267787645}. Best is trial 81 with value: 0.9533440311675753.\n",
      "[I 2024-10-21 23:17:48,962] Trial 103 finished with value: 0.9527537947264402 and parameters: {'max_depth': 8, 'learning_rate': 0.009497338426717234, 'subsample': 0.4681974910885206, 'n_estimators': 1967, 'l2_leaf_reg': 8.522225005778797, 'border_count': 160, 'random_strength': 9.636626277018056, 'bagging_temperature': 0.7469809655385331, 'scale_pos_weight': 3.059481360062354}. Best is trial 81 with value: 0.9533440311675753.\n",
      "[I 2024-10-21 23:18:10,555] Trial 104 finished with value: 0.9526171636844712 and parameters: {'max_depth': 8, 'learning_rate': 0.009512709663511596, 'subsample': 0.46659936950934555, 'n_estimators': 1966, 'l2_leaf_reg': 8.710387377652504, 'border_count': 157, 'random_strength': 9.272604950683537, 'bagging_temperature': 0.7582384774283454, 'scale_pos_weight': 3.0340678595886725}. Best is trial 81 with value: 0.9533440311675753.\n",
      "[I 2024-10-21 23:18:39,235] Trial 105 finished with value: 0.9517030096383147 and parameters: {'max_depth': 9, 'learning_rate': 0.008900789949499647, 'subsample': 0.49625657764660064, 'n_estimators': 1968, 'l2_leaf_reg': 8.552658159520977, 'border_count': 162, 'random_strength': 9.000954611412377, 'bagging_temperature': 0.7889738061731617, 'scale_pos_weight': 3.130527218214735}. Best is trial 81 with value: 0.9533440311675753.\n",
      "[I 2024-10-21 23:19:00,837] Trial 106 finished with value: 0.9504966354228566 and parameters: {'max_depth': 8, 'learning_rate': 0.008696815894103302, 'subsample': 0.45825777866211886, 'n_estimators': 1940, 'l2_leaf_reg': 9.228297338678503, 'border_count': 160, 'random_strength': 8.348375529732555, 'bagging_temperature': 0.7155557032392824, 'scale_pos_weight': 2.928554051495724}. Best is trial 81 with value: 0.9533440311675753.\n",
      "[I 2024-10-21 23:19:17,859] Trial 107 finished with value: 0.9469197156480399 and parameters: {'max_depth': 7, 'learning_rate': 0.008470445586674825, 'subsample': 0.3793753241435685, 'n_estimators': 1828, 'l2_leaf_reg': 8.464564284128075, 'border_count': 149, 'random_strength': 9.66504247441176, 'bagging_temperature': 0.740358066085998, 'scale_pos_weight': 2.8293558416690834}. Best is trial 81 with value: 0.9533440311675753.\n",
      "[I 2024-10-21 23:19:46,487] Trial 108 finished with value: 0.9521604791058353 and parameters: {'max_depth': 9, 'learning_rate': 0.009472763140298051, 'subsample': 0.43519145416846144, 'n_estimators': 1972, 'l2_leaf_reg': 8.226293793929024, 'border_count': 166, 'random_strength': 9.084868708026866, 'bagging_temperature': 0.6959694742051487, 'scale_pos_weight': 2.5595607665725915}. Best is trial 81 with value: 0.9533440311675753.\n",
      "[I 2024-10-21 23:20:03,258] Trial 109 finished with value: 0.9447932101556893 and parameters: {'max_depth': 8, 'learning_rate': 0.009238157613216818, 'subsample': 0.4988508415957309, 'n_estimators': 1469, 'l2_leaf_reg': 9.125246240301395, 'border_count': 159, 'random_strength': 7.332317707687903, 'bagging_temperature': 0.9745575601315617, 'scale_pos_weight': 3.215273830277881}. Best is trial 81 with value: 0.9533440311675753.\n",
      "[I 2024-10-21 23:20:14,400] Trial 110 finished with value: 0.9338118901488838 and parameters: {'max_depth': 2, 'learning_rate': 0.009685447702864057, 'subsample': 0.46445628318512167, 'n_estimators': 2000, 'l2_leaf_reg': 9.357444635980862, 'border_count': 173, 'random_strength': 9.331429256399892, 'bagging_temperature': 0.9434831881148001, 'scale_pos_weight': 2.7306639841269327}. Best is trial 81 with value: 0.9533440311675753.\n",
      "[I 2024-10-21 23:20:35,931] Trial 111 finished with value: 0.9524905550697964 and parameters: {'max_depth': 8, 'learning_rate': 0.009494561313444222, 'subsample': 0.45052779194873305, 'n_estimators': 1951, 'l2_leaf_reg': 8.69821034461488, 'border_count': 156, 'random_strength': 8.80694803918998, 'bagging_temperature': 0.7635906230208147, 'scale_pos_weight': 3.0381179826471465}. Best is trial 81 with value: 0.9533440311675753.\n",
      "[I 2024-10-21 23:20:49,607] Trial 112 finished with value: 0.9413986864824142 and parameters: {'max_depth': 8, 'learning_rate': 0.009831972030232622, 'subsample': 0.4809106591544773, 'n_estimators': 1265, 'l2_leaf_reg': 8.805264433187878, 'border_count': 153, 'random_strength': 9.224635454982984, 'bagging_temperature': 0.7137633641413583, 'scale_pos_weight': 3.117196776168536}. Best is trial 81 with value: 0.9533440311675753.\n",
      "[I 2024-10-21 23:21:18,632] Trial 113 finished with value: 0.9526521818039331 and parameters: {'max_depth': 9, 'learning_rate': 0.00958208061839102, 'subsample': 0.467839493835642, 'n_estimators': 1967, 'l2_leaf_reg': 8.668315377161179, 'border_count': 147, 'random_strength': 9.613001847841907, 'bagging_temperature': 0.7529027772212886, 'scale_pos_weight': 3.350119186865313}. Best is trial 81 with value: 0.9533440311675753.\n",
      "[I 2024-10-21 23:21:47,284] Trial 114 finished with value: 0.9508252019851169 and parameters: {'max_depth': 9, 'learning_rate': 0.009069532630890996, 'subsample': 0.48882521829292297, 'n_estimators': 1924, 'l2_leaf_reg': 8.137413823907405, 'border_count': 142, 'random_strength': 9.64818444729661, 'bagging_temperature': 0.7417863244896314, 'scale_pos_weight': 3.283338923060515}. Best is trial 81 with value: 0.9533440311675753.\n",
      "[I 2024-10-21 23:22:27,371] Trial 115 finished with value: 0.9513404513497493 and parameters: {'max_depth': 10, 'learning_rate': 0.009292435525333667, 'subsample': 0.4158718384743421, 'n_estimators': 1869, 'l2_leaf_reg': 7.928733708858391, 'border_count': 150, 'random_strength': 5.57127186939692, 'bagging_temperature': 0.6901478375850052, 'scale_pos_weight': 3.367895946498058}. Best is trial 81 with value: 0.9533440311675753.\n",
      "[I 2024-10-21 23:22:58,346] Trial 116 finished with value: 0.9530749954084001 and parameters: {'max_depth': 9, 'learning_rate': 0.009653619927631783, 'subsample': 0.46946029126707256, 'n_estimators': 1973, 'l2_leaf_reg': 8.616344475715005, 'border_count': 151, 'random_strength': 6.888734267011573, 'bagging_temperature': 0.6499795977252812, 'scale_pos_weight': 3.5891648791720647}. Best is trial 81 with value: 0.9533440311675753.\n",
      "[I 2024-10-21 23:23:17,726] Trial 117 finished with value: 0.9528413400250946 and parameters: {'max_depth': 7, 'learning_rate': 0.009827334764134521, 'subsample': 0.44413334642596264, 'n_estimators': 1901, 'l2_leaf_reg': 8.359479955522799, 'border_count': 180, 'random_strength': 5.314462530229963, 'bagging_temperature': 0.6173730048796636, 'scale_pos_weight': 3.679544094575586}. Best is trial 81 with value: 0.9533440311675753.\n",
      "[I 2024-10-21 23:23:37,009] Trial 118 finished with value: 0.9528922370504505 and parameters: {'max_depth': 7, 'learning_rate': 0.009835745304975487, 'subsample': 0.44682885458505156, 'n_estimators': 1899, 'l2_leaf_reg': 8.37092686289214, 'border_count': 152, 'random_strength': 5.255834948928813, 'bagging_temperature': 0.6479404205288877, 'scale_pos_weight': 3.695918892430342}. Best is trial 81 with value: 0.9533440311675753.\n",
      "[I 2024-10-21 23:23:53,163] Trial 119 finished with value: 0.9511633079661272 and parameters: {'max_depth': 6, 'learning_rate': 0.009809385418237459, 'subsample': 0.427052088893854, 'n_estimators': 1902, 'l2_leaf_reg': 8.36717418209064, 'border_count': 144, 'random_strength': 5.098382593376214, 'bagging_temperature': 0.6105236693225081, 'scale_pos_weight': 3.7031711180032514}. Best is trial 81 with value: 0.9533440311675753.\n",
      "[I 2024-10-21 23:24:09,189] Trial 120 finished with value: 0.9495356899239707 and parameters: {'max_depth': 7, 'learning_rate': 0.009976115086888358, 'subsample': 0.443136198804628, 'n_estimators': 1596, 'l2_leaf_reg': 8.498049360159182, 'border_count': 152, 'random_strength': 5.262429476007849, 'bagging_temperature': 0.5452636905538153, 'scale_pos_weight': 3.613552774496452}. Best is trial 81 with value: 0.9533440311675753.\n",
      "[I 2024-10-21 23:24:28,474] Trial 121 finished with value: 0.9528335515123179 and parameters: {'max_depth': 7, 'learning_rate': 0.009373770126225171, 'subsample': 0.4530502019818401, 'n_estimators': 1937, 'l2_leaf_reg': 8.317207590922555, 'border_count': 177, 'random_strength': 4.596340537447478, 'bagging_temperature': 0.6471809553549877, 'scale_pos_weight': 3.774016371015572}. Best is trial 81 with value: 0.9533440311675753.\n",
      "[I 2024-10-21 23:24:46,033] Trial 122 finished with value: 0.9515696992800878 and parameters: {'max_depth': 6, 'learning_rate': 0.00934831904990563, 'subsample': 0.4559048782220238, 'n_estimators': 1943, 'l2_leaf_reg': 8.029928119839669, 'border_count': 180, 'random_strength': 4.59389109865647, 'bagging_temperature': 0.6427000306750906, 'scale_pos_weight': 3.5664242780433373}. Best is trial 81 with value: 0.9533440311675753.\n",
      "[I 2024-10-21 23:24:56,080] Trial 123 finished with value: 0.9391975561699694 and parameters: {'max_depth': 7, 'learning_rate': 0.009846818905653427, 'subsample': 0.4465905530854574, 'n_estimators': 1002, 'l2_leaf_reg': 8.305500505380069, 'border_count': 176, 'random_strength': 5.377672101605178, 'bagging_temperature': 0.6577723959522177, 'scale_pos_weight': 3.782275016701925}. Best is trial 81 with value: 0.9533440311675753.\n",
      "[I 2024-10-21 23:25:15,600] Trial 124 finished with value: 0.9519751245769601 and parameters: {'max_depth': 7, 'learning_rate': 0.009156851274612956, 'subsample': 0.43681621962260114, 'n_estimators': 1901, 'l2_leaf_reg': 8.415426731269944, 'border_count': 178, 'random_strength': 4.877994076388111, 'bagging_temperature': 0.5783425736201866, 'scale_pos_weight': 3.6945365529401792}. Best is trial 81 with value: 0.9533440311675753.\n",
      "[I 2024-10-21 23:25:34,485] Trial 125 finished with value: 0.947082429151401 and parameters: {'max_depth': 7, 'learning_rate': 0.007289585648264825, 'subsample': 0.40689011841264394, 'n_estimators': 1933, 'l2_leaf_reg': 7.587486620515547, 'border_count': 169, 'random_strength': 4.553812193825351, 'bagging_temperature': 0.6293591105917106, 'scale_pos_weight': 3.4934113352237364}. Best is trial 81 with value: 0.9533440311675753.\n",
      "[I 2024-10-21 23:25:51,465] Trial 126 finished with value: 0.9495291693086229 and parameters: {'max_depth': 6, 'learning_rate': 0.009649708981837948, 'subsample': 0.45899446584279624, 'n_estimators': 1842, 'l2_leaf_reg': 8.207643503609264, 'border_count': 180, 'random_strength': 4.3850261871656455, 'bagging_temperature': 0.6582504801674934, 'scale_pos_weight': 1.241355513048584}. Best is trial 81 with value: 0.9533440311675753.\n",
      "[I 2024-10-21 23:26:10,843] Trial 127 finished with value: 0.9516172756217016 and parameters: {'max_depth': 7, 'learning_rate': 0.00887960450738763, 'subsample': 0.3958452443722803, 'n_estimators': 1993, 'l2_leaf_reg': 7.4393746860514005, 'border_count': 151, 'random_strength': 5.9527583859032225, 'bagging_temperature': 0.6078622841895934, 'scale_pos_weight': 3.8138125936072687}. Best is trial 81 with value: 0.9533440311675753.\n",
      "[I 2024-10-21 23:38:42,626] Trial 128 finished with value: 0.9419402598127109 and parameters: {'max_depth': 15, 'learning_rate': 0.009388585859150568, 'subsample': 0.28063520825015065, 'n_estimators': 1808, 'l2_leaf_reg': 8.569854077392678, 'border_count': 184, 'random_strength': 5.6729193361150525, 'bagging_temperature': 0.561766788236224, 'scale_pos_weight': 3.7200239748466224}. Best is trial 81 with value: 0.9533440311675753.\n",
      "[I 2024-10-21 23:38:49,846] Trial 129 finished with value: 0.9383428725508297 and parameters: {'max_depth': 6, 'learning_rate': 0.009837656979775166, 'subsample': 0.45105536186383105, 'n_estimators': 794, 'l2_leaf_reg': 8.107142743918066, 'border_count': 173, 'random_strength': 3.7264963427068247, 'bagging_temperature': 0.5940852154440794, 'scale_pos_weight': 3.4812541741829968}. Best is trial 81 with value: 0.9533440311675753.\n",
      "[I 2024-10-21 23:39:08,806] Trial 130 finished with value: 0.9514185176057218 and parameters: {'max_depth': 7, 'learning_rate': 0.009033776947624746, 'subsample': 0.4230071420691575, 'n_estimators': 1880, 'l2_leaf_reg': 8.812663403169404, 'border_count': 177, 'random_strength': 4.729390812521474, 'bagging_temperature': 0.11668277367502422, 'scale_pos_weight': 3.626729683437659}. Best is trial 81 with value: 0.9533440311675753.\n",
      "[I 2024-10-21 23:39:31,253] Trial 131 finished with value: 0.9539339053523022 and parameters: {'max_depth': 8, 'learning_rate': 0.009997583242381945, 'subsample': 0.4796853429441854, 'n_estimators': 1968, 'l2_leaf_reg': 8.569022614184897, 'border_count': 158, 'random_strength': 6.444517306876857, 'bagging_temperature': 0.6821679688051234, 'scale_pos_weight': 3.5720770167183553}. Best is trial 131 with value: 0.9539339053523022.\n",
      "[I 2024-10-21 23:40:02,066] Trial 132 finished with value: 0.9535965842601765 and parameters: {'max_depth': 9, 'learning_rate': 0.009972538471765715, 'subsample': 0.4781310230155396, 'n_estimators': 1935, 'l2_leaf_reg': 8.309022886796976, 'border_count': 162, 'random_strength': 6.946916258227553, 'bagging_temperature': 0.6793638351958246, 'scale_pos_weight': 3.5586186239069098}. Best is trial 131 with value: 0.9539339053523022.\n",
      "[I 2024-10-21 23:40:25,383] Trial 133 finished with value: 0.953579497832922 and parameters: {'max_depth': 8, 'learning_rate': 0.009650205543276946, 'subsample': 0.4764166799089828, 'n_estimators': 2000, 'l2_leaf_reg': 8.290523497187358, 'border_count': 164, 'random_strength': 6.644876669411108, 'bagging_temperature': 0.6760100278275337, 'scale_pos_weight': 3.5671710118634548}. Best is trial 131 with value: 0.9539339053523022.\n",
      "[I 2024-10-21 23:40:56,246] Trial 134 finished with value: 0.9536250817642902 and parameters: {'max_depth': 9, 'learning_rate': 0.009983977930797498, 'subsample': 0.4774816636070999, 'n_estimators': 1911, 'l2_leaf_reg': 9.025255142489204, 'border_count': 165, 'random_strength': 6.822704730580462, 'bagging_temperature': 0.6247675236846486, 'scale_pos_weight': 3.576492428312985}. Best is trial 131 with value: 0.9539339053523022.\n",
      "[I 2024-10-21 23:41:41,665] Trial 135 finished with value: 0.9528592717173017 and parameters: {'max_depth': 10, 'learning_rate': 0.009983241705693568, 'subsample': 0.4782036107744792, 'n_estimators': 1938, 'l2_leaf_reg': 8.994805409397655, 'border_count': 164, 'random_strength': 6.906814522801456, 'bagging_temperature': 0.6828142765442683, 'scale_pos_weight': 3.6548166152463226}. Best is trial 131 with value: 0.9539339053523022.\n",
      "[I 2024-10-21 23:42:26,454] Trial 136 finished with value: 0.9522873292247822 and parameters: {'max_depth': 10, 'learning_rate': 0.009996480818020754, 'subsample': 0.4808398000030791, 'n_estimators': 1903, 'l2_leaf_reg': 8.98283721233509, 'border_count': 164, 'random_strength': 6.506865205275652, 'bagging_temperature': 0.6262040417261179, 'scale_pos_weight': 3.76030421415889}. Best is trial 131 with value: 0.9539339053523022.\n",
      "[I 2024-10-21 23:43:09,482] Trial 137 finished with value: 0.9521135669009702 and parameters: {'max_depth': 10, 'learning_rate': 0.009789183293942053, 'subsample': 0.47651402357322087, 'n_estimators': 1859, 'l2_leaf_reg': 9.062239117746222, 'border_count': 162, 'random_strength': 6.850097514338086, 'bagging_temperature': 0.6491653407201096, 'scale_pos_weight': 3.640073889049127}. Best is trial 131 with value: 0.9539339053523022.\n",
      "[I 2024-10-21 23:43:40,335] Trial 138 finished with value: 0.9531795667582411 and parameters: {'max_depth': 9, 'learning_rate': 0.009809576949958257, 'subsample': 0.48872962051489216, 'n_estimators': 1926, 'l2_leaf_reg': 8.337319017775867, 'border_count': 166, 'random_strength': 6.7001803500710695, 'bagging_temperature': 0.6685876979185114, 'scale_pos_weight': 3.887167967721221}. Best is trial 131 with value: 0.9539339053523022.\n",
      "[I 2024-10-21 23:44:11,492] Trial 139 finished with value: 0.9534417800217282 and parameters: {'max_depth': 9, 'learning_rate': 0.009816321648970014, 'subsample': 0.49033439015715086, 'n_estimators': 1903, 'l2_leaf_reg': 8.88533781872579, 'border_count': 166, 'random_strength': 6.6466174351250285, 'bagging_temperature': 0.7136777260677893, 'scale_pos_weight': 3.9082159893269934}. Best is trial 131 with value: 0.9539339053523022.\n",
      "[I 2024-10-21 23:44:43,910] Trial 140 finished with value: 0.954014205522792 and parameters: {'max_depth': 9, 'learning_rate': 0.009960693656711915, 'subsample': 0.49196631804507585, 'n_estimators': 2000, 'l2_leaf_reg': 8.913050505399491, 'border_count': 166, 'random_strength': 6.734340099185934, 'bagging_temperature': 0.6803238442627085, 'scale_pos_weight': 4.008558037642235}. Best is trial 140 with value: 0.954014205522792.\n",
      "[I 2024-10-21 23:45:15,108] Trial 141 finished with value: 0.9537875537633793 and parameters: {'max_depth': 9, 'learning_rate': 0.00997439146780252, 'subsample': 0.4913439815662033, 'n_estimators': 1941, 'l2_leaf_reg': 8.829679604647593, 'border_count': 166, 'random_strength': 6.879269064908099, 'bagging_temperature': 0.6663721580135781, 'scale_pos_weight': 4.020276404961451}. Best is trial 140 with value: 0.954014205522792.\n",
      "[I 2024-10-21 23:45:47,472] Trial 142 finished with value: 0.9536604621401602 and parameters: {'max_depth': 9, 'learning_rate': 0.00971413092671509, 'subsample': 0.49118745286465515, 'n_estimators': 1998, 'l2_leaf_reg': 8.850572794657548, 'border_count': 167, 'random_strength': 6.690814196639127, 'bagging_temperature': 0.705622941909154, 'scale_pos_weight': 3.997778000693113}. Best is trial 140 with value: 0.954014205522792.\n",
      "[I 2024-10-21 23:46:20,748] Trial 143 finished with value: 0.9541618250091438 and parameters: {'max_depth': 9, 'learning_rate': 0.009985901108890177, 'subsample': 0.4903142218722355, 'n_estimators': 1968, 'l2_leaf_reg': 8.88381807039804, 'border_count': 165, 'random_strength': 6.6864668243377485, 'bagging_temperature': 0.7103036600260515, 'scale_pos_weight': 4.022944653722563}. Best is trial 143 with value: 0.9541618250091438.\n",
      "[I 2024-10-21 23:46:53,407] Trial 144 finished with value: 0.9531985852196729 and parameters: {'max_depth': 9, 'learning_rate': 0.009631806355521933, 'subsample': 0.489157132114466, 'n_estimators': 1960, 'l2_leaf_reg': 8.87275238913232, 'border_count': 167, 'random_strength': 6.665935966133042, 'bagging_temperature': 0.7013571486867806, 'scale_pos_weight': 4.141853305679517}. Best is trial 143 with value: 0.9541618250091438.\n",
      "[I 2024-10-21 23:47:26,770] Trial 145 finished with value: 0.9537754181737035 and parameters: {'max_depth': 9, 'learning_rate': 0.009673090651843855, 'subsample': 0.4911292886253823, 'n_estimators': 2000, 'l2_leaf_reg': 8.813278660657135, 'border_count': 170, 'random_strength': 6.689334267554561, 'bagging_temperature': 0.7112802874741302, 'scale_pos_weight': 4.173851126339248}. Best is trial 143 with value: 0.9541618250091438.\n",
      "[I 2024-10-21 23:48:00,534] Trial 146 finished with value: 0.9536186819010781 and parameters: {'max_depth': 9, 'learning_rate': 0.009640063734731188, 'subsample': 0.49196415342580785, 'n_estimators': 1998, 'l2_leaf_reg': 8.880859746325125, 'border_count': 166, 'random_strength': 6.690102037737799, 'bagging_temperature': 0.7092253255602589, 'scale_pos_weight': 4.406405371290813}. Best is trial 143 with value: 0.9541618250091438.\n",
      "[I 2024-10-21 23:48:34,174] Trial 147 finished with value: 0.9540692081207742 and parameters: {'max_depth': 9, 'learning_rate': 0.009629731478057636, 'subsample': 0.49299486602987413, 'n_estimators': 1993, 'l2_leaf_reg': 8.88302978338929, 'border_count': 167, 'random_strength': 6.379119288748118, 'bagging_temperature': 0.7197142973570348, 'scale_pos_weight': 4.5199463887178934}. Best is trial 143 with value: 0.9541618250091438.\n",
      "[I 2024-10-21 23:49:08,189] Trial 148 finished with value: 0.9537010952339493 and parameters: {'max_depth': 9, 'learning_rate': 0.009651109583332257, 'subsample': 0.4940599624036977, 'n_estimators': 1997, 'l2_leaf_reg': 8.759787644894311, 'border_count': 170, 'random_strength': 6.411163704163588, 'bagging_temperature': 0.7134925216417762, 'scale_pos_weight': 4.403094762424335}. Best is trial 143 with value: 0.9541618250091438.\n",
      "[I 2024-10-21 23:49:40,141] Trial 149 finished with value: 0.943974269168828 and parameters: {'max_depth': 9, 'learning_rate': 0.006586317796722636, 'subsample': 0.4940499806521143, 'n_estimators': 1987, 'l2_leaf_reg': 9.33527013165124, 'border_count': 170, 'random_strength': 6.386655219573846, 'bagging_temperature': 0.719553276996453, 'scale_pos_weight': 4.450391992359622}. Best is trial 143 with value: 0.9541618250091438.\n",
      "[I 2024-10-21 23:50:28,362] Trial 150 finished with value: 0.9526725285388618 and parameters: {'max_depth': 10, 'learning_rate': 0.009330291296586076, 'subsample': 0.4935421159295791, 'n_estimators': 2000, 'l2_leaf_reg': 8.770205562864563, 'border_count': 168, 'random_strength': 6.219317387729533, 'bagging_temperature': 0.7121250359399351, 'scale_pos_weight': 4.557711031398167}. Best is trial 143 with value: 0.9541618250091438.\n",
      "[I 2024-10-21 23:51:00,386] Trial 151 finished with value: 0.9533696909964913 and parameters: {'max_depth': 9, 'learning_rate': 0.00999847802810108, 'subsample': 0.49893825334266656, 'n_estimators': 1945, 'l2_leaf_reg': 9.166805924259615, 'border_count': 165, 'random_strength': 6.5007127027605485, 'bagging_temperature': 0.6825572354438406, 'scale_pos_weight': 4.429322041030523}. Best is trial 143 with value: 0.9541618250091438.\n",
      "[I 2024-10-21 23:51:31,988] Trial 152 finished with value: 0.953328997526634 and parameters: {'max_depth': 9, 'learning_rate': 0.009677285706130138, 'subsample': 0.49984312100493256, 'n_estimators': 1947, 'l2_leaf_reg': 9.185008585056782, 'border_count': 165, 'random_strength': 6.469046615433397, 'bagging_temperature': 0.6756393852024835, 'scale_pos_weight': 4.362765510404827}. Best is trial 143 with value: 0.9541618250091438.\n",
      "[I 2024-10-21 23:52:05,043] Trial 153 finished with value: 0.9538423148570894 and parameters: {'max_depth': 9, 'learning_rate': 0.009936116284933856, 'subsample': 0.4853840392268954, 'n_estimators': 1999, 'l2_leaf_reg': 8.928445214300512, 'border_count': 171, 'random_strength': 6.600720257779859, 'bagging_temperature': 0.6916579413112584, 'scale_pos_weight': 4.545582567261743}. Best is trial 143 with value: 0.9541618250091438.\n",
      "[I 2024-10-21 23:52:51,132] Trial 154 finished with value: 0.9525912623512832 and parameters: {'max_depth': 10, 'learning_rate': 0.009912703311329749, 'subsample': 0.4832065901730494, 'n_estimators': 1954, 'l2_leaf_reg': 8.956991818867026, 'border_count': 171, 'random_strength': 7.147202462826582, 'bagging_temperature': 0.6878743171903295, 'scale_pos_weight': 4.641948007203629}. Best is trial 143 with value: 0.9541618250091438.\n",
      "[I 2024-10-21 23:53:22,667] Trial 155 finished with value: 0.9534499911669813 and parameters: {'max_depth': 9, 'learning_rate': 0.009996316578123285, 'subsample': 0.49058909914784204, 'n_estimators': 1921, 'l2_leaf_reg': 8.887599574323376, 'border_count': 168, 'random_strength': 6.636939744209606, 'bagging_temperature': 0.729179646088016, 'scale_pos_weight': 4.473930973033568}. Best is trial 143 with value: 0.9541618250091438.\n",
      "[I 2024-10-21 23:53:53,106] Trial 156 finished with value: 0.9536046746532935 and parameters: {'max_depth': 9, 'learning_rate': 0.009995319430166303, 'subsample': 0.4894839858056893, 'n_estimators': 1909, 'l2_leaf_reg': 9.056544615220165, 'border_count': 168, 'random_strength': 6.632141241612705, 'bagging_temperature': 0.7281764576629892, 'scale_pos_weight': 4.47544092311744}. Best is trial 143 with value: 0.9541618250091438.\n",
      "[I 2024-10-21 23:54:23,331] Trial 157 finished with value: 0.9533673967059058 and parameters: {'max_depth': 9, 'learning_rate': 0.0099965726617321, 'subsample': 0.4895648903847364, 'n_estimators': 1877, 'l2_leaf_reg': 9.052588448734898, 'border_count': 169, 'random_strength': 6.69688334257552, 'bagging_temperature': 0.7282224765347144, 'scale_pos_weight': 4.224714688489945}. Best is trial 143 with value: 0.9541618250091438.\n",
      "[I 2024-10-21 23:54:54,338] Trial 158 finished with value: 0.9529838275456635 and parameters: {'max_depth': 9, 'learning_rate': 0.009531823606249453, 'subsample': 0.4833196335382379, 'n_estimators': 1915, 'l2_leaf_reg': 8.894809731674377, 'border_count': 167, 'random_strength': 6.6144567504062834, 'bagging_temperature': 0.7114894322513433, 'scale_pos_weight': 4.502986770726641}. Best is trial 143 with value: 0.9541618250091438.\n",
      "[I 2024-10-21 23:55:26,587] Trial 159 finished with value: 0.9535976106533331 and parameters: {'max_depth': 9, 'learning_rate': 0.009604628344029007, 'subsample': 0.47674711729172603, 'n_estimators': 1999, 'l2_leaf_reg': 9.277995567438497, 'border_count': 171, 'random_strength': 6.278802216891574, 'bagging_temperature': 0.7273970792913185, 'scale_pos_weight': 4.849051973383235}. Best is trial 143 with value: 0.9541618250091438.\n",
      "[I 2024-10-21 23:55:58,388] Trial 160 finished with value: 0.9534460063464909 and parameters: {'max_depth': 9, 'learning_rate': 0.009492575904571306, 'subsample': 0.47694928301691536, 'n_estimators': 1998, 'l2_leaf_reg': 9.274120521808008, 'border_count': 171, 'random_strength': 6.2697951590533885, 'bagging_temperature': 0.7278187552968652, 'scale_pos_weight': 4.818568663764707}. Best is trial 143 with value: 0.9541618250091438.\n",
      "[I 2024-10-21 23:56:29,959] Trial 161 finished with value: 0.9536847333195112 and parameters: {'max_depth': 9, 'learning_rate': 0.00960286510477965, 'subsample': 0.47648077709119313, 'n_estimators': 2000, 'l2_leaf_reg': 9.296605473591525, 'border_count': 171, 'random_strength': 6.271839668927963, 'bagging_temperature': 0.7299424730671045, 'scale_pos_weight': 4.890292152784338}. Best is trial 143 with value: 0.9541618250091438.\n",
      "[I 2024-10-21 23:57:01,482] Trial 162 finished with value: 0.953462489013065 and parameters: {'max_depth': 9, 'learning_rate': 0.009655893116256135, 'subsample': 0.4831387790063748, 'n_estimators': 1971, 'l2_leaf_reg': 9.033963351063074, 'border_count': 169, 'random_strength': 6.033236818507147, 'bagging_temperature': 0.7774208260752942, 'scale_pos_weight': 4.837470935226748}. Best is trial 143 with value: 0.9541618250091438.\n",
      "[I 2024-10-21 23:57:47,099] Trial 163 finished with value: 0.9529201911699516 and parameters: {'max_depth': 10, 'learning_rate': 0.009642196199772433, 'subsample': 0.47915383009129536, 'n_estimators': 1967, 'l2_leaf_reg': 9.02113202434004, 'border_count': 170, 'random_strength': 6.048185707850615, 'bagging_temperature': 0.7750617774930642, 'scale_pos_weight': 4.796165152944673}. Best is trial 143 with value: 0.9541618250091438.\n",
      "[I 2024-10-21 23:58:18,504] Trial 164 finished with value: 0.9528445399567007 and parameters: {'max_depth': 9, 'learning_rate': 0.00922386030371074, 'subsample': 0.4756864900216876, 'n_estimators': 1975, 'l2_leaf_reg': 9.103200005964336, 'border_count': 163, 'random_strength': 7.017862577617092, 'bagging_temperature': 0.6980805416934655, 'scale_pos_weight': 4.707638696108939}. Best is trial 143 with value: 0.9541618250091438.\n",
      "[I 2024-10-21 23:59:04,353] Trial 165 finished with value: 0.9520460664569039 and parameters: {'max_depth': 10, 'learning_rate': 0.009424135691485118, 'subsample': 0.48447342437584556, 'n_estimators': 1968, 'l2_leaf_reg': 9.61206628143605, 'border_count': 173, 'random_strength': 6.142431500629351, 'bagging_temperature': 0.6717095919493997, 'scale_pos_weight': 4.852018782714404}. Best is trial 143 with value: 0.9541618250091438.\n",
      "[I 2024-10-21 23:59:36,452] Trial 166 finished with value: 0.9533457216974806 and parameters: {'max_depth': 9, 'learning_rate': 0.009625524376999097, 'subsample': 0.49916603307335844, 'n_estimators': 1998, 'l2_leaf_reg': 9.397303981595645, 'border_count': 168, 'random_strength': 6.805084352363192, 'bagging_temperature': 0.7660003223715626, 'scale_pos_weight': 4.939183443125908}. Best is trial 143 with value: 0.9541618250091438.\n",
      "[I 2024-10-22 00:00:07,480] Trial 167 finished with value: 0.953169604707015 and parameters: {'max_depth': 9, 'learning_rate': 0.009741857559457891, 'subsample': 0.4726947110363215, 'n_estimators': 1970, 'l2_leaf_reg': 9.242260327639594, 'border_count': 171, 'random_strength': 6.329079233220002, 'bagging_temperature': 0.7017139203853129, 'scale_pos_weight': 4.552203138979477}. Best is trial 143 with value: 0.9541618250091438.\n",
      "[I 2024-10-22 00:00:36,932] Trial 168 finished with value: 0.9528134462816615 and parameters: {'max_depth': 9, 'learning_rate': 0.009444606389890711, 'subsample': 0.4836291738693383, 'n_estimators': 1936, 'l2_leaf_reg': 8.773156845814166, 'border_count': 163, 'random_strength': 7.078247108165043, 'bagging_temperature': 0.7391440677382496, 'scale_pos_weight': 4.023029384839894}. Best is trial 143 with value: 0.9541618250091438.\n",
      "[I 2024-10-22 00:01:22,612] Trial 169 finished with value: 0.9527684057349054 and parameters: {'max_depth': 10, 'learning_rate': 0.009246976096626471, 'subsample': 0.491724811690207, 'n_estimators': 1972, 'l2_leaf_reg': 8.967749328604283, 'border_count': 166, 'random_strength': 6.514108748154182, 'bagging_temperature': 0.668315367834361, 'scale_pos_weight': 4.680612787130141}. Best is trial 143 with value: 0.9541618250091438.\n",
      "[I 2024-10-22 00:01:54,889] Trial 170 finished with value: 0.9531735291514373 and parameters: {'max_depth': 9, 'learning_rate': 0.009628306579850475, 'subsample': 0.4755984824437595, 'n_estimators': 1941, 'l2_leaf_reg': 9.105837723630499, 'border_count': 173, 'random_strength': 6.945429147655371, 'bagging_temperature': 0.7932114868605726, 'scale_pos_weight': 4.149859482940568}. Best is trial 143 with value: 0.9541618250091438.\n",
      "[I 2024-10-22 00:02:28,136] Trial 171 finished with value: 0.9541112298641284 and parameters: {'max_depth': 9, 'learning_rate': 0.009984338005883556, 'subsample': 0.4929608971260593, 'n_estimators': 2000, 'l2_leaf_reg': 8.891702902106294, 'border_count': 168, 'random_strength': 6.780152844326568, 'bagging_temperature': 0.7299563840967344, 'scale_pos_weight': 4.305058501204256}. Best is trial 143 with value: 0.9541618250091438.\n",
      "[I 2024-10-22 00:03:00,912] Trial 172 finished with value: 0.9534135843979546 and parameters: {'max_depth': 9, 'learning_rate': 0.009779126601822029, 'subsample': 0.4998285892162187, 'n_estimators': 1994, 'l2_leaf_reg': 8.738422564694012, 'border_count': 169, 'random_strength': 6.744294759616905, 'bagging_temperature': 0.6922661803939598, 'scale_pos_weight': 4.287502658860617}. Best is trial 143 with value: 0.9541618250091438.\n",
      "[I 2024-10-22 00:03:33,232] Trial 173 finished with value: 0.9538411073357285 and parameters: {'max_depth': 9, 'learning_rate': 0.00986889582283197, 'subsample': 0.4868045598899811, 'n_estimators': 1999, 'l2_leaf_reg': 8.82947451607806, 'border_count': 161, 'random_strength': 6.355866103649364, 'bagging_temperature': 0.7247235698650815, 'scale_pos_weight': 4.3726875839977675}. Best is trial 143 with value: 0.9541618250091438.\n",
      "[I 2024-10-22 00:04:20,810] Trial 174 finished with value: 0.9529872689815414 and parameters: {'max_depth': 10, 'learning_rate': 0.009888830769956367, 'subsample': 0.49199492694028196, 'n_estimators': 2000, 'l2_leaf_reg': 8.842016153641264, 'border_count': 160, 'random_strength': 6.386675217566087, 'bagging_temperature': 0.7255565830921524, 'scale_pos_weight': 4.384398036573389}. Best is trial 143 with value: 0.9541618250091438.\n",
      "[I 2024-10-22 00:04:28,838] Trial 175 finished with value: 0.9350638482957103 and parameters: {'max_depth': 9, 'learning_rate': 0.009992149660558391, 'subsample': 0.10337018258259112, 'n_estimators': 512, 'l2_leaf_reg': 8.605864916662862, 'border_count': 164, 'random_strength': 6.2719391568257015, 'bagging_temperature': 0.7085426681138299, 'scale_pos_weight': 4.076230538663453}. Best is trial 143 with value: 0.9541618250091438.\n",
      "[I 2024-10-22 00:05:00,902] Trial 176 finished with value: 0.9537254267893686 and parameters: {'max_depth': 9, 'learning_rate': 0.009816676132055805, 'subsample': 0.48514426974501174, 'n_estimators': 1946, 'l2_leaf_reg': 9.458462723131909, 'border_count': 162, 'random_strength': 6.838773548150588, 'bagging_temperature': 0.7511844590369781, 'scale_pos_weight': 4.271204643195248}. Best is trial 143 with value: 0.9541618250091438.\n",
      "[I 2024-10-22 00:05:31,872] Trial 177 finished with value: 0.95358970138842 and parameters: {'max_depth': 9, 'learning_rate': 0.009833945571924584, 'subsample': 0.4875578904749668, 'n_estimators': 1916, 'l2_leaf_reg': 9.460562295325218, 'border_count': 162, 'random_strength': 7.22660221536303, 'bagging_temperature': 0.7470153581464387, 'scale_pos_weight': 4.221852800001349}. Best is trial 143 with value: 0.9541618250091438.\n",
      "[I 2024-10-22 00:06:03,337] Trial 178 finished with value: 0.9529713296995795 and parameters: {'max_depth': 9, 'learning_rate': 0.009485042147500459, 'subsample': 0.49250023969154444, 'n_estimators': 1952, 'l2_leaf_reg': 9.296654630876386, 'border_count': 167, 'random_strength': 6.808901901225004, 'bagging_temperature': 0.7537653105573479, 'scale_pos_weight': 4.597815050382629}. Best is trial 143 with value: 0.9541618250091438.\n",
      "[I 2024-10-22 00:06:48,480] Trial 179 finished with value: 0.9526308690519159 and parameters: {'max_depth': 10, 'learning_rate': 0.009802369937058837, 'subsample': 0.48402505578911104, 'n_estimators': 1933, 'l2_leaf_reg': 9.701771742179043, 'border_count': 161, 'random_strength': 6.512927945079501, 'bagging_temperature': 0.7292418243203326, 'scale_pos_weight': 4.345618886387951}. Best is trial 143 with value: 0.9541618250091438.\n",
      "[I 2024-10-22 00:07:17,113] Trial 180 finished with value: 0.9401155742844802 and parameters: {'max_depth': 9, 'learning_rate': 0.0057835389122202424, 'subsample': 0.4723978164031728, 'n_estimators': 1880, 'l2_leaf_reg': 8.703083237779463, 'border_count': 172, 'random_strength': 6.909916957413931, 'bagging_temperature': 0.6982122149511154, 'scale_pos_weight': 4.284007876625013}. Best is trial 143 with value: 0.9541618250091438.\n",
      "[I 2024-10-22 00:07:48,401] Trial 181 finished with value: 0.9532160942794038 and parameters: {'max_depth': 9, 'learning_rate': 0.009837886375471672, 'subsample': 0.48733856885572374, 'n_estimators': 1917, 'l2_leaf_reg': 9.466474144546538, 'border_count': 161, 'random_strength': 7.27573693916138, 'bagging_temperature': 0.7476455615048783, 'scale_pos_weight': 4.229845893004113}. Best is trial 143 with value: 0.9541618250091438.\n",
      "[I 2024-10-22 00:08:21,112] Trial 182 finished with value: 0.9541422631630998 and parameters: {'max_depth': 9, 'learning_rate': 0.00998924735095087, 'subsample': 0.4939655015249992, 'n_estimators': 1966, 'l2_leaf_reg': 9.408628621389548, 'border_count': 158, 'random_strength': 7.102623738026627, 'bagging_temperature': 0.7697260832890384, 'scale_pos_weight': 4.414399893271674}. Best is trial 143 with value: 0.9541618250091438.\n",
      "[I 2024-10-22 00:08:54,098] Trial 183 finished with value: 0.9538583748911873 and parameters: {'max_depth': 9, 'learning_rate': 0.00999671147899114, 'subsample': 0.49464881065743915, 'n_estimators': 1965, 'l2_leaf_reg': 9.156532123985656, 'border_count': 158, 'random_strength': 7.065231141746839, 'bagging_temperature': 0.718591963424026, 'scale_pos_weight': 4.409984264209723}. Best is trial 143 with value: 0.9541618250091438.\n",
      "[I 2024-10-22 00:09:27,119] Trial 184 finished with value: 0.9536172932515132 and parameters: {'max_depth': 9, 'learning_rate': 0.009995704306345828, 'subsample': 0.49786407322510134, 'n_estimators': 1965, 'l2_leaf_reg': 9.155794512902542, 'border_count': 166, 'random_strength': 7.15119961428017, 'bagging_temperature': 0.7660270789282734, 'scale_pos_weight': 4.512690109633801}. Best is trial 143 with value: 0.9541618250091438.\n",
      "[I 2024-10-22 00:10:14,578] Trial 185 finished with value: 0.9529095649819771 and parameters: {'max_depth': 10, 'learning_rate': 0.009999465803885442, 'subsample': 0.4975592297459415, 'n_estimators': 1966, 'l2_leaf_reg': 9.183059264877775, 'border_count': 158, 'random_strength': 7.131267394616645, 'bagging_temperature': 0.7657604728597057, 'scale_pos_weight': 4.4153268803988475}. Best is trial 143 with value: 0.9541618250091438.\n",
      "[I 2024-10-22 00:10:48,116] Trial 186 finished with value: 0.9534478780046 and parameters: {'max_depth': 9, 'learning_rate': 0.00974872629396839, 'subsample': 0.49887152912707067, 'n_estimators': 1963, 'l2_leaf_reg': 8.98048047755184, 'border_count': 165, 'random_strength': 6.783335782206895, 'bagging_temperature': 0.7689539394350854, 'scale_pos_weight': 4.149361737789281}. Best is trial 143 with value: 0.9541618250091438.\n",
      "[I 2024-10-22 00:11:19,541] Trial 187 finished with value: 0.9366776402182861 and parameters: {'max_depth': 9, 'learning_rate': 0.0035284355688544717, 'subsample': 0.49097312417963207, 'n_estimators': 1963, 'l2_leaf_reg': 8.911403295073386, 'border_count': 159, 'random_strength': 7.405357125502758, 'bagging_temperature': 0.7917834557788509, 'scale_pos_weight': 4.520684008666998}. Best is trial 143 with value: 0.9541618250091438.\n",
      "[I 2024-10-22 00:11:53,043] Trial 188 finished with value: 0.9535820336277793 and parameters: {'max_depth': 9, 'learning_rate': 0.009825399331788909, 'subsample': 0.4924545014220257, 'n_estimators': 1914, 'l2_leaf_reg': 9.125741769307128, 'border_count': 167, 'random_strength': 7.060295070926222, 'bagging_temperature': 0.713017851276758, 'scale_pos_weight': 4.46949422903067}. Best is trial 143 with value: 0.9541618250091438.\n",
      "[I 2024-10-22 00:12:18,029] Trial 189 finished with value: 0.9536397531488233 and parameters: {'max_depth': 8, 'learning_rate': 0.009512313675035931, 'subsample': 0.4842776124640253, 'n_estimators': 2000, 'l2_leaf_reg': 9.601260905876794, 'border_count': 155, 'random_strength': 6.570741398269435, 'bagging_temperature': 0.2722344310123237, 'scale_pos_weight': 4.351740622795997}. Best is trial 143 with value: 0.9541618250091438.\n",
      "[I 2024-10-22 00:12:32,737] Trial 190 finished with value: 0.9402055346258562 and parameters: {'max_depth': 8, 'learning_rate': 0.009318874084301765, 'subsample': 0.4996314615141731, 'n_estimators': 1176, 'l2_leaf_reg': 9.367597755490548, 'border_count': 156, 'random_strength': 6.450476187732277, 'bagging_temperature': 0.441010909611158, 'scale_pos_weight': 4.343573486102176}. Best is trial 143 with value: 0.9541618250091438.\n",
      "[I 2024-10-22 00:12:56,722] Trial 191 finished with value: 0.9540350956423331 and parameters: {'max_depth': 8, 'learning_rate': 0.009989129916726973, 'subsample': 0.4840577394757086, 'n_estimators': 1975, 'l2_leaf_reg': 9.5654054060052, 'border_count': 158, 'random_strength': 6.610528441372869, 'bagging_temperature': 0.7358050922588906, 'scale_pos_weight': 4.603346142630195}. Best is trial 143 with value: 0.9541618250091438.\n",
      "[I 2024-10-22 00:13:20,981] Trial 192 finished with value: 0.95381122118205 and parameters: {'max_depth': 8, 'learning_rate': 0.00954365554477057, 'subsample': 0.4821468490049292, 'n_estimators': 1974, 'l2_leaf_reg': 9.858450175313962, 'border_count': 158, 'random_strength': 6.776599003238468, 'bagging_temperature': 0.7468887962300431, 'scale_pos_weight': 4.733582517041093}. Best is trial 143 with value: 0.9541618250091438.\n",
      "[I 2024-10-22 00:13:46,077] Trial 193 finished with value: 0.9537503017294 and parameters: {'max_depth': 8, 'learning_rate': 0.00948763557108868, 'subsample': 0.4822862774724084, 'n_estimators': 1998, 'l2_leaf_reg': 9.591105012404803, 'border_count': 157, 'random_strength': 6.775271876542841, 'bagging_temperature': 0.6970506230001716, 'scale_pos_weight': 4.637309966100746}. Best is trial 143 with value: 0.9541618250091438.\n",
      "[I 2024-10-22 00:14:10,409] Trial 194 finished with value: 0.9530135325711377 and parameters: {'max_depth': 8, 'learning_rate': 0.00948283019095171, 'subsample': 0.4634428348549806, 'n_estimators': 1973, 'l2_leaf_reg': 9.689914775083675, 'border_count': 154, 'random_strength': 6.8189412258297954, 'bagging_temperature': 0.22738004416567545, 'scale_pos_weight': 4.7110045154732925}. Best is trial 143 with value: 0.9541618250091438.\n",
      "[I 2024-10-22 00:14:34,094] Trial 195 finished with value: 0.9537001292168609 and parameters: {'max_depth': 8, 'learning_rate': 0.009744894514826609, 'subsample': 0.4834872476289457, 'n_estimators': 1951, 'l2_leaf_reg': 9.832227348418492, 'border_count': 156, 'random_strength': 6.561241264920415, 'bagging_temperature': 0.052442273900366404, 'scale_pos_weight': 4.612708570879838}. Best is trial 143 with value: 0.9541618250091438.\n",
      "[I 2024-10-22 00:14:58,697] Trial 196 finished with value: 0.9539116265831964 and parameters: {'max_depth': 8, 'learning_rate': 0.009497410079633443, 'subsample': 0.48399001101197614, 'n_estimators': 2000, 'l2_leaf_reg': 9.821932304753828, 'border_count': 155, 'random_strength': 6.526821268623471, 'bagging_temperature': 0.2687677320720391, 'scale_pos_weight': 4.625917293455334}. Best is trial 143 with value: 0.9541618250091438.\n",
      "[I 2024-10-22 00:15:22,554] Trial 197 finished with value: 0.9533063565011201 and parameters: {'max_depth': 8, 'learning_rate': 0.009700536767384882, 'subsample': 0.46885178974740005, 'n_estimators': 1945, 'l2_leaf_reg': 9.883672216158612, 'border_count': 157, 'random_strength': 6.385429128417683, 'bagging_temperature': 0.08823032867679237, 'scale_pos_weight': 4.599937651600936}. Best is trial 143 with value: 0.9541618250091438.\n",
      "[I 2024-10-22 00:15:29,649] Trial 198 finished with value: 0.9347098634088062 and parameters: {'max_depth': 8, 'learning_rate': 0.009335207353317845, 'subsample': 0.4812979995116912, 'n_estimators': 578, 'l2_leaf_reg': 9.742509905334245, 'border_count': 158, 'random_strength': 6.989800739233426, 'bagging_temperature': 0.38117554058006814, 'scale_pos_weight': 4.739853246994525}. Best is trial 143 with value: 0.9541618250091438.\n",
      "[I 2024-10-22 00:15:53,681] Trial 199 finished with value: 0.9535159218332784 and parameters: {'max_depth': 8, 'learning_rate': 0.009777676844457035, 'subsample': 0.48217736592969496, 'n_estimators': 1949, 'l2_leaf_reg': 9.898531878960911, 'border_count': 159, 'random_strength': 6.5467253052465395, 'bagging_temperature': 0.12370725697051341, 'scale_pos_weight': 4.632594814571953}. Best is trial 143 with value: 0.9541618250091438.\n"
     ]
    }
   ],
   "source": [
    "study.optimize(objective, n_trials=100, show_progress_bar=True)"
   ]
  },
  {
   "cell_type": "code",
   "execution_count": 23,
   "id": "249c11fd",
   "metadata": {
    "execution": {
     "iopub.execute_input": "2024-10-22T00:15:53.769585Z",
     "iopub.status.busy": "2024-10-22T00:15:53.768803Z",
     "iopub.status.idle": "2024-10-22T00:15:53.776412Z",
     "shell.execute_reply": "2024-10-22T00:15:53.775423Z"
    },
    "papermill": {
     "duration": 0.046197,
     "end_time": "2024-10-22T00:15:53.778668",
     "exception": false,
     "start_time": "2024-10-22T00:15:53.732471",
     "status": "completed"
    },
    "tags": []
   },
   "outputs": [
    {
     "data": {
      "text/plain": [
       "{'max_depth': 9,\n",
       " 'learning_rate': 0.009985901108890177,\n",
       " 'subsample': 0.4903142218722355,\n",
       " 'n_estimators': 1968,\n",
       " 'l2_leaf_reg': 8.88381807039804,\n",
       " 'border_count': 165,\n",
       " 'random_strength': 6.6864668243377485,\n",
       " 'bagging_temperature': 0.7103036600260515,\n",
       " 'scale_pos_weight': 4.022944653722563}"
      ]
     },
     "execution_count": 23,
     "metadata": {},
     "output_type": "execute_result"
    }
   ],
   "source": [
    "study.best_params"
   ]
  },
  {
   "cell_type": "code",
   "execution_count": 24,
   "id": "ce30eafa",
   "metadata": {
    "execution": {
     "iopub.execute_input": "2024-10-22T00:15:53.852936Z",
     "iopub.status.busy": "2024-10-22T00:15:53.852188Z",
     "iopub.status.idle": "2024-10-22T00:43:05.778249Z",
     "shell.execute_reply": "2024-10-22T00:43:05.777151Z"
    },
    "papermill": {
     "duration": 1632.018426,
     "end_time": "2024-10-22T00:43:05.833250",
     "exception": false,
     "start_time": "2024-10-22T00:15:53.814824",
     "status": "completed"
    },
    "tags": []
   },
   "outputs": [
    {
     "name": "stderr",
     "output_type": "stream",
     "text": [
      "[I 2024-10-22 00:15:53,859] A new study created in memory with name: XGB\n"
     ]
    },
    {
     "data": {
      "application/vnd.jupyter.widget-view+json": {
       "model_id": "62e7dcb6e91f4003b46387f769d0bc3c",
       "version_major": 2,
       "version_minor": 0
      },
      "text/plain": [
       "  0%|          | 0/200 [00:00<?, ?it/s]"
      ]
     },
     "metadata": {},
     "output_type": "display_data"
    },
    {
     "name": "stdout",
     "output_type": "stream",
     "text": [
      "[I 2024-10-22 00:15:58,056] Trial 0 finished with value: 0.9253689611705809 and parameters: {'max_depth': 11, 'learning_rate': 0.007257853962538314, 'min_child_weight': 4, 'subsample': 0.21365958274574434, 'colsample_bytree': 0.019545001088630443, 'n_estimators': 1210}. Best is trial 0 with value: 0.9253689611705809.\n",
      "[I 2024-10-22 00:16:10,153] Trial 1 finished with value: 0.9539278073694306 and parameters: {'max_depth': 15, 'learning_rate': 0.008656603736293678, 'min_child_weight': 2, 'subsample': 0.38932170546319056, 'colsample_bytree': 0.7731983072123252, 'n_estimators': 1229}. Best is trial 1 with value: 0.9539278073694306.\n",
      "[I 2024-10-22 00:16:16,241] Trial 2 finished with value: 0.9240319935199574 and parameters: {'max_depth': 6, 'learning_rate': 0.008809827975518224, 'min_child_weight': 12, 'subsample': 0.271997427149804, 'colsample_bytree': 0.20202823993984065, 'n_estimators': 1442}. Best is trial 1 with value: 0.9539278073694306.\n",
      "[I 2024-10-22 00:16:20,172] Trial 3 finished with value: 0.9417838857964937 and parameters: {'max_depth': 13, 'learning_rate': 0.007871392323394344, 'min_child_weight': 11, 'subsample': 0.1601924919916592, 'colsample_bytree': 0.6998573871278992, 'n_estimators': 616}. Best is trial 1 with value: 0.9539278073694306.\n",
      "[I 2024-10-22 00:16:27,298] Trial 4 finished with value: 0.9505753658155774 and parameters: {'max_depth': 4, 'learning_rate': 0.005794631939960007, 'min_child_weight': 1, 'subsample': 0.43475629686443973, 'colsample_bytree': 0.8173101264617201, 'n_estimators': 1997}. Best is trial 1 with value: 0.9539278073694306.\n",
      "[I 2024-10-22 00:16:31,403] Trial 5 finished with value: 0.9394098082371554 and parameters: {'max_depth': 13, 'learning_rate': 0.0011689779237889029, 'min_child_weight': 12, 'subsample': 0.4276698514118399, 'colsample_bytree': 0.8322148723991418, 'n_estimators': 558}. Best is trial 1 with value: 0.9539278073694306.\n",
      "[I 2024-10-22 00:16:34,553] Trial 6 finished with value: 0.9058171677417429 and parameters: {'max_depth': 2, 'learning_rate': 0.003908736199194579, 'min_child_weight': 12, 'subsample': 0.3321652331461325, 'colsample_bytree': 0.21323364624659102, 'n_estimators': 1133}. Best is trial 1 with value: 0.9539278073694306.\n",
      "[I 2024-10-22 00:16:43,488] Trial 7 finished with value: 0.951098947077599 and parameters: {'max_depth': 10, 'learning_rate': 0.0054382337257607525, 'min_child_weight': 15, 'subsample': 0.4755842680778779, 'colsample_bytree': 0.7249214651634044, 'n_estimators': 1434}. Best is trial 1 with value: 0.9539278073694306.\n",
      "[I 2024-10-22 00:16:51,896] Trial 8 finished with value: 0.9344402540769845 and parameters: {'max_depth': 12, 'learning_rate': 0.00925657106990884, 'min_child_weight': 0, 'subsample': 0.2281106199102676, 'colsample_bytree': 0.30481795271776635, 'n_estimators': 1866}. Best is trial 1 with value: 0.9539278073694306.\n",
      "[I 2024-10-22 00:16:59,207] Trial 9 finished with value: 0.9473280389961778 and parameters: {'max_depth': 10, 'learning_rate': 0.003224599564032217, 'min_child_weight': 4, 'subsample': 0.17507020178767957, 'colsample_bytree': 0.9398405665799641, 'n_estimators': 1110}. Best is trial 1 with value: 0.9539278073694306.\n",
      "[I 2024-10-22 00:17:03,507] Trial 10 finished with value: 0.943530444692684 and parameters: {'max_depth': 7, 'learning_rate': 0.00989421575230288, 'min_child_weight': 6, 'subsample': 0.36004573098078996, 'colsample_bytree': 0.5118295927735946, 'n_estimators': 849}. Best is trial 1 with value: 0.9539278073694306.\n",
      "[I 2024-10-22 00:17:13,402] Trial 11 finished with value: 0.9472842663468506 and parameters: {'max_depth': 15, 'learning_rate': 0.005870099060335445, 'min_child_weight': 15, 'subsample': 0.4915402586673384, 'colsample_bytree': 0.5893102365506376, 'n_estimators': 1507}. Best is trial 1 with value: 0.9539278073694306.\n",
      "[I 2024-10-22 00:17:27,936] Trial 12 finished with value: 0.9551614111915737 and parameters: {'max_depth': 15, 'learning_rate': 0.004462217104426469, 'min_child_weight': 8, 'subsample': 0.401627384385938, 'colsample_bytree': 0.9953687403304845, 'n_estimators': 1656}. Best is trial 12 with value: 0.9551614111915737.\n",
      "[I 2024-10-22 00:17:41,405] Trial 13 finished with value: 0.9546319130748843 and parameters: {'max_depth': 15, 'learning_rate': 0.0037924926801449184, 'min_child_weight': 8, 'subsample': 0.3864435242320176, 'colsample_bytree': 0.9723345037679094, 'n_estimators': 1708}. Best is trial 12 with value: 0.9551614111915737.\n",
      "[I 2024-10-22 00:17:55,979] Trial 14 finished with value: 0.9522797822162775 and parameters: {'max_depth': 15, 'learning_rate': 0.0033452628956955107, 'min_child_weight': 8, 'subsample': 0.30030103586545825, 'colsample_bytree': 0.9961083970346322, 'n_estimators': 1681}. Best is trial 12 with value: 0.9551614111915737.\n",
      "[I 2024-10-22 00:18:06,057] Trial 15 finished with value: 0.9459497137389485 and parameters: {'max_depth': 8, 'learning_rate': 0.0016979887320099462, 'min_child_weight': 8, 'subsample': 0.4050241018069195, 'colsample_bytree': 0.9080903044306569, 'n_estimators': 1708}. Best is trial 12 with value: 0.9551614111915737.\n",
      "[I 2024-10-22 00:18:15,520] Trial 16 finished with value: 0.9407372062809948 and parameters: {'max_depth': 13, 'learning_rate': 0.004508894227542275, 'min_child_weight': 10, 'subsample': 0.10237639187343989, 'colsample_bytree': 0.6262255722287505, 'n_estimators': 1680}. Best is trial 12 with value: 0.9551614111915737.\n",
      "[I 2024-10-22 00:18:23,865] Trial 17 finished with value: 0.919601778775566 and parameters: {'max_depth': 14, 'learning_rate': 0.0024737475753517243, 'min_child_weight': 6, 'subsample': 0.35837990481662046, 'colsample_bytree': 0.39645891875215744, 'n_estimators': 1867}. Best is trial 12 with value: 0.9551614111915737.\n",
      "[I 2024-10-22 00:18:35,169] Trial 18 finished with value: 0.9555869417191023 and parameters: {'max_depth': 11, 'learning_rate': 0.004857681542644916, 'min_child_weight': 9, 'subsample': 0.44816756583995754, 'colsample_bytree': 0.9918799475291211, 'n_estimators': 1585}. Best is trial 18 with value: 0.9555869417191023.\n",
      "[I 2024-10-22 00:18:44,422] Trial 19 finished with value: 0.9550261687991695 and parameters: {'max_depth': 9, 'learning_rate': 0.006661073112064266, 'min_child_weight': 10, 'subsample': 0.4552899473380768, 'colsample_bytree': 0.8806578745181207, 'n_estimators': 1535}. Best is trial 18 with value: 0.9555869417191023.\n",
      "[I 2024-10-22 00:18:51,331] Trial 20 finished with value: 0.9362729998102984 and parameters: {'max_depth': 11, 'learning_rate': 0.004840727673114449, 'min_child_weight': 6, 'subsample': 0.2992785661050701, 'colsample_bytree': 0.47866625372868865, 'n_estimators': 1353}. Best is trial 18 with value: 0.9555869417191023.\n",
      "[I 2024-10-22 00:19:02,320] Trial 21 finished with value: 0.9556689324194974 and parameters: {'max_depth': 9, 'learning_rate': 0.0073178692562150364, 'min_child_weight': 10, 'subsample': 0.4563247866461714, 'colsample_bytree': 0.8939059022974714, 'n_estimators': 1573}. Best is trial 21 with value: 0.9556689324194974.\n",
      "[I 2024-10-22 00:19:11,118] Trial 22 finished with value: 0.9562662932366607 and parameters: {'max_depth': 8, 'learning_rate': 0.006786290532186215, 'min_child_weight': 10, 'subsample': 0.4970231894001894, 'colsample_bytree': 0.9878882496183768, 'n_estimators': 1574}. Best is trial 22 with value: 0.9562662932366607.\n",
      "[I 2024-10-22 00:19:17,386] Trial 23 finished with value: 0.953965723540158 and parameters: {'max_depth': 6, 'learning_rate': 0.007171010492812411, 'min_child_weight': 10, 'subsample': 0.49297117008790087, 'colsample_bytree': 0.878058914382926, 'n_estimators': 1344}. Best is trial 22 with value: 0.9562662932366607.\n",
      "[I 2024-10-22 00:19:22,890] Trial 24 finished with value: 0.9481277502053693 and parameters: {'max_depth': 8, 'learning_rate': 0.006733046475099048, 'min_child_weight': 13, 'subsample': 0.4571847868622411, 'colsample_bytree': 0.681636106904079, 'n_estimators': 952}. Best is trial 22 with value: 0.9562662932366607.\n",
      "[I 2024-10-22 00:19:33,953] Trial 25 finished with value: 0.954565499400043 and parameters: {'max_depth': 9, 'learning_rate': 0.008104526897017976, 'min_child_weight': 9, 'subsample': 0.4466282076353227, 'colsample_bytree': 0.7914409231128473, 'n_estimators': 1577}. Best is trial 22 with value: 0.9562662932366607.\n",
      "[I 2024-10-22 00:19:42,115] Trial 26 finished with value: 0.9536413531146262 and parameters: {'max_depth': 6, 'learning_rate': 0.006301391064749715, 'min_child_weight': 14, 'subsample': 0.470095415034606, 'colsample_bytree': 0.8879998436602876, 'n_estimators': 1812}. Best is trial 22 with value: 0.9562662932366607.\n",
      "[I 2024-10-22 00:19:51,101] Trial 27 finished with value: 0.9549375971073585 and parameters: {'max_depth': 10, 'learning_rate': 0.005386585981222467, 'min_child_weight': 11, 'subsample': 0.4976005915725491, 'colsample_bytree': 0.9290991368979105, 'n_estimators': 1372}. Best is trial 22 with value: 0.9562662932366607.\n",
      "[I 2024-10-22 00:20:00,819] Trial 28 finished with value: 0.9544058047000835 and parameters: {'max_depth': 7, 'learning_rate': 0.0076770832497129226, 'min_child_weight': 7, 'subsample': 0.411946661702117, 'colsample_bytree': 0.7738390701677944, 'n_estimators': 1569}. Best is trial 22 with value: 0.9562662932366607.\n",
      "[I 2024-10-22 00:20:15,457] Trial 29 finished with value: 0.9548596516035219 and parameters: {'max_depth': 11, 'learning_rate': 0.0073272519673055056, 'min_child_weight': 4, 'subsample': 0.36648342497691455, 'colsample_bytree': 0.8629301408775373, 'n_estimators': 1998}. Best is trial 22 with value: 0.9562662932366607.\n",
      "[I 2024-10-22 00:20:20,877] Trial 30 finished with value: 0.9200817081403965 and parameters: {'max_depth': 4, 'learning_rate': 0.00666558487537158, 'min_child_weight': 9, 'subsample': 0.4296340190488452, 'colsample_bytree': 0.12652151971564152, 'n_estimators': 1798}. Best is trial 22 with value: 0.9562662932366607.\n",
      "[I 2024-10-22 00:20:34,456] Trial 31 finished with value: 0.9556710455818785 and parameters: {'max_depth': 12, 'learning_rate': 0.00466365805854754, 'min_child_weight': 9, 'subsample': 0.47063421506350334, 'colsample_bytree': 0.9960738299928993, 'n_estimators': 1636}. Best is trial 22 with value: 0.9562662932366607.\n",
      "[I 2024-10-22 00:20:43,858] Trial 32 finished with value: 0.9549468346457681 and parameters: {'max_depth': 12, 'learning_rate': 0.004942614999773842, 'min_child_weight': 9, 'subsample': 0.47272961964652366, 'colsample_bytree': 0.996848684026329, 'n_estimators': 1258}. Best is trial 22 with value: 0.9562662932366607.\n",
      "[I 2024-10-22 00:20:55,296] Trial 33 finished with value: 0.9553701916348474 and parameters: {'max_depth': 12, 'learning_rate': 0.006059426853236445, 'min_child_weight': 11, 'subsample': 0.4990964820370268, 'colsample_bytree': 0.9199406234302749, 'n_estimators': 1595}. Best is trial 22 with value: 0.9562662932366607.\n",
      "[I 2024-10-22 00:21:05,808] Trial 34 finished with value: 0.954740831501624 and parameters: {'max_depth': 9, 'learning_rate': 0.008584611011952278, 'min_child_weight': 7, 'subsample': 0.44814975491013953, 'colsample_bytree': 0.7545662181241692, 'n_estimators': 1455}. Best is trial 22 with value: 0.9562662932366607.\n",
      "[I 2024-10-22 00:21:15,249] Trial 35 finished with value: 0.9534032600903201 and parameters: {'max_depth': 10, 'learning_rate': 0.005255514819423423, 'min_child_weight': 11, 'subsample': 0.42286514968358524, 'colsample_bytree': 0.8240800802201188, 'n_estimators': 1460}. Best is trial 22 with value: 0.9562662932366607.\n",
      "[I 2024-10-22 00:21:23,644] Trial 36 finished with value: 0.9545167155370687 and parameters: {'max_depth': 11, 'learning_rate': 0.0071151280864952295, 'min_child_weight': 13, 'subsample': 0.4693619712685884, 'colsample_bytree': 0.9484973040559238, 'n_estimators': 1256}. Best is trial 22 with value: 0.9562662932366607.\n",
      "[I 2024-10-22 00:21:29,222] Trial 37 finished with value: 0.9200476560380233 and parameters: {'max_depth': 7, 'learning_rate': 0.004266380473197635, 'min_child_weight': 5, 'subsample': 0.38577953985360997, 'colsample_bytree': 0.04465720986012245, 'n_estimators': 1782}. Best is trial 22 with value: 0.9562662932366607.\n",
      "[I 2024-10-22 00:21:43,762] Trial 38 finished with value: 0.9536520094906349 and parameters: {'max_depth': 13, 'learning_rate': 0.008070469827341895, 'min_child_weight': 10, 'subsample': 0.3306083718031095, 'colsample_bytree': 0.8393358828783574, 'n_estimators': 1899}. Best is trial 22 with value: 0.9562662932366607.\n",
      "[I 2024-10-22 00:21:53,327] Trial 39 finished with value: 0.9485188361860823 and parameters: {'max_depth': 8, 'learning_rate': 0.00283721411182181, 'min_child_weight': 2, 'subsample': 0.4369662958087249, 'colsample_bytree': 0.656958003078521, 'n_estimators': 1609}. Best is trial 22 with value: 0.9562662932366607.\n",
      "[I 2024-10-22 00:21:58,484] Trial 40 finished with value: 0.9425838686979914 and parameters: {'max_depth': 4, 'learning_rate': 0.006182509851702265, 'min_child_weight': 12, 'subsample': 0.2475103936361096, 'colsample_bytree': 0.7311079768831312, 'n_estimators': 1408}. Best is trial 22 with value: 0.9562662932366607.\n",
      "[I 2024-10-22 00:22:11,603] Trial 41 finished with value: 0.9551948595332664 and parameters: {'max_depth': 12, 'learning_rate': 0.0058001891541164564, 'min_child_weight': 11, 'subsample': 0.4840715832808894, 'colsample_bytree': 0.9319106571958615, 'n_estimators': 1622}. Best is trial 22 with value: 0.9562662932366607.\n",
      "[I 2024-10-22 00:22:22,445] Trial 42 finished with value: 0.9554657669505509 and parameters: {'max_depth': 12, 'learning_rate': 0.006028321312806741, 'min_child_weight': 9, 'subsample': 0.45620978242328036, 'colsample_bytree': 0.9237618025759493, 'n_estimators': 1509}. Best is trial 22 with value: 0.9562662932366607.\n",
      "[I 2024-10-22 00:22:32,409] Trial 43 finished with value: 0.9551468605591766 and parameters: {'max_depth': 10, 'learning_rate': 0.004980663184235254, 'min_child_weight': 9, 'subsample': 0.46013307585012203, 'colsample_bytree': 0.9557474628480852, 'n_estimators': 1508}. Best is trial 22 with value: 0.9562662932366607.\n",
      "[I 2024-10-22 00:22:45,995] Trial 44 finished with value: 0.9535415514741602 and parameters: {'max_depth': 11, 'learning_rate': 0.0039000605638627034, 'min_child_weight': 9, 'subsample': 0.44078739272168527, 'colsample_bytree': 0.8017505345546758, 'n_estimators': 1742}. Best is trial 22 with value: 0.9562662932366607.\n",
      "[I 2024-10-22 00:22:55,072] Trial 45 finished with value: 0.9541293426845396 and parameters: {'max_depth': 14, 'learning_rate': 0.005576145614832207, 'min_child_weight': 7, 'subsample': 0.41832092316206887, 'colsample_bytree': 0.8529042356730667, 'n_estimators': 1109}. Best is trial 22 with value: 0.9562662932366607.\n",
      "[I 2024-10-22 00:23:07,088] Trial 46 finished with value: 0.9552549337209637 and parameters: {'max_depth': 14, 'learning_rate': 0.007526217088321168, 'min_child_weight': 10, 'subsample': 0.48137997573316926, 'colsample_bytree': 0.996684907427793, 'n_estimators': 1514}. Best is trial 22 with value: 0.9562662932366607.\n",
      "[I 2024-10-22 00:23:17,705] Trial 47 finished with value: 0.9532136792366823 and parameters: {'max_depth': 11, 'learning_rate': 0.006502471019694287, 'min_child_weight': 13, 'subsample': 0.39338190947674806, 'colsample_bytree': 0.948802427039853, 'n_estimators': 1324}. Best is trial 22 with value: 0.9562662932366607.\n",
      "[I 2024-10-22 00:23:31,674] Trial 48 finished with value: 0.9551280836020167 and parameters: {'max_depth': 12, 'learning_rate': 0.00844903917040506, 'min_child_weight': 8, 'subsample': 0.46509148132576333, 'colsample_bytree': 0.90318187102655, 'n_estimators': 1918}. Best is trial 22 with value: 0.9562662932366607.\n",
      "[I 2024-10-22 00:23:37,508] Trial 49 finished with value: 0.9277243523368618 and parameters: {'max_depth': 5, 'learning_rate': 0.009358940636514795, 'min_child_weight': 12, 'subsample': 0.3762888779814412, 'colsample_bytree': 0.2891413155894244, 'n_estimators': 1753}. Best is trial 22 with value: 0.9562662932366607.\n",
      "[I 2024-10-22 00:23:40,783] Trial 50 finished with value: 0.9210959053312913 and parameters: {'max_depth': 2, 'learning_rate': 0.006961725219867943, 'min_child_weight': 9, 'subsample': 0.19538602242943975, 'colsample_bytree': 0.5328086806666423, 'n_estimators': 1185}. Best is trial 22 with value: 0.9562662932366607.\n",
      "[I 2024-10-22 00:23:53,966] Trial 51 finished with value: 0.9555207695485332 and parameters: {'max_depth': 13, 'learning_rate': 0.00620250595138037, 'min_child_weight': 11, 'subsample': 0.49482192934533464, 'colsample_bytree': 0.9122418187934828, 'n_estimators': 1635}. Best is trial 22 with value: 0.9562662932366607.\n",
      "[I 2024-10-22 00:24:06,450] Trial 52 finished with value: 0.955761790812139 and parameters: {'max_depth': 13, 'learning_rate': 0.005936307383695493, 'min_child_weight': 10, 'subsample': 0.4846434403392656, 'colsample_bytree': 0.9648152963792054, 'n_estimators': 1659}. Best is trial 22 with value: 0.9562662932366607.\n",
      "[I 2024-10-22 00:24:20,027] Trial 53 finished with value: 0.955072084798912 and parameters: {'max_depth': 13, 'learning_rate': 0.004373343980860646, 'min_child_weight': 11, 'subsample': 0.4848201108047778, 'colsample_bytree': 0.9620053804341158, 'n_estimators': 1646}. Best is trial 22 with value: 0.9562662932366607.\n",
      "[I 2024-10-22 00:24:25,659] Trial 54 finished with value: 0.9512640756236818 and parameters: {'max_depth': 14, 'learning_rate': 0.005516340852215575, 'min_child_weight': 10, 'subsample': 0.498229899133098, 'colsample_bytree': 0.9981864785487766, 'n_estimators': 664}. Best is trial 22 with value: 0.9562662932366607.\n",
      "[I 2024-10-22 00:24:37,900] Trial 55 finished with value: 0.954702251194148 and parameters: {'max_depth': 13, 'learning_rate': 0.005023953077522942, 'min_child_weight': 12, 'subsample': 0.4781298552249904, 'colsample_bytree': 0.8795520734357083, 'n_estimators': 1708}. Best is trial 22 with value: 0.9562662932366607.\n",
      "[I 2024-10-22 00:24:50,720] Trial 56 finished with value: 0.9533817963981328 and parameters: {'max_depth': 9, 'learning_rate': 0.003521208863943911, 'min_child_weight': 8, 'subsample': 0.43950149457369825, 'colsample_bytree': 0.8354366256849689, 'n_estimators': 1837}. Best is trial 22 with value: 0.9562662932366607.\n",
      "[I 2024-10-22 00:25:01,797] Trial 57 finished with value: 0.9559666468109905 and parameters: {'max_depth': 10, 'learning_rate': 0.00629106246744634, 'min_child_weight': 10, 'subsample': 0.4791466879976656, 'colsample_bytree': 0.965568148805094, 'n_estimators': 1663}. Best is trial 22 with value: 0.9562662932366607.\n",
      "[I 2024-10-22 00:25:12,098] Trial 58 finished with value: 0.9547908228859591 and parameters: {'max_depth': 10, 'learning_rate': 0.006923560274196376, 'min_child_weight': 10, 'subsample': 0.4047694422543981, 'colsample_bytree': 0.969299882628974, 'n_estimators': 1560}. Best is trial 22 with value: 0.9562662932366607.\n",
      "[I 2024-10-22 00:25:24,037] Trial 59 finished with value: 0.9463161360958683 and parameters: {'max_depth': 8, 'learning_rate': 0.0046592456767662205, 'min_child_weight': 12, 'subsample': 0.12504894917651133, 'colsample_bytree': 0.9702748455099872, 'n_estimators': 1923}. Best is trial 22 with value: 0.9562662932366607.\n",
      "[I 2024-10-22 00:25:34,604] Trial 60 finished with value: 0.9546934362882145 and parameters: {'max_depth': 9, 'learning_rate': 0.0057606252337326505, 'min_child_weight': 10, 'subsample': 0.4272701605728427, 'colsample_bytree': 0.8855000996646473, 'n_estimators': 1703}. Best is trial 22 with value: 0.9562662932366607.\n",
      "[I 2024-10-22 00:25:46,113] Trial 61 finished with value: 0.9554708989163343 and parameters: {'max_depth': 11, 'learning_rate': 0.006296037043163598, 'min_child_weight': 11, 'subsample': 0.48033429549806195, 'colsample_bytree': 0.9165886117005277, 'n_estimators': 1655}. Best is trial 22 with value: 0.9562662932366607.\n",
      "[I 2024-10-22 00:25:57,681] Trial 62 finished with value: 0.9550404175512266 and parameters: {'max_depth': 10, 'learning_rate': 0.006465463632251493, 'min_child_weight': 10, 'subsample': 0.46401106038818757, 'colsample_bytree': 0.9061441225739475, 'n_estimators': 1455}. Best is trial 22 with value: 0.9562662932366607.\n",
      "[I 2024-10-22 00:26:11,371] Trial 63 finished with value: 0.9552427377552203 and parameters: {'max_depth': 14, 'learning_rate': 0.0077739914095335105, 'min_child_weight': 11, 'subsample': 0.48854196097315034, 'colsample_bytree': 0.9688562913727932, 'n_estimators': 1755}. Best is trial 22 with value: 0.9562662932366607.\n",
      "[I 2024-10-22 00:26:25,483] Trial 64 finished with value: 0.9548022943388863 and parameters: {'max_depth': 13, 'learning_rate': 0.005235858550877942, 'min_child_weight': 9, 'subsample': 0.45619003901386385, 'colsample_bytree': 0.8504741275886982, 'n_estimators': 1627}. Best is trial 22 with value: 0.9562662932366607.\n",
      "[I 2024-10-22 00:26:37,217] Trial 65 finished with value: 0.9537730031309821 and parameters: {'max_depth': 12, 'learning_rate': 0.004196437108736415, 'min_child_weight': 8, 'subsample': 0.447299974910957, 'colsample_bytree': 0.8060695698736053, 'n_estimators': 1580}. Best is trial 22 with value: 0.9562662932366607.\n",
      "[I 2024-10-22 00:26:43,222] Trial 66 finished with value: 0.9291940265850318 and parameters: {'max_depth': 10, 'learning_rate': 0.007468397855668245, 'min_child_weight': 11, 'subsample': 0.47310938029123184, 'colsample_bytree': 0.45131478188306146, 'n_estimators': 1668}. Best is trial 22 with value: 0.9562662932366607.\n",
      "[I 2024-10-22 00:26:52,878] Trial 67 finished with value: 0.9567224344306845 and parameters: {'max_depth': 9, 'learning_rate': 0.0067960429782693375, 'min_child_weight': 7, 'subsample': 0.49595001429762625, 'colsample_bytree': 0.9415994503295855, 'n_estimators': 1541}. Best is trial 67 with value: 0.9567224344306845.\n",
      "[I 2024-10-22 00:27:03,629] Trial 68 finished with value: 0.9566420135080586 and parameters: {'max_depth': 9, 'learning_rate': 0.0067662329459338725, 'min_child_weight': 7, 'subsample': 0.46947413794588166, 'colsample_bytree': 0.9547004475842831, 'n_estimators': 1552}. Best is trial 67 with value: 0.9567224344306845.\n",
      "[I 2024-10-22 00:27:11,260] Trial 69 finished with value: 0.9563102470141921 and parameters: {'max_depth': 7, 'learning_rate': 0.006902462567780779, 'min_child_weight': 6, 'subsample': 0.4701660471080966, 'colsample_bytree': 0.9412525668486683, 'n_estimators': 1417}. Best is trial 67 with value: 0.9567224344306845.\n",
      "[I 2024-10-22 00:27:18,796] Trial 70 finished with value: 0.9562503539546989 and parameters: {'max_depth': 7, 'learning_rate': 0.006786473027948874, 'min_child_weight': 5, 'subsample': 0.4703959118518333, 'colsample_bytree': 0.9427650109702714, 'n_estimators': 1392}. Best is trial 67 with value: 0.9567224344306845.\n",
      "[I 2024-10-22 00:27:27,793] Trial 71 finished with value: 0.9562106265019301 and parameters: {'max_depth': 7, 'learning_rate': 0.006853436154959302, 'min_child_weight': 5, 'subsample': 0.47042529094268865, 'colsample_bytree': 0.940887080163934, 'n_estimators': 1387}. Best is trial 67 with value: 0.9567224344306845.\n",
      "[I 2024-10-22 00:27:35,216] Trial 72 finished with value: 0.9560875800752697 and parameters: {'max_depth': 7, 'learning_rate': 0.0068868224067671485, 'min_child_weight': 5, 'subsample': 0.4977944617867226, 'colsample_bytree': 0.864166547021864, 'n_estimators': 1395}. Best is trial 67 with value: 0.9567224344306845.\n",
      "[I 2024-10-22 00:27:42,216] Trial 73 finished with value: 0.9564894733721617 and parameters: {'max_depth': 7, 'learning_rate': 0.006888320226431229, 'min_child_weight': 5, 'subsample': 0.4995993415740328, 'colsample_bytree': 0.9404282129938512, 'n_estimators': 1303}. Best is trial 67 with value: 0.9567224344306845.\n",
      "[I 2024-10-22 00:27:49,201] Trial 74 finished with value: 0.9558979388455636 and parameters: {'max_depth': 7, 'learning_rate': 0.006975330097037715, 'min_child_weight': 5, 'subsample': 0.4980763962406965, 'colsample_bytree': 0.8646937097624372, 'n_estimators': 1300}. Best is trial 67 with value: 0.9567224344306845.\n",
      "[I 2024-10-22 00:27:56,541] Trial 75 finished with value: 0.9562756515272066 and parameters: {'max_depth': 7, 'learning_rate': 0.006740835592139056, 'min_child_weight': 5, 'subsample': 0.46678384121370164, 'colsample_bytree': 0.9436046551055434, 'n_estimators': 1369}. Best is trial 67 with value: 0.9567224344306845.\n",
      "[I 2024-10-22 00:28:03,545] Trial 76 finished with value: 0.9531322922969676 and parameters: {'max_depth': 6, 'learning_rate': 0.008010175948361046, 'min_child_weight': 4, 'subsample': 0.46795945899576835, 'colsample_bytree': 0.7760555795948791, 'n_estimators': 1187}. Best is trial 67 with value: 0.9567224344306845.\n",
      "[I 2024-10-22 00:28:09,853] Trial 77 finished with value: 0.9547238054504373 and parameters: {'max_depth': 6, 'learning_rate': 0.006670743182317692, 'min_child_weight': 3, 'subsample': 0.41603804629525704, 'colsample_bytree': 0.9294099969466136, 'n_estimators': 1295}. Best is trial 67 with value: 0.9567224344306845.\n",
      "[I 2024-10-22 00:28:18,066] Trial 78 finished with value: 0.9534877262095046 and parameters: {'max_depth': 8, 'learning_rate': 0.007172354793265625, 'min_child_weight': 6, 'subsample': 0.33999810376149836, 'colsample_bytree': 0.74713584642904, 'n_estimators': 1417}. Best is trial 67 with value: 0.9567224344306845.\n",
      "[I 2024-10-22 00:28:23,727] Trial 79 finished with value: 0.9543663187515872 and parameters: {'max_depth': 5, 'learning_rate': 0.008274967162251293, 'min_child_weight': 6, 'subsample': 0.449276804053781, 'colsample_bytree': 0.8934201702144644, 'n_estimators': 1365}. Best is trial 67 with value: 0.9567224344306845.\n",
      "[I 2024-10-22 00:28:31,924] Trial 80 finished with value: 0.9557716321112292 and parameters: {'max_depth': 7, 'learning_rate': 0.00765374740889773, 'min_child_weight': 5, 'subsample': 0.43578741006699173, 'colsample_bytree': 0.9382510178705322, 'n_estimators': 1221}. Best is trial 67 with value: 0.9567224344306845.\n",
      "[I 2024-10-22 00:28:39,857] Trial 81 finished with value: 0.9571777303597556 and parameters: {'max_depth': 7, 'learning_rate': 0.007293247406324858, 'min_child_weight': 5, 'subsample': 0.48990311339226955, 'colsample_bytree': 0.9385412328534335, 'n_estimators': 1482}. Best is trial 81 with value: 0.9571777303597556.\n",
      "[I 2024-10-22 00:28:47,558] Trial 82 finished with value: 0.9569331469081355 and parameters: {'max_depth': 7, 'learning_rate': 0.007334928217553363, 'min_child_weight': 7, 'subsample': 0.4867104382561735, 'colsample_bytree': 0.9426567733844132, 'n_estimators': 1443}. Best is trial 81 with value: 0.9571777303597556.\n",
      "[I 2024-10-22 00:28:56,186] Trial 83 finished with value: 0.9557706057180727 and parameters: {'max_depth': 8, 'learning_rate': 0.007376452223384264, 'min_child_weight': 7, 'subsample': 0.48675321708284963, 'colsample_bytree': 0.8165086920162746, 'n_estimators': 1470}. Best is trial 81 with value: 0.9571777303597556.\n",
      "[I 2024-10-22 00:29:04,052] Trial 84 finished with value: 0.9553040798403464 and parameters: {'max_depth': 5, 'learning_rate': 0.00890891850432111, 'min_child_weight': 6, 'subsample': 0.46024111411130597, 'colsample_bytree': 0.8978103247787838, 'n_estimators': 1533}. Best is trial 81 with value: 0.9571777303597556.\n",
      "[I 2024-10-22 00:29:11,105] Trial 85 finished with value: 0.9560214682807685 and parameters: {'max_depth': 6, 'learning_rate': 0.006499606548621345, 'min_child_weight': 3, 'subsample': 0.48549651771590974, 'colsample_bytree': 0.9832489425574887, 'n_estimators': 1470}. Best is trial 81 with value: 0.9571777303597556.\n",
      "[I 2024-10-22 00:29:19,181] Trial 86 finished with value: 0.9545552354684768 and parameters: {'max_depth': 8, 'learning_rate': 0.007187112788998256, 'min_child_weight': 4, 'subsample': 0.2729428242774996, 'colsample_bytree': 0.9431267303032277, 'n_estimators': 1344}. Best is trial 81 with value: 0.9571777303597556.\n",
      "[I 2024-10-22 00:29:26,681] Trial 87 finished with value: 0.9558132915981752 and parameters: {'max_depth': 7, 'learning_rate': 0.007951451265450382, 'min_child_weight': 7, 'subsample': 0.4740277952835525, 'colsample_bytree': 0.8731208386498955, 'n_estimators': 1436}. Best is trial 81 with value: 0.9571777303597556.\n",
      "[I 2024-10-22 00:29:35,976] Trial 88 finished with value: 0.9495441425734962 and parameters: {'max_depth': 9, 'learning_rate': 0.0075739290186145215, 'min_child_weight': 6, 'subsample': 0.4900065010820035, 'colsample_bytree': 0.5927521559770044, 'n_estimators': 1280}. Best is trial 81 with value: 0.9571777303597556.\n",
      "[I 2024-10-22 00:29:41,429] Trial 89 finished with value: 0.9266821406503974 and parameters: {'max_depth': 8, 'learning_rate': 0.006577096198615802, 'min_child_weight': 6, 'subsample': 0.45399188714937344, 'colsample_bytree': 0.34704718932380396, 'n_estimators': 1482}. Best is trial 81 with value: 0.9571777303597556.\n",
      "[I 2024-10-22 00:29:46,742] Trial 90 finished with value: 0.9540150507877446 and parameters: {'max_depth': 6, 'learning_rate': 0.007244481196870546, 'min_child_weight': 4, 'subsample': 0.46342125543755897, 'colsample_bytree': 0.9239871976810293, 'n_estimators': 1079}. Best is trial 81 with value: 0.9571777303597556.\n",
      "[I 2024-10-22 00:29:54,126] Trial 91 finished with value: 0.9562998623304897 and parameters: {'max_depth': 7, 'learning_rate': 0.006861495846215678, 'min_child_weight': 5, 'subsample': 0.4749396373106895, 'colsample_bytree': 0.9455978991183819, 'n_estimators': 1396}. Best is trial 81 with value: 0.9571777303597556.\n",
      "[I 2024-10-22 00:30:02,162] Trial 92 finished with value: 0.9566221497816743 and parameters: {'max_depth': 7, 'learning_rate': 0.006704470087247183, 'min_child_weight': 5, 'subsample': 0.4906912838884822, 'colsample_bytree': 0.9517390344146808, 'n_estimators': 1545}. Best is trial 81 with value: 0.9571777303597556.\n",
      "[I 2024-10-22 00:30:11,741] Trial 93 finished with value: 0.9570240732666 and parameters: {'max_depth': 7, 'learning_rate': 0.007074479117934124, 'min_child_weight': 7, 'subsample': 0.4895114549981348, 'colsample_bytree': 0.98009503517272, 'n_estimators': 1539}. Best is trial 81 with value: 0.9571777303597556.\n",
      "[I 2024-10-22 00:30:20,016] Trial 94 finished with value: 0.9573287309059175 and parameters: {'max_depth': 7, 'learning_rate': 0.007789852093702805, 'min_child_weight': 7, 'subsample': 0.4903504419409193, 'colsample_bytree': 0.9804692019882272, 'n_estimators': 1555}. Best is trial 94 with value: 0.9573287309059175.\n",
      "[I 2024-10-22 00:30:27,342] Trial 95 finished with value: 0.9566488360037466 and parameters: {'max_depth': 6, 'learning_rate': 0.0077782162403638964, 'min_child_weight': 7, 'subsample': 0.4901371149907883, 'colsample_bytree': 0.9791142039419742, 'n_estimators': 1545}. Best is trial 94 with value: 0.9573287309059175.\n",
      "[I 2024-10-22 00:30:34,613] Trial 96 finished with value: 0.9567463433536274 and parameters: {'max_depth': 6, 'learning_rate': 0.008276440983132518, 'min_child_weight': 7, 'subsample': 0.49036576985993635, 'colsample_bytree': 0.9768949280460183, 'n_estimators': 1524}. Best is trial 94 with value: 0.9573287309059175.\n",
      "[I 2024-10-22 00:30:42,570] Trial 97 finished with value: 0.9561521824680698 and parameters: {'max_depth': 5, 'learning_rate': 0.00885830918005484, 'min_child_weight': 7, 'subsample': 0.49073315957964914, 'colsample_bytree': 0.9790976039364174, 'n_estimators': 1555}. Best is trial 94 with value: 0.9573287309059175.\n",
      "[I 2024-10-22 00:30:49,580] Trial 98 finished with value: 0.9569371317286262 and parameters: {'max_depth': 6, 'learning_rate': 0.008163655404721904, 'min_child_weight': 7, 'subsample': 0.4986466737054281, 'colsample_bytree': 0.9965969234245987, 'n_estimators': 1496}. Best is trial 94 with value: 0.9573287309059175.\n",
      "[I 2024-10-22 00:30:56,823] Trial 99 finished with value: 0.9567834142594024 and parameters: {'max_depth': 6, 'learning_rate': 0.008427496750680462, 'min_child_weight': 7, 'subsample': 0.4812149450011054, 'colsample_bytree': 0.998809019905045, 'n_estimators': 1532}. Best is trial 94 with value: 0.9573287309059175.\n",
      "[I 2024-10-22 00:31:03,839] Trial 100 finished with value: 0.9566318703286282 and parameters: {'max_depth': 6, 'learning_rate': 0.008509272535792155, 'min_child_weight': 7, 'subsample': 0.47910136234635453, 'colsample_bytree': 0.9970654161373294, 'n_estimators': 1504}. Best is trial 94 with value: 0.9573287309059175.\n",
      "[I 2024-10-22 00:31:12,590] Trial 101 finished with value: 0.9568575258829184 and parameters: {'max_depth': 6, 'learning_rate': 0.008325724472965866, 'min_child_weight': 7, 'subsample': 0.48036573482129113, 'colsample_bytree': 0.9864220045805117, 'n_estimators': 1534}. Best is trial 94 with value: 0.9573287309059175.\n",
      "[I 2024-10-22 00:31:19,157] Trial 102 finished with value: 0.9560748709129477 and parameters: {'max_depth': 5, 'learning_rate': 0.008178716001843151, 'min_child_weight': 8, 'subsample': 0.4817047243387351, 'colsample_bytree': 0.9745613665614935, 'n_estimators': 1600}. Best is trial 94 with value: 0.9573287309059175.\n",
      "[I 2024-10-22 00:31:26,093] Trial 103 finished with value: 0.9569572973353505 and parameters: {'max_depth': 6, 'learning_rate': 0.008406794685162852, 'min_child_weight': 7, 'subsample': 0.49995921336352395, 'colsample_bytree': 0.9763739747447595, 'n_estimators': 1509}. Best is trial 94 with value: 0.9573287309059175.\n",
      "[I 2024-10-22 00:31:32,944] Trial 104 finished with value: 0.9568160173361426 and parameters: {'max_depth': 6, 'learning_rate': 0.009175231932028783, 'min_child_weight': 8, 'subsample': 0.4926129702055767, 'colsample_bytree': 0.9996923072133244, 'n_estimators': 1486}. Best is trial 94 with value: 0.9573287309059175.\n",
      "[I 2024-10-22 00:31:38,351] Trial 105 finished with value: 0.9534231238167046 and parameters: {'max_depth': 4, 'learning_rate': 0.009421849328274627, 'min_child_weight': 8, 'subsample': 0.49968067495035084, 'colsample_bytree': 0.9119544936455787, 'n_estimators': 1495}. Best is trial 94 with value: 0.9573287309059175.\n",
      "[I 2024-10-22 00:31:46,439] Trial 106 finished with value: 0.9569882098821858 and parameters: {'max_depth': 6, 'learning_rate': 0.009129789854909417, 'min_child_weight': 8, 'subsample': 0.48962111292165006, 'colsample_bytree': 0.9975173909060036, 'n_estimators': 1439}. Best is trial 94 with value: 0.9573287309059175.\n",
      "[I 2024-10-22 00:31:52,983] Trial 107 finished with value: 0.9567477320031922 and parameters: {'max_depth': 6, 'learning_rate': 0.009648059398089102, 'min_child_weight': 8, 'subsample': 0.48019994262481147, 'colsample_bytree': 0.9856670880199647, 'n_estimators': 1443}. Best is trial 94 with value: 0.9573287309059175.\n",
      "[I 2024-10-22 00:31:58,878] Trial 108 finished with value: 0.955795541034172 and parameters: {'max_depth': 5, 'learning_rate': 0.009817553916772847, 'min_child_weight': 8, 'subsample': 0.44324534669183324, 'colsample_bytree': 0.9924588981376503, 'n_estimators': 1439}. Best is trial 94 with value: 0.9573287309059175.\n",
      "[I 2024-10-22 00:32:05,677] Trial 109 finished with value: 0.956593169269016 and parameters: {'max_depth': 6, 'learning_rate': 0.009081462240572605, 'min_child_weight': 8, 'subsample': 0.4819849173666893, 'colsample_bytree': 0.9972542196644043, 'n_estimators': 1483}. Best is trial 94 with value: 0.9573287309059175.\n",
      "[I 2024-10-22 00:32:10,742] Trial 110 finished with value: 0.9262639760031696 and parameters: {'max_depth': 5, 'learning_rate': 0.009744929093119171, 'min_child_weight': 8, 'subsample': 0.45122732501740564, 'colsample_bytree': 0.1875280436148058, 'n_estimators': 1611}. Best is trial 94 with value: 0.9573287309059175.\n",
      "[I 2024-10-22 00:32:18,740] Trial 111 finished with value: 0.9566047010980113 and parameters: {'max_depth': 6, 'learning_rate': 0.008670163567634401, 'min_child_weight': 7, 'subsample': 0.47895298752827387, 'colsample_bytree': 0.9776196698108183, 'n_estimators': 1435}. Best is trial 94 with value: 0.9573287309059175.\n",
      "[I 2024-10-22 00:32:25,676] Trial 112 finished with value: 0.956978911967708 and parameters: {'max_depth': 6, 'learning_rate': 0.009115600632744771, 'min_child_weight': 7, 'subsample': 0.48588496118851965, 'colsample_bytree': 0.9667883711882722, 'n_estimators': 1509}. Best is trial 94 with value: 0.9573287309059175.\n",
      "[I 2024-10-22 00:32:32,850] Trial 113 finished with value: 0.9563249485867592 and parameters: {'max_depth': 6, 'learning_rate': 0.009458434884499019, 'min_child_weight': 8, 'subsample': 0.45764649548919994, 'colsample_bytree': 0.9161531906884985, 'n_estimators': 1588}. Best is trial 94 with value: 0.9573287309059175.\n",
      "[I 2024-10-22 00:32:39,100] Trial 114 finished with value: 0.9565836600383 and parameters: {'max_depth': 5, 'learning_rate': 0.009640750552580783, 'min_child_weight': 6, 'subsample': 0.48570975361062835, 'colsample_bytree': 0.9616020985532093, 'n_estimators': 1512}. Best is trial 94 with value: 0.9573287309059175.\n",
      "[I 2024-10-22 00:32:47,246] Trial 115 finished with value: 0.9568180701224558 and parameters: {'max_depth': 6, 'learning_rate': 0.009145196468688938, 'min_child_weight': 7, 'subsample': 0.47737563190741217, 'colsample_bytree': 0.9984734706848712, 'n_estimators': 1463}. Best is trial 94 with value: 0.9573287309059175.\n",
      "[I 2024-10-22 00:32:53,968] Trial 116 finished with value: 0.9558457739227793 and parameters: {'max_depth': 6, 'learning_rate': 0.009144589206881406, 'min_child_weight': 7, 'subsample': 0.4622235405872091, 'colsample_bytree': 0.8949698713346051, 'n_estimators': 1466}. Best is trial 94 with value: 0.9573287309059175.\n",
      "[I 2024-10-22 00:33:00,865] Trial 117 finished with value: 0.9570638007193686 and parameters: {'max_depth': 6, 'learning_rate': 0.008676929393951822, 'min_child_weight': 7, 'subsample': 0.4902770680497042, 'colsample_bytree': 0.9624910737220232, 'n_estimators': 1502}. Best is trial 94 with value: 0.9573287309059175.\n",
      "[I 2024-10-22 00:33:07,051] Trial 118 finished with value: 0.9560135590158556 and parameters: {'max_depth': 5, 'learning_rate': 0.008663671382310058, 'min_child_weight': 6, 'subsample': 0.49337396904560515, 'colsample_bytree': 0.9641793385439837, 'n_estimators': 1488}. Best is trial 94 with value: 0.9573287309059175.\n",
      "[I 2024-10-22 00:33:12,494] Trial 119 finished with value: 0.9535441174570517 and parameters: {'max_depth': 4, 'learning_rate': 0.008950385710569986, 'min_child_weight': 7, 'subsample': 0.47476569241713934, 'colsample_bytree': 0.9192310833600197, 'n_estimators': 1565}. Best is trial 94 with value: 0.9573287309059175.\n",
      "[I 2024-10-22 00:33:21,005] Trial 120 finished with value: 0.9569767988053266 and parameters: {'max_depth': 7, 'learning_rate': 0.009149670823782055, 'min_child_weight': 6, 'subsample': 0.491795774688141, 'colsample_bytree': 0.9601600127195459, 'n_estimators': 1334}. Best is trial 94 with value: 0.9573287309059175.\n",
      "[I 2024-10-22 00:33:27,988] Trial 121 finished with value: 0.9573976501875824 and parameters: {'max_depth': 7, 'learning_rate': 0.009969730563794015, 'min_child_weight': 6, 'subsample': 0.4999090096789304, 'colsample_bytree': 0.9665500355388266, 'n_estimators': 1327}. Best is trial 121 with value: 0.9573976501875824.\n",
      "[I 2024-10-22 00:33:34,989] Trial 122 finished with value: 0.9571648400692296 and parameters: {'max_depth': 7, 'learning_rate': 0.00868708482899147, 'min_child_weight': 6, 'subsample': 0.4997728356314252, 'colsample_bytree': 0.9603215639210431, 'n_estimators': 1321}. Best is trial 121 with value: 0.9573976501875824.\n",
      "[I 2024-10-22 00:33:41,608] Trial 123 finished with value: 0.9572329744620101 and parameters: {'max_depth': 7, 'learning_rate': 0.009947733851130463, 'min_child_weight': 6, 'subsample': 0.4994943089406962, 'colsample_bytree': 0.9645900211115259, 'n_estimators': 1251}. Best is trial 121 with value: 0.9573976501875824.\n",
      "[I 2024-10-22 00:33:48,673] Trial 124 finished with value: 0.9573286705298494 and parameters: {'max_depth': 7, 'learning_rate': 0.009357662338283034, 'min_child_weight': 6, 'subsample': 0.49983758462772143, 'colsample_bytree': 0.9595903920871296, 'n_estimators': 1330}. Best is trial 121 with value: 0.9573976501875824.\n",
      "[I 2024-10-22 00:33:56,552] Trial 125 finished with value: 0.9569977493009356 and parameters: {'max_depth': 7, 'learning_rate': 0.009888724229575466, 'min_child_weight': 6, 'subsample': 0.4996130564455245, 'colsample_bytree': 0.9214918363190309, 'n_estimators': 1324}. Best is trial 121 with value: 0.9573976501875824.\n",
      "[I 2024-10-22 00:34:03,695] Trial 126 finished with value: 0.9569867608565529 and parameters: {'max_depth': 8, 'learning_rate': 0.009902601426830217, 'min_child_weight': 6, 'subsample': 0.49937900450339523, 'colsample_bytree': 0.8852516761613998, 'n_estimators': 1257}. Best is trial 121 with value: 0.9573976501875824.\n",
      "[I 2024-10-22 00:34:11,039] Trial 127 finished with value: 0.9571335954540203 and parameters: {'max_depth': 8, 'learning_rate': 0.00988031497496851, 'min_child_weight': 6, 'subsample': 0.4920846643578729, 'colsample_bytree': 0.8861062621386842, 'n_estimators': 1258}. Best is trial 121 with value: 0.9573976501875824.\n",
      "[I 2024-10-22 00:34:17,706] Trial 128 finished with value: 0.9564533382954411 and parameters: {'max_depth': 8, 'learning_rate': 0.009865742012028363, 'min_child_weight': 6, 'subsample': 0.49999113559776, 'colsample_bytree': 0.878718941491412, 'n_estimators': 1157}. Best is trial 121 with value: 0.9573976501875824.\n",
      "[I 2024-10-22 00:34:26,207] Trial 129 finished with value: 0.9558723997687839 and parameters: {'max_depth': 8, 'learning_rate': 0.009929404786510589, 'min_child_weight': 6, 'subsample': 0.48962117580685083, 'colsample_bytree': 0.8495776527652834, 'n_estimators': 1222}. Best is trial 121 with value: 0.9573976501875824.\n",
      "[I 2024-10-22 00:34:33,538] Trial 130 finished with value: 0.9564522515262164 and parameters: {'max_depth': 8, 'learning_rate': 0.009601769614387627, 'min_child_weight': 6, 'subsample': 0.4646636544893718, 'colsample_bytree': 0.9034579436730428, 'n_estimators': 1275}. Best is trial 121 with value: 0.9573976501875824.\n",
      "[I 2024-10-22 00:34:40,468] Trial 131 finished with value: 0.9573354930255378 and parameters: {'max_depth': 7, 'learning_rate': 0.009975853064177686, 'min_child_weight': 6, 'subsample': 0.4906930782247205, 'colsample_bytree': 0.9242768631050058, 'n_estimators': 1334}. Best is trial 121 with value: 0.9573976501875824.\n",
      "[I 2024-10-22 00:34:47,472] Trial 132 finished with value: 0.9571447650266072 and parameters: {'max_depth': 7, 'learning_rate': 0.00947538017776799, 'min_child_weight': 6, 'subsample': 0.4873674047099665, 'colsample_bytree': 0.9278563775587665, 'n_estimators': 1323}. Best is trial 121 with value: 0.9573976501875824.\n",
      "[I 2024-10-22 00:34:56,005] Trial 133 finished with value: 0.9562618254076259 and parameters: {'max_depth': 7, 'learning_rate': 0.009951880198032186, 'min_child_weight': 6, 'subsample': 0.4924314450654981, 'colsample_bytree': 0.8340658396176328, 'n_estimators': 1317}. Best is trial 121 with value: 0.9573976501875824.\n",
      "[I 2024-10-22 00:35:03,382] Trial 134 finished with value: 0.9531938155102978 and parameters: {'max_depth': 8, 'learning_rate': 0.009480754851718199, 'min_child_weight': 6, 'subsample': 0.22124596187403445, 'colsample_bytree': 0.9280317534033636, 'n_estimators': 1250}. Best is trial 121 with value: 0.9573976501875824.\n",
      "[I 2024-10-22 00:35:10,122] Trial 135 finished with value: 0.9515260473828967 and parameters: {'max_depth': 7, 'learning_rate': 0.009363602443881139, 'min_child_weight': 5, 'subsample': 0.1682919072677267, 'colsample_bytree': 0.8840015009825914, 'n_estimators': 1242}. Best is trial 121 with value: 0.9573976501875824.\n",
      "[I 2024-10-22 00:35:17,403] Trial 136 finished with value: 0.9567595355244934 and parameters: {'max_depth': 7, 'learning_rate': 0.009987147990098245, 'min_child_weight': 6, 'subsample': 0.47352900656224395, 'colsample_bytree': 0.9039132968601353, 'n_estimators': 1344}. Best is trial 121 with value: 0.9573976501875824.\n",
      "[I 2024-10-22 00:35:24,364] Trial 137 finished with value: 0.9569553049251053 and parameters: {'max_depth': 8, 'learning_rate': 0.009710744568220221, 'min_child_weight': 6, 'subsample': 0.48551622874258, 'colsample_bytree': 0.9228114229805062, 'n_estimators': 1172}. Best is trial 121 with value: 0.9573976501875824.\n",
      "[I 2024-10-22 00:35:32,269] Trial 138 finished with value: 0.9564673455432259 and parameters: {'max_depth': 7, 'learning_rate': 0.009548981245517571, 'min_child_weight': 5, 'subsample': 0.4701195968538007, 'colsample_bytree': 0.8637958115151463, 'n_estimators': 1279}. Best is trial 121 with value: 0.9573976501875824.\n",
      "[I 2024-10-22 00:35:38,284] Trial 139 finished with value: 0.954377518512208 and parameters: {'max_depth': 7, 'learning_rate': 0.009750330578319574, 'min_child_weight': 5, 'subsample': 0.3035569479321641, 'colsample_bytree': 0.8894419657878267, 'n_estimators': 1109}. Best is trial 121 with value: 0.9573976501875824.\n",
      "[I 2024-10-22 00:35:48,341] Trial 140 finished with value: 0.9564552703296185 and parameters: {'max_depth': 8, 'learning_rate': 0.009318413086770814, 'min_child_weight': 0, 'subsample': 0.49351188102647214, 'colsample_bytree': 0.9250684755129642, 'n_estimators': 1365}. Best is trial 121 with value: 0.9573976501875824.\n",
      "[I 2024-10-22 00:35:54,797] Trial 141 finished with value: 0.9570383220186569 and parameters: {'max_depth': 7, 'learning_rate': 0.009990586309878442, 'min_child_weight': 6, 'subsample': 0.4996057952872673, 'colsample_bytree': 0.9549351181425815, 'n_estimators': 1207}. Best is trial 121 with value: 0.9573976501875824.\n",
      "[I 2024-10-22 00:36:02,717] Trial 142 finished with value: 0.9566195536107485 and parameters: {'max_depth': 7, 'learning_rate': 0.00981624289033939, 'min_child_weight': 6, 'subsample': 0.4995969897933729, 'colsample_bytree': 0.9533173595192014, 'n_estimators': 1205}. Best is trial 121 with value: 0.9573976501875824.\n",
      "[I 2024-10-22 00:36:09,510] Trial 143 finished with value: 0.9568793216434801 and parameters: {'max_depth': 7, 'learning_rate': 0.009969513839590261, 'min_child_weight': 6, 'subsample': 0.48842147152596005, 'colsample_bytree': 0.9263348030693056, 'n_estimators': 1267}. Best is trial 121 with value: 0.9573976501875824.\n",
      "[I 2024-10-22 00:36:17,178] Trial 144 finished with value: 0.9538020440197081 and parameters: {'max_depth': 8, 'learning_rate': 0.009553906422315907, 'min_child_weight': 5, 'subsample': 0.4994757242503636, 'colsample_bytree': 0.68272412380284, 'n_estimators': 1314}. Best is trial 121 with value: 0.9573976501875824.\n",
      "[I 2024-10-22 00:36:23,733] Trial 145 finished with value: 0.9567470074903758 and parameters: {'max_depth': 7, 'learning_rate': 0.009366193427532454, 'min_child_weight': 6, 'subsample': 0.4770605884011632, 'colsample_bytree': 0.9541410202945014, 'n_estimators': 1235}. Best is trial 121 with value: 0.9573976501875824.\n",
      "[I 2024-10-22 00:36:31,028] Trial 146 finished with value: 0.9555787607618833 and parameters: {'max_depth': 7, 'learning_rate': 0.008843638087327237, 'min_child_weight': 6, 'subsample': 0.483979448294309, 'colsample_bytree': 0.8924066192018455, 'n_estimators': 1078}. Best is trial 121 with value: 0.9573976501875824.\n",
      "[I 2024-10-22 00:36:38,723] Trial 147 finished with value: 0.9574135592815103 and parameters: {'max_depth': 8, 'learning_rate': 0.009988974140173412, 'min_child_weight': 5, 'subsample': 0.491232124422375, 'colsample_bytree': 0.9120226107673022, 'n_estimators': 1306}. Best is trial 147 with value: 0.9574135592815103.\n",
      "[I 2024-10-22 00:36:44,928] Trial 148 finished with value: 0.950232127868784 and parameters: {'max_depth': 7, 'learning_rate': 0.009531617858642686, 'min_child_weight': 5, 'subsample': 0.13293693678445, 'colsample_bytree': 0.9344163795418245, 'n_estimators': 1151}. Best is trial 147 with value: 0.9574135592815103.\n",
      "[I 2024-10-22 00:36:51,972] Trial 149 finished with value: 0.9570974301892656 and parameters: {'max_depth': 7, 'learning_rate': 0.009745514937265663, 'min_child_weight': 4, 'subsample': 0.46651692494764674, 'colsample_bytree': 0.9593136600703589, 'n_estimators': 1330}. Best is trial 147 with value: 0.9574135592815103.\n",
      "[I 2024-10-22 00:36:59,188] Trial 150 finished with value: 0.9566682167215865 and parameters: {'max_depth': 8, 'learning_rate': 0.009993738559571889, 'min_child_weight': 4, 'subsample': 0.4639486609747106, 'colsample_bytree': 0.9099046933969346, 'n_estimators': 1200}. Best is trial 147 with value: 0.9574135592815103.\n",
      "[I 2024-10-22 00:37:07,845] Trial 151 finished with value: 0.9574817238623248 and parameters: {'max_depth': 7, 'learning_rate': 0.009706694276720789, 'min_child_weight': 4, 'subsample': 0.489769556338389, 'colsample_bytree': 0.9578514098124937, 'n_estimators': 1329}. Best is trial 151 with value: 0.9574817238623248.\n",
      "[I 2024-10-22 00:37:15,023] Trial 152 finished with value: 0.9572054429749848 and parameters: {'max_depth': 7, 'learning_rate': 0.009696433647950316, 'min_child_weight': 3, 'subsample': 0.4754718998407752, 'colsample_bytree': 0.9551694992944603, 'n_estimators': 1325}. Best is trial 151 with value: 0.9574817238623248.\n",
      "[I 2024-10-22 00:37:21,963] Trial 153 finished with value: 0.9573963521021197 and parameters: {'max_depth': 7, 'learning_rate': 0.009678253231823319, 'min_child_weight': 3, 'subsample': 0.4763365545857581, 'colsample_bytree': 0.9578433499149669, 'n_estimators': 1303}. Best is trial 151 with value: 0.9574817238623248.\n",
      "[I 2024-10-22 00:37:29,146] Trial 154 finished with value: 0.957086924753427 and parameters: {'max_depth': 7, 'learning_rate': 0.00968221863354345, 'min_child_weight': 2, 'subsample': 0.4734626700854838, 'colsample_bytree': 0.957975898716797, 'n_estimators': 1302}. Best is trial 151 with value: 0.9574817238623248.\n",
      "[I 2024-10-22 00:37:38,891] Trial 155 finished with value: 0.9570746080355474 and parameters: {'max_depth': 8, 'learning_rate': 0.009735456719332994, 'min_child_weight': 3, 'subsample': 0.4694872119845583, 'colsample_bytree': 0.9516549707133779, 'n_estimators': 1370}. Best is trial 151 with value: 0.9574817238623248.\n",
      "[I 2024-10-22 00:37:47,064] Trial 156 finished with value: 0.9568368470796157 and parameters: {'max_depth': 8, 'learning_rate': 0.009741695119460984, 'min_child_weight': 3, 'subsample': 0.4537195597783106, 'colsample_bytree': 0.9358259648791583, 'n_estimators': 1361}. Best is trial 151 with value: 0.9574817238623248.\n",
      "[I 2024-10-22 00:37:55,128] Trial 157 finished with value: 0.9568766349084523 and parameters: {'max_depth': 8, 'learning_rate': 0.009689259435753503, 'min_child_weight': 2, 'subsample': 0.4721519672801602, 'colsample_bytree': 0.9560844627391233, 'n_estimators': 1294}. Best is trial 151 with value: 0.9574817238623248.\n",
      "[I 2024-10-22 00:38:02,742] Trial 158 finished with value: 0.9570206318307221 and parameters: {'max_depth': 7, 'learning_rate': 0.009449540145209972, 'min_child_weight': 1, 'subsample': 0.4603001397650444, 'colsample_bytree': 0.9056574723067811, 'n_estimators': 1392}. Best is trial 151 with value: 0.9574817238623248.\n",
      "[I 2024-10-22 00:38:11,370] Trial 159 finished with value: 0.9572351781884934 and parameters: {'max_depth': 7, 'learning_rate': 0.009593403672736108, 'min_child_weight': 3, 'subsample': 0.4763709024951251, 'colsample_bytree': 0.9391563559915235, 'n_estimators': 1335}. Best is trial 151 with value: 0.9574817238623248.\n",
      "[I 2024-10-22 00:38:18,559] Trial 160 finished with value: 0.9568530882419177 and parameters: {'max_depth': 7, 'learning_rate': 0.009301250597626745, 'min_child_weight': 2, 'subsample': 0.4781737775499989, 'colsample_bytree': 0.9336827220730494, 'n_estimators': 1328}. Best is trial 151 with value: 0.9574817238623248.\n",
      "[I 2024-10-22 00:38:25,709] Trial 161 finished with value: 0.9567552186356287 and parameters: {'max_depth': 7, 'learning_rate': 0.009653241352570854, 'min_child_weight': 3, 'subsample': 0.4701414723384471, 'colsample_bytree': 0.9704132739531551, 'n_estimators': 1292}. Best is trial 151 with value: 0.9574817238623248.\n",
      "[I 2024-10-22 00:38:32,950] Trial 162 finished with value: 0.9572598418122867 and parameters: {'max_depth': 7, 'learning_rate': 0.009553307682031168, 'min_child_weight': 3, 'subsample': 0.4816817340582763, 'colsample_bytree': 0.9534483274481479, 'n_estimators': 1353}. Best is trial 151 with value: 0.9574817238623248.\n",
      "[I 2024-10-22 00:38:38,977] Trial 163 finished with value: 0.9248569419255884 and parameters: {'max_depth': 7, 'learning_rate': 0.009304653753633617, 'min_child_weight': 4, 'subsample': 0.4807824230759587, 'colsample_bytree': 0.05421479123638362, 'n_estimators': 1344}. Best is trial 151 with value: 0.9574817238623248.\n",
      "[I 2024-10-22 00:38:46,280] Trial 164 finished with value: 0.9568844837972972 and parameters: {'max_depth': 7, 'learning_rate': 0.009538938917779915, 'min_child_weight': 3, 'subsample': 0.4837821952758103, 'colsample_bytree': 0.913032287016454, 'n_estimators': 1324}. Best is trial 151 with value: 0.9574817238623248.\n",
      "[I 2024-10-22 00:38:53,337] Trial 165 finished with value: 0.9573578925467797 and parameters: {'max_depth': 7, 'learning_rate': 0.008948954818083372, 'min_child_weight': 4, 'subsample': 0.475878079948128, 'colsample_bytree': 0.974719248739506, 'n_estimators': 1303}. Best is trial 151 with value: 0.9574817238623248.\n",
      "[I 2024-10-22 00:39:00,295] Trial 166 finished with value: 0.9570330693007375 and parameters: {'max_depth': 7, 'learning_rate': 0.009029418057591073, 'min_child_weight': 4, 'subsample': 0.4626510905404721, 'colsample_bytree': 0.9784047261575549, 'n_estimators': 1256}. Best is trial 151 with value: 0.9574817238623248.\n",
      "[I 2024-10-22 00:39:09,691] Trial 167 finished with value: 0.9445282195930725 and parameters: {'max_depth': 8, 'learning_rate': 0.001275924970029407, 'min_child_weight': 3, 'subsample': 0.4811168205585032, 'colsample_bytree': 0.9370365845583347, 'n_estimators': 1391}. Best is trial 151 with value: 0.9574817238623248.\n",
      "[I 2024-10-22 00:39:17,615] Trial 168 finished with value: 0.9542401931454567 and parameters: {'max_depth': 7, 'learning_rate': 0.009236347592276449, 'min_child_weight': 4, 'subsample': 0.20174843065774617, 'colsample_bytree': 0.9700072112103109, 'n_estimators': 1357}. Best is trial 151 with value: 0.9574817238623248.\n",
      "[I 2024-10-22 00:39:24,553] Trial 169 finished with value: 0.9564218823639936 and parameters: {'max_depth': 7, 'learning_rate': 0.00943521929925995, 'min_child_weight': 4, 'subsample': 0.48650255732569975, 'colsample_bytree': 0.8695222420997891, 'n_estimators': 1284}. Best is trial 151 with value: 0.9574817238623248.\n",
      "[I 2024-10-22 00:39:32,055] Trial 170 finished with value: 0.9554734950872598 and parameters: {'max_depth': 7, 'learning_rate': 0.008933955984918533, 'min_child_weight': 3, 'subsample': 0.25485828234382435, 'colsample_bytree': 0.9086524153858243, 'n_estimators': 1403}. Best is trial 151 with value: 0.9574817238623248.\n",
      "[I 2024-10-22 00:39:39,182] Trial 171 finished with value: 0.9572481288550875 and parameters: {'max_depth': 7, 'learning_rate': 0.009768889987958928, 'min_child_weight': 2, 'subsample': 0.47500103952370737, 'colsample_bytree': 0.9475984357545431, 'n_estimators': 1302}. Best is trial 151 with value: 0.9574817238623248.\n",
      "[I 2024-10-22 00:39:48,110] Trial 172 finished with value: 0.9569285583269647 and parameters: {'max_depth': 7, 'learning_rate': 0.009761750144279224, 'min_child_weight': 2, 'subsample': 0.4774047791744844, 'colsample_bytree': 0.9430771700709542, 'n_estimators': 1330}. Best is trial 151 with value: 0.9574817238623248.\n",
      "[I 2024-10-22 00:39:56,400] Trial 173 finished with value: 0.9568562277974556 and parameters: {'max_depth': 8, 'learning_rate': 0.009466797036959585, 'min_child_weight': 1, 'subsample': 0.49213674664570384, 'colsample_bytree': 0.9743010726077715, 'n_estimators': 1245}. Best is trial 151 with value: 0.9574817238623248.\n",
      "[I 2024-10-22 00:40:03,435] Trial 174 finished with value: 0.9570916944628021 and parameters: {'max_depth': 7, 'learning_rate': 0.009792692322519184, 'min_child_weight': 3, 'subsample': 0.4641808371665146, 'colsample_bytree': 0.9258863670030487, 'n_estimators': 1300}. Best is trial 151 with value: 0.9574817238623248.\n",
      "[I 2024-10-22 00:40:08,288] Trial 175 finished with value: 0.929363260703741 and parameters: {'max_depth': 7, 'learning_rate': 0.009508604441132136, 'min_child_weight': 4, 'subsample': 0.4866399201627354, 'colsample_bytree': 0.41970694752152615, 'n_estimators': 1275}. Best is trial 151 with value: 0.9574817238623248.\n",
      "[I 2024-10-22 00:40:17,211] Trial 176 finished with value: 0.9573593415724126 and parameters: {'max_depth': 7, 'learning_rate': 0.009800286148884464, 'min_child_weight': 3, 'subsample': 0.4754299828403025, 'colsample_bytree': 0.9494143519936942, 'n_estimators': 1357}. Best is trial 151 with value: 0.9574817238623248.\n",
      "[I 2024-10-22 00:40:25,688] Trial 177 finished with value: 0.95687301234437 and parameters: {'max_depth': 8, 'learning_rate': 0.009235001602979173, 'min_child_weight': 2, 'subsample': 0.474948070793556, 'colsample_bytree': 0.9328501779783613, 'n_estimators': 1357}. Best is trial 151 with value: 0.9574817238623248.\n",
      "[I 2024-10-22 00:40:34,123] Trial 178 finished with value: 0.9566741033882205 and parameters: {'max_depth': 8, 'learning_rate': 0.00962790500005317, 'min_child_weight': 3, 'subsample': 0.44907700167131076, 'colsample_bytree': 0.8960256967277296, 'n_estimators': 1414}. Best is trial 151 with value: 0.9574817238623248.\n",
      "[I 2024-10-22 00:40:40,771] Trial 179 finished with value: 0.9574557017770007 and parameters: {'max_depth': 7, 'learning_rate': 0.00997384480750019, 'min_child_weight': 3, 'subsample': 0.49197369629139054, 'colsample_bytree': 0.9776522186946658, 'n_estimators': 1228}. Best is trial 151 with value: 0.9574817238623248.\n",
      "[I 2024-10-22 00:40:49,942] Trial 180 finished with value: 0.9574416341531478 and parameters: {'max_depth': 7, 'learning_rate': 0.009374344420207882, 'min_child_weight': 2, 'subsample': 0.4833832072656419, 'colsample_bytree': 0.9785464906399216, 'n_estimators': 1372}. Best is trial 151 with value: 0.9574817238623248.\n",
      "[I 2024-10-22 00:40:57,291] Trial 181 finished with value: 0.9487953585776946 and parameters: {'max_depth': 7, 'learning_rate': 0.009998374205435012, 'min_child_weight': 2, 'subsample': 0.4819141810599342, 'colsample_bytree': 0.5183660795717339, 'n_estimators': 1379}. Best is trial 151 with value: 0.9574817238623248.\n",
      "[I 2024-10-22 00:41:04,546] Trial 182 finished with value: 0.9573649565467401 and parameters: {'max_depth': 7, 'learning_rate': 0.009308717760459797, 'min_child_weight': 3, 'subsample': 0.490071652698095, 'colsample_bytree': 0.974354436295943, 'n_estimators': 1306}. Best is trial 151 with value: 0.9574817238623248.\n",
      "[I 2024-10-22 00:41:11,638] Trial 183 finished with value: 0.9575184928877596 and parameters: {'max_depth': 7, 'learning_rate': 0.009302822995153321, 'min_child_weight': 3, 'subsample': 0.4928473912632878, 'colsample_bytree': 0.9799695632829999, 'n_estimators': 1307}. Best is trial 183 with value: 0.9575184928877596.\n",
      "[I 2024-10-22 00:41:20,052] Trial 184 finished with value: 0.9574133177772381 and parameters: {'max_depth': 7, 'learning_rate': 0.00928154121177266, 'min_child_weight': 3, 'subsample': 0.47543707555603437, 'colsample_bytree': 0.9833953791615381, 'n_estimators': 1232}. Best is trial 183 with value: 0.9575184928877596.\n",
      "[I 2024-10-22 00:41:27,207] Trial 185 finished with value: 0.9571739870435374 and parameters: {'max_depth': 7, 'learning_rate': 0.009322565851660495, 'min_child_weight': 3, 'subsample': 0.4569230065717618, 'colsample_bytree': 0.9811690817778711, 'n_estimators': 1289}. Best is trial 183 with value: 0.9575184928877596.\n",
      "[I 2024-10-22 00:41:33,946] Trial 186 finished with value: 0.9571828623255388 and parameters: {'max_depth': 7, 'learning_rate': 0.009554482793242763, 'min_child_weight': 3, 'subsample': 0.4758468337681737, 'colsample_bytree': 0.9760381152822056, 'n_estimators': 1217}. Best is trial 183 with value: 0.9575184928877596.\n",
      "[I 2024-10-22 00:41:40,842] Trial 187 finished with value: 0.9569777648224153 and parameters: {'max_depth': 7, 'learning_rate': 0.008985187074674326, 'min_child_weight': 2, 'subsample': 0.47012231583263003, 'colsample_bytree': 0.9811021245573245, 'n_estimators': 1233}. Best is trial 183 with value: 0.9575184928877596.\n",
      "[I 2024-10-22 00:41:46,708] Trial 188 finished with value: 0.9564873903978143 and parameters: {'max_depth': 6, 'learning_rate': 0.009262760445815244, 'min_child_weight': 3, 'subsample': 0.4825234589176185, 'colsample_bytree': 0.9990009965381494, 'n_estimators': 1184}. Best is trial 183 with value: 0.9575184928877596.\n",
      "[I 2024-10-22 00:41:55,447] Trial 189 finished with value: 0.957376065743259 and parameters: {'max_depth': 7, 'learning_rate': 0.009814000600984996, 'min_child_weight': 2, 'subsample': 0.49244412343713684, 'colsample_bytree': 0.9602624719702075, 'n_estimators': 1271}. Best is trial 183 with value: 0.9575184928877596.\n",
      "[I 2024-10-22 00:42:01,648] Trial 190 finished with value: 0.9571149694370304 and parameters: {'max_depth': 6, 'learning_rate': 0.009826948930955405, 'min_child_weight': 2, 'subsample': 0.49392236391478533, 'colsample_bytree': 0.9816070549344615, 'n_estimators': 1271}. Best is trial 183 with value: 0.9575184928877596.\n",
      "[I 2024-10-22 00:42:08,937] Trial 191 finished with value: 0.9571924017442887 and parameters: {'max_depth': 7, 'learning_rate': 0.009632255782616301, 'min_child_weight': 3, 'subsample': 0.47851127609126104, 'colsample_bytree': 0.9498012406443876, 'n_estimators': 1306}. Best is trial 183 with value: 0.9575184928877596.\n",
      "[I 2024-10-22 00:42:16,478] Trial 192 finished with value: 0.9574409398283653 and parameters: {'max_depth': 7, 'learning_rate': 0.009810599401350468, 'min_child_weight': 3, 'subsample': 0.48977366932142524, 'colsample_bytree': 0.9634663340915026, 'n_estimators': 1350}. Best is trial 183 with value: 0.9575184928877596.\n",
      "[I 2024-10-22 00:42:25,767] Trial 193 finished with value: 0.9571675871803254 and parameters: {'max_depth': 7, 'learning_rate': 0.009973908928446965, 'min_child_weight': 2, 'subsample': 0.49329448172638324, 'colsample_bytree': 0.9702037242130885, 'n_estimators': 1357}. Best is trial 183 with value: 0.9575184928877596.\n",
      "[I 2024-10-22 00:42:32,740] Trial 194 finished with value: 0.9573060295043354 and parameters: {'max_depth': 7, 'learning_rate': 0.009821562835308453, 'min_child_weight': 3, 'subsample': 0.4911011068868887, 'colsample_bytree': 0.9485998852850626, 'n_estimators': 1280}. Best is trial 183 with value: 0.9575184928877596.\n",
      "[I 2024-10-22 00:42:40,518] Trial 195 finished with value: 0.9573697262561152 and parameters: {'max_depth': 7, 'learning_rate': 0.009401653295073052, 'min_child_weight': 1, 'subsample': 0.48612431357404384, 'colsample_bytree': 0.9997711528688131, 'n_estimators': 1348}. Best is trial 183 with value: 0.9575184928877596.\n",
      "[I 2024-10-22 00:42:47,417] Trial 196 finished with value: 0.9573082936068869 and parameters: {'max_depth': 6, 'learning_rate': 0.00933689937124644, 'min_child_weight': 1, 'subsample': 0.4883599051796987, 'colsample_bytree': 0.9954466132809008, 'n_estimators': 1366}. Best is trial 183 with value: 0.9575184928877596.\n",
      "[I 2024-10-22 00:42:50,606] Trial 197 finished with value: 0.9518242447829341 and parameters: {'max_depth': 6, 'learning_rate': 0.009373425277856971, 'min_child_weight': 1, 'subsample': 0.48705621383662856, 'colsample_bytree': 0.9975346807486337, 'n_estimators': 598}. Best is trial 183 with value: 0.9575184928877596.\n",
      "[I 2024-10-22 00:42:59,080] Trial 198 finished with value: 0.9571732625307208 and parameters: {'max_depth': 6, 'learning_rate': 0.00919782612995251, 'min_child_weight': 1, 'subsample': 0.49201312340445574, 'colsample_bytree': 0.9976069785514777, 'n_estimators': 1412}. Best is trial 183 with value: 0.9575184928877596.\n",
      "[I 2024-10-22 00:43:05,770] Trial 199 finished with value: 0.9569790327198442 and parameters: {'max_depth': 6, 'learning_rate': 0.00910773288683232, 'min_child_weight': 1, 'subsample': 0.48559677134137624, 'colsample_bytree': 0.9787111013931994, 'n_estimators': 1374}. Best is trial 183 with value: 0.9575184928877596.\n"
     ]
    }
   ],
   "source": [
    "def objective(trial):\n",
    "    params= {\n",
    "        \"max_depth\": trial.suggest_int(\"max_depth\", 2, 15),\n",
    "        \"learning_rate\": trial.suggest_float(\"learning_rate\", 0.001, 0.01),\n",
    "        \"min_child_weight\": trial.suggest_int(\"min_child_weight\", 0, 15),\n",
    "        \"subsample\": trial.suggest_float(\"subsample\", 0.1, 0.5),\n",
    "        \"colsample_bytree\": trial.suggest_float(\"colsample_bytree\", 0.0, 1.0),\n",
    "        \"colsample_bylevel\": trial.suggest_float(\"colsample_bytree\", 0.0, 1.0),\n",
    "        \"colsample_bynode\": trial.suggest_float(\"colsample_bytree\", 0.0, 1.0),\n",
    "        \"n_estimators\":trial.suggest_int(\"n_estimators\", 500, 2000),\n",
    "        # \"l2_leaf_reg\": trial.suggest_float(\"l2_leaf_reg\", 5.0, 10.0),\n",
    "        # 'border_count': trial.suggest_int(\"border_count\", 100, 200),\n",
    "        # 'random_strength': trial.suggest_float(\"random_strength\", 3.0, 10.0),\n",
    "        # 'bagging_temperature': trial.suggest_float(\"bagging_temperature\", 0.01, 1.0),\n",
    "        # 'scale_pos_weight': trial.suggest_float(\"scale_pos_weight\", 1.0, 5.0)\n",
    "    }\n",
    "    model = make_pipeline(\n",
    "            OneHotEncoder(use_cat_names=True),\n",
    "            MinMaxScaler(),\n",
    "            XGBClassifier(**params, random_state=42)\n",
    "        )\n",
    "    model.fit(X_train, y_train)\n",
    "    predict = model.predict_proba(X_test)[:, 1]\n",
    "    score = roc_auc_score(y_test, predict)\n",
    "    return score\n",
    "study2 = optuna.create_study(study_name=\"XGB\", direction=\"maximize\")\n",
    "study2.optimize(objective, n_trials=200, show_progress_bar=True)"
   ]
  },
  {
   "cell_type": "code",
   "execution_count": 25,
   "id": "442434f1",
   "metadata": {
    "execution": {
     "iopub.execute_input": "2024-10-22T00:43:05.946987Z",
     "iopub.status.busy": "2024-10-22T00:43:05.946032Z",
     "iopub.status.idle": "2024-10-22T00:43:05.953724Z",
     "shell.execute_reply": "2024-10-22T00:43:05.952710Z"
    },
    "papermill": {
     "duration": 0.067609,
     "end_time": "2024-10-22T00:43:05.956111",
     "exception": false,
     "start_time": "2024-10-22T00:43:05.888502",
     "status": "completed"
    },
    "tags": []
   },
   "outputs": [
    {
     "data": {
      "text/plain": [
       "{'max_depth': 7,\n",
       " 'learning_rate': 0.009302822995153321,\n",
       " 'min_child_weight': 3,\n",
       " 'subsample': 0.4928473912632878,\n",
       " 'colsample_bytree': 0.9799695632829999,\n",
       " 'n_estimators': 1307}"
      ]
     },
     "execution_count": 25,
     "metadata": {},
     "output_type": "execute_result"
    }
   ],
   "source": [
    "study2.best_params"
   ]
  },
  {
   "cell_type": "markdown",
   "id": "c9450710",
   "metadata": {
    "papermill": {
     "duration": 0.056134,
     "end_time": "2024-10-22T00:43:06.069161",
     "exception": false,
     "start_time": "2024-10-22T00:43:06.013027",
     "status": "completed"
    },
    "tags": []
   },
   "source": [
    "## Moment of Truth."
   ]
  },
  {
   "cell_type": "code",
   "execution_count": 26,
   "id": "d09e1cd5",
   "metadata": {
    "execution": {
     "iopub.execute_input": "2024-10-22T00:43:06.180087Z",
     "iopub.status.busy": "2024-10-22T00:43:06.179685Z",
     "iopub.status.idle": "2024-10-22T00:43:06.492502Z",
     "shell.execute_reply": "2024-10-22T00:43:06.491573Z"
    },
    "papermill": {
     "duration": 0.370679,
     "end_time": "2024-10-22T00:43:06.494929",
     "exception": false,
     "start_time": "2024-10-22T00:43:06.124250",
     "status": "completed"
    },
    "tags": []
   },
   "outputs": [],
   "source": [
    "test_filepath = \"/kaggle/input/playground-series-s4e10/test.csv\"\n",
    "df_test = wrangle(test_filepath)\n",
    "test_pred = lgbm.predict_proba(df_test)[:, 1]\n",
    "pd.DataFrame({\"loan_status\": test_pred}, index= df_test.index).to_csv(\"submission.csv\")"
   ]
  },
  {
   "cell_type": "code",
   "execution_count": null,
   "id": "e9930ffe",
   "metadata": {
    "papermill": {
     "duration": 0.053399,
     "end_time": "2024-10-22T00:43:06.603063",
     "exception": false,
     "start_time": "2024-10-22T00:43:06.549664",
     "status": "completed"
    },
    "tags": []
   },
   "outputs": [],
   "source": []
  }
 ],
 "metadata": {
  "kaggle": {
   "accelerator": "nvidiaTeslaT4",
   "dataSources": [
    {
     "databundleVersionId": 9709193,
     "sourceId": 84894,
     "sourceType": "competition"
    }
   ],
   "dockerImageVersionId": 30787,
   "isGpuEnabled": true,
   "isInternetEnabled": true,
   "language": "python",
   "sourceType": "notebook"
  },
  "kernelspec": {
   "display_name": "Python 3",
   "language": "python",
   "name": "python3"
  },
  "language_info": {
   "codemirror_mode": {
    "name": "ipython",
    "version": 3
   },
   "file_extension": ".py",
   "mimetype": "text/x-python",
   "name": "python",
   "nbconvert_exporter": "python",
   "pygments_lexer": "ipython3",
   "version": "3.10.14"
  },
  "papermill": {
   "default_parameters": {},
   "duration": 9069.637333,
   "end_time": "2024-10-22T00:43:07.879953",
   "environment_variables": {},
   "exception": null,
   "input_path": "__notebook__.ipynb",
   "output_path": "__notebook__.ipynb",
   "parameters": {},
   "start_time": "2024-10-21T22:11:58.242620",
   "version": "2.6.0"
  },
  "widgets": {
   "application/vnd.jupyter.widget-state+json": {
    "state": {
     "0869319c02504164a941ffe18d95218e": {
      "model_module": "@jupyter-widgets/controls",
      "model_module_version": "1.5.0",
      "model_name": "DescriptionStyleModel",
      "state": {
       "_model_module": "@jupyter-widgets/controls",
       "_model_module_version": "1.5.0",
       "_model_name": "DescriptionStyleModel",
       "_view_count": null,
       "_view_module": "@jupyter-widgets/base",
       "_view_module_version": "1.2.0",
       "_view_name": "StyleView",
       "description_width": ""
      }
     },
     "0b36416da6fd455e90b81795edef2992": {
      "model_module": "@jupyter-widgets/controls",
      "model_module_version": "1.5.0",
      "model_name": "HTMLModel",
      "state": {
       "_dom_classes": [],
       "_model_module": "@jupyter-widgets/controls",
       "_model_module_version": "1.5.0",
       "_model_name": "HTMLModel",
       "_view_count": null,
       "_view_module": "@jupyter-widgets/controls",
       "_view_module_version": "1.5.0",
       "_view_name": "HTMLView",
       "description": "",
       "description_tooltip": null,
       "layout": "IPY_MODEL_4f4457380ba94209830aa69472d395a5",
       "placeholder": "​",
       "style": "IPY_MODEL_bff9d9edd98547c485f33b6efa8067c1",
       "value": " 100/100 [1:03:52&lt;00:00, 20.69s/it]"
      }
     },
     "12472e5018a04716bb08ad402ae17b9a": {
      "model_module": "@jupyter-widgets/controls",
      "model_module_version": "1.5.0",
      "model_name": "HTMLModel",
      "state": {
       "_dom_classes": [],
       "_model_module": "@jupyter-widgets/controls",
       "_model_module_version": "1.5.0",
       "_model_name": "HTMLModel",
       "_view_count": null,
       "_view_module": "@jupyter-widgets/controls",
       "_view_module_version": "1.5.0",
       "_view_name": "HTMLView",
       "description": "",
       "description_tooltip": null,
       "layout": "IPY_MODEL_ab2bba666d574335b3f08eb6189e386b",
       "placeholder": "​",
       "style": "IPY_MODEL_3ba2410a820a4d3cb7cb3d41597c0a83",
       "value": "Best trial: 81. Best value: 0.953344: 100%"
      }
     },
     "15abdc22146347e28fda18964208fc1d": {
      "model_module": "@jupyter-widgets/base",
      "model_module_version": "1.2.0",
      "model_name": "LayoutModel",
      "state": {
       "_model_module": "@jupyter-widgets/base",
       "_model_module_version": "1.2.0",
       "_model_name": "LayoutModel",
       "_view_count": null,
       "_view_module": "@jupyter-widgets/base",
       "_view_module_version": "1.2.0",
       "_view_name": "LayoutView",
       "align_content": null,
       "align_items": null,
       "align_self": null,
       "border": null,
       "bottom": null,
       "display": null,
       "flex": null,
       "flex_flow": null,
       "grid_area": null,
       "grid_auto_columns": null,
       "grid_auto_flow": null,
       "grid_auto_rows": null,
       "grid_column": null,
       "grid_gap": null,
       "grid_row": null,
       "grid_template_areas": null,
       "grid_template_columns": null,
       "grid_template_rows": null,
       "height": null,
       "justify_content": null,
       "justify_items": null,
       "left": null,
       "margin": null,
       "max_height": null,
       "max_width": null,
       "min_height": null,
       "min_width": null,
       "object_fit": null,
       "object_position": null,
       "order": null,
       "overflow": null,
       "overflow_x": null,
       "overflow_y": null,
       "padding": null,
       "right": null,
       "top": null,
       "visibility": null,
       "width": null
      }
     },
     "15f5258260cc444ca69ac4bddadc3f01": {
      "model_module": "@jupyter-widgets/controls",
      "model_module_version": "1.5.0",
      "model_name": "HTMLModel",
      "state": {
       "_dom_classes": [],
       "_model_module": "@jupyter-widgets/controls",
       "_model_module_version": "1.5.0",
       "_model_name": "HTMLModel",
       "_view_count": null,
       "_view_module": "@jupyter-widgets/controls",
       "_view_module_version": "1.5.0",
       "_view_name": "HTMLView",
       "description": "",
       "description_tooltip": null,
       "layout": "IPY_MODEL_896d782710f54ea192f824c52b5d4069",
       "placeholder": "​",
       "style": "IPY_MODEL_3dbfb31aefae48f18366c245b32e6ab8",
       "value": "Best trial: 183. Best value: 0.957518: 100%"
      }
     },
     "2a714cb5208c4977b49078c5d4c2adc3": {
      "model_module": "@jupyter-widgets/controls",
      "model_module_version": "1.5.0",
      "model_name": "DescriptionStyleModel",
      "state": {
       "_model_module": "@jupyter-widgets/controls",
       "_model_module_version": "1.5.0",
       "_model_name": "DescriptionStyleModel",
       "_view_count": null,
       "_view_module": "@jupyter-widgets/base",
       "_view_module_version": "1.2.0",
       "_view_name": "StyleView",
       "description_width": ""
      }
     },
     "312b488cfa514972ad344fa8a45e1f29": {
      "model_module": "@jupyter-widgets/controls",
      "model_module_version": "1.5.0",
      "model_name": "ProgressStyleModel",
      "state": {
       "_model_module": "@jupyter-widgets/controls",
       "_model_module_version": "1.5.0",
       "_model_name": "ProgressStyleModel",
       "_view_count": null,
       "_view_module": "@jupyter-widgets/base",
       "_view_module_version": "1.2.0",
       "_view_name": "StyleView",
       "bar_color": null,
       "description_width": ""
      }
     },
     "36e5ef8749bd48769f4417dc86382e6c": {
      "model_module": "@jupyter-widgets/controls",
      "model_module_version": "1.5.0",
      "model_name": "ProgressStyleModel",
      "state": {
       "_model_module": "@jupyter-widgets/controls",
       "_model_module_version": "1.5.0",
       "_model_name": "ProgressStyleModel",
       "_view_count": null,
       "_view_module": "@jupyter-widgets/base",
       "_view_module_version": "1.2.0",
       "_view_name": "StyleView",
       "bar_color": null,
       "description_width": ""
      }
     },
     "39a770247717419fb6ae2ec0114e819d": {
      "model_module": "@jupyter-widgets/base",
      "model_module_version": "1.2.0",
      "model_name": "LayoutModel",
      "state": {
       "_model_module": "@jupyter-widgets/base",
       "_model_module_version": "1.2.0",
       "_model_name": "LayoutModel",
       "_view_count": null,
       "_view_module": "@jupyter-widgets/base",
       "_view_module_version": "1.2.0",
       "_view_name": "LayoutView",
       "align_content": null,
       "align_items": null,
       "align_self": null,
       "border": null,
       "bottom": null,
       "display": null,
       "flex": null,
       "flex_flow": null,
       "grid_area": null,
       "grid_auto_columns": null,
       "grid_auto_flow": null,
       "grid_auto_rows": null,
       "grid_column": null,
       "grid_gap": null,
       "grid_row": null,
       "grid_template_areas": null,
       "grid_template_columns": null,
       "grid_template_rows": null,
       "height": null,
       "justify_content": null,
       "justify_items": null,
       "left": null,
       "margin": null,
       "max_height": null,
       "max_width": null,
       "min_height": null,
       "min_width": null,
       "object_fit": null,
       "object_position": null,
       "order": null,
       "overflow": null,
       "overflow_x": null,
       "overflow_y": null,
       "padding": null,
       "right": null,
       "top": null,
       "visibility": null,
       "width": null
      }
     },
     "39d5f9e7811a4fb2b2c97a76bcf9af18": {
      "model_module": "@jupyter-widgets/base",
      "model_module_version": "1.2.0",
      "model_name": "LayoutModel",
      "state": {
       "_model_module": "@jupyter-widgets/base",
       "_model_module_version": "1.2.0",
       "_model_name": "LayoutModel",
       "_view_count": null,
       "_view_module": "@jupyter-widgets/base",
       "_view_module_version": "1.2.0",
       "_view_name": "LayoutView",
       "align_content": null,
       "align_items": null,
       "align_self": null,
       "border": null,
       "bottom": null,
       "display": null,
       "flex": null,
       "flex_flow": null,
       "grid_area": null,
       "grid_auto_columns": null,
       "grid_auto_flow": null,
       "grid_auto_rows": null,
       "grid_column": null,
       "grid_gap": null,
       "grid_row": null,
       "grid_template_areas": null,
       "grid_template_columns": null,
       "grid_template_rows": null,
       "height": null,
       "justify_content": null,
       "justify_items": null,
       "left": null,
       "margin": null,
       "max_height": null,
       "max_width": null,
       "min_height": null,
       "min_width": null,
       "object_fit": null,
       "object_position": null,
       "order": null,
       "overflow": null,
       "overflow_x": null,
       "overflow_y": null,
       "padding": null,
       "right": null,
       "top": null,
       "visibility": null,
       "width": null
      }
     },
     "3ad11568b5a347ea9f612078e1c2c1c4": {
      "model_module": "@jupyter-widgets/controls",
      "model_module_version": "1.5.0",
      "model_name": "FloatProgressModel",
      "state": {
       "_dom_classes": [],
       "_model_module": "@jupyter-widgets/controls",
       "_model_module_version": "1.5.0",
       "_model_name": "FloatProgressModel",
       "_view_count": null,
       "_view_module": "@jupyter-widgets/controls",
       "_view_module_version": "1.5.0",
       "_view_name": "ProgressView",
       "bar_style": "success",
       "description": "",
       "description_tooltip": null,
       "layout": "IPY_MODEL_4709fc4a41fa4d9ba77e9c7d62b6348d",
       "max": 100.0,
       "min": 0.0,
       "orientation": "horizontal",
       "style": "IPY_MODEL_36e5ef8749bd48769f4417dc86382e6c",
       "value": 100.0
      }
     },
     "3ba2410a820a4d3cb7cb3d41597c0a83": {
      "model_module": "@jupyter-widgets/controls",
      "model_module_version": "1.5.0",
      "model_name": "DescriptionStyleModel",
      "state": {
       "_model_module": "@jupyter-widgets/controls",
       "_model_module_version": "1.5.0",
       "_model_name": "DescriptionStyleModel",
       "_view_count": null,
       "_view_module": "@jupyter-widgets/base",
       "_view_module_version": "1.2.0",
       "_view_name": "StyleView",
       "description_width": ""
      }
     },
     "3dbfb31aefae48f18366c245b32e6ab8": {
      "model_module": "@jupyter-widgets/controls",
      "model_module_version": "1.5.0",
      "model_name": "DescriptionStyleModel",
      "state": {
       "_model_module": "@jupyter-widgets/controls",
       "_model_module_version": "1.5.0",
       "_model_name": "DescriptionStyleModel",
       "_view_count": null,
       "_view_module": "@jupyter-widgets/base",
       "_view_module_version": "1.2.0",
       "_view_name": "StyleView",
       "description_width": ""
      }
     },
     "4141f139404146209780c6f2d5cce235": {
      "model_module": "@jupyter-widgets/controls",
      "model_module_version": "1.5.0",
      "model_name": "DescriptionStyleModel",
      "state": {
       "_model_module": "@jupyter-widgets/controls",
       "_model_module_version": "1.5.0",
       "_model_name": "DescriptionStyleModel",
       "_view_count": null,
       "_view_module": "@jupyter-widgets/base",
       "_view_module_version": "1.2.0",
       "_view_name": "StyleView",
       "description_width": ""
      }
     },
     "4401ca1ffbab485c8b1918f0ee91ddd7": {
      "model_module": "@jupyter-widgets/controls",
      "model_module_version": "1.5.0",
      "model_name": "HTMLModel",
      "state": {
       "_dom_classes": [],
       "_model_module": "@jupyter-widgets/controls",
       "_model_module_version": "1.5.0",
       "_model_name": "HTMLModel",
       "_view_count": null,
       "_view_module": "@jupyter-widgets/controls",
       "_view_module_version": "1.5.0",
       "_view_name": "HTMLView",
       "description": "",
       "description_tooltip": null,
       "layout": "IPY_MODEL_50a37dc53a374954aeeb8e018f8863d9",
       "placeholder": "​",
       "style": "IPY_MODEL_0869319c02504164a941ffe18d95218e",
       "value": " 200/200 [27:11&lt;00:00,  6.80s/it]"
      }
     },
     "4709fc4a41fa4d9ba77e9c7d62b6348d": {
      "model_module": "@jupyter-widgets/base",
      "model_module_version": "1.2.0",
      "model_name": "LayoutModel",
      "state": {
       "_model_module": "@jupyter-widgets/base",
       "_model_module_version": "1.2.0",
       "_model_name": "LayoutModel",
       "_view_count": null,
       "_view_module": "@jupyter-widgets/base",
       "_view_module_version": "1.2.0",
       "_view_name": "LayoutView",
       "align_content": null,
       "align_items": null,
       "align_self": null,
       "border": null,
       "bottom": null,
       "display": null,
       "flex": null,
       "flex_flow": null,
       "grid_area": null,
       "grid_auto_columns": null,
       "grid_auto_flow": null,
       "grid_auto_rows": null,
       "grid_column": null,
       "grid_gap": null,
       "grid_row": null,
       "grid_template_areas": null,
       "grid_template_columns": null,
       "grid_template_rows": null,
       "height": null,
       "justify_content": null,
       "justify_items": null,
       "left": null,
       "margin": null,
       "max_height": null,
       "max_width": null,
       "min_height": null,
       "min_width": null,
       "object_fit": null,
       "object_position": null,
       "order": null,
       "overflow": null,
       "overflow_x": null,
       "overflow_y": null,
       "padding": null,
       "right": null,
       "top": null,
       "visibility": null,
       "width": null
      }
     },
     "4a8456a9124a4c9a816714934ab7ae2c": {
      "model_module": "@jupyter-widgets/controls",
      "model_module_version": "1.5.0",
      "model_name": "FloatProgressModel",
      "state": {
       "_dom_classes": [],
       "_model_module": "@jupyter-widgets/controls",
       "_model_module_version": "1.5.0",
       "_model_name": "FloatProgressModel",
       "_view_count": null,
       "_view_module": "@jupyter-widgets/controls",
       "_view_module_version": "1.5.0",
       "_view_name": "ProgressView",
       "bar_style": "success",
       "description": "",
       "description_tooltip": null,
       "layout": "IPY_MODEL_15abdc22146347e28fda18964208fc1d",
       "max": 100.0,
       "min": 0.0,
       "orientation": "horizontal",
       "style": "IPY_MODEL_abad8086bbd94a6f973d5399a71867a8",
       "value": 100.0
      }
     },
     "4f4457380ba94209830aa69472d395a5": {
      "model_module": "@jupyter-widgets/base",
      "model_module_version": "1.2.0",
      "model_name": "LayoutModel",
      "state": {
       "_model_module": "@jupyter-widgets/base",
       "_model_module_version": "1.2.0",
       "_model_name": "LayoutModel",
       "_view_count": null,
       "_view_module": "@jupyter-widgets/base",
       "_view_module_version": "1.2.0",
       "_view_name": "LayoutView",
       "align_content": null,
       "align_items": null,
       "align_self": null,
       "border": null,
       "bottom": null,
       "display": null,
       "flex": null,
       "flex_flow": null,
       "grid_area": null,
       "grid_auto_columns": null,
       "grid_auto_flow": null,
       "grid_auto_rows": null,
       "grid_column": null,
       "grid_gap": null,
       "grid_row": null,
       "grid_template_areas": null,
       "grid_template_columns": null,
       "grid_template_rows": null,
       "height": null,
       "justify_content": null,
       "justify_items": null,
       "left": null,
       "margin": null,
       "max_height": null,
       "max_width": null,
       "min_height": null,
       "min_width": null,
       "object_fit": null,
       "object_position": null,
       "order": null,
       "overflow": null,
       "overflow_x": null,
       "overflow_y": null,
       "padding": null,
       "right": null,
       "top": null,
       "visibility": null,
       "width": null
      }
     },
     "50a37dc53a374954aeeb8e018f8863d9": {
      "model_module": "@jupyter-widgets/base",
      "model_module_version": "1.2.0",
      "model_name": "LayoutModel",
      "state": {
       "_model_module": "@jupyter-widgets/base",
       "_model_module_version": "1.2.0",
       "_model_name": "LayoutModel",
       "_view_count": null,
       "_view_module": "@jupyter-widgets/base",
       "_view_module_version": "1.2.0",
       "_view_name": "LayoutView",
       "align_content": null,
       "align_items": null,
       "align_self": null,
       "border": null,
       "bottom": null,
       "display": null,
       "flex": null,
       "flex_flow": null,
       "grid_area": null,
       "grid_auto_columns": null,
       "grid_auto_flow": null,
       "grid_auto_rows": null,
       "grid_column": null,
       "grid_gap": null,
       "grid_row": null,
       "grid_template_areas": null,
       "grid_template_columns": null,
       "grid_template_rows": null,
       "height": null,
       "justify_content": null,
       "justify_items": null,
       "left": null,
       "margin": null,
       "max_height": null,
       "max_width": null,
       "min_height": null,
       "min_width": null,
       "object_fit": null,
       "object_position": null,
       "order": null,
       "overflow": null,
       "overflow_x": null,
       "overflow_y": null,
       "padding": null,
       "right": null,
       "top": null,
       "visibility": null,
       "width": null
      }
     },
     "52d4f6e6f17f432389b64c40174f7e1a": {
      "model_module": "@jupyter-widgets/controls",
      "model_module_version": "1.5.0",
      "model_name": "HTMLModel",
      "state": {
       "_dom_classes": [],
       "_model_module": "@jupyter-widgets/controls",
       "_model_module_version": "1.5.0",
       "_model_name": "HTMLModel",
       "_view_count": null,
       "_view_module": "@jupyter-widgets/controls",
       "_view_module_version": "1.5.0",
       "_view_name": "HTMLView",
       "description": "",
       "description_tooltip": null,
       "layout": "IPY_MODEL_c5499fedb12045a4831539824985e90f",
       "placeholder": "​",
       "style": "IPY_MODEL_4141f139404146209780c6f2d5cce235",
       "value": " 100/100 [59:36&lt;00:00, 20.64s/it]"
      }
     },
     "5df180f1c047434aaf343bb0f2ce1014": {
      "model_module": "@jupyter-widgets/controls",
      "model_module_version": "1.5.0",
      "model_name": "FloatProgressModel",
      "state": {
       "_dom_classes": [],
       "_model_module": "@jupyter-widgets/controls",
       "_model_module_version": "1.5.0",
       "_model_name": "FloatProgressModel",
       "_view_count": null,
       "_view_module": "@jupyter-widgets/controls",
       "_view_module_version": "1.5.0",
       "_view_name": "ProgressView",
       "bar_style": "success",
       "description": "",
       "description_tooltip": null,
       "layout": "IPY_MODEL_39a770247717419fb6ae2ec0114e819d",
       "max": 200.0,
       "min": 0.0,
       "orientation": "horizontal",
       "style": "IPY_MODEL_312b488cfa514972ad344fa8a45e1f29",
       "value": 200.0
      }
     },
     "62e7dcb6e91f4003b46387f769d0bc3c": {
      "model_module": "@jupyter-widgets/controls",
      "model_module_version": "1.5.0",
      "model_name": "HBoxModel",
      "state": {
       "_dom_classes": [],
       "_model_module": "@jupyter-widgets/controls",
       "_model_module_version": "1.5.0",
       "_model_name": "HBoxModel",
       "_view_count": null,
       "_view_module": "@jupyter-widgets/controls",
       "_view_module_version": "1.5.0",
       "_view_name": "HBoxView",
       "box_style": "",
       "children": [
        "IPY_MODEL_15f5258260cc444ca69ac4bddadc3f01",
        "IPY_MODEL_5df180f1c047434aaf343bb0f2ce1014",
        "IPY_MODEL_4401ca1ffbab485c8b1918f0ee91ddd7"
       ],
       "layout": "IPY_MODEL_39d5f9e7811a4fb2b2c97a76bcf9af18"
      }
     },
     "66ab46cd29694104a2bf903e54535f8c": {
      "model_module": "@jupyter-widgets/controls",
      "model_module_version": "1.5.0",
      "model_name": "HTMLModel",
      "state": {
       "_dom_classes": [],
       "_model_module": "@jupyter-widgets/controls",
       "_model_module_version": "1.5.0",
       "_model_name": "HTMLModel",
       "_view_count": null,
       "_view_module": "@jupyter-widgets/controls",
       "_view_module_version": "1.5.0",
       "_view_name": "HTMLView",
       "description": "",
       "description_tooltip": null,
       "layout": "IPY_MODEL_7bc874c2119c41e3942782732e5e5fc3",
       "placeholder": "​",
       "style": "IPY_MODEL_2a714cb5208c4977b49078c5d4c2adc3",
       "value": "Best trial: 143. Best value: 0.954162: 100%"
      }
     },
     "7bc874c2119c41e3942782732e5e5fc3": {
      "model_module": "@jupyter-widgets/base",
      "model_module_version": "1.2.0",
      "model_name": "LayoutModel",
      "state": {
       "_model_module": "@jupyter-widgets/base",
       "_model_module_version": "1.2.0",
       "_model_name": "LayoutModel",
       "_view_count": null,
       "_view_module": "@jupyter-widgets/base",
       "_view_module_version": "1.2.0",
       "_view_name": "LayoutView",
       "align_content": null,
       "align_items": null,
       "align_self": null,
       "border": null,
       "bottom": null,
       "display": null,
       "flex": null,
       "flex_flow": null,
       "grid_area": null,
       "grid_auto_columns": null,
       "grid_auto_flow": null,
       "grid_auto_rows": null,
       "grid_column": null,
       "grid_gap": null,
       "grid_row": null,
       "grid_template_areas": null,
       "grid_template_columns": null,
       "grid_template_rows": null,
       "height": null,
       "justify_content": null,
       "justify_items": null,
       "left": null,
       "margin": null,
       "max_height": null,
       "max_width": null,
       "min_height": null,
       "min_width": null,
       "object_fit": null,
       "object_position": null,
       "order": null,
       "overflow": null,
       "overflow_x": null,
       "overflow_y": null,
       "padding": null,
       "right": null,
       "top": null,
       "visibility": null,
       "width": null
      }
     },
     "896d782710f54ea192f824c52b5d4069": {
      "model_module": "@jupyter-widgets/base",
      "model_module_version": "1.2.0",
      "model_name": "LayoutModel",
      "state": {
       "_model_module": "@jupyter-widgets/base",
       "_model_module_version": "1.2.0",
       "_model_name": "LayoutModel",
       "_view_count": null,
       "_view_module": "@jupyter-widgets/base",
       "_view_module_version": "1.2.0",
       "_view_name": "LayoutView",
       "align_content": null,
       "align_items": null,
       "align_self": null,
       "border": null,
       "bottom": null,
       "display": null,
       "flex": null,
       "flex_flow": null,
       "grid_area": null,
       "grid_auto_columns": null,
       "grid_auto_flow": null,
       "grid_auto_rows": null,
       "grid_column": null,
       "grid_gap": null,
       "grid_row": null,
       "grid_template_areas": null,
       "grid_template_columns": null,
       "grid_template_rows": null,
       "height": null,
       "justify_content": null,
       "justify_items": null,
       "left": null,
       "margin": null,
       "max_height": null,
       "max_width": null,
       "min_height": null,
       "min_width": null,
       "object_fit": null,
       "object_position": null,
       "order": null,
       "overflow": null,
       "overflow_x": null,
       "overflow_y": null,
       "padding": null,
       "right": null,
       "top": null,
       "visibility": null,
       "width": null
      }
     },
     "92eeda4e7e33445595139cf32088a9df": {
      "model_module": "@jupyter-widgets/controls",
      "model_module_version": "1.5.0",
      "model_name": "HBoxModel",
      "state": {
       "_dom_classes": [],
       "_model_module": "@jupyter-widgets/controls",
       "_model_module_version": "1.5.0",
       "_model_name": "HBoxModel",
       "_view_count": null,
       "_view_module": "@jupyter-widgets/controls",
       "_view_module_version": "1.5.0",
       "_view_name": "HBoxView",
       "box_style": "",
       "children": [
        "IPY_MODEL_12472e5018a04716bb08ad402ae17b9a",
        "IPY_MODEL_3ad11568b5a347ea9f612078e1c2c1c4",
        "IPY_MODEL_0b36416da6fd455e90b81795edef2992"
       ],
       "layout": "IPY_MODEL_a3117a45f5a34088bb05987d92ecef2b"
      }
     },
     "a3117a45f5a34088bb05987d92ecef2b": {
      "model_module": "@jupyter-widgets/base",
      "model_module_version": "1.2.0",
      "model_name": "LayoutModel",
      "state": {
       "_model_module": "@jupyter-widgets/base",
       "_model_module_version": "1.2.0",
       "_model_name": "LayoutModel",
       "_view_count": null,
       "_view_module": "@jupyter-widgets/base",
       "_view_module_version": "1.2.0",
       "_view_name": "LayoutView",
       "align_content": null,
       "align_items": null,
       "align_self": null,
       "border": null,
       "bottom": null,
       "display": null,
       "flex": null,
       "flex_flow": null,
       "grid_area": null,
       "grid_auto_columns": null,
       "grid_auto_flow": null,
       "grid_auto_rows": null,
       "grid_column": null,
       "grid_gap": null,
       "grid_row": null,
       "grid_template_areas": null,
       "grid_template_columns": null,
       "grid_template_rows": null,
       "height": null,
       "justify_content": null,
       "justify_items": null,
       "left": null,
       "margin": null,
       "max_height": null,
       "max_width": null,
       "min_height": null,
       "min_width": null,
       "object_fit": null,
       "object_position": null,
       "order": null,
       "overflow": null,
       "overflow_x": null,
       "overflow_y": null,
       "padding": null,
       "right": null,
       "top": null,
       "visibility": null,
       "width": null
      }
     },
     "ab2bba666d574335b3f08eb6189e386b": {
      "model_module": "@jupyter-widgets/base",
      "model_module_version": "1.2.0",
      "model_name": "LayoutModel",
      "state": {
       "_model_module": "@jupyter-widgets/base",
       "_model_module_version": "1.2.0",
       "_model_name": "LayoutModel",
       "_view_count": null,
       "_view_module": "@jupyter-widgets/base",
       "_view_module_version": "1.2.0",
       "_view_name": "LayoutView",
       "align_content": null,
       "align_items": null,
       "align_self": null,
       "border": null,
       "bottom": null,
       "display": null,
       "flex": null,
       "flex_flow": null,
       "grid_area": null,
       "grid_auto_columns": null,
       "grid_auto_flow": null,
       "grid_auto_rows": null,
       "grid_column": null,
       "grid_gap": null,
       "grid_row": null,
       "grid_template_areas": null,
       "grid_template_columns": null,
       "grid_template_rows": null,
       "height": null,
       "justify_content": null,
       "justify_items": null,
       "left": null,
       "margin": null,
       "max_height": null,
       "max_width": null,
       "min_height": null,
       "min_width": null,
       "object_fit": null,
       "object_position": null,
       "order": null,
       "overflow": null,
       "overflow_x": null,
       "overflow_y": null,
       "padding": null,
       "right": null,
       "top": null,
       "visibility": null,
       "width": null
      }
     },
     "abad8086bbd94a6f973d5399a71867a8": {
      "model_module": "@jupyter-widgets/controls",
      "model_module_version": "1.5.0",
      "model_name": "ProgressStyleModel",
      "state": {
       "_model_module": "@jupyter-widgets/controls",
       "_model_module_version": "1.5.0",
       "_model_name": "ProgressStyleModel",
       "_view_count": null,
       "_view_module": "@jupyter-widgets/base",
       "_view_module_version": "1.2.0",
       "_view_name": "StyleView",
       "bar_color": null,
       "description_width": ""
      }
     },
     "bfcfbd3374484e0e99b02c47e2934c85": {
      "model_module": "@jupyter-widgets/base",
      "model_module_version": "1.2.0",
      "model_name": "LayoutModel",
      "state": {
       "_model_module": "@jupyter-widgets/base",
       "_model_module_version": "1.2.0",
       "_model_name": "LayoutModel",
       "_view_count": null,
       "_view_module": "@jupyter-widgets/base",
       "_view_module_version": "1.2.0",
       "_view_name": "LayoutView",
       "align_content": null,
       "align_items": null,
       "align_self": null,
       "border": null,
       "bottom": null,
       "display": null,
       "flex": null,
       "flex_flow": null,
       "grid_area": null,
       "grid_auto_columns": null,
       "grid_auto_flow": null,
       "grid_auto_rows": null,
       "grid_column": null,
       "grid_gap": null,
       "grid_row": null,
       "grid_template_areas": null,
       "grid_template_columns": null,
       "grid_template_rows": null,
       "height": null,
       "justify_content": null,
       "justify_items": null,
       "left": null,
       "margin": null,
       "max_height": null,
       "max_width": null,
       "min_height": null,
       "min_width": null,
       "object_fit": null,
       "object_position": null,
       "order": null,
       "overflow": null,
       "overflow_x": null,
       "overflow_y": null,
       "padding": null,
       "right": null,
       "top": null,
       "visibility": null,
       "width": null
      }
     },
     "bff9d9edd98547c485f33b6efa8067c1": {
      "model_module": "@jupyter-widgets/controls",
      "model_module_version": "1.5.0",
      "model_name": "DescriptionStyleModel",
      "state": {
       "_model_module": "@jupyter-widgets/controls",
       "_model_module_version": "1.5.0",
       "_model_name": "DescriptionStyleModel",
       "_view_count": null,
       "_view_module": "@jupyter-widgets/base",
       "_view_module_version": "1.2.0",
       "_view_name": "StyleView",
       "description_width": ""
      }
     },
     "c5499fedb12045a4831539824985e90f": {
      "model_module": "@jupyter-widgets/base",
      "model_module_version": "1.2.0",
      "model_name": "LayoutModel",
      "state": {
       "_model_module": "@jupyter-widgets/base",
       "_model_module_version": "1.2.0",
       "_model_name": "LayoutModel",
       "_view_count": null,
       "_view_module": "@jupyter-widgets/base",
       "_view_module_version": "1.2.0",
       "_view_name": "LayoutView",
       "align_content": null,
       "align_items": null,
       "align_self": null,
       "border": null,
       "bottom": null,
       "display": null,
       "flex": null,
       "flex_flow": null,
       "grid_area": null,
       "grid_auto_columns": null,
       "grid_auto_flow": null,
       "grid_auto_rows": null,
       "grid_column": null,
       "grid_gap": null,
       "grid_row": null,
       "grid_template_areas": null,
       "grid_template_columns": null,
       "grid_template_rows": null,
       "height": null,
       "justify_content": null,
       "justify_items": null,
       "left": null,
       "margin": null,
       "max_height": null,
       "max_width": null,
       "min_height": null,
       "min_width": null,
       "object_fit": null,
       "object_position": null,
       "order": null,
       "overflow": null,
       "overflow_x": null,
       "overflow_y": null,
       "padding": null,
       "right": null,
       "top": null,
       "visibility": null,
       "width": null
      }
     },
     "f355623e16254fe4a5cc3ea9a21f4b99": {
      "model_module": "@jupyter-widgets/controls",
      "model_module_version": "1.5.0",
      "model_name": "HBoxModel",
      "state": {
       "_dom_classes": [],
       "_model_module": "@jupyter-widgets/controls",
       "_model_module_version": "1.5.0",
       "_model_name": "HBoxModel",
       "_view_count": null,
       "_view_module": "@jupyter-widgets/controls",
       "_view_module_version": "1.5.0",
       "_view_name": "HBoxView",
       "box_style": "",
       "children": [
        "IPY_MODEL_66ab46cd29694104a2bf903e54535f8c",
        "IPY_MODEL_4a8456a9124a4c9a816714934ab7ae2c",
        "IPY_MODEL_52d4f6e6f17f432389b64c40174f7e1a"
       ],
       "layout": "IPY_MODEL_bfcfbd3374484e0e99b02c47e2934c85"
      }
     }
    },
    "version_major": 2,
    "version_minor": 0
   }
  }
 },
 "nbformat": 4,
 "nbformat_minor": 5
}
