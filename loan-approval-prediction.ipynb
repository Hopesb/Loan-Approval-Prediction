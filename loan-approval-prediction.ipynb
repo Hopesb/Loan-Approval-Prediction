{
 "cells": [
  {
   "cell_type": "markdown",
   "id": "e7330cdc",
   "metadata": {
    "papermill": {
     "duration": 0.008606,
     "end_time": "2024-10-19T20:09:45.657818",
     "exception": false,
     "start_time": "2024-10-19T20:09:45.649212",
     "status": "completed"
    },
    "tags": []
   },
   "source": [
    "# Loan Approval Prediction."
   ]
  },
  {
   "cell_type": "markdown",
   "id": "37423e27",
   "metadata": {
    "papermill": {
     "duration": 0.00777,
     "end_time": "2024-10-19T20:09:45.674343",
     "exception": false,
     "start_time": "2024-10-19T20:09:45.666573",
     "status": "completed"
    },
    "tags": []
   },
   "source": [
    "## Overview"
   ]
  },
  {
   "cell_type": "markdown",
   "id": "bcccd119",
   "metadata": {
    "papermill": {
     "duration": 0.008367,
     "end_time": "2024-10-19T20:09:45.690614",
     "exception": false,
     "start_time": "2024-10-19T20:09:45.682247",
     "status": "completed"
    },
    "tags": []
   },
   "source": [
    "**Loan approval prediction as a classification problem involves categorizing loan applications into either \"Approved\" or \"Rejected.\" This is achieved by analyzing features such as credit score, income, employment status, loan amount, and more.**\n",
    "\n",
    "**Goal**: \n",
    "The goal for this competition is to predict whether an applicant is approved for a loan.\n",
    "\n",
    "**Evaluation**\n",
    "Submissions are evaluated using area under the ROC curve using the predicted probabilities and the ground truth targets."
   ]
  },
  {
   "cell_type": "markdown",
   "id": "ef9b6a70",
   "metadata": {
    "papermill": {
     "duration": 0.009201,
     "end_time": "2024-10-19T20:09:45.707519",
     "exception": false,
     "start_time": "2024-10-19T20:09:45.698318",
     "status": "completed"
    },
    "tags": []
   },
   "source": [
    "# Import"
   ]
  },
  {
   "cell_type": "code",
   "execution_count": 1,
   "id": "b27e00c2",
   "metadata": {
    "execution": {
     "iopub.execute_input": "2024-10-19T20:09:45.724437Z",
     "iopub.status.busy": "2024-10-19T20:09:45.724037Z",
     "iopub.status.idle": "2024-10-19T20:09:57.246762Z",
     "shell.execute_reply": "2024-10-19T20:09:57.245764Z"
    },
    "papermill": {
     "duration": 11.534215,
     "end_time": "2024-10-19T20:09:57.249339",
     "exception": false,
     "start_time": "2024-10-19T20:09:45.715124",
     "status": "completed"
    },
    "tags": []
   },
   "outputs": [],
   "source": [
    "# importing libraries.\n",
    "import pandas as pd\n",
    "import numpy as np\n",
    "\n",
    "# import the visualization tools\n",
    "import seaborn as sns\n",
    "import matplotlib.pyplot as plt\n",
    "import plotly_express as px\n",
    "\n",
    "# modelling tools.\n",
    "from sklearn.pipeline import make_pipeline\n",
    "from sklearn.metrics import roc_auc_score\n",
    "from sklearn.preprocessing import MinMaxScaler,StandardScaler\n",
    "from sklearn.model_selection import train_test_split\n",
    "from xgboost import XGBClassifier\n",
    "from catboost import CatBoostClassifier\n",
    "from lightgbm import LGBMClassifier\n",
    "from category_encoders import OneHotEncoder\n",
    "from sklearn.impute import SimpleImputer\n",
    "import optuna\n",
    "import warnings\n",
    "warnings.simplefilter(\"ignore\")"
   ]
  },
  {
   "cell_type": "code",
   "execution_count": 2,
   "id": "8a6d1636",
   "metadata": {
    "execution": {
     "iopub.execute_input": "2024-10-19T20:09:57.266633Z",
     "iopub.status.busy": "2024-10-19T20:09:57.265604Z",
     "iopub.status.idle": "2024-10-19T20:09:57.270609Z",
     "shell.execute_reply": "2024-10-19T20:09:57.269758Z"
    },
    "papermill": {
     "duration": 0.015331,
     "end_time": "2024-10-19T20:09:57.272465",
     "exception": false,
     "start_time": "2024-10-19T20:09:57.257134",
     "status": "completed"
    },
    "tags": []
   },
   "outputs": [],
   "source": [
    "# Creating a function that preprocess the data.\n",
    "def wrangle(filepath):\n",
    "    # Read the csv file.\n",
    "    df = pd.read_csv(filepath, index_col= \"id\")\n",
    "\n",
    "    return df"
   ]
  },
  {
   "cell_type": "code",
   "execution_count": 3,
   "id": "52e06466",
   "metadata": {
    "execution": {
     "iopub.execute_input": "2024-10-19T20:09:57.289274Z",
     "iopub.status.busy": "2024-10-19T20:09:57.288772Z",
     "iopub.status.idle": "2024-10-19T20:09:57.488520Z",
     "shell.execute_reply": "2024-10-19T20:09:57.487491Z"
    },
    "papermill": {
     "duration": 0.210377,
     "end_time": "2024-10-19T20:09:57.490567",
     "exception": false,
     "start_time": "2024-10-19T20:09:57.280190",
     "status": "completed"
    },
    "tags": []
   },
   "outputs": [
    {
     "data": {
      "text/html": [
       "<div>\n",
       "<style scoped>\n",
       "    .dataframe tbody tr th:only-of-type {\n",
       "        vertical-align: middle;\n",
       "    }\n",
       "\n",
       "    .dataframe tbody tr th {\n",
       "        vertical-align: top;\n",
       "    }\n",
       "\n",
       "    .dataframe thead th {\n",
       "        text-align: right;\n",
       "    }\n",
       "</style>\n",
       "<table border=\"1\" class=\"dataframe\">\n",
       "  <thead>\n",
       "    <tr style=\"text-align: right;\">\n",
       "      <th></th>\n",
       "      <th>person_age</th>\n",
       "      <th>person_income</th>\n",
       "      <th>person_home_ownership</th>\n",
       "      <th>person_emp_length</th>\n",
       "      <th>loan_intent</th>\n",
       "      <th>loan_grade</th>\n",
       "      <th>loan_amnt</th>\n",
       "      <th>loan_int_rate</th>\n",
       "      <th>loan_percent_income</th>\n",
       "      <th>cb_person_default_on_file</th>\n",
       "      <th>cb_person_cred_hist_length</th>\n",
       "      <th>loan_status</th>\n",
       "    </tr>\n",
       "    <tr>\n",
       "      <th>id</th>\n",
       "      <th></th>\n",
       "      <th></th>\n",
       "      <th></th>\n",
       "      <th></th>\n",
       "      <th></th>\n",
       "      <th></th>\n",
       "      <th></th>\n",
       "      <th></th>\n",
       "      <th></th>\n",
       "      <th></th>\n",
       "      <th></th>\n",
       "      <th></th>\n",
       "    </tr>\n",
       "  </thead>\n",
       "  <tbody>\n",
       "    <tr>\n",
       "      <th>0</th>\n",
       "      <td>37</td>\n",
       "      <td>35000</td>\n",
       "      <td>RENT</td>\n",
       "      <td>0.0</td>\n",
       "      <td>EDUCATION</td>\n",
       "      <td>B</td>\n",
       "      <td>6000</td>\n",
       "      <td>11.49</td>\n",
       "      <td>0.17</td>\n",
       "      <td>N</td>\n",
       "      <td>14</td>\n",
       "      <td>0</td>\n",
       "    </tr>\n",
       "    <tr>\n",
       "      <th>1</th>\n",
       "      <td>22</td>\n",
       "      <td>56000</td>\n",
       "      <td>OWN</td>\n",
       "      <td>6.0</td>\n",
       "      <td>MEDICAL</td>\n",
       "      <td>C</td>\n",
       "      <td>4000</td>\n",
       "      <td>13.35</td>\n",
       "      <td>0.07</td>\n",
       "      <td>N</td>\n",
       "      <td>2</td>\n",
       "      <td>0</td>\n",
       "    </tr>\n",
       "    <tr>\n",
       "      <th>2</th>\n",
       "      <td>29</td>\n",
       "      <td>28800</td>\n",
       "      <td>OWN</td>\n",
       "      <td>8.0</td>\n",
       "      <td>PERSONAL</td>\n",
       "      <td>A</td>\n",
       "      <td>6000</td>\n",
       "      <td>8.90</td>\n",
       "      <td>0.21</td>\n",
       "      <td>N</td>\n",
       "      <td>10</td>\n",
       "      <td>0</td>\n",
       "    </tr>\n",
       "    <tr>\n",
       "      <th>3</th>\n",
       "      <td>30</td>\n",
       "      <td>70000</td>\n",
       "      <td>RENT</td>\n",
       "      <td>14.0</td>\n",
       "      <td>VENTURE</td>\n",
       "      <td>B</td>\n",
       "      <td>12000</td>\n",
       "      <td>11.11</td>\n",
       "      <td>0.17</td>\n",
       "      <td>N</td>\n",
       "      <td>5</td>\n",
       "      <td>0</td>\n",
       "    </tr>\n",
       "    <tr>\n",
       "      <th>4</th>\n",
       "      <td>22</td>\n",
       "      <td>60000</td>\n",
       "      <td>RENT</td>\n",
       "      <td>2.0</td>\n",
       "      <td>MEDICAL</td>\n",
       "      <td>A</td>\n",
       "      <td>6000</td>\n",
       "      <td>6.92</td>\n",
       "      <td>0.10</td>\n",
       "      <td>N</td>\n",
       "      <td>3</td>\n",
       "      <td>0</td>\n",
       "    </tr>\n",
       "  </tbody>\n",
       "</table>\n",
       "</div>"
      ],
      "text/plain": [
       "    person_age  person_income person_home_ownership  person_emp_length  \\\n",
       "id                                                                       \n",
       "0           37          35000                  RENT                0.0   \n",
       "1           22          56000                   OWN                6.0   \n",
       "2           29          28800                   OWN                8.0   \n",
       "3           30          70000                  RENT               14.0   \n",
       "4           22          60000                  RENT                2.0   \n",
       "\n",
       "   loan_intent loan_grade  loan_amnt  loan_int_rate  loan_percent_income  \\\n",
       "id                                                                         \n",
       "0    EDUCATION          B       6000          11.49                 0.17   \n",
       "1      MEDICAL          C       4000          13.35                 0.07   \n",
       "2     PERSONAL          A       6000           8.90                 0.21   \n",
       "3      VENTURE          B      12000          11.11                 0.17   \n",
       "4      MEDICAL          A       6000           6.92                 0.10   \n",
       "\n",
       "   cb_person_default_on_file  cb_person_cred_hist_length  loan_status  \n",
       "id                                                                     \n",
       "0                          N                          14            0  \n",
       "1                          N                           2            0  \n",
       "2                          N                          10            0  \n",
       "3                          N                           5            0  \n",
       "4                          N                           3            0  "
      ]
     },
     "execution_count": 3,
     "metadata": {},
     "output_type": "execute_result"
    }
   ],
   "source": [
    "filepath = \"/kaggle/input/playground-series-s4e10/train.csv\"\n",
    "df = wrangle(filepath)\n",
    "df.head()"
   ]
  },
  {
   "cell_type": "code",
   "execution_count": 4,
   "id": "6b802186",
   "metadata": {
    "execution": {
     "iopub.execute_input": "2024-10-19T20:09:57.507756Z",
     "iopub.status.busy": "2024-10-19T20:09:57.507423Z",
     "iopub.status.idle": "2024-10-19T20:09:57.514453Z",
     "shell.execute_reply": "2024-10-19T20:09:57.513632Z"
    },
    "papermill": {
     "duration": 0.017708,
     "end_time": "2024-10-19T20:09:57.516371",
     "exception": false,
     "start_time": "2024-10-19T20:09:57.498663",
     "status": "completed"
    },
    "tags": []
   },
   "outputs": [
    {
     "data": {
      "text/plain": [
       "(58645, 12)"
      ]
     },
     "execution_count": 4,
     "metadata": {},
     "output_type": "execute_result"
    }
   ],
   "source": [
    "# Checking the shape of the data.\n",
    "df.shape"
   ]
  },
  {
   "cell_type": "code",
   "execution_count": 5,
   "id": "db419e83",
   "metadata": {
    "execution": {
     "iopub.execute_input": "2024-10-19T20:09:57.533471Z",
     "iopub.status.busy": "2024-10-19T20:09:57.533195Z",
     "iopub.status.idle": "2024-10-19T20:09:57.567444Z",
     "shell.execute_reply": "2024-10-19T20:09:57.566558Z"
    },
    "papermill": {
     "duration": 0.045186,
     "end_time": "2024-10-19T20:09:57.569512",
     "exception": false,
     "start_time": "2024-10-19T20:09:57.524326",
     "status": "completed"
    },
    "tags": []
   },
   "outputs": [
    {
     "data": {
      "text/plain": [
       "person_age                      53\n",
       "person_income                 2641\n",
       "person_home_ownership            4\n",
       "person_emp_length               36\n",
       "loan_intent                      6\n",
       "loan_grade                       7\n",
       "loan_amnt                      545\n",
       "loan_int_rate                  362\n",
       "loan_percent_income             61\n",
       "cb_person_default_on_file        2\n",
       "cb_person_cred_hist_length      29\n",
       "loan_status                      2\n",
       "dtype: int64"
      ]
     },
     "execution_count": 5,
     "metadata": {},
     "output_type": "execute_result"
    }
   ],
   "source": [
    "df.nunique()"
   ]
  },
  {
   "cell_type": "code",
   "execution_count": 6,
   "id": "a306388d",
   "metadata": {
    "execution": {
     "iopub.execute_input": "2024-10-19T20:09:57.586807Z",
     "iopub.status.busy": "2024-10-19T20:09:57.586527Z",
     "iopub.status.idle": "2024-10-19T20:09:57.633225Z",
     "shell.execute_reply": "2024-10-19T20:09:57.631742Z"
    },
    "papermill": {
     "duration": 0.057716,
     "end_time": "2024-10-19T20:09:57.635493",
     "exception": false,
     "start_time": "2024-10-19T20:09:57.577777",
     "status": "completed"
    },
    "tags": []
   },
   "outputs": [
    {
     "data": {
      "text/html": [
       "<div>\n",
       "<style scoped>\n",
       "    .dataframe tbody tr th:only-of-type {\n",
       "        vertical-align: middle;\n",
       "    }\n",
       "\n",
       "    .dataframe tbody tr th {\n",
       "        vertical-align: top;\n",
       "    }\n",
       "\n",
       "    .dataframe thead th {\n",
       "        text-align: right;\n",
       "    }\n",
       "</style>\n",
       "<table border=\"1\" class=\"dataframe\">\n",
       "  <thead>\n",
       "    <tr style=\"text-align: right;\">\n",
       "      <th></th>\n",
       "      <th>person_age</th>\n",
       "      <th>person_income</th>\n",
       "      <th>person_emp_length</th>\n",
       "      <th>loan_amnt</th>\n",
       "      <th>loan_int_rate</th>\n",
       "      <th>loan_percent_income</th>\n",
       "      <th>cb_person_cred_hist_length</th>\n",
       "      <th>loan_status</th>\n",
       "    </tr>\n",
       "  </thead>\n",
       "  <tbody>\n",
       "    <tr>\n",
       "      <th>count</th>\n",
       "      <td>58645.000000</td>\n",
       "      <td>5.864500e+04</td>\n",
       "      <td>58645.000000</td>\n",
       "      <td>58645.000000</td>\n",
       "      <td>58645.000000</td>\n",
       "      <td>58645.000000</td>\n",
       "      <td>58645.000000</td>\n",
       "      <td>58645.000000</td>\n",
       "    </tr>\n",
       "    <tr>\n",
       "      <th>mean</th>\n",
       "      <td>27.550857</td>\n",
       "      <td>6.404617e+04</td>\n",
       "      <td>4.701015</td>\n",
       "      <td>9217.556518</td>\n",
       "      <td>10.677874</td>\n",
       "      <td>0.159238</td>\n",
       "      <td>5.813556</td>\n",
       "      <td>0.142382</td>\n",
       "    </tr>\n",
       "    <tr>\n",
       "      <th>std</th>\n",
       "      <td>6.033216</td>\n",
       "      <td>3.793111e+04</td>\n",
       "      <td>3.959784</td>\n",
       "      <td>5563.807384</td>\n",
       "      <td>3.034697</td>\n",
       "      <td>0.091692</td>\n",
       "      <td>4.029196</td>\n",
       "      <td>0.349445</td>\n",
       "    </tr>\n",
       "    <tr>\n",
       "      <th>min</th>\n",
       "      <td>20.000000</td>\n",
       "      <td>4.200000e+03</td>\n",
       "      <td>0.000000</td>\n",
       "      <td>500.000000</td>\n",
       "      <td>5.420000</td>\n",
       "      <td>0.000000</td>\n",
       "      <td>2.000000</td>\n",
       "      <td>0.000000</td>\n",
       "    </tr>\n",
       "    <tr>\n",
       "      <th>25%</th>\n",
       "      <td>23.000000</td>\n",
       "      <td>4.200000e+04</td>\n",
       "      <td>2.000000</td>\n",
       "      <td>5000.000000</td>\n",
       "      <td>7.880000</td>\n",
       "      <td>0.090000</td>\n",
       "      <td>3.000000</td>\n",
       "      <td>0.000000</td>\n",
       "    </tr>\n",
       "    <tr>\n",
       "      <th>50%</th>\n",
       "      <td>26.000000</td>\n",
       "      <td>5.800000e+04</td>\n",
       "      <td>4.000000</td>\n",
       "      <td>8000.000000</td>\n",
       "      <td>10.750000</td>\n",
       "      <td>0.140000</td>\n",
       "      <td>4.000000</td>\n",
       "      <td>0.000000</td>\n",
       "    </tr>\n",
       "    <tr>\n",
       "      <th>75%</th>\n",
       "      <td>30.000000</td>\n",
       "      <td>7.560000e+04</td>\n",
       "      <td>7.000000</td>\n",
       "      <td>12000.000000</td>\n",
       "      <td>12.990000</td>\n",
       "      <td>0.210000</td>\n",
       "      <td>8.000000</td>\n",
       "      <td>0.000000</td>\n",
       "    </tr>\n",
       "    <tr>\n",
       "      <th>max</th>\n",
       "      <td>123.000000</td>\n",
       "      <td>1.900000e+06</td>\n",
       "      <td>123.000000</td>\n",
       "      <td>35000.000000</td>\n",
       "      <td>23.220000</td>\n",
       "      <td>0.830000</td>\n",
       "      <td>30.000000</td>\n",
       "      <td>1.000000</td>\n",
       "    </tr>\n",
       "  </tbody>\n",
       "</table>\n",
       "</div>"
      ],
      "text/plain": [
       "         person_age  person_income  person_emp_length     loan_amnt  \\\n",
       "count  58645.000000   5.864500e+04       58645.000000  58645.000000   \n",
       "mean      27.550857   6.404617e+04           4.701015   9217.556518   \n",
       "std        6.033216   3.793111e+04           3.959784   5563.807384   \n",
       "min       20.000000   4.200000e+03           0.000000    500.000000   \n",
       "25%       23.000000   4.200000e+04           2.000000   5000.000000   \n",
       "50%       26.000000   5.800000e+04           4.000000   8000.000000   \n",
       "75%       30.000000   7.560000e+04           7.000000  12000.000000   \n",
       "max      123.000000   1.900000e+06         123.000000  35000.000000   \n",
       "\n",
       "       loan_int_rate  loan_percent_income  cb_person_cred_hist_length  \\\n",
       "count   58645.000000         58645.000000                58645.000000   \n",
       "mean       10.677874             0.159238                    5.813556   \n",
       "std         3.034697             0.091692                    4.029196   \n",
       "min         5.420000             0.000000                    2.000000   \n",
       "25%         7.880000             0.090000                    3.000000   \n",
       "50%        10.750000             0.140000                    4.000000   \n",
       "75%        12.990000             0.210000                    8.000000   \n",
       "max        23.220000             0.830000                   30.000000   \n",
       "\n",
       "        loan_status  \n",
       "count  58645.000000  \n",
       "mean       0.142382  \n",
       "std        0.349445  \n",
       "min        0.000000  \n",
       "25%        0.000000  \n",
       "50%        0.000000  \n",
       "75%        0.000000  \n",
       "max        1.000000  "
      ]
     },
     "execution_count": 6,
     "metadata": {},
     "output_type": "execute_result"
    }
   ],
   "source": [
    "df.describe() # Getting the aggregate of the data."
   ]
  },
  {
   "cell_type": "code",
   "execution_count": 7,
   "id": "babdaa00",
   "metadata": {
    "execution": {
     "iopub.execute_input": "2024-10-19T20:09:57.654845Z",
     "iopub.status.busy": "2024-10-19T20:09:57.654533Z",
     "iopub.status.idle": "2024-10-19T20:09:57.695929Z",
     "shell.execute_reply": "2024-10-19T20:09:57.694780Z"
    },
    "papermill": {
     "duration": 0.052798,
     "end_time": "2024-10-19T20:09:57.698046",
     "exception": false,
     "start_time": "2024-10-19T20:09:57.645248",
     "status": "completed"
    },
    "tags": []
   },
   "outputs": [
    {
     "name": "stdout",
     "output_type": "stream",
     "text": [
      "<class 'pandas.core.frame.DataFrame'>\n",
      "Index: 58645 entries, 0 to 58644\n",
      "Data columns (total 12 columns):\n",
      " #   Column                      Non-Null Count  Dtype  \n",
      "---  ------                      --------------  -----  \n",
      " 0   person_age                  58645 non-null  int64  \n",
      " 1   person_income               58645 non-null  int64  \n",
      " 2   person_home_ownership       58645 non-null  object \n",
      " 3   person_emp_length           58645 non-null  float64\n",
      " 4   loan_intent                 58645 non-null  object \n",
      " 5   loan_grade                  58645 non-null  object \n",
      " 6   loan_amnt                   58645 non-null  int64  \n",
      " 7   loan_int_rate               58645 non-null  float64\n",
      " 8   loan_percent_income         58645 non-null  float64\n",
      " 9   cb_person_default_on_file   58645 non-null  object \n",
      " 10  cb_person_cred_hist_length  58645 non-null  int64  \n",
      " 11  loan_status                 58645 non-null  int64  \n",
      "dtypes: float64(3), int64(5), object(4)\n",
      "memory usage: 5.8+ MB\n"
     ]
    }
   ],
   "source": [
    "df.info()"
   ]
  },
  {
   "cell_type": "code",
   "execution_count": 8,
   "id": "daff934f",
   "metadata": {
    "execution": {
     "iopub.execute_input": "2024-10-19T20:09:57.717773Z",
     "iopub.status.busy": "2024-10-19T20:09:57.717450Z",
     "iopub.status.idle": "2024-10-19T20:09:57.746654Z",
     "shell.execute_reply": "2024-10-19T20:09:57.745755Z"
    },
    "papermill": {
     "duration": 0.041225,
     "end_time": "2024-10-19T20:09:57.748577",
     "exception": false,
     "start_time": "2024-10-19T20:09:57.707352",
     "status": "completed"
    },
    "tags": []
   },
   "outputs": [
    {
     "data": {
      "text/plain": [
       "person_age                    0\n",
       "person_income                 0\n",
       "person_home_ownership         0\n",
       "person_emp_length             0\n",
       "loan_intent                   0\n",
       "loan_grade                    0\n",
       "loan_amnt                     0\n",
       "loan_int_rate                 0\n",
       "loan_percent_income           0\n",
       "cb_person_default_on_file     0\n",
       "cb_person_cred_hist_length    0\n",
       "loan_status                   0\n",
       "dtype: int64"
      ]
     },
     "execution_count": 8,
     "metadata": {},
     "output_type": "execute_result"
    }
   ],
   "source": [
    "# Checking if there is any column with null values.\n",
    "df.isnull().sum()"
   ]
  },
  {
   "cell_type": "markdown",
   "id": "a11e9358",
   "metadata": {
    "papermill": {
     "duration": 0.008325,
     "end_time": "2024-10-19T20:09:57.765582",
     "exception": false,
     "start_time": "2024-10-19T20:09:57.757257",
     "status": "completed"
    },
    "tags": []
   },
   "source": [
    "Perfect the Data is clean."
   ]
  },
  {
   "cell_type": "markdown",
   "id": "28be4732",
   "metadata": {
    "papermill": {
     "duration": 0.009172,
     "end_time": "2024-10-19T20:09:57.784122",
     "exception": false,
     "start_time": "2024-10-19T20:09:57.774950",
     "status": "completed"
    },
    "tags": []
   },
   "source": [
    "## EDA(Exploratory Data Analysis)"
   ]
  },
  {
   "cell_type": "code",
   "execution_count": 9,
   "id": "6a7d899c",
   "metadata": {
    "execution": {
     "iopub.execute_input": "2024-10-19T20:09:57.804651Z",
     "iopub.status.busy": "2024-10-19T20:09:57.803936Z",
     "iopub.status.idle": "2024-10-19T20:09:58.124585Z",
     "shell.execute_reply": "2024-10-19T20:09:58.123684Z"
    },
    "papermill": {
     "duration": 0.333233,
     "end_time": "2024-10-19T20:09:58.126699",
     "exception": false,
     "start_time": "2024-10-19T20:09:57.793466",
     "status": "completed"
    },
    "tags": []
   },
   "outputs": [
    {
     "data": {
      "image/png": "[encoded data removed]",
      "text/plain": [
       "<Figure size 640x480 with 1 Axes>"
      ]
     },
     "metadata": {},
     "output_type": "display_data"
    }
   ],
   "source": [
    "# Creating age group.\n",
    "df_analysis = df.copy()\n",
    "bins = [20, 30, 40, 50, 60, 70, 80, 90, 130]\n",
    "age_class = [\"20-29\", \"30-39\", \"40-49\", \"50-59\", \"60-69\", \"70-79\", \"80-89\", \"90+\"]\n",
    "df_analysis[\"age_group\"] =pd.cut(df_analysis[\"person_age\"], bins=bins, labels=age_class, right=False)\n",
    "df_analysis.groupby([\"age_group\"])[\"loan_status\"].mean().sort_values().plot(kind=\"barh\")\n",
    "plt.title(\"Mean Loan Approval by Age Group\")\n",
    "plt.ylabel(\"Age Group\")\n",
    "plt.xlabel(\"Mean\");"
   ]
  },
  {
   "cell_type": "markdown",
   "id": "cdcac0ff",
   "metadata": {
    "papermill": {
     "duration": 0.008684,
     "end_time": "2024-10-19T20:09:58.144983",
     "exception": false,
     "start_time": "2024-10-19T20:09:58.136299",
     "status": "completed"
    },
    "tags": []
   },
   "source": [
    "Here is a very insightful display showing that people below the age group of 20-49 has very low probability of getting loan.\n",
    "The age group of 90+ has very low probability of getting loan this can be because of the limited number of data for this age group."
   ]
  },
  {
   "cell_type": "code",
   "execution_count": 10,
   "id": "d5a53fb2",
   "metadata": {
    "execution": {
     "iopub.execute_input": "2024-10-19T20:09:58.164152Z",
     "iopub.status.busy": "2024-10-19T20:09:58.163854Z",
     "iopub.status.idle": "2024-10-19T20:09:58.423584Z",
     "shell.execute_reply": "2024-10-19T20:09:58.422316Z"
    },
    "papermill": {
     "duration": 0.271719,
     "end_time": "2024-10-19T20:09:58.425596",
     "exception": false,
     "start_time": "2024-10-19T20:09:58.153877",
     "status": "completed"
    },
    "tags": []
   },
   "outputs": [
    {
     "data": {
      "image/png": "[encoded data removed]",
      "text/plain": [
       "<Figure size 640x480 with 1 Axes>"
      ]
     },
     "metadata": {},
     "output_type": "display_data"
    }
   ],
   "source": [
    "df_analysis.groupby([\"person_home_ownership\"])[\"loan_status\"].mean().sort_values().plot(kind=\"barh\")\n",
    "plt.title(\"Loan Approval based on Ownership\")\n",
    "plt.xlabel(\"Probabilty\")\n",
    "plt.ylabel(\"Ownership\");"
   ]
  },
  {
   "cell_type": "markdown",
   "id": "a6b62fd3",
   "metadata": {
    "papermill": {
     "duration": 0.009165,
     "end_time": "2024-10-19T20:09:58.444511",
     "exception": false,
     "start_time": "2024-10-19T20:09:58.435346",
     "status": "completed"
    },
    "tags": []
   },
   "source": [
    "Based on the Visualization above, it can be seen that people who rent a house are likely to get more loan in comparism with someone who own a house.\n",
    "\n",
    "So this data is likely to be a Home/Rent Loan dataset."
   ]
  },
  {
   "cell_type": "code",
   "execution_count": 11,
   "id": "6b70f0ca",
   "metadata": {
    "execution": {
     "iopub.execute_input": "2024-10-19T20:09:58.464660Z",
     "iopub.status.busy": "2024-10-19T20:09:58.464340Z",
     "iopub.status.idle": "2024-10-19T20:09:58.760248Z",
     "shell.execute_reply": "2024-10-19T20:09:58.759345Z"
    },
    "papermill": {
     "duration": 0.308178,
     "end_time": "2024-10-19T20:09:58.762288",
     "exception": false,
     "start_time": "2024-10-19T20:09:58.454110",
     "status": "completed"
    },
    "tags": []
   },
   "outputs": [
    {
     "data": {
      "image/png": "[encoded data removed]",
      "text/plain": [
       "<Figure size 640x480 with 1 Axes>"
      ]
     },
     "metadata": {},
     "output_type": "display_data"
    }
   ],
   "source": [
    "df_analysis.groupby([\"loan_intent\"])[\"loan_status\"].mean().sort_values().plot(kind=\"barh\")\n",
    "plt.title(\"Probability of Loan Approval Based on Intent\")\n",
    "plt.ylabel(\"Loan Intent\")\n",
    "plt.xlabel(\"Probability\");"
   ]
  },
  {
   "cell_type": "markdown",
   "id": "4d21ac38",
   "metadata": {
    "papermill": {
     "duration": 0.009785,
     "end_time": "2024-10-19T20:09:58.782140",
     "exception": false,
     "start_time": "2024-10-19T20:09:58.772355",
     "status": "completed"
    },
    "tags": []
   },
   "source": [
    "From the dataset given. \n",
    "\n",
    "It is clearly visible that people who have the high chance of getting loan are those who intend to use the loan for `Debt consolidation`, `Medical` or `Home Improvement`"
   ]
  },
  {
   "cell_type": "code",
   "execution_count": 12,
   "id": "fc69c079",
   "metadata": {
    "execution": {
     "iopub.execute_input": "2024-10-19T20:09:58.803310Z",
     "iopub.status.busy": "2024-10-19T20:09:58.802997Z",
     "iopub.status.idle": "2024-10-19T20:09:59.041803Z",
     "shell.execute_reply": "2024-10-19T20:09:59.040884Z"
    },
    "papermill": {
     "duration": 0.251955,
     "end_time": "2024-10-19T20:09:59.043881",
     "exception": false,
     "start_time": "2024-10-19T20:09:58.791926",
     "status": "completed"
    },
    "tags": []
   },
   "outputs": [
    {
     "data": {
      "image/png": "[encoded data removed]",
      "text/plain": [
       "<Figure size 640x480 with 1 Axes>"
      ]
     },
     "metadata": {},
     "output_type": "display_data"
    }
   ],
   "source": [
    "df.groupby([\"loan_grade\"])[\"loan_status\"].mean().sort_values().plot(kind=\"barh\")\n",
    "plt.title(\"Loan Approval based on Loan Grade\")\n",
    "plt.ylabel(\"Loan Grade\")\n",
    "plt.xlabel(\"Probability\");"
   ]
  },
  {
   "cell_type": "markdown",
   "id": "f7045d78",
   "metadata": {
    "papermill": {
     "duration": 0.009912,
     "end_time": "2024-10-19T20:09:59.064376",
     "exception": false,
     "start_time": "2024-10-19T20:09:59.054464",
     "status": "completed"
    },
    "tags": []
   },
   "source": [
    "Wow, this is giving us more insight into the data.\n",
    "\n",
    "People in grade `A`, `B`, or `C` has less chance of getting loan."
   ]
  },
  {
   "cell_type": "markdown",
   "id": "75b8ff75",
   "metadata": {
    "papermill": {
     "duration": 0.009852,
     "end_time": "2024-10-19T20:09:59.084222",
     "exception": false,
     "start_time": "2024-10-19T20:09:59.074370",
     "status": "completed"
    },
    "tags": []
   },
   "source": [
    "## Splitting Data."
   ]
  },
  {
   "cell_type": "code",
   "execution_count": 13,
   "id": "40235622",
   "metadata": {
    "execution": {
     "iopub.execute_input": "2024-10-19T20:09:59.106275Z",
     "iopub.status.busy": "2024-10-19T20:09:59.105526Z",
     "iopub.status.idle": "2024-10-19T20:09:59.116456Z",
     "shell.execute_reply": "2024-10-19T20:09:59.115754Z"
    },
    "papermill": {
     "duration": 0.023961,
     "end_time": "2024-10-19T20:09:59.118257",
     "exception": false,
     "start_time": "2024-10-19T20:09:59.094296",
     "status": "completed"
    },
    "tags": []
   },
   "outputs": [],
   "source": [
    "# Feature matrix.\n",
    "target = \"loan_status\"\n",
    "X = df.drop(columns=target)\n",
    "# Target Vector.\n",
    "y = df[target]"
   ]
  },
  {
   "cell_type": "code",
   "execution_count": 14,
   "id": "8aab4964",
   "metadata": {
    "execution": {
     "iopub.execute_input": "2024-10-19T20:09:59.139483Z",
     "iopub.status.busy": "2024-10-19T20:09:59.139207Z",
     "iopub.status.idle": "2024-10-19T20:09:59.164329Z",
     "shell.execute_reply": "2024-10-19T20:09:59.163466Z"
    },
    "papermill": {
     "duration": 0.038209,
     "end_time": "2024-10-19T20:09:59.166505",
     "exception": false,
     "start_time": "2024-10-19T20:09:59.128296",
     "status": "completed"
    },
    "tags": []
   },
   "outputs": [
    {
     "data": {
      "text/plain": [
       "((46916, 11), (46916,))"
      ]
     },
     "execution_count": 14,
     "metadata": {},
     "output_type": "execute_result"
    }
   ],
   "source": [
    "X_train, X_test, y_train, y_test = train_test_split(X, y, test_size=0.2, random_state=42)\n",
    "X_train.shape, y_train.shape"
   ]
  },
  {
   "cell_type": "markdown",
   "id": "c639f247",
   "metadata": {
    "papermill": {
     "duration": 0.010129,
     "end_time": "2024-10-19T20:09:59.187153",
     "exception": false,
     "start_time": "2024-10-19T20:09:59.177024",
     "status": "completed"
    },
    "tags": []
   },
   "source": [
    "## Baseline Model"
   ]
  },
  {
   "cell_type": "code",
   "execution_count": 15,
   "id": "9234f048",
   "metadata": {
    "execution": {
     "iopub.execute_input": "2024-10-19T20:09:59.209482Z",
     "iopub.status.busy": "2024-10-19T20:09:59.208786Z",
     "iopub.status.idle": "2024-10-19T20:09:59.214935Z",
     "shell.execute_reply": "2024-10-19T20:09:59.214028Z"
    },
    "papermill": {
     "duration": 0.019429,
     "end_time": "2024-10-19T20:09:59.216806",
     "exception": false,
     "start_time": "2024-10-19T20:09:59.197377",
     "status": "completed"
    },
    "tags": []
   },
   "outputs": [
    {
     "name": "stdout",
     "output_type": "stream",
     "text": [
      "Baseline Model: 0.86\n"
     ]
    }
   ],
   "source": [
    "print(f\"Baseline Model: {round(y_train.value_counts(normalize=True).max(), 2)}\")"
   ]
  },
  {
   "cell_type": "markdown",
   "id": "10368888",
   "metadata": {
    "papermill": {
     "duration": 0.010066,
     "end_time": "2024-10-19T20:09:59.237387",
     "exception": false,
     "start_time": "2024-10-19T20:09:59.227321",
     "status": "completed"
    },
    "tags": []
   },
   "source": [
    "## Model"
   ]
  },
  {
   "cell_type": "code",
   "execution_count": 16,
   "id": "c560d54e",
   "metadata": {
    "execution": {
     "iopub.execute_input": "2024-10-19T20:09:59.259357Z",
     "iopub.status.busy": "2024-10-19T20:09:59.259086Z",
     "iopub.status.idle": "2024-10-19T20:10:00.100546Z",
     "shell.execute_reply": "2024-10-19T20:10:00.099739Z"
    },
    "papermill": {
     "duration": 0.854782,
     "end_time": "2024-10-19T20:10:00.102635",
     "exception": false,
     "start_time": "2024-10-19T20:09:59.247853",
     "status": "completed"
    },
    "tags": []
   },
   "outputs": [
    {
     "data": {
      "text/html": [
       "<style>#sk-container-id-1 {color: black;background-color: white;}#sk-container-id-1 pre{padding: 0;}#sk-container-id-1 div.sk-toggleable {background-color: white;}#sk-container-id-1 label.sk-toggleable__label {cursor: pointer;display: block;width: 100%;margin-bottom: 0;padding: 0.3em;box-sizing: border-box;text-align: center;}#sk-container-id-1 label.sk-toggleable__label-arrow:before {content: \"▸\";float: left;margin-right: 0.25em;color: #696969;}#sk-container-id-1 label.sk-toggleable__label-arrow:hover:before {color: black;}#sk-container-id-1 div.sk-estimator:hover label.sk-toggleable__label-arrow:before {color: black;}#sk-container-id-1 div.sk-toggleable__content {max-height: 0;max-width: 0;overflow: hidden;text-align: left;background-color: #f0f8ff;}#sk-container-id-1 div.sk-toggleable__content pre {margin: 0.2em;color: black;border-radius: 0.25em;background-color: #f0f8ff;}#sk-container-id-1 input.sk-toggleable__control:checked~div.sk-toggleable__content {max-height: 200px;max-width: 100%;overflow: auto;}#sk-container-id-1 input.sk-toggleable__control:checked~label.sk-toggleable__label-arrow:before {content: \"▾\";}#sk-container-id-1 div.sk-estimator input.sk-toggleable__control:checked~label.sk-toggleable__label {background-color: #d4ebff;}#sk-container-id-1 div.sk-label input.sk-toggleable__control:checked~label.sk-toggleable__label {background-color: #d4ebff;}#sk-container-id-1 input.sk-hidden--visually {border: 0;clip: rect(1px 1px 1px 1px);clip: rect(1px, 1px, 1px, 1px);height: 1px;margin: -1px;overflow: hidden;padding: 0;position: absolute;width: 1px;}#sk-container-id-1 div.sk-estimator {font-family: monospace;background-color: #f0f8ff;border: 1px dotted black;border-radius: 0.25em;box-sizing: border-box;margin-bottom: 0.5em;}#sk-container-id-1 div.sk-estimator:hover {background-color: #d4ebff;}#sk-container-id-1 div.sk-parallel-item::after {content: \"\";width: 100%;border-bottom: 1px solid gray;flex-grow: 1;}#sk-container-id-1 div.sk-label:hover label.sk-toggleable__label {background-color: #d4ebff;}#sk-container-id-1 div.sk-serial::before {content: \"\";position: absolute;border-left: 1px solid gray;box-sizing: border-box;top: 0;bottom: 0;left: 50%;z-index: 0;}#sk-container-id-1 div.sk-serial {display: flex;flex-direction: column;align-items: center;background-color: white;padding-right: 0.2em;padding-left: 0.2em;position: relative;}#sk-container-id-1 div.sk-item {position: relative;z-index: 1;}#sk-container-id-1 div.sk-parallel {display: flex;align-items: stretch;justify-content: center;background-color: white;position: relative;}#sk-container-id-1 div.sk-item::before, #sk-container-id-1 div.sk-parallel-item::before {content: \"\";position: absolute;border-left: 1px solid gray;box-sizing: border-box;top: 0;bottom: 0;left: 50%;z-index: -1;}#sk-container-id-1 div.sk-parallel-item {display: flex;flex-direction: column;z-index: 1;position: relative;background-color: white;}#sk-container-id-1 div.sk-parallel-item:first-child::after {align-self: flex-end;width: 50%;}#sk-container-id-1 div.sk-parallel-item:last-child::after {align-self: flex-start;width: 50%;}#sk-container-id-1 div.sk-parallel-item:only-child::after {width: 0;}#sk-container-id-1 div.sk-dashed-wrapped {border: 1px dashed gray;margin: 0 0.4em 0.5em 0.4em;box-sizing: border-box;padding-bottom: 0.4em;background-color: white;}#sk-container-id-1 div.sk-label label {font-family: monospace;font-weight: bold;display: inline-block;line-height: 1.2em;}#sk-container-id-1 div.sk-label-container {text-align: center;}#sk-container-id-1 div.sk-container {/* jupyter's `normalize.less` sets `[hidden] { display: none; }` but bootstrap.min.css set `[hidden] { display: none !important; }` so we also need the `!important` here to be able to override the default hidden behavior on the sphinx rendered scikit-learn.org. See: https://github.com/scikit-learn/scikit-learn/issues/21755 */display: inline-block !important;position: relative;}#sk-container-id-1 div.sk-text-repr-fallback {display: none;}</style><div id=\"sk-container-id-1\" class=\"sk-top-container\"><div class=\"sk-text-repr-fallback\"><pre>Pipeline(steps=[(&#x27;onehotencoder&#x27;,\n",
       "                 OneHotEncoder(cols=[&#x27;person_home_ownership&#x27;, &#x27;loan_intent&#x27;,\n",
       "                                     &#x27;loan_grade&#x27;,\n",
       "                                     &#x27;cb_person_default_on_file&#x27;],\n",
       "                               use_cat_names=True)),\n",
       "                (&#x27;minmaxscaler&#x27;, MinMaxScaler()),\n",
       "                (&#x27;lgbmclassifier&#x27;,\n",
       "                 LGBMClassifier(random_state=42, verbose=-1))])</pre><b>In a Jupyter environment, please rerun this cell to show the HTML representation or trust the notebook. <br />On GitHub, the HTML representation is unable to render, please try loading this page with nbviewer.org.</b></div><div class=\"sk-container\" hidden><div class=\"sk-item sk-dashed-wrapped\"><div class=\"sk-label-container\"><div class=\"sk-label sk-toggleable\"><input class=\"sk-toggleable__control sk-hidden--visually\" id=\"sk-estimator-id-1\" type=\"checkbox\" ><label for=\"sk-estimator-id-1\" class=\"sk-toggleable__label sk-toggleable__label-arrow\">Pipeline</label><div class=\"sk-toggleable__content\"><pre>Pipeline(steps=[(&#x27;onehotencoder&#x27;,\n",
       "                 OneHotEncoder(cols=[&#x27;person_home_ownership&#x27;, &#x27;loan_intent&#x27;,\n",
       "                                     &#x27;loan_grade&#x27;,\n",
       "                                     &#x27;cb_person_default_on_file&#x27;],\n",
       "                               use_cat_names=True)),\n",
       "                (&#x27;minmaxscaler&#x27;, MinMaxScaler()),\n",
       "                (&#x27;lgbmclassifier&#x27;,\n",
       "                 LGBMClassifier(random_state=42, verbose=-1))])</pre></div></div></div><div class=\"sk-serial\"><div class=\"sk-item\"><div class=\"sk-estimator sk-toggleable\"><input class=\"sk-toggleable__control sk-hidden--visually\" id=\"sk-estimator-id-2\" type=\"checkbox\" ><label for=\"sk-estimator-id-2\" class=\"sk-toggleable__label sk-toggleable__label-arrow\">OneHotEncoder</label><div class=\"sk-toggleable__content\"><pre>OneHotEncoder(cols=[&#x27;person_home_ownership&#x27;, &#x27;loan_intent&#x27;, &#x27;loan_grade&#x27;,\n",
       "                    &#x27;cb_person_default_on_file&#x27;],\n",
       "              use_cat_names=True)</pre></div></div></div><div class=\"sk-item\"><div class=\"sk-estimator sk-toggleable\"><input class=\"sk-toggleable__control sk-hidden--visually\" id=\"sk-estimator-id-3\" type=\"checkbox\" ><label for=\"sk-estimator-id-3\" class=\"sk-toggleable__label sk-toggleable__label-arrow\">MinMaxScaler</label><div class=\"sk-toggleable__content\"><pre>MinMaxScaler()</pre></div></div></div><div class=\"sk-item\"><div class=\"sk-estimator sk-toggleable\"><input class=\"sk-toggleable__control sk-hidden--visually\" id=\"sk-estimator-id-4\" type=\"checkbox\" ><label for=\"sk-estimator-id-4\" class=\"sk-toggleable__label sk-toggleable__label-arrow\">LGBMClassifier</label><div class=\"sk-toggleable__content\"><pre>LGBMClassifier(random_state=42, verbose=-1)</pre></div></div></div></div></div></div></div>"
      ],
      "text/plain": [
       "Pipeline(steps=[('onehotencoder',\n",
       "                 OneHotEncoder(cols=['person_home_ownership', 'loan_intent',\n",
       "                                     'loan_grade',\n",
       "                                     'cb_person_default_on_file'],\n",
       "                               use_cat_names=True)),\n",
       "                ('minmaxscaler', MinMaxScaler()),\n",
       "                ('lgbmclassifier',\n",
       "                 LGBMClassifier(random_state=42, verbose=-1))])"
      ]
     },
     "execution_count": 16,
     "metadata": {},
     "output_type": "execute_result"
    }
   ],
   "source": [
    "lgbm = make_pipeline(\n",
    "    OneHotEncoder(use_cat_names=True),\n",
    "    MinMaxScaler(),\n",
    "    LGBMClassifier(random_state=42, verbose=-1)\n",
    ")\n",
    "lgbm.fit(X_train, y_train)"
   ]
  },
  {
   "cell_type": "code",
   "execution_count": 17,
   "id": "38ee444a",
   "metadata": {
    "execution": {
     "iopub.execute_input": "2024-10-19T20:10:00.125845Z",
     "iopub.status.busy": "2024-10-19T20:10:00.125494Z",
     "iopub.status.idle": "2024-10-19T20:10:00.205112Z",
     "shell.execute_reply": "2024-10-19T20:10:00.204336Z"
    },
    "papermill": {
     "duration": 0.0936,
     "end_time": "2024-10-19T20:10:00.207444",
     "exception": false,
     "start_time": "2024-10-19T20:10:00.113844",
     "status": "completed"
    },
    "tags": []
   },
   "outputs": [
    {
     "data": {
      "text/plain": [
       "0.8590490503629385"
      ]
     },
     "execution_count": 17,
     "metadata": {},
     "output_type": "execute_result"
    }
   ],
   "source": [
    "y_test_pred= lgbm.predict(X_test)\n",
    "roc_auc_score(y_test, y_test_pred)"
   ]
  },
  {
   "cell_type": "markdown",
   "id": "5c756504",
   "metadata": {
    "papermill": {
     "duration": 0.011071,
     "end_time": "2024-10-19T20:10:00.232073",
     "exception": false,
     "start_time": "2024-10-19T20:10:00.221002",
     "status": "completed"
    },
    "tags": []
   },
   "source": [
    "## Moment of Truth."
   ]
  },
  {
   "cell_type": "code",
   "execution_count": 18,
   "id": "c90da056",
   "metadata": {
    "execution": {
     "iopub.execute_input": "2024-10-19T20:10:00.256116Z",
     "iopub.status.busy": "2024-10-19T20:10:00.255771Z",
     "iopub.status.idle": "2024-10-19T20:10:00.664743Z",
     "shell.execute_reply": "2024-10-19T20:10:00.663896Z"
    },
    "papermill": {
     "duration": 0.423907,
     "end_time": "2024-10-19T20:10:00.667092",
     "exception": false,
     "start_time": "2024-10-19T20:10:00.243185",
     "status": "completed"
    },
    "tags": []
   },
   "outputs": [],
   "source": [
    "test_filepath = \"/kaggle/input/playground-series-s4e10/test.csv\"\n",
    "df_test = wrangle(test_filepath)\n",
    "test_pred = lgbm.predict_proba(df_test)[:, 1]\n",
    "pd.DataFrame({\"loan_status\": test_pred}, index= df_test.index).to_csv(\"LGB.csv\")"
   ]
  },
  {
   "cell_type": "code",
   "execution_count": null,
   "id": "e4e29e2a",
   "metadata": {
    "papermill": {
     "duration": 0.011019,
     "end_time": "2024-10-19T20:10:00.689381",
     "exception": false,
     "start_time": "2024-10-19T20:10:00.678362",
     "status": "completed"
    },
    "tags": []
   },
   "outputs": [],
   "source": []
  }
 ],
 "metadata": {
  "kaggle": {
   "accelerator": "nvidiaTeslaT4",
   "dataSources": [
    {
     "databundleVersionId": 9709193,
     "sourceId": 84894,
     "sourceType": "competition"
    }
   ],
   "dockerImageVersionId": 30787,
   "isGpuEnabled": true,
   "isInternetEnabled": true,
   "language": "python",
   "sourceType": "notebook"
  },
  "kernelspec": {
   "display_name": "Python 3",
   "language": "python",
   "name": "python3"
  },
  "language_info": {
   "codemirror_mode": {
    "name": "ipython",
    "version": 3
   },
   "file_extension": ".py",
   "mimetype": "text/x-python",
   "name": "python",
   "nbconvert_exporter": "python",
   "pygments_lexer": "ipython3",
   "version": "3.10.14"
  },
  "papermill": {
   "default_parameters": {},
   "duration": 19.712245,
   "end_time": "2024-10-19T20:10:01.521650",
   "environment_variables": {},
   "exception": null,
   "input_path": "__notebook__.ipynb",
   "output_path": "__notebook__.ipynb",
   "parameters": {},
   "start_time": "2024-10-19T20:09:41.809405",
   "version": "2.6.0"
  }
 },
 "nbformat": 4,
 "nbformat_minor": 5
}
