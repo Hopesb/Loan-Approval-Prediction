{
 "cells": [
  {
   "cell_type": "markdown",
   "id": "c8570156",
   "metadata": {
    "papermill": {
     "duration": 0.008636,
     "end_time": "2024-10-19T20:30:28.103306",
     "exception": false,
     "start_time": "2024-10-19T20:30:28.094670",
     "status": "completed"
    },
    "tags": []
   },
   "source": [
    "# Loan Approval Prediction."
   ]
  },
  {
   "cell_type": "markdown",
   "id": "5992d068",
   "metadata": {
    "papermill": {
     "duration": 0.007772,
     "end_time": "2024-10-19T20:30:28.119336",
     "exception": false,
     "start_time": "2024-10-19T20:30:28.111564",
     "status": "completed"
    },
    "tags": []
   },
   "source": [
    "## Overview"
   ]
  },
  {
   "cell_type": "markdown",
   "id": "18d3828a",
   "metadata": {
    "papermill": {
     "duration": 0.008621,
     "end_time": "2024-10-19T20:30:28.135921",
     "exception": false,
     "start_time": "2024-10-19T20:30:28.127300",
     "status": "completed"
    },
    "tags": []
   },
   "source": [
    "**Loan approval prediction as a classification problem involves categorizing loan applications into either \"Approved\" or \"Rejected.\" This is achieved by analyzing features such as credit score, income, employment status, loan amount, and more.**\n",
    "\n",
    "**Goal**: \n",
    "The goal for this competition is to predict whether an applicant is approved for a loan.\n",
    "\n",
    "**Evaluation**\n",
    "Submissions are evaluated using area under the ROC curve using the predicted probabilities and the ground truth targets."
   ]
  },
  {
   "cell_type": "markdown",
   "id": "1abec718",
   "metadata": {
    "papermill": {
     "duration": 0.007714,
     "end_time": "2024-10-19T20:30:28.151813",
     "exception": false,
     "start_time": "2024-10-19T20:30:28.144099",
     "status": "completed"
    },
    "tags": []
   },
   "source": [
    "# Import"
   ]
  },
  {
   "cell_type": "code",
   "execution_count": 1,
   "id": "5086c3f9",
   "metadata": {
    "execution": {
     "iopub.execute_input": "2024-10-19T20:30:28.168835Z",
     "iopub.status.busy": "2024-10-19T20:30:28.168511Z",
     "iopub.status.idle": "2024-10-19T20:30:34.501917Z",
     "shell.execute_reply": "2024-10-19T20:30:34.500988Z"
    },
    "papermill": {
     "duration": 6.344637,
     "end_time": "2024-10-19T20:30:34.504277",
     "exception": false,
     "start_time": "2024-10-19T20:30:28.159640",
     "status": "completed"
    },
    "tags": []
   },
   "outputs": [],
   "source": [
    "# importing libraries.\n",
    "import pandas as pd\n",
    "import numpy as np\n",
    "\n",
    "# import the visualization tools\n",
    "import seaborn as sns\n",
    "import matplotlib.pyplot as plt\n",
    "import plotly_express as px\n",
    "\n",
    "# modelling tools.\n",
    "from sklearn.pipeline import make_pipeline\n",
    "from sklearn.metrics import roc_auc_score\n",
    "from sklearn.preprocessing import MinMaxScaler,StandardScaler\n",
    "from sklearn.model_selection import train_test_split\n",
    "from xgboost import XGBClassifier\n",
    "from catboost import CatBoostClassifier\n",
    "from lightgbm import LGBMClassifier\n",
    "from category_encoders import OneHotEncoder\n",
    "from sklearn.impute import SimpleImputer\n",
    "import optuna\n",
    "import warnings\n",
    "warnings.simplefilter(\"ignore\")"
   ]
  },
  {
   "cell_type": "code",
   "execution_count": 2,
   "id": "95090a78",
   "metadata": {
    "execution": {
     "iopub.execute_input": "2024-10-19T20:30:34.522736Z",
     "iopub.status.busy": "2024-10-19T20:30:34.521951Z",
     "iopub.status.idle": "2024-10-19T20:30:34.526944Z",
     "shell.execute_reply": "2024-10-19T20:30:34.526122Z"
    },
    "papermill": {
     "duration": 0.016174,
     "end_time": "2024-10-19T20:30:34.528927",
     "exception": false,
     "start_time": "2024-10-19T20:30:34.512753",
     "status": "completed"
    },
    "tags": []
   },
   "outputs": [],
   "source": [
    "# Creating a function that preprocess the data.\n",
    "def wrangle(filepath):\n",
    "    # Read the csv file.\n",
    "    df = pd.read_csv(filepath, index_col= \"id\")\n",
    "    \n",
    "    return df"
   ]
  },
  {
   "cell_type": "code",
   "execution_count": 3,
   "id": "f2e27cba",
   "metadata": {
    "execution": {
     "iopub.execute_input": "2024-10-19T20:30:34.545834Z",
     "iopub.status.busy": "2024-10-19T20:30:34.545570Z",
     "iopub.status.idle": "2024-10-19T20:30:34.718501Z",
     "shell.execute_reply": "2024-10-19T20:30:34.717621Z"
    },
    "papermill": {
     "duration": 0.183724,
     "end_time": "2024-10-19T20:30:34.720672",
     "exception": false,
     "start_time": "2024-10-19T20:30:34.536948",
     "status": "completed"
    },
    "tags": []
   },
   "outputs": [
    {
     "data": {
      "text/html": [
       "<div>\n",
       "<style scoped>\n",
       "    .dataframe tbody tr th:only-of-type {\n",
       "        vertical-align: middle;\n",
       "    }\n",
       "\n",
       "    .dataframe tbody tr th {\n",
       "        vertical-align: top;\n",
       "    }\n",
       "\n",
       "    .dataframe thead th {\n",
       "        text-align: right;\n",
       "    }\n",
       "</style>\n",
       "<table border=\"1\" class=\"dataframe\">\n",
       "  <thead>\n",
       "    <tr style=\"text-align: right;\">\n",
       "      <th></th>\n",
       "      <th>person_age</th>\n",
       "      <th>person_income</th>\n",
       "      <th>person_home_ownership</th>\n",
       "      <th>person_emp_length</th>\n",
       "      <th>loan_intent</th>\n",
       "      <th>loan_grade</th>\n",
       "      <th>loan_amnt</th>\n",
       "      <th>loan_int_rate</th>\n",
       "      <th>loan_percent_income</th>\n",
       "      <th>cb_person_default_on_file</th>\n",
       "      <th>cb_person_cred_hist_length</th>\n",
       "      <th>loan_status</th>\n",
       "    </tr>\n",
       "    <tr>\n",
       "      <th>id</th>\n",
       "      <th></th>\n",
       "      <th></th>\n",
       "      <th></th>\n",
       "      <th></th>\n",
       "      <th></th>\n",
       "      <th></th>\n",
       "      <th></th>\n",
       "      <th></th>\n",
       "      <th></th>\n",
       "      <th></th>\n",
       "      <th></th>\n",
       "      <th></th>\n",
       "    </tr>\n",
       "  </thead>\n",
       "  <tbody>\n",
       "    <tr>\n",
       "      <th>0</th>\n",
       "      <td>37</td>\n",
       "      <td>35000</td>\n",
       "      <td>RENT</td>\n",
       "      <td>0.0</td>\n",
       "      <td>EDUCATION</td>\n",
       "      <td>B</td>\n",
       "      <td>6000</td>\n",
       "      <td>11.49</td>\n",
       "      <td>0.17</td>\n",
       "      <td>N</td>\n",
       "      <td>14</td>\n",
       "      <td>0</td>\n",
       "    </tr>\n",
       "    <tr>\n",
       "      <th>1</th>\n",
       "      <td>22</td>\n",
       "      <td>56000</td>\n",
       "      <td>OWN</td>\n",
       "      <td>6.0</td>\n",
       "      <td>MEDICAL</td>\n",
       "      <td>C</td>\n",
       "      <td>4000</td>\n",
       "      <td>13.35</td>\n",
       "      <td>0.07</td>\n",
       "      <td>N</td>\n",
       "      <td>2</td>\n",
       "      <td>0</td>\n",
       "    </tr>\n",
       "    <tr>\n",
       "      <th>2</th>\n",
       "      <td>29</td>\n",
       "      <td>28800</td>\n",
       "      <td>OWN</td>\n",
       "      <td>8.0</td>\n",
       "      <td>PERSONAL</td>\n",
       "      <td>A</td>\n",
       "      <td>6000</td>\n",
       "      <td>8.90</td>\n",
       "      <td>0.21</td>\n",
       "      <td>N</td>\n",
       "      <td>10</td>\n",
       "      <td>0</td>\n",
       "    </tr>\n",
       "    <tr>\n",
       "      <th>3</th>\n",
       "      <td>30</td>\n",
       "      <td>70000</td>\n",
       "      <td>RENT</td>\n",
       "      <td>14.0</td>\n",
       "      <td>VENTURE</td>\n",
       "      <td>B</td>\n",
       "      <td>12000</td>\n",
       "      <td>11.11</td>\n",
       "      <td>0.17</td>\n",
       "      <td>N</td>\n",
       "      <td>5</td>\n",
       "      <td>0</td>\n",
       "    </tr>\n",
       "    <tr>\n",
       "      <th>4</th>\n",
       "      <td>22</td>\n",
       "      <td>60000</td>\n",
       "      <td>RENT</td>\n",
       "      <td>2.0</td>\n",
       "      <td>MEDICAL</td>\n",
       "      <td>A</td>\n",
       "      <td>6000</td>\n",
       "      <td>6.92</td>\n",
       "      <td>0.10</td>\n",
       "      <td>N</td>\n",
       "      <td>3</td>\n",
       "      <td>0</td>\n",
       "    </tr>\n",
       "  </tbody>\n",
       "</table>\n",
       "</div>"
      ],
      "text/plain": [
       "    person_age  person_income person_home_ownership  person_emp_length  \\\n",
       "id                                                                       \n",
       "0           37          35000                  RENT                0.0   \n",
       "1           22          56000                   OWN                6.0   \n",
       "2           29          28800                   OWN                8.0   \n",
       "3           30          70000                  RENT               14.0   \n",
       "4           22          60000                  RENT                2.0   \n",
       "\n",
       "   loan_intent loan_grade  loan_amnt  loan_int_rate  loan_percent_income  \\\n",
       "id                                                                         \n",
       "0    EDUCATION          B       6000          11.49                 0.17   \n",
       "1      MEDICAL          C       4000          13.35                 0.07   \n",
       "2     PERSONAL          A       6000           8.90                 0.21   \n",
       "3      VENTURE          B      12000          11.11                 0.17   \n",
       "4      MEDICAL          A       6000           6.92                 0.10   \n",
       "\n",
       "   cb_person_default_on_file  cb_person_cred_hist_length  loan_status  \n",
       "id                                                                     \n",
       "0                          N                          14            0  \n",
       "1                          N                           2            0  \n",
       "2                          N                          10            0  \n",
       "3                          N                           5            0  \n",
       "4                          N                           3            0  "
      ]
     },
     "execution_count": 3,
     "metadata": {},
     "output_type": "execute_result"
    }
   ],
   "source": [
    "filepath = \"/kaggle/input/playground-series-s4e10/train.csv\"\n",
    "df = wrangle(filepath)\n",
    "df.head()"
   ]
  },
  {
   "cell_type": "code",
   "execution_count": 4,
   "id": "1cbf2dec",
   "metadata": {
    "execution": {
     "iopub.execute_input": "2024-10-19T20:30:34.738715Z",
     "iopub.status.busy": "2024-10-19T20:30:34.738393Z",
     "iopub.status.idle": "2024-10-19T20:30:34.745099Z",
     "shell.execute_reply": "2024-10-19T20:30:34.744256Z"
    },
    "papermill": {
     "duration": 0.017874,
     "end_time": "2024-10-19T20:30:34.747137",
     "exception": false,
     "start_time": "2024-10-19T20:30:34.729263",
     "status": "completed"
    },
    "tags": []
   },
   "outputs": [
    {
     "data": {
      "text/plain": [
       "(58645, 12)"
      ]
     },
     "execution_count": 4,
     "metadata": {},
     "output_type": "execute_result"
    }
   ],
   "source": [
    "# Checking the shape of the data.\n",
    "df.shape"
   ]
  },
  {
   "cell_type": "code",
   "execution_count": 5,
   "id": "04853ab6",
   "metadata": {
    "execution": {
     "iopub.execute_input": "2024-10-19T20:30:34.764821Z",
     "iopub.status.busy": "2024-10-19T20:30:34.764536Z",
     "iopub.status.idle": "2024-10-19T20:30:34.795729Z",
     "shell.execute_reply": "2024-10-19T20:30:34.794864Z"
    },
    "papermill": {
     "duration": 0.042361,
     "end_time": "2024-10-19T20:30:34.797792",
     "exception": false,
     "start_time": "2024-10-19T20:30:34.755431",
     "status": "completed"
    },
    "tags": []
   },
   "outputs": [
    {
     "data": {
      "text/plain": [
       "person_age                      53\n",
       "person_income                 2641\n",
       "person_home_ownership            4\n",
       "person_emp_length               36\n",
       "loan_intent                      6\n",
       "loan_grade                       7\n",
       "loan_amnt                      545\n",
       "loan_int_rate                  362\n",
       "loan_percent_income             61\n",
       "cb_person_default_on_file        2\n",
       "cb_person_cred_hist_length      29\n",
       "loan_status                      2\n",
       "dtype: int64"
      ]
     },
     "execution_count": 5,
     "metadata": {},
     "output_type": "execute_result"
    }
   ],
   "source": [
    "df.nunique()"
   ]
  },
  {
   "cell_type": "code",
   "execution_count": 6,
   "id": "0a8228a6",
   "metadata": {
    "execution": {
     "iopub.execute_input": "2024-10-19T20:30:34.816101Z",
     "iopub.status.busy": "2024-10-19T20:30:34.815819Z",
     "iopub.status.idle": "2024-10-19T20:30:34.856256Z",
     "shell.execute_reply": "2024-10-19T20:30:34.855414Z"
    },
    "papermill": {
     "duration": 0.051688,
     "end_time": "2024-10-19T20:30:34.858210",
     "exception": false,
     "start_time": "2024-10-19T20:30:34.806522",
     "status": "completed"
    },
    "tags": []
   },
   "outputs": [
    {
     "data": {
      "text/html": [
       "<div>\n",
       "<style scoped>\n",
       "    .dataframe tbody tr th:only-of-type {\n",
       "        vertical-align: middle;\n",
       "    }\n",
       "\n",
       "    .dataframe tbody tr th {\n",
       "        vertical-align: top;\n",
       "    }\n",
       "\n",
       "    .dataframe thead th {\n",
       "        text-align: right;\n",
       "    }\n",
       "</style>\n",
       "<table border=\"1\" class=\"dataframe\">\n",
       "  <thead>\n",
       "    <tr style=\"text-align: right;\">\n",
       "      <th></th>\n",
       "      <th>person_age</th>\n",
       "      <th>person_income</th>\n",
       "      <th>person_emp_length</th>\n",
       "      <th>loan_amnt</th>\n",
       "      <th>loan_int_rate</th>\n",
       "      <th>loan_percent_income</th>\n",
       "      <th>cb_person_cred_hist_length</th>\n",
       "      <th>loan_status</th>\n",
       "    </tr>\n",
       "  </thead>\n",
       "  <tbody>\n",
       "    <tr>\n",
       "      <th>count</th>\n",
       "      <td>58645.000000</td>\n",
       "      <td>5.864500e+04</td>\n",
       "      <td>58645.000000</td>\n",
       "      <td>58645.000000</td>\n",
       "      <td>58645.000000</td>\n",
       "      <td>58645.000000</td>\n",
       "      <td>58645.000000</td>\n",
       "      <td>58645.000000</td>\n",
       "    </tr>\n",
       "    <tr>\n",
       "      <th>mean</th>\n",
       "      <td>27.550857</td>\n",
       "      <td>6.404617e+04</td>\n",
       "      <td>4.701015</td>\n",
       "      <td>9217.556518</td>\n",
       "      <td>10.677874</td>\n",
       "      <td>0.159238</td>\n",
       "      <td>5.813556</td>\n",
       "      <td>0.142382</td>\n",
       "    </tr>\n",
       "    <tr>\n",
       "      <th>std</th>\n",
       "      <td>6.033216</td>\n",
       "      <td>3.793111e+04</td>\n",
       "      <td>3.959784</td>\n",
       "      <td>5563.807384</td>\n",
       "      <td>3.034697</td>\n",
       "      <td>0.091692</td>\n",
       "      <td>4.029196</td>\n",
       "      <td>0.349445</td>\n",
       "    </tr>\n",
       "    <tr>\n",
       "      <th>min</th>\n",
       "      <td>20.000000</td>\n",
       "      <td>4.200000e+03</td>\n",
       "      <td>0.000000</td>\n",
       "      <td>500.000000</td>\n",
       "      <td>5.420000</td>\n",
       "      <td>0.000000</td>\n",
       "      <td>2.000000</td>\n",
       "      <td>0.000000</td>\n",
       "    </tr>\n",
       "    <tr>\n",
       "      <th>25%</th>\n",
       "      <td>23.000000</td>\n",
       "      <td>4.200000e+04</td>\n",
       "      <td>2.000000</td>\n",
       "      <td>5000.000000</td>\n",
       "      <td>7.880000</td>\n",
       "      <td>0.090000</td>\n",
       "      <td>3.000000</td>\n",
       "      <td>0.000000</td>\n",
       "    </tr>\n",
       "    <tr>\n",
       "      <th>50%</th>\n",
       "      <td>26.000000</td>\n",
       "      <td>5.800000e+04</td>\n",
       "      <td>4.000000</td>\n",
       "      <td>8000.000000</td>\n",
       "      <td>10.750000</td>\n",
       "      <td>0.140000</td>\n",
       "      <td>4.000000</td>\n",
       "      <td>0.000000</td>\n",
       "    </tr>\n",
       "    <tr>\n",
       "      <th>75%</th>\n",
       "      <td>30.000000</td>\n",
       "      <td>7.560000e+04</td>\n",
       "      <td>7.000000</td>\n",
       "      <td>12000.000000</td>\n",
       "      <td>12.990000</td>\n",
       "      <td>0.210000</td>\n",
       "      <td>8.000000</td>\n",
       "      <td>0.000000</td>\n",
       "    </tr>\n",
       "    <tr>\n",
       "      <th>max</th>\n",
       "      <td>123.000000</td>\n",
       "      <td>1.900000e+06</td>\n",
       "      <td>123.000000</td>\n",
       "      <td>35000.000000</td>\n",
       "      <td>23.220000</td>\n",
       "      <td>0.830000</td>\n",
       "      <td>30.000000</td>\n",
       "      <td>1.000000</td>\n",
       "    </tr>\n",
       "  </tbody>\n",
       "</table>\n",
       "</div>"
      ],
      "text/plain": [
       "         person_age  person_income  person_emp_length     loan_amnt  \\\n",
       "count  58645.000000   5.864500e+04       58645.000000  58645.000000   \n",
       "mean      27.550857   6.404617e+04           4.701015   9217.556518   \n",
       "std        6.033216   3.793111e+04           3.959784   5563.807384   \n",
       "min       20.000000   4.200000e+03           0.000000    500.000000   \n",
       "25%       23.000000   4.200000e+04           2.000000   5000.000000   \n",
       "50%       26.000000   5.800000e+04           4.000000   8000.000000   \n",
       "75%       30.000000   7.560000e+04           7.000000  12000.000000   \n",
       "max      123.000000   1.900000e+06         123.000000  35000.000000   \n",
       "\n",
       "       loan_int_rate  loan_percent_income  cb_person_cred_hist_length  \\\n",
       "count   58645.000000         58645.000000                58645.000000   \n",
       "mean       10.677874             0.159238                    5.813556   \n",
       "std         3.034697             0.091692                    4.029196   \n",
       "min         5.420000             0.000000                    2.000000   \n",
       "25%         7.880000             0.090000                    3.000000   \n",
       "50%        10.750000             0.140000                    4.000000   \n",
       "75%        12.990000             0.210000                    8.000000   \n",
       "max        23.220000             0.830000                   30.000000   \n",
       "\n",
       "        loan_status  \n",
       "count  58645.000000  \n",
       "mean       0.142382  \n",
       "std        0.349445  \n",
       "min        0.000000  \n",
       "25%        0.000000  \n",
       "50%        0.000000  \n",
       "75%        0.000000  \n",
       "max        1.000000  "
      ]
     },
     "execution_count": 6,
     "metadata": {},
     "output_type": "execute_result"
    }
   ],
   "source": [
    "df.describe() # Getting the aggregate of the data."
   ]
  },
  {
   "cell_type": "code",
   "execution_count": 7,
   "id": "cbbdecae",
   "metadata": {
    "execution": {
     "iopub.execute_input": "2024-10-19T20:30:34.877273Z",
     "iopub.status.busy": "2024-10-19T20:30:34.876986Z",
     "iopub.status.idle": "2024-10-19T20:30:34.912758Z",
     "shell.execute_reply": "2024-10-19T20:30:34.911690Z"
    },
    "papermill": {
     "duration": 0.047107,
     "end_time": "2024-10-19T20:30:34.914627",
     "exception": false,
     "start_time": "2024-10-19T20:30:34.867520",
     "status": "completed"
    },
    "tags": []
   },
   "outputs": [
    {
     "name": "stdout",
     "output_type": "stream",
     "text": [
      "<class 'pandas.core.frame.DataFrame'>\n",
      "Index: 58645 entries, 0 to 58644\n",
      "Data columns (total 12 columns):\n",
      " #   Column                      Non-Null Count  Dtype  \n",
      "---  ------                      --------------  -----  \n",
      " 0   person_age                  58645 non-null  int64  \n",
      " 1   person_income               58645 non-null  int64  \n",
      " 2   person_home_ownership       58645 non-null  object \n",
      " 3   person_emp_length           58645 non-null  float64\n",
      " 4   loan_intent                 58645 non-null  object \n",
      " 5   loan_grade                  58645 non-null  object \n",
      " 6   loan_amnt                   58645 non-null  int64  \n",
      " 7   loan_int_rate               58645 non-null  float64\n",
      " 8   loan_percent_income         58645 non-null  float64\n",
      " 9   cb_person_default_on_file   58645 non-null  object \n",
      " 10  cb_person_cred_hist_length  58645 non-null  int64  \n",
      " 11  loan_status                 58645 non-null  int64  \n",
      "dtypes: float64(3), int64(5), object(4)\n",
      "memory usage: 5.8+ MB\n"
     ]
    }
   ],
   "source": [
    "df.info()"
   ]
  },
  {
   "cell_type": "code",
   "execution_count": 8,
   "id": "f2317bc6",
   "metadata": {
    "execution": {
     "iopub.execute_input": "2024-10-19T20:30:34.934346Z",
     "iopub.status.busy": "2024-10-19T20:30:34.933442Z",
     "iopub.status.idle": "2024-10-19T20:30:34.963131Z",
     "shell.execute_reply": "2024-10-19T20:30:34.962384Z"
    },
    "papermill": {
     "duration": 0.041496,
     "end_time": "2024-10-19T20:30:34.965178",
     "exception": false,
     "start_time": "2024-10-19T20:30:34.923682",
     "status": "completed"
    },
    "tags": []
   },
   "outputs": [
    {
     "data": {
      "text/plain": [
       "person_age                    0\n",
       "person_income                 0\n",
       "person_home_ownership         0\n",
       "person_emp_length             0\n",
       "loan_intent                   0\n",
       "loan_grade                    0\n",
       "loan_amnt                     0\n",
       "loan_int_rate                 0\n",
       "loan_percent_income           0\n",
       "cb_person_default_on_file     0\n",
       "cb_person_cred_hist_length    0\n",
       "loan_status                   0\n",
       "dtype: int64"
      ]
     },
     "execution_count": 8,
     "metadata": {},
     "output_type": "execute_result"
    }
   ],
   "source": [
    "# Checking if there is any column with null values.\n",
    "df.isnull().sum()"
   ]
  },
  {
   "cell_type": "markdown",
   "id": "bd7895a0",
   "metadata": {
    "papermill": {
     "duration": 0.00874,
     "end_time": "2024-10-19T20:30:34.983754",
     "exception": false,
     "start_time": "2024-10-19T20:30:34.975014",
     "status": "completed"
    },
    "tags": []
   },
   "source": [
    "Perfect the Data is clean."
   ]
  },
  {
   "cell_type": "markdown",
   "id": "7926aeaa",
   "metadata": {
    "papermill": {
     "duration": 0.008963,
     "end_time": "2024-10-19T20:30:35.001574",
     "exception": false,
     "start_time": "2024-10-19T20:30:34.992611",
     "status": "completed"
    },
    "tags": []
   },
   "source": [
    "## EDA(Exploratory Data Analysis)"
   ]
  },
  {
   "cell_type": "code",
   "execution_count": 9,
   "id": "c6e7c0af",
   "metadata": {
    "execution": {
     "iopub.execute_input": "2024-10-19T20:30:35.020937Z",
     "iopub.status.busy": "2024-10-19T20:30:35.020644Z",
     "iopub.status.idle": "2024-10-19T20:30:35.354141Z",
     "shell.execute_reply": "2024-10-19T20:30:35.353223Z"
    },
    "papermill": {
     "duration": 0.34553,
     "end_time": "2024-10-19T20:30:35.356448",
     "exception": false,
     "start_time": "2024-10-19T20:30:35.010918",
     "status": "completed"
    },
    "tags": []
   },
   "outputs": [
    {
     "data": {
      "image/png": "[encoded data removed]",
      "text/plain": [
       "<Figure size 640x480 with 1 Axes>"
      ]
     },
     "metadata": {},
     "output_type": "display_data"
    }
   ],
   "source": [
    "# Creating age group.\n",
    "df_analysis = df.copy()\n",
    "bins = [20, 30, 40, 50, 60, 70, 80, 90, 130]\n",
    "age_class = [\"20-29\", \"30-39\", \"40-49\", \"50-59\", \"60-69\", \"70-79\", \"80-89\", \"90+\"]\n",
    "df_analysis[\"age_group\"] =pd.cut(df_analysis[\"person_age\"], bins=bins, labels=age_class, right=False)\n",
    "df_analysis.groupby([\"age_group\"])[\"loan_status\"].mean().sort_values().plot(kind=\"barh\")\n",
    "plt.title(\"Mean Loan Approval by Age Group\")\n",
    "plt.ylabel(\"Age Group\")\n",
    "plt.xlabel(\"Mean\");"
   ]
  },
  {
   "cell_type": "markdown",
   "id": "e7dda816",
   "metadata": {
    "papermill": {
     "duration": 0.009302,
     "end_time": "2024-10-19T20:30:35.375403",
     "exception": false,
     "start_time": "2024-10-19T20:30:35.366101",
     "status": "completed"
    },
    "tags": []
   },
   "source": [
    "Here is a very insightful display showing that people below the age group of 20-49 has very low probability of getting loan.\n",
    "The age group of 90+ has very low probability of getting loan this can be because of the limited number of data for this age group."
   ]
  },
  {
   "cell_type": "code",
   "execution_count": 10,
   "id": "6681dfed",
   "metadata": {
    "execution": {
     "iopub.execute_input": "2024-10-19T20:30:35.395814Z",
     "iopub.status.busy": "2024-10-19T20:30:35.395486Z",
     "iopub.status.idle": "2024-10-19T20:30:35.648403Z",
     "shell.execute_reply": "2024-10-19T20:30:35.647557Z"
    },
    "papermill": {
     "duration": 0.265613,
     "end_time": "2024-10-19T20:30:35.650554",
     "exception": false,
     "start_time": "2024-10-19T20:30:35.384941",
     "status": "completed"
    },
    "tags": []
   },
   "outputs": [
    {
     "data": {
      "image/png": "[encoded data removed]",
      "text/plain": [
       "<Figure size 640x480 with 1 Axes>"
      ]
     },
     "metadata": {},
     "output_type": "display_data"
    }
   ],
   "source": [
    "df_analysis.groupby([\"person_home_ownership\"])[\"loan_status\"].mean().sort_values().plot(kind=\"barh\")\n",
    "plt.title(\"Loan Approval based on Ownership\")\n",
    "plt.xlabel(\"Probabilty\")\n",
    "plt.ylabel(\"Ownership\");"
   ]
  },
  {
   "cell_type": "markdown",
   "id": "f2baece7",
   "metadata": {
    "papermill": {
     "duration": 0.009538,
     "end_time": "2024-10-19T20:30:35.669922",
     "exception": false,
     "start_time": "2024-10-19T20:30:35.660384",
     "status": "completed"
    },
    "tags": []
   },
   "source": [
    "Based on the Visualization above, it can be seen that people who rent a house are likely to get more loan in comparism with someone who own a house.\n",
    "\n",
    "So this data is likely to be a Home/Rent Loan dataset."
   ]
  },
  {
   "cell_type": "code",
   "execution_count": 11,
   "id": "ed1d7e55",
   "metadata": {
    "execution": {
     "iopub.execute_input": "2024-10-19T20:30:35.690692Z",
     "iopub.status.busy": "2024-10-19T20:30:35.690144Z",
     "iopub.status.idle": "2024-10-19T20:30:35.987513Z",
     "shell.execute_reply": "2024-10-19T20:30:35.986604Z"
    },
    "papermill": {
     "duration": 0.310006,
     "end_time": "2024-10-19T20:30:35.989709",
     "exception": false,
     "start_time": "2024-10-19T20:30:35.679703",
     "status": "completed"
    },
    "tags": []
   },
   "outputs": [
    {
     "data": {
      "image/png": "[encoded data removed]",
      "text/plain": [
       "<Figure size 640x480 with 1 Axes>"
      ]
     },
     "metadata": {},
     "output_type": "display_data"
    }
   ],
   "source": [
    "df_analysis.groupby([\"loan_intent\"])[\"loan_status\"].mean().sort_values().plot(kind=\"barh\")\n",
    "plt.title(\"Probability of Loan Approval Based on Intent\")\n",
    "plt.ylabel(\"Loan Intent\")\n",
    "plt.xlabel(\"Probability\");"
   ]
  },
  {
   "cell_type": "markdown",
   "id": "3c0ded2b",
   "metadata": {
    "papermill": {
     "duration": 0.010256,
     "end_time": "2024-10-19T20:30:36.010569",
     "exception": false,
     "start_time": "2024-10-19T20:30:36.000313",
     "status": "completed"
    },
    "tags": []
   },
   "source": [
    "From the dataset given. \n",
    "\n",
    "It is clearly visible that people who have the high chance of getting loan are those who intend to use the loan for `Debt consolidation`, `Medical` or `Home Improvement`"
   ]
  },
  {
   "cell_type": "code",
   "execution_count": 12,
   "id": "be0a619f",
   "metadata": {
    "execution": {
     "iopub.execute_input": "2024-10-19T20:30:36.032319Z",
     "iopub.status.busy": "2024-10-19T20:30:36.032004Z",
     "iopub.status.idle": "2024-10-19T20:30:36.337195Z",
     "shell.execute_reply": "2024-10-19T20:30:36.336260Z"
    },
    "papermill": {
     "duration": 0.318381,
     "end_time": "2024-10-19T20:30:36.339210",
     "exception": false,
     "start_time": "2024-10-19T20:30:36.020829",
     "status": "completed"
    },
    "tags": []
   },
   "outputs": [
    {
     "data": {
      "image/png": "[encoded data removed]",
      "text/plain": [
       "<Figure size 640x480 with 1 Axes>"
      ]
     },
     "metadata": {},
     "output_type": "display_data"
    }
   ],
   "source": [
    "df.groupby([\"loan_grade\"])[\"loan_status\"].mean().sort_values().plot(kind=\"barh\")\n",
    "plt.title(\"Loan Approval based on Loan Grade\")\n",
    "plt.ylabel(\"Loan Grade\")\n",
    "plt.xlabel(\"Probability\");"
   ]
  },
  {
   "cell_type": "markdown",
   "id": "d642c7d2",
   "metadata": {
    "papermill": {
     "duration": 0.010565,
     "end_time": "2024-10-19T20:30:36.361049",
     "exception": false,
     "start_time": "2024-10-19T20:30:36.350484",
     "status": "completed"
    },
    "tags": []
   },
   "source": [
    "Wow, this is giving us more insight into the data.\n",
    "\n",
    "People in grade `A`, `B`, or `C` has less chance of getting loan."
   ]
  },
  {
   "cell_type": "markdown",
   "id": "efd5cb1e",
   "metadata": {
    "papermill": {
     "duration": 0.010346,
     "end_time": "2024-10-19T20:30:36.382009",
     "exception": false,
     "start_time": "2024-10-19T20:30:36.371663",
     "status": "completed"
    },
    "tags": []
   },
   "source": [
    "## Splitting Data."
   ]
  },
  {
   "cell_type": "code",
   "execution_count": 13,
   "id": "b66aa43e",
   "metadata": {
    "execution": {
     "iopub.execute_input": "2024-10-19T20:30:36.404715Z",
     "iopub.status.busy": "2024-10-19T20:30:36.404389Z",
     "iopub.status.idle": "2024-10-19T20:30:36.415011Z",
     "shell.execute_reply": "2024-10-19T20:30:36.414053Z"
    },
    "papermill": {
     "duration": 0.024101,
     "end_time": "2024-10-19T20:30:36.417068",
     "exception": false,
     "start_time": "2024-10-19T20:30:36.392967",
     "status": "completed"
    },
    "tags": []
   },
   "outputs": [],
   "source": [
    "# Feature matrix.\n",
    "target = \"loan_status\"\n",
    "X = df.drop(columns=target)\n",
    "# Target Vector.\n",
    "y = df[target]"
   ]
  },
  {
   "cell_type": "code",
   "execution_count": 14,
   "id": "fec0871a",
   "metadata": {
    "execution": {
     "iopub.execute_input": "2024-10-19T20:30:36.439642Z",
     "iopub.status.busy": "2024-10-19T20:30:36.439307Z",
     "iopub.status.idle": "2024-10-19T20:30:36.462465Z",
     "shell.execute_reply": "2024-10-19T20:30:36.461549Z"
    },
    "papermill": {
     "duration": 0.036491,
     "end_time": "2024-10-19T20:30:36.464342",
     "exception": false,
     "start_time": "2024-10-19T20:30:36.427851",
     "status": "completed"
    },
    "tags": []
   },
   "outputs": [
    {
     "data": {
      "text/plain": [
       "((46916, 11), (46916,))"
      ]
     },
     "execution_count": 14,
     "metadata": {},
     "output_type": "execute_result"
    }
   ],
   "source": [
    "X_train, X_test, y_train, y_test = train_test_split(X, y, test_size=0.2, random_state=42)\n",
    "X_train.shape, y_train.shape"
   ]
  },
  {
   "cell_type": "markdown",
   "id": "10e2f50c",
   "metadata": {
    "papermill": {
     "duration": 0.010541,
     "end_time": "2024-10-19T20:30:36.485825",
     "exception": false,
     "start_time": "2024-10-19T20:30:36.475284",
     "status": "completed"
    },
    "tags": []
   },
   "source": [
    "## Baseline Model"
   ]
  },
  {
   "cell_type": "code",
   "execution_count": 15,
   "id": "1cb15b6a",
   "metadata": {
    "execution": {
     "iopub.execute_input": "2024-10-19T20:30:36.508502Z",
     "iopub.status.busy": "2024-10-19T20:30:36.508176Z",
     "iopub.status.idle": "2024-10-19T20:30:36.515012Z",
     "shell.execute_reply": "2024-10-19T20:30:36.513911Z"
    },
    "papermill": {
     "duration": 0.020502,
     "end_time": "2024-10-19T20:30:36.517002",
     "exception": false,
     "start_time": "2024-10-19T20:30:36.496500",
     "status": "completed"
    },
    "tags": []
   },
   "outputs": [
    {
     "name": "stdout",
     "output_type": "stream",
     "text": [
      "Baseline Model: 0.86\n"
     ]
    }
   ],
   "source": [
    "print(f\"Baseline Model: {round(y_train.value_counts(normalize=True).max(), 2)}\")"
   ]
  },
  {
   "cell_type": "markdown",
   "id": "06a94fc5",
   "metadata": {
    "papermill": {
     "duration": 0.010855,
     "end_time": "2024-10-19T20:30:36.538664",
     "exception": false,
     "start_time": "2024-10-19T20:30:36.527809",
     "status": "completed"
    },
    "tags": []
   },
   "source": [
    "## Model"
   ]
  },
  {
   "cell_type": "code",
   "execution_count": 16,
   "id": "e71e253a",
   "metadata": {
    "execution": {
     "iopub.execute_input": "2024-10-19T20:30:36.560938Z",
     "iopub.status.busy": "2024-10-19T20:30:36.560665Z",
     "iopub.status.idle": "2024-10-19T20:30:37.346585Z",
     "shell.execute_reply": "2024-10-19T20:30:37.345583Z"
    },
    "papermill": {
     "duration": 0.799366,
     "end_time": "2024-10-19T20:30:37.348740",
     "exception": false,
     "start_time": "2024-10-19T20:30:36.549374",
     "status": "completed"
    },
    "tags": []
   },
   "outputs": [
    {
     "data": {
      "text/html": [
       "<style>#sk-container-id-1 {color: black;background-color: white;}#sk-container-id-1 pre{padding: 0;}#sk-container-id-1 div.sk-toggleable {background-color: white;}#sk-container-id-1 label.sk-toggleable__label {cursor: pointer;display: block;width: 100%;margin-bottom: 0;padding: 0.3em;box-sizing: border-box;text-align: center;}#sk-container-id-1 label.sk-toggleable__label-arrow:before {content: \"▸\";float: left;margin-right: 0.25em;color: #696969;}#sk-container-id-1 label.sk-toggleable__label-arrow:hover:before {color: black;}#sk-container-id-1 div.sk-estimator:hover label.sk-toggleable__label-arrow:before {color: black;}#sk-container-id-1 div.sk-toggleable__content {max-height: 0;max-width: 0;overflow: hidden;text-align: left;background-color: #f0f8ff;}#sk-container-id-1 div.sk-toggleable__content pre {margin: 0.2em;color: black;border-radius: 0.25em;background-color: #f0f8ff;}#sk-container-id-1 input.sk-toggleable__control:checked~div.sk-toggleable__content {max-height: 200px;max-width: 100%;overflow: auto;}#sk-container-id-1 input.sk-toggleable__control:checked~label.sk-toggleable__label-arrow:before {content: \"▾\";}#sk-container-id-1 div.sk-estimator input.sk-toggleable__control:checked~label.sk-toggleable__label {background-color: #d4ebff;}#sk-container-id-1 div.sk-label input.sk-toggleable__control:checked~label.sk-toggleable__label {background-color: #d4ebff;}#sk-container-id-1 input.sk-hidden--visually {border: 0;clip: rect(1px 1px 1px 1px);clip: rect(1px, 1px, 1px, 1px);height: 1px;margin: -1px;overflow: hidden;padding: 0;position: absolute;width: 1px;}#sk-container-id-1 div.sk-estimator {font-family: monospace;background-color: #f0f8ff;border: 1px dotted black;border-radius: 0.25em;box-sizing: border-box;margin-bottom: 0.5em;}#sk-container-id-1 div.sk-estimator:hover {background-color: #d4ebff;}#sk-container-id-1 div.sk-parallel-item::after {content: \"\";width: 100%;border-bottom: 1px solid gray;flex-grow: 1;}#sk-container-id-1 div.sk-label:hover label.sk-toggleable__label {background-color: #d4ebff;}#sk-container-id-1 div.sk-serial::before {content: \"\";position: absolute;border-left: 1px solid gray;box-sizing: border-box;top: 0;bottom: 0;left: 50%;z-index: 0;}#sk-container-id-1 div.sk-serial {display: flex;flex-direction: column;align-items: center;background-color: white;padding-right: 0.2em;padding-left: 0.2em;position: relative;}#sk-container-id-1 div.sk-item {position: relative;z-index: 1;}#sk-container-id-1 div.sk-parallel {display: flex;align-items: stretch;justify-content: center;background-color: white;position: relative;}#sk-container-id-1 div.sk-item::before, #sk-container-id-1 div.sk-parallel-item::before {content: \"\";position: absolute;border-left: 1px solid gray;box-sizing: border-box;top: 0;bottom: 0;left: 50%;z-index: -1;}#sk-container-id-1 div.sk-parallel-item {display: flex;flex-direction: column;z-index: 1;position: relative;background-color: white;}#sk-container-id-1 div.sk-parallel-item:first-child::after {align-self: flex-end;width: 50%;}#sk-container-id-1 div.sk-parallel-item:last-child::after {align-self: flex-start;width: 50%;}#sk-container-id-1 div.sk-parallel-item:only-child::after {width: 0;}#sk-container-id-1 div.sk-dashed-wrapped {border: 1px dashed gray;margin: 0 0.4em 0.5em 0.4em;box-sizing: border-box;padding-bottom: 0.4em;background-color: white;}#sk-container-id-1 div.sk-label label {font-family: monospace;font-weight: bold;display: inline-block;line-height: 1.2em;}#sk-container-id-1 div.sk-label-container {text-align: center;}#sk-container-id-1 div.sk-container {/* jupyter's `normalize.less` sets `[hidden] { display: none; }` but bootstrap.min.css set `[hidden] { display: none !important; }` so we also need the `!important` here to be able to override the default hidden behavior on the sphinx rendered scikit-learn.org. See: https://github.com/scikit-learn/scikit-learn/issues/21755 */display: inline-block !important;position: relative;}#sk-container-id-1 div.sk-text-repr-fallback {display: none;}</style><div id=\"sk-container-id-1\" class=\"sk-top-container\"><div class=\"sk-text-repr-fallback\"><pre>Pipeline(steps=[(&#x27;onehotencoder&#x27;,\n",
       "                 OneHotEncoder(cols=[&#x27;person_home_ownership&#x27;, &#x27;loan_intent&#x27;,\n",
       "                                     &#x27;loan_grade&#x27;,\n",
       "                                     &#x27;cb_person_default_on_file&#x27;],\n",
       "                               use_cat_names=True)),\n",
       "                (&#x27;minmaxscaler&#x27;, MinMaxScaler()),\n",
       "                (&#x27;xgbclassifier&#x27;,\n",
       "                 XGBClassifier(base_score=None, booster=None, callbacks=None,\n",
       "                               colsample_bylevel=None, colsample_bynode=None,\n",
       "                               colsample_bytree=None, device=None,\n",
       "                               early_stop...\n",
       "                               feature_types=None, gamma=None, grow_policy=None,\n",
       "                               importance_type=None,\n",
       "                               interaction_constraints=None, learning_rate=None,\n",
       "                               max_bin=None, max_cat_threshold=None,\n",
       "                               max_cat_to_onehot=None, max_delta_step=None,\n",
       "                               max_depth=None, max_leaves=None,\n",
       "                               min_child_weight=None, missing=nan,\n",
       "                               monotone_constraints=None, multi_strategy=None,\n",
       "                               n_estimators=None, n_jobs=None,\n",
       "                               num_parallel_tree=None, random_state=42, ...))])</pre><b>In a Jupyter environment, please rerun this cell to show the HTML representation or trust the notebook. <br />On GitHub, the HTML representation is unable to render, please try loading this page with nbviewer.org.</b></div><div class=\"sk-container\" hidden><div class=\"sk-item sk-dashed-wrapped\"><div class=\"sk-label-container\"><div class=\"sk-label sk-toggleable\"><input class=\"sk-toggleable__control sk-hidden--visually\" id=\"sk-estimator-id-1\" type=\"checkbox\" ><label for=\"sk-estimator-id-1\" class=\"sk-toggleable__label sk-toggleable__label-arrow\">Pipeline</label><div class=\"sk-toggleable__content\"><pre>Pipeline(steps=[(&#x27;onehotencoder&#x27;,\n",
       "                 OneHotEncoder(cols=[&#x27;person_home_ownership&#x27;, &#x27;loan_intent&#x27;,\n",
       "                                     &#x27;loan_grade&#x27;,\n",
       "                                     &#x27;cb_person_default_on_file&#x27;],\n",
       "                               use_cat_names=True)),\n",
       "                (&#x27;minmaxscaler&#x27;, MinMaxScaler()),\n",
       "                (&#x27;xgbclassifier&#x27;,\n",
       "                 XGBClassifier(base_score=None, booster=None, callbacks=None,\n",
       "                               colsample_bylevel=None, colsample_bynode=None,\n",
       "                               colsample_bytree=None, device=None,\n",
       "                               early_stop...\n",
       "                               feature_types=None, gamma=None, grow_policy=None,\n",
       "                               importance_type=None,\n",
       "                               interaction_constraints=None, learning_rate=None,\n",
       "                               max_bin=None, max_cat_threshold=None,\n",
       "                               max_cat_to_onehot=None, max_delta_step=None,\n",
       "                               max_depth=None, max_leaves=None,\n",
       "                               min_child_weight=None, missing=nan,\n",
       "                               monotone_constraints=None, multi_strategy=None,\n",
       "                               n_estimators=None, n_jobs=None,\n",
       "                               num_parallel_tree=None, random_state=42, ...))])</pre></div></div></div><div class=\"sk-serial\"><div class=\"sk-item\"><div class=\"sk-estimator sk-toggleable\"><input class=\"sk-toggleable__control sk-hidden--visually\" id=\"sk-estimator-id-2\" type=\"checkbox\" ><label for=\"sk-estimator-id-2\" class=\"sk-toggleable__label sk-toggleable__label-arrow\">OneHotEncoder</label><div class=\"sk-toggleable__content\"><pre>OneHotEncoder(cols=[&#x27;person_home_ownership&#x27;, &#x27;loan_intent&#x27;, &#x27;loan_grade&#x27;,\n",
       "                    &#x27;cb_person_default_on_file&#x27;],\n",
       "              use_cat_names=True)</pre></div></div></div><div class=\"sk-item\"><div class=\"sk-estimator sk-toggleable\"><input class=\"sk-toggleable__control sk-hidden--visually\" id=\"sk-estimator-id-3\" type=\"checkbox\" ><label for=\"sk-estimator-id-3\" class=\"sk-toggleable__label sk-toggleable__label-arrow\">MinMaxScaler</label><div class=\"sk-toggleable__content\"><pre>MinMaxScaler()</pre></div></div></div><div class=\"sk-item\"><div class=\"sk-estimator sk-toggleable\"><input class=\"sk-toggleable__control sk-hidden--visually\" id=\"sk-estimator-id-4\" type=\"checkbox\" ><label for=\"sk-estimator-id-4\" class=\"sk-toggleable__label sk-toggleable__label-arrow\">XGBClassifier</label><div class=\"sk-toggleable__content\"><pre>XGBClassifier(base_score=None, booster=None, callbacks=None,\n",
       "              colsample_bylevel=None, colsample_bynode=None,\n",
       "              colsample_bytree=None, device=None, early_stopping_rounds=None,\n",
       "              enable_categorical=False, eval_metric=None, feature_types=None,\n",
       "              gamma=None, grow_policy=None, importance_type=None,\n",
       "              interaction_constraints=None, learning_rate=None, max_bin=None,\n",
       "              max_cat_threshold=None, max_cat_to_onehot=None,\n",
       "              max_delta_step=None, max_depth=None, max_leaves=None,\n",
       "              min_child_weight=None, missing=nan, monotone_constraints=None,\n",
       "              multi_strategy=None, n_estimators=None, n_jobs=None,\n",
       "              num_parallel_tree=None, random_state=42, ...)</pre></div></div></div></div></div></div></div>"
      ],
      "text/plain": [
       "Pipeline(steps=[('onehotencoder',\n",
       "                 OneHotEncoder(cols=['person_home_ownership', 'loan_intent',\n",
       "                                     'loan_grade',\n",
       "                                     'cb_person_default_on_file'],\n",
       "                               use_cat_names=True)),\n",
       "                ('minmaxscaler', MinMaxScaler()),\n",
       "                ('xgbclassifier',\n",
       "                 XGBClassifier(base_score=None, booster=None, callbacks=None,\n",
       "                               colsample_bylevel=None, colsample_bynode=None,\n",
       "                               colsample_bytree=None, device=None,\n",
       "                               early_stop...\n",
       "                               feature_types=None, gamma=None, grow_policy=None,\n",
       "                               importance_type=None,\n",
       "                               interaction_constraints=None, learning_rate=None,\n",
       "                               max_bin=None, max_cat_threshold=None,\n",
       "                               max_cat_to_onehot=None, max_delta_step=None,\n",
       "                               max_depth=None, max_leaves=None,\n",
       "                               min_child_weight=None, missing=nan,\n",
       "                               monotone_constraints=None, multi_strategy=None,\n",
       "                               n_estimators=None, n_jobs=None,\n",
       "                               num_parallel_tree=None, random_state=42, ...))])"
      ]
     },
     "execution_count": 16,
     "metadata": {},
     "output_type": "execute_result"
    }
   ],
   "source": [
    "lgbm = make_pipeline(\n",
    "    OneHotEncoder(use_cat_names=True),\n",
    "    MinMaxScaler(),\n",
    "    XGBClassifier(random_state=42)\n",
    ")\n",
    "lgbm.fit(X_train, y_train)"
   ]
  },
  {
   "cell_type": "code",
   "execution_count": 17,
   "id": "1daf3ff8",
   "metadata": {
    "execution": {
     "iopub.execute_input": "2024-10-19T20:30:37.373090Z",
     "iopub.status.busy": "2024-10-19T20:30:37.372802Z",
     "iopub.status.idle": "2024-10-19T20:30:37.427519Z",
     "shell.execute_reply": "2024-10-19T20:30:37.426579Z"
    },
    "papermill": {
     "duration": 0.069014,
     "end_time": "2024-10-19T20:30:37.429716",
     "exception": false,
     "start_time": "2024-10-19T20:30:37.360702",
     "status": "completed"
    },
    "tags": []
   },
   "outputs": [
    {
     "data": {
      "text/plain": [
       "0.8674549084354665"
      ]
     },
     "execution_count": 17,
     "metadata": {},
     "output_type": "execute_result"
    }
   ],
   "source": [
    "y_test_pred= lgbm.predict(X_test)\n",
    "roc_auc_score(y_test, y_test_pred)"
   ]
  },
  {
   "cell_type": "markdown",
   "id": "15d47bd3",
   "metadata": {
    "papermill": {
     "duration": 0.012179,
     "end_time": "2024-10-19T20:30:37.455124",
     "exception": false,
     "start_time": "2024-10-19T20:30:37.442945",
     "status": "completed"
    },
    "tags": []
   },
   "source": [
    "## Feature Engineering."
   ]
  },
  {
   "cell_type": "code",
   "execution_count": 18,
   "id": "e90eabf3",
   "metadata": {
    "execution": {
     "iopub.execute_input": "2024-10-19T20:30:37.478895Z",
     "iopub.status.busy": "2024-10-19T20:30:37.478590Z",
     "iopub.status.idle": "2024-10-19T20:30:37.812769Z",
     "shell.execute_reply": "2024-10-19T20:30:37.811861Z"
    },
    "papermill": {
     "duration": 0.34826,
     "end_time": "2024-10-19T20:30:37.814755",
     "exception": false,
     "start_time": "2024-10-19T20:30:37.466495",
     "status": "completed"
    },
    "tags": []
   },
   "outputs": [
    {
     "data": {
      "image/png": "[encoded data removed]",
      "text/plain": [
       "<Figure size 640x480 with 1 Axes>"
      ]
     },
     "metadata": {},
     "output_type": "display_data"
    }
   ],
   "source": [
    "output = 10\n",
    "feat= lgbm.named_steps[\"onehotencoder\"].get_feature_names()\n",
    "imp = lgbm.named_steps[\"xgbclassifier\"].feature_importances_\n",
    "pd.Series(imp, index=feat).sort_values().tail(output).plot(kind=\"barh\")\n",
    "plt.title(f\"{output} most Importance Feature\")\n",
    "plt.ylabel(\"Featues\")\n",
    "plt.xlabel(\"Importance\");"
   ]
  },
  {
   "cell_type": "markdown",
   "id": "b41052e1",
   "metadata": {
    "papermill": {
     "duration": 0.011708,
     "end_time": "2024-10-19T20:30:37.838753",
     "exception": false,
     "start_time": "2024-10-19T20:30:37.827045",
     "status": "completed"
    },
    "tags": []
   },
   "source": [
    "## Moment of Truth."
   ]
  },
  {
   "cell_type": "code",
   "execution_count": 19,
   "id": "7c183a5e",
   "metadata": {
    "execution": {
     "iopub.execute_input": "2024-10-19T20:30:37.864100Z",
     "iopub.status.busy": "2024-10-19T20:30:37.863413Z",
     "iopub.status.idle": "2024-10-19T20:30:38.158535Z",
     "shell.execute_reply": "2024-10-19T20:30:38.157541Z"
    },
    "papermill": {
     "duration": 0.310112,
     "end_time": "2024-10-19T20:30:38.160791",
     "exception": false,
     "start_time": "2024-10-19T20:30:37.850679",
     "status": "completed"
    },
    "tags": []
   },
   "outputs": [],
   "source": [
    "test_filepath = \"/kaggle/input/playground-series-s4e10/test.csv\"\n",
    "df_test = wrangle(test_filepath)\n",
    "test_pred = lgbm.predict_proba(df_test)[:, 1]\n",
    "pd.DataFrame({\"loan_status\": test_pred}, index= df_test.index).to_csv(\"XGB.csv\")"
   ]
  },
  {
   "cell_type": "code",
   "execution_count": null,
   "id": "a508b1f5",
   "metadata": {
    "papermill": {
     "duration": 0.011815,
     "end_time": "2024-10-19T20:30:38.185004",
     "exception": false,
     "start_time": "2024-10-19T20:30:38.173189",
     "status": "completed"
    },
    "tags": []
   },
   "outputs": [],
   "source": []
  }
 ],
 "metadata": {
  "kaggle": {
   "accelerator": "nvidiaTeslaT4",
   "dataSources": [
    {
     "databundleVersionId": 9709193,
     "sourceId": 84894,
     "sourceType": "competition"
    }
   ],
   "dockerImageVersionId": 30787,
   "isGpuEnabled": true,
   "isInternetEnabled": true,
   "language": "python",
   "sourceType": "notebook"
  },
  "kernelspec": {
   "display_name": "Python 3",
   "language": "python",
   "name": "python3"
  },
  "language_info": {
   "codemirror_mode": {
    "name": "ipython",
    "version": 3
   },
   "file_extension": ".py",
   "mimetype": "text/x-python",
   "name": "python",
   "nbconvert_exporter": "python",
   "pygments_lexer": "ipython3",
   "version": "3.10.14"
  },
  "papermill": {
   "default_parameters": {},
   "duration": 13.400356,
   "end_time": "2024-10-19T20:30:38.917732",
   "environment_variables": {},
   "exception": null,
   "input_path": "__notebook__.ipynb",
   "output_path": "__notebook__.ipynb",
   "parameters": {},
   "start_time": "2024-10-19T20:30:25.517376",
   "version": "2.6.0"
  }
 },
 "nbformat": 4,
 "nbformat_minor": 5
}
